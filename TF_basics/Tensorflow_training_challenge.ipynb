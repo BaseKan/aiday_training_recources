{
  "nbformat": 4,
  "nbformat_minor": 0,
  "metadata": {
    "colab": {
      "name": "Tensorflow training challenge.ipynb",
      "provenance": [],
      "authorship_tag": "ABX9TyPSyn18qAE8pZrLQOs3Bekl",
      "include_colab_link": true
    },
    "kernelspec": {
      "name": "python3",
      "display_name": "Python 3"
    },
    "language_info": {
      "name": "python"
    }
  },
  "cells": [
    {
      "cell_type": "markdown",
      "metadata": {
        "id": "view-in-github",
        "colab_type": "text"
      },
      "source": [
        "<a href=\"https://colab.research.google.com/github/BaseKan/aiday_training_resources/blob/main/TF_basics/Tensorflow_training_challenge.ipynb\" target=\"_parent\"><img src=\"https://colab.research.google.com/assets/colab-badge.svg\" alt=\"Open In Colab\"/></a>"
      ]
    },
    {
      "cell_type": "code",
      "metadata": {
        "id": "D0sZNsakjdsR",
        "outputId": "31fac08f-84b3-4098-ad9c-7758f7e13ebc",
        "colab": {
          "base_uri": "https://localhost:8080/"
        }
      },
      "source": [
        "# Data downloaden\n",
        "!curl -L -c cookies.txt 'https://docs.google.com/uc?export=download&id=14P4Pv7Lq-pvYTjTRKld_ffrvFk6C7ntv' | sed -rn 's/.*confirm=([0-9A-Za-z_]+).*/\\1/p' > confirm.txt    \n",
        "!curl -L -b cookies.txt -o 'telecom_churn.csv' 'https://docs.google.com/uc?export=download&id=14P4Pv7Lq-pvYTjTRKld_ffrvFk6C7ntv&confirm='$(<confirm.txt)\n",
        "!rm -f confirm.txt cookies.txt"
      ],
      "execution_count": 2,
      "outputs": [
        {
          "output_type": "stream",
          "text": [
            "  % Total    % Received % Xferd  Average Speed   Time    Time     Time  Current\n",
            "                                 Dload  Upload   Total   Spent    Left  Speed\n",
            "100   388    0   388    0     0    307      0 --:--:--  0:00:01 --:--:--   307\n",
            "100  631k  100  631k    0     0   341k      0  0:00:01  0:00:01 --:--:--  341k\n",
            "  % Total    % Received % Xferd  Average Speed   Time    Time     Time  Current\n",
            "                                 Dload  Upload   Total   Spent    Left  Speed\n",
            "100   408    0   408    0     0    293      0 --:--:--  0:00:01 --:--:--   293\n",
            "  0     0    0     0    0     0      0      0 --:--:--  0:00:01 --:--:--     0\n",
            "  0     0    0     0    0     0      0      0 --:--:--  0:00:01 --:--:--     0\n",
            "100  631k  100  631k    0     0   304k      0  0:00:02  0:00:02 --:--:--  304k\n"
          ],
          "name": "stdout"
        }
      ]
    },
    {
      "cell_type": "code",
      "metadata": {
        "id": "DLdOMsbW5st3"
      },
      "source": [
        ""
      ],
      "execution_count": null,
      "outputs": []
    }
  ]
}