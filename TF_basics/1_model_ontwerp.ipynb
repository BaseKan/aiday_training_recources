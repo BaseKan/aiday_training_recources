{
  "nbformat": 4,
  "nbformat_minor": 0,
  "metadata": {
    "colab": {
      "name": "Model_ontwerp.ipynb",
      "provenance": [],
      "authorship_tag": "ABX9TyPgsbqwm3G1GsWo03a23R5Y",
      "include_colab_link": true
    },
    "kernelspec": {
      "name": "python3",
      "display_name": "Python 3"
    },
    "language_info": {
      "name": "python"
    }
  },
  "cells": [
    {
      "cell_type": "markdown",
      "metadata": {
        "id": "view-in-github",
        "colab_type": "text"
      },
      "source": [
        "<a href=\"https://colab.research.google.com/github/BaseKan/aiday_training_resources/blob/main/TF_basics/1_model_ontwerp.ipynb\" target=\"_parent\"><img src=\"https://colab.research.google.com/assets/colab-badge.svg\" alt=\"Open In Colab\"/></a>"
      ]
    },
    {
      "cell_type": "code",
      "metadata": {
        "id": "dUTsG09o3rDK",
        "colab": {
          "base_uri": "https://localhost:8080/"
        },
        "outputId": "97eedf25-0e95-4330-bdfb-fe5c864fa680"
      },
      "source": [
        "import tensorflow as tf\n",
        "from tensorflow.keras import layers, models\n",
        "from tensorflow.keras.datasets import boston_housing\n",
        "from tensorflow.keras.utils import plot_model\n",
        "import numpy as np\n",
        "import matplotlib.pyplot as plt\n",
        "print(tf.__version__)"
      ],
      "execution_count": 1,
      "outputs": [
        {
          "output_type": "stream",
          "text": [
            "2.4.1\n"
          ],
          "name": "stdout"
        }
      ]
    },
    {
      "cell_type": "markdown",
      "metadata": {
        "id": "kZRg0bjH-dMl"
      },
      "source": [
        "**Modellen en lagen in Keras**\n",
        "Deep learning modellen ontwerpen gaat makkelijk met de Keras API. Vroeger was Keras een onafhankelijke library, maar tegenwoordig is Keras geintegreerd in TensorFlow. \n",
        "\n",
        "Voor regressie en classificatiemodellen gebruik je in de eerste plaats \"Dense layers\", maar andere lagen toevoegen gaat net zo makkelijk. Bij Dense layers zijn 3 parameters van belang:\n",
        "\n",
        "*  Het aantal units, of neuronen, is een maat voor hoeveel een laag kan leren. Meer neuronen betekent dat je meer kan leren, maar ook dat je meer kan overfitten.\n",
        "*   De activatie kan je voor nu altijd op relu houden voor tussenlagen. \n",
        "*   Input shape wordt bepaald door de vorm van de data die je het netwerk gaat voeden\n",
        "\n",
        "In dit geval zullen we huizenprijzen proberen te voorspellen."
      ]
    },
    {
      "cell_type": "code",
      "metadata": {
        "colab": {
          "base_uri": "https://localhost:8080/"
        },
        "id": "Qp9yCYla-sWG",
        "outputId": "664810df-98f2-4d0d-9178-fd5cc0253c24"
      },
      "source": [
        "(x_train,y_train), (x_test,y_test) = boston_housing.load_data()\n",
        "print(x_train.shape)"
      ],
      "execution_count": 2,
      "outputs": [
        {
          "output_type": "stream",
          "text": [
            "Downloading data from https://storage.googleapis.com/tensorflow/tf-keras-datasets/boston_housing.npz\n",
            "57344/57026 [==============================] - 0s 0us/step\n",
            "(404, 13)\n"
          ],
          "name": "stdout"
        }
      ]
    },
    {
      "cell_type": "markdown",
      "metadata": {
        "id": "tiY7UpTsSJXT"
      },
      "source": [
        "**Preprocessen** We normaliseren de data."
      ]
    },
    {
      "cell_type": "code",
      "metadata": {
        "id": "dbzivW2gR5b9"
      },
      "source": [
        "mu = x_train.mean(axis=0)\n",
        "sigma = x_train.std(axis=0)\n",
        "x_train -= mu\n",
        "x_train /= sigma\n",
        "\n",
        "x_test -= mu\n",
        "x_test /= sigma"
      ],
      "execution_count": 3,
      "outputs": []
    },
    {
      "cell_type": "markdown",
      "metadata": {
        "id": "BNwcNJzWIBjC"
      },
      "source": [
        "**Modeldefinitie** We definieren een model met 3 opeenvolgende (sequential) lagen. We eindigen met een dense laag met maar een unit omdat we een continue variabele (de huisprijs) voorspellen, er moet dus maar een waarde uit het netwerk komen als eindwaarde."
      ]
    },
    {
      "cell_type": "code",
      "metadata": {
        "colab": {
          "base_uri": "https://localhost:8080/",
          "height": 422
        },
        "id": "cM2pVn8HGZeU",
        "outputId": "5c57258c-6825-4edf-8289-f4629bfa3b7a"
      },
      "source": [
        "model = models.Sequential()\n",
        "model.add(layers.Dense(units=64, activation='relu', input_shape=(x_train.shape[1],)))\n",
        "model.add(layers.Dense(units=32, activation='relu'))\n",
        "model.add(layers.Dense(units=1))\n",
        "plot_model(model,show_shapes=True)"
      ],
      "execution_count": 4,
      "outputs": [
        {
          "output_type": "execute_result",
          "data": {
            "image/png": "[encoded data removed]",
            "text/plain": [
              "<IPython.core.display.Image object>"
            ]
          },
          "metadata": {
            "tags": []
          },
          "execution_count": 4
        }
      ]
    },
    {
      "cell_type": "markdown",
      "metadata": {
        "id": "qTQ4XeSVJt2I"
      },
      "source": [
        "**Optimizers en loss**\n",
        "Behalve een netwerk heb je ook een **optimizer** en een keus van **loss** nodig die je gebruikt wanneer je het netwerk traint. Loss definieert wat je wil optimaliseren (bijvoorbeeld MSE: Mean Squared Error) en de optimizer implementeert een specifiek algoritme om te optimaliseren. We kiezen voor RMSE loss en de klassieke optimizer Stochastic Gradient Descent (SGD). Er is tegenwoordig veel keus in optimizers, zoals Adam en RMSProp.  \n",
        "Naast loss kunnen we ook bepaalde metrieken bijhouden die apart van de loss laten zien hoe goed het model leert, bijvoorbeeld de absolute gemiddelde procentuele fout (mape).  "
      ]
    },
    {
      "cell_type": "code",
      "metadata": {
        "id": "ER2Aumm1HFRe"
      },
      "source": [
        "model.compile(optimizer='SGD', \n",
        "                loss = 'mse',\n",
        "                metrics=['mape']\n",
        ")"
      ],
      "execution_count": 5,
      "outputs": []
    },
    {
      "cell_type": "markdown",
      "metadata": {
        "id": "SOTY5FbdMH2H"
      },
      "source": [
        "**Epochs, batches en updates**\n",
        "We kunnen het model trainen met model.fit. Het is handig de uitkomst op te slaan in een variabele history, om plots te kunnen maken van het leergedrag. Het trainen van het model bestaat uit updates (steps) en epochs. Een update betekent dat de neuronen van het netwerk worden geupdate op basis van een batch van data. Alle observaties (de rijen in het dataframe) komen in een epoch precies een keer langs. Dus met 404 observaties en batches van 40 observaties krijg je 11 updates per epoch. \n",
        "Batches worden willekeurig gekozen, na 20 epochs heeft het model dan 20 keer alle datapunten gezien en 20*11 = 220 keer de modelparameters geupdatet. "
      ]
    },
    {
      "cell_type": "code",
      "metadata": {
        "colab": {
          "base_uri": "https://localhost:8080/"
        },
        "id": "BydWWFElHLOP",
        "outputId": "8d0255a4-e926-41bf-9afc-0da6aa08741d"
      },
      "source": [
        "history = model.fit(x = x_train,\n",
        "                    y = y_train,\n",
        "                    batch_size = 40,\n",
        "                    epochs = 20,\n",
        "                    validation_split = 0.2\n",
        "                    )"
      ],
      "execution_count": 12,
      "outputs": [
        {
          "output_type": "stream",
          "text": [
            "Epoch 1/20\n",
            "9/9 [==============================] - 0s 13ms/step - loss: 92.1461 - mape: 31.8979 - val_loss: 100.7931 - val_mape: 27.0954\n",
            "Epoch 2/20\n",
            "9/9 [==============================] - 0s 6ms/step - loss: 89.4933 - mape: 32.2731 - val_loss: 98.2451 - val_mape: 27.1616\n",
            "Epoch 3/20\n",
            "9/9 [==============================] - 0s 6ms/step - loss: 88.2052 - mape: 32.7131 - val_loss: 95.4400 - val_mape: 27.3327\n",
            "Epoch 4/20\n",
            "9/9 [==============================] - 0s 8ms/step - loss: 86.8242 - mape: 33.1212 - val_loss: 93.9205 - val_mape: 27.4964\n",
            "Epoch 5/20\n",
            "9/9 [==============================] - 0s 9ms/step - loss: 86.1600 - mape: 33.4511 - val_loss: 92.5701 - val_mape: 27.7056\n",
            "Epoch 6/20\n",
            "9/9 [==============================] - 0s 7ms/step - loss: 85.5791 - mape: 33.7655 - val_loss: 91.2557 - val_mape: 27.9847\n",
            "Epoch 7/20\n",
            "9/9 [==============================] - 0s 9ms/step - loss: 85.1172 - mape: 34.2477 - val_loss: 90.6667 - val_mape: 28.1186\n",
            "Epoch 8/20\n",
            "9/9 [==============================] - 0s 7ms/step - loss: 84.8951 - mape: 34.4494 - val_loss: 90.1411 - val_mape: 28.2437\n",
            "Epoch 9/20\n",
            "9/9 [==============================] - 0s 8ms/step - loss: 84.7661 - mape: 34.6667 - val_loss: 89.6139 - val_mape: 28.3751\n",
            "Epoch 10/20\n",
            "9/9 [==============================] - 0s 6ms/step - loss: 84.6491 - mape: 34.8347 - val_loss: 89.2486 - val_mape: 28.4702\n",
            "Epoch 11/20\n",
            "9/9 [==============================] - 0s 6ms/step - loss: 84.5228 - mape: 35.0004 - val_loss: 88.5135 - val_mape: 28.6734\n",
            "Epoch 12/20\n",
            "9/9 [==============================] - 0s 6ms/step - loss: 84.3427 - mape: 35.3223 - val_loss: 88.0430 - val_mape: 28.8213\n",
            "Epoch 13/20\n",
            "9/9 [==============================] - 0s 6ms/step - loss: 84.2735 - mape: 35.5969 - val_loss: 88.3217 - val_mape: 28.7295\n",
            "Epoch 14/20\n",
            "9/9 [==============================] - 0s 6ms/step - loss: 84.3378 - mape: 35.4793 - val_loss: 88.5306 - val_mape: 28.6685\n",
            "Epoch 15/20\n",
            "9/9 [==============================] - 0s 7ms/step - loss: 84.3439 - mape: 35.2890 - val_loss: 88.1639 - val_mape: 28.7809\n",
            "Epoch 16/20\n",
            "9/9 [==============================] - 0s 8ms/step - loss: 84.3138 - mape: 35.5132 - val_loss: 88.1962 - val_mape: 28.7702\n",
            "Epoch 17/20\n",
            "9/9 [==============================] - 0s 7ms/step - loss: 84.3394 - mape: 35.5492 - val_loss: 88.3598 - val_mape: 28.7182\n",
            "Epoch 18/20\n",
            "9/9 [==============================] - 0s 7ms/step - loss: 84.3121 - mape: 35.3721 - val_loss: 87.5651 - val_mape: 28.9886\n",
            "Epoch 19/20\n",
            "9/9 [==============================] - 0s 8ms/step - loss: 84.2134 - mape: 35.8139 - val_loss: 87.3580 - val_mape: 29.0651\n",
            "Epoch 20/20\n",
            "9/9 [==============================] - 0s 7ms/step - loss: 84.2178 - mape: 36.0374 - val_loss: 87.5425 - val_mape: 28.9968\n"
          ],
          "name": "stdout"
        }
      ]
    },
    {
      "cell_type": "markdown",
      "metadata": {
        "id": "JeMq16iTSv1H"
      },
      "source": [
        "**Vraag**\n",
        "Merk op dat we niet 11 updates per epoch hebben. Kan je bedenken hoe dat komt? \n",
        "Hint: kijk naar de argument van model.fit"
      ]
    },
    {
      "cell_type": "markdown",
      "metadata": {
        "id": "Sotu1uwxeMWZ"
      },
      "source": [
        "**Modelevaluatie met plots**\n",
        "We plotten nu de loss en MAPE krommes. Deze zien er prima uit: de loss daalt gedurende de eerste epochs, dus het model leert, daarna vlakt de kromme af - het model is 'uitgeleerd'.\n",
        "\n",
        "Merk op dat de validatie loss hoger ligt dan de training loss, het model heeft dus last van overfitting."
      ]
    },
    {
      "cell_type": "code",
      "metadata": {
        "colab": {
          "base_uri": "https://localhost:8080/",
          "height": 295
        },
        "id": "oUw2SBG7Rygf",
        "outputId": "fe5d54fe-cd6a-402d-e127-75dc32d9e35c"
      },
      "source": [
        "loss = history.history['loss'] \n",
        "val_loss = history.history['val_loss']\n",
        "epochs = range(1, len(loss) + 1)\n",
        "plt.plot(epochs, loss, 'bo', label='Training loss') \n",
        "plt.plot(epochs, val_loss, 'b', label='Validation loss') \n",
        "plt.title('Training and validation loss') \n",
        "plt.xlabel('Epochs')\n",
        "plt.ylabel('Loss') \n",
        "plt.legend()\n",
        "plt.show()"
      ],
      "execution_count": 13,
      "outputs": [
        {
          "output_type": "display_data",
          "data": {
            "image/png": "[encoded data removed]",
            "text/plain": [
              "<Figure size 432x288 with 1 Axes>"
            ]
          },
          "metadata": {
            "tags": [],
            "needs_background": "light"
          }
        }
      ]
    },
    {
      "cell_type": "code",
      "metadata": {
        "colab": {
          "base_uri": "https://localhost:8080/",
          "height": 295
        },
        "id": "5WUiK7YAS5HQ",
        "outputId": "0f2e15f2-fff4-4a99-c5c2-ae7a6841e161"
      },
      "source": [
        "mape = history.history['mape'] \n",
        "val_mape = history.history['val_mape']\n",
        "epochs = range(1, len(loss) + 1)\n",
        "plt.plot(epochs, loss, 'bo', label='Training MAPE') \n",
        "plt.plot(epochs, val_loss, 'b', label='Validation MAPE') \n",
        "plt.title('Training and validation MAPE') \n",
        "plt.xlabel('Epochs')\n",
        "plt.ylabel('Mean Absolute Percentage Error') \n",
        "plt.legend()\n",
        "plt.show()"
      ],
      "execution_count": 14,
      "outputs": [
        {
          "output_type": "display_data",
          "data": {
            "image/png": "[encoded data removed]",
            "text/plain": [
              "<Figure size 432x288 with 1 Axes>"
            ]
          },
          "metadata": {
            "tags": [],
            "needs_background": "light"
          }
        }
      ]
    },
    {
      "cell_type": "markdown",
      "metadata": {
        "id": "Y2DqT-8qZe0H"
      },
      "source": [
        "**Model weights opslaan en inladen**\n",
        "Als je tevreden bent over de resultaten van je model kan je de weights van het model opslaan, zodat je het later opnieuw kan inladen en niet opnieuw hoeft te trainen.\n"
      ]
    },
    {
      "cell_type": "code",
      "metadata": {
        "id": "9W9maaQreEcd"
      },
      "source": [
        "model.save_weights('model_weights.h5')"
      ],
      "execution_count": 15,
      "outputs": []
    },
    {
      "cell_type": "code",
      "metadata": {
        "id": "O72S8z1Qe7MI",
        "outputId": "4834b997-a26b-4aa2-85d5-6b42d284aa6b",
        "colab": {
          "base_uri": "https://localhost:8080/"
        }
      },
      "source": [
        "# we definieren een equivalent model\n",
        "model2 = models.Sequential()\n",
        "model2.add(layers.Dense(units=64, activation='relu', input_shape=(x_train.shape[1],)))\n",
        "model2.add(layers.Dense(units=32, activation='relu'))\n",
        "model2.add(layers.Dense(units=1))\n",
        "\n",
        "# we laden de weights in van model 1\n",
        "model2.load_weights('model_weights.h5')\n",
        "\n",
        "# we controleren dat de voorspellingen van model1 en 2 overeenkomen\n",
        "predict1 = model.predict(x_test)\n",
        "predict2 = model2.predict(x_test)\n",
        "\n",
        "print('Het verschil in voorspellingen is',np.sum(predict1-predict2))"
      ],
      "execution_count": 16,
      "outputs": [
        {
          "output_type": "stream",
          "text": [
            "Verschil in voorspellingen is 0.0\n"
          ],
          "name": "stdout"
        }
      ]
    }
  ]
}