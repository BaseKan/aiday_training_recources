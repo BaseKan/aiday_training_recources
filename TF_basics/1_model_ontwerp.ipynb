{
  "nbformat": 4,
  "nbformat_minor": 0,
  "metadata": {
    "colab": {
      "name": "Model_ontwerp.ipynb",
      "provenance": [],
      "authorship_tag": "ABX9TyNHTHciMbhS3Mprp9pzUby1",
      "include_colab_link": true
    },
    "kernelspec": {
      "name": "python3",
      "display_name": "Python 3"
    },
    "language_info": {
      "name": "python"
    }
  },
  "cells": [
    {
      "cell_type": "markdown",
      "metadata": {
        "id": "view-in-github",
        "colab_type": "text"
      },
      "source": [
        "<a href=\"https://colab.research.google.com/github/BaseKan/aiday_training_resources/blob/main/TF_basics/1_model_ontwerp.ipynb\" target=\"_parent\"><img src=\"https://colab.research.google.com/assets/colab-badge.svg\" alt=\"Open In Colab\"/></a>"
      ]
    },
    {
      "cell_type": "code",
      "metadata": {
        "id": "dUTsG09o3rDK",
        "colab": {
          "base_uri": "https://localhost:8080/"
        },
        "outputId": "97eedf25-0e95-4330-bdfb-fe5c864fa680"
      },
      "source": [
        "import tensorflow as tf\n",
        "from tensorflow.keras import layers, models\n",
        "from tensorflow.keras.datasets import boston_housing\n",
        "from tensorflow.keras.utils import plot_model\n",
        "import numpy as np\n",
        "import matplotlib.pyplot as plt\n",
        "print(tf.__version__)"
      ],
      "execution_count": 1,
      "outputs": [
        {
          "output_type": "stream",
          "text": [
            "2.4.1\n"
          ],
          "name": "stdout"
        }
      ]
    },
    {
      "cell_type": "markdown",
      "metadata": {
        "id": "kZRg0bjH-dMl"
      },
      "source": [
        "**Modellen en lagen in Keras**\n",
        "Deep learning modellen ontwerpen gaat makkelijk met de Keras API. Vroeger was Keras een onafhankelijke library, maar tegenwoordig is Keras geintegreerd in TensorFlow. \n",
        "\n",
        "Voor regressie en classificatiemodellen gebruik je in de eerste plaats \"Dense layers\", maar andere lagen toevoegen gaat net zo makkelijk. Bij Dense layers zijn 3 parameters van belang:\n",
        "\n",
        "*  Het aantal units, of neuronen, is een maat voor hoeveel een laag kan leren. Meer neuronen betekent dat je meer kan leren, maar ook dat je meer kan overfitten.\n",
        "*   De activatie kan je voor nu altijd op relu houden voor tussenlagen. \n",
        "*   Input shape wordt bepaald door de vorm van de data die je het netwerk gaat voeden\n",
        "\n",
        "In dit geval zullen we huizenprijzen proberen te voorspellen."
      ]
    },
    {
      "cell_type": "code",
      "metadata": {
        "colab": {
          "base_uri": "https://localhost:8080/"
        },
        "id": "Qp9yCYla-sWG",
        "outputId": "664810df-98f2-4d0d-9178-fd5cc0253c24"
      },
      "source": [
        "(x_train,y_train), (x_test,y_test) = boston_housing.load_data()\n",
        "print(x_train.shape)"
      ],
      "execution_count": 2,
      "outputs": [
        {
          "output_type": "stream",
          "text": [
            "Downloading data from https://storage.googleapis.com/tensorflow/tf-keras-datasets/boston_housing.npz\n",
            "57344/57026 [==============================] - 0s 0us/step\n",
            "(404, 13)\n"
          ],
          "name": "stdout"
        }
      ]
    },
    {
      "cell_type": "markdown",
      "metadata": {
        "id": "tiY7UpTsSJXT"
      },
      "source": [
        "**Preprocessen** We normaliseren de data."
      ]
    },
    {
      "cell_type": "code",
      "metadata": {
        "id": "dbzivW2gR5b9"
      },
      "source": [
        "mu = x_train.mean(axis=0)\n",
        "sigma = x_train.std(axis=0)\n",
        "x_train -= mu\n",
        "x_train /= sigma\n",
        "\n",
        "x_test -= mu\n",
        "x_test /= sigma"
      ],
      "execution_count": 3,
      "outputs": []
    },
    {
      "cell_type": "markdown",
      "metadata": {
        "id": "BNwcNJzWIBjC"
      },
      "source": [
        "**Modeldefinitie** We definieren een model met 3 opeenvolgende (sequential) lagen. We eindigen met een dense laag met maar een unit omdat we een continue variabele (de huisprijs) voorspellen, er moet dus maar een waarde uit het netwerk komen als eindwaarde."
      ]
    },
    {
      "cell_type": "code",
      "metadata": {
        "colab": {
          "base_uri": "https://localhost:8080/",
          "height": 422
        },
        "id": "cM2pVn8HGZeU",
        "outputId": "43ecbecf-5a3e-47fc-a6bd-3d535da9ac99"
      },
      "source": [
        "model = models.Sequential()\n",
        "model.add(layers.Input(shape=(x_train.shape[1])))\n",
        "model.add(layers.Dense(units=64, activation='relu'))\n",
        "model.add(layers.Dense(units=32, activation='relu'))\n",
        "model.add(layers.Dense(units=1))\n",
        "plot_model(model,show_shapes=True)"
      ],
      "execution_count": 30,
      "outputs": [
        {
          "output_type": "execute_result",
          "data": {
            "image/png": "[encoded data removed]",
            "text/plain": [
              "<IPython.core.display.Image object>"
            ]
          },
          "metadata": {
            "tags": []
          },
          "execution_count": 30
        }
      ]
    },
    {
      "cell_type": "markdown",
      "metadata": {
        "id": "qTQ4XeSVJt2I"
      },
      "source": [
        "**Optimizers en loss**\n",
        "Behalve een netwerk heb je ook een **optimizer** en een keus van **loss** nodig die je gebruikt wanneer je het netwerk traint. Loss definieert wat je wil optimaliseren (bijvoorbeeld MSE: Mean Squared Error) en de optimizer implementeert een specifiek algoritme om te optimaliseren. We kiezen voor RMSE loss en de klassieke optimizer Stochastic Gradient Descent (SGD). Er is tegenwoordig veel keus in optimizers, zoals Adam en RMSProp.  \n",
        "Naast loss kunnen we ook bepaalde metrieken bijhouden die apart van de loss laten zien hoe goed het model leert, bijvoorbeeld de absolute gemiddelde procentuele fout (mape).  "
      ]
    },
    {
      "cell_type": "code",
      "metadata": {
        "id": "ER2Aumm1HFRe"
      },
      "source": [
        "model.compile(optimizer='SGD', \n",
        "                loss = 'mse',\n",
        "                metrics=['mape']\n",
        ")"
      ],
      "execution_count": 31,
      "outputs": []
    },
    {
      "cell_type": "markdown",
      "metadata": {
        "id": "SOTY5FbdMH2H"
      },
      "source": [
        "**Epochs, batches en updates**\n",
        "We kunnen het model trainen met model.fit. Het is handig de uitkomst op te slaan in een variabele history, om plots te kunnen maken van het leergedrag. Het trainen van het model bestaat uit updates (steps) en epochs. Een update betekent dat de neuronen van het netwerk worden geupdate op basis van een batch van data. Alle observaties (de rijen in het dataframe) komen in een epoch precies een keer langs. Dus met 404 observaties en batches van 40 observaties krijg je 11 updates per epoch. \n",
        "Batches worden willekeurig gekozen, na 20 epochs heeft het model dan 20 keer alle datapunten gezien en 20*11 = 220 keer de modelparameters geupdatet. "
      ]
    },
    {
      "cell_type": "code",
      "metadata": {
        "colab": {
          "base_uri": "https://localhost:8080/"
        },
        "id": "BydWWFElHLOP",
        "outputId": "d1018f7d-2dff-475d-d70e-27ae10160c63"
      },
      "source": [
        "history = model.fit(x = x_train,\n",
        "                    y = y_train,\n",
        "                    batch_size = 40,\n",
        "                    epochs = 20,\n",
        "                    validation_split = 0.2\n",
        "                    )"
      ],
      "execution_count": 32,
      "outputs": [
        {
          "output_type": "stream",
          "text": [
            "Epoch 1/20\n",
            "9/9 [==============================] - 1s 25ms/step - loss: 339.4622 - mape: 67.4760 - val_loss: 41.6096 - val_mape: 24.2897\n",
            "Epoch 2/20\n",
            "9/9 [==============================] - 0s 8ms/step - loss: 85.7168 - mape: 31.9788 - val_loss: 590.6887 - val_mape: 93.6782\n",
            "Epoch 3/20\n",
            "9/9 [==============================] - 0s 8ms/step - loss: 383.8234 - mape: 77.5765 - val_loss: 542.1460 - val_mape: 86.9123\n",
            "Epoch 4/20\n",
            "9/9 [==============================] - 0s 8ms/step - loss: 407.3246 - mape: 77.8018 - val_loss: 256.2575 - val_mape: 47.9228\n",
            "Epoch 5/20\n",
            "9/9 [==============================] - 0s 7ms/step - loss: 159.0530 - mape: 40.6731 - val_loss: 82.1044 - val_mape: 28.6996\n",
            "Epoch 6/20\n",
            "9/9 [==============================] - 0s 7ms/step - loss: 44.8003 - mape: 24.2767 - val_loss: 20.7572 - val_mape: 14.9809\n",
            "Epoch 7/20\n",
            "9/9 [==============================] - 0s 7ms/step - loss: 18.4222 - mape: 14.7713 - val_loss: 17.5821 - val_mape: 14.7802\n",
            "Epoch 8/20\n",
            "9/9 [==============================] - 0s 8ms/step - loss: 38.6094 - mape: 18.5429 - val_loss: 24.8706 - val_mape: 16.8156\n",
            "Epoch 9/20\n",
            "9/9 [==============================] - 0s 8ms/step - loss: 33.6890 - mape: 18.7374 - val_loss: 26.5793 - val_mape: 17.3584\n",
            "Epoch 10/20\n",
            "9/9 [==============================] - 0s 8ms/step - loss: 18.8760 - mape: 14.8059 - val_loss: 21.6314 - val_mape: 14.2802\n",
            "Epoch 11/20\n",
            "9/9 [==============================] - 0s 8ms/step - loss: 12.0679 - mape: 13.9833 - val_loss: 17.6027 - val_mape: 13.5545\n",
            "Epoch 12/20\n",
            "9/9 [==============================] - 0s 7ms/step - loss: 16.3262 - mape: 14.5557 - val_loss: 58.0592 - val_mape: 21.6120\n",
            "Epoch 13/20\n",
            "9/9 [==============================] - 0s 7ms/step - loss: 23.6779 - mape: 15.4819 - val_loss: 25.6625 - val_mape: 16.3661\n",
            "Epoch 14/20\n",
            "9/9 [==============================] - 0s 7ms/step - loss: 20.0629 - mape: 15.6578 - val_loss: 16.9252 - val_mape: 14.0683\n",
            "Epoch 15/20\n",
            "9/9 [==============================] - 0s 7ms/step - loss: 9.1627 - mape: 11.3549 - val_loss: 17.1231 - val_mape: 13.6749\n",
            "Epoch 16/20\n",
            "9/9 [==============================] - 0s 8ms/step - loss: 9.3852 - mape: 11.9349 - val_loss: 15.7956 - val_mape: 13.7079\n",
            "Epoch 17/20\n",
            "9/9 [==============================] - 0s 7ms/step - loss: 15.9582 - mape: 14.6571 - val_loss: 21.3975 - val_mape: 16.7952\n",
            "Epoch 18/20\n",
            "9/9 [==============================] - 0s 7ms/step - loss: 21.7163 - mape: 15.3236 - val_loss: 52.5150 - val_mape: 20.4285\n",
            "Epoch 19/20\n",
            "9/9 [==============================] - 0s 9ms/step - loss: 35.3577 - mape: 18.0258 - val_loss: 15.3950 - val_mape: 13.5898\n",
            "Epoch 20/20\n",
            "9/9 [==============================] - 0s 7ms/step - loss: 8.7011 - mape: 10.7491 - val_loss: 18.0445 - val_mape: 14.0892\n"
          ],
          "name": "stdout"
        }
      ]
    },
    {
      "cell_type": "markdown",
      "metadata": {
        "id": "JeMq16iTSv1H"
      },
      "source": [
        "**Vraag**\n",
        "Merk op dat we niet 11 updates per epoch hebben. Kan je bedenken hoe dat komt? \n",
        "Hint: kijk naar de argument van model.fit"
      ]
    },
    {
      "cell_type": "markdown",
      "metadata": {
        "id": "Sotu1uwxeMWZ"
      },
      "source": [
        "**Modelevaluatie met plots**\n",
        "We plotten nu de loss en MAPE krommes. Deze zien er prima uit: de loss daalt gedurende de eerste epochs, dus het model leert, daarna vlakt de kromme af - het model is 'uitgeleerd'.\n",
        "\n",
        "Merk op dat de validatie loss hoger ligt dan de training loss, het model heeft dus last van overfitting."
      ]
    },
    {
      "cell_type": "code",
      "metadata": {
        "colab": {
          "base_uri": "https://localhost:8080/",
          "height": 295
        },
        "id": "oUw2SBG7Rygf",
        "outputId": "3daa3b36-ba13-4c07-be69-1bdf87d46816"
      },
      "source": [
        "loss = history.history['loss'] \n",
        "val_loss = history.history['val_loss']\n",
        "epochs = range(1, len(loss) + 1)\n",
        "plt.plot(epochs, loss, 'bo', label='Training loss') \n",
        "plt.plot(epochs, val_loss, 'b', label='Validation loss') \n",
        "plt.title('Training and validation loss') \n",
        "plt.xlabel('Epochs')\n",
        "plt.ylabel('Loss') \n",
        "plt.legend()\n",
        "plt.show()"
      ],
      "execution_count": 33,
      "outputs": [
        {
          "output_type": "display_data",
          "data": {
            "image/png": "[encoded data removed]",
            "text/plain": [
              "<Figure size 432x288 with 1 Axes>"
            ]
          },
          "metadata": {
            "tags": [],
            "needs_background": "light"
          }
        }
      ]
    },
    {
      "cell_type": "code",
      "metadata": {
        "colab": {
          "base_uri": "https://localhost:8080/",
          "height": 295
        },
        "id": "5WUiK7YAS5HQ",
        "outputId": "3dcd210b-8785-4f3e-decd-f2d8931b666c"
      },
      "source": [
        "mape = history.history['mape'] \n",
        "val_mape = history.history['val_mape']\n",
        "epochs = range(1, len(loss) + 1)\n",
        "plt.plot(epochs, loss, 'bo', label='Training MAPE') \n",
        "plt.plot(epochs, val_loss, 'b', label='Validation MAPE') \n",
        "plt.title('Training and validation MAPE') \n",
        "plt.xlabel('Epochs')\n",
        "plt.ylabel('Mean Absolute Percentage Error') \n",
        "plt.legend()\n",
        "plt.show()"
      ],
      "execution_count": 34,
      "outputs": [
        {
          "output_type": "display_data",
          "data": {
            "image/png": "[encoded data removed]",
            "text/plain": [
              "<Figure size 432x288 with 1 Axes>"
            ]
          },
          "metadata": {
            "tags": [],
            "needs_background": "light"
          }
        }
      ]
    },
    {
      "cell_type": "markdown",
      "metadata": {
        "id": "Pj1bWMSEixPp"
      },
      "source": [
        "**Voorspellingen maken** Je kan met model.predict je model laten voorspellen op nieuwe data. In onze traindata kwamen we in de validatie tot een MSE van 18. We controleren nu op de test wat onze MSE."
      ]
    },
    {
      "cell_type": "code",
      "metadata": {
        "id": "Q24i5kenjCXb",
        "outputId": "0166c0ae-e9f1-4329-d71e-cfa5413da4fe",
        "colab": {
          "base_uri": "https://localhost:8080/"
        }
      },
      "source": [
        "print('MSE op de test set is',np.mean( (model.predict(x_test)-y_test)**2))"
      ],
      "execution_count": 45,
      "outputs": [
        {
          "output_type": "stream",
          "text": [
            "MSE op de test set is 158.19173585497663\n"
          ],
          "name": "stdout"
        }
      ]
    },
    {
      "cell_type": "markdown",
      "metadata": {
        "id": "Y2DqT-8qZe0H"
      },
      "source": [
        "**Model weights opslaan en inladen**\n",
        "Als je tevreden bent over de resultaten van je model kan je de weights van het model opslaan, zodat je het later opnieuw kan inladen en niet opnieuw hoeft te trainen.\n"
      ]
    },
    {
      "cell_type": "code",
      "metadata": {
        "id": "9W9maaQreEcd"
      },
      "source": [
        "model.save_weights('model_weights.h5')"
      ],
      "execution_count": 35,
      "outputs": []
    },
    {
      "cell_type": "code",
      "metadata": {
        "colab": {
          "base_uri": "https://localhost:8080/"
        },
        "id": "O72S8z1Qe7MI",
        "outputId": "9c0ee751-32e3-4e37-e054-c55f50ad2d15"
      },
      "source": [
        "# we definieren een equivalent model\n",
        "model2 = models.Sequential()\n",
        "model2.add(layers.Input(shape=(x_train.shape[1])))\n",
        "model2.add(layers.Dense(units=64, activation='relu'))\n",
        "model2.add(layers.Dense(units=32, activation='relu'))\n",
        "model2.add(layers.Dense(units=1))\n",
        "\n",
        "# we laden de weights in van model 1\n",
        "model2.load_weights('model_weights.h5')\n",
        "\n",
        "# we controleren dat de voorspellingen van model 1 en model 2 overeenkomen\n",
        "predict1 = model.predict(x_test)\n",
        "predict2 = model2.predict(x_test)\n",
        "\n",
        "print('Het verschil in voorspellingen is',np.sum(predict1-predict2))"
      ],
      "execution_count": 36,
      "outputs": [
        {
          "output_type": "stream",
          "text": [
            "Het verschil in voorspellingen is 0.0\n"
          ],
          "name": "stdout"
        }
      ]
    }
  ]
}