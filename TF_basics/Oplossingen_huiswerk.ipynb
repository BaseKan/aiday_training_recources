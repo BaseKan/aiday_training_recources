{
  "nbformat": 4,
  "nbformat_minor": 0,
  "metadata": {
    "colab": {
      "name": "Oplossingen_huiswerk.ipynb",
      "provenance": [],
      "authorship_tag": "ABX9TyNZqnFZ6uEhemKKZIsoyeui",
      "include_colab_link": true
    },
    "kernelspec": {
      "name": "python3",
      "display_name": "Python 3"
    },
    "language_info": {
      "name": "python"
    }
  },
  "cells": [
    {
      "cell_type": "markdown",
      "metadata": {
        "id": "view-in-github",
        "colab_type": "text"
      },
      "source": [
        "<a href=\"https://colab.research.google.com/github/BaseKan/aiday_training_resources/blob/main/TF_basics/Oplossingen_huiswerk.ipynb\" target=\"_parent\"><img src=\"https://colab.research.google.com/assets/colab-badge.svg\" alt=\"Open In Colab\"/></a>"
      ]
    },
    {
      "cell_type": "code",
      "metadata": {
        "colab": {
          "base_uri": "https://localhost:8080/"
        },
        "id": "ZA-EvZMOuvSp",
        "outputId": "2abd35cf-8624-41bf-8ed4-3f626ba5093a"
      },
      "source": [
        "import tensorflow as tf\n",
        "from tensorflow.keras import layers, models\n",
        "from tensorflow.keras.datasets import boston_housing\n",
        "from tensorflow.keras.utils import plot_model\n",
        "from tensorflow.keras.optimizers import SGD\n",
        "import numpy as np\n",
        "import matplotlib.pyplot as plt\n",
        "from sklearn.datasets import load_diabetes, load_breast_cancer\n",
        "from sklearn.model_selection import train_test_split\n",
        "from IPython.display import clear_output\n",
        "print(tf.__version__)"
      ],
      "execution_count": 149,
      "outputs": [
        {
          "output_type": "stream",
          "text": [
            "2.4.1\n"
          ],
          "name": "stdout"
        }
      ]
    },
    {
      "cell_type": "markdown",
      "metadata": {
        "id": "qrlqAU4ru70B"
      },
      "source": [
        "**Opdracht een & twee** Train een deep learning model op de Diabetes dataset (met maar een kolom) met maar een Dense laag met maar 1 neuron (unit). Train een lineair regressiemodel met sklearn. Maak daarna een scatterplot van de traindata met op de x-as de eerste kolom van de traindata en op de y-as de y_train. Voeg nu twee lijnen toe die met voorspelling van het sklearn model en het keras model."
      ]
    },
    {
      "cell_type": "code",
      "metadata": {
        "id": "d7bMjyluu6jP"
      },
      "source": [
        "# inladen data\n",
        "data = load_diabetes()\n",
        "x_train, x_test, y_train, y_test = train_test_split(data['data'],data['target'],test_size=0.2, random_state=42)\n",
        "\n",
        "# we houden voor deze opdracht enkel kolom drie\n",
        "x_train = x_train[:,2]\n",
        "x_test = x_test[:,2]\n",
        "\n",
        "# definieren model - gebruiken de alternatieve methode van definieren\n",
        "input = layers.Input(shape=(1,))\n",
        "dense = layers.Dense(1)\n",
        "output = dense(input)\n",
        "\n",
        "regressie_model = models.Model(input,output)\n",
        "\n",
        "# definieren sklearn model\n",
        "from sklearn.linear_model import LinearRegression\n",
        "lm = LinearRegression().fit(x_train.reshape(-1,1),y_train)\n",
        "y_SK = lm.predict(x_train.reshape(-1,1))"
      ],
      "execution_count": 164,
      "outputs": []
    },
    {
      "cell_type": "code",
      "metadata": {
        "colab": {
          "base_uri": "https://localhost:8080/",
          "height": 265
        },
        "id": "4HxvAwZQw3pD",
        "outputId": "f672f392-c91c-4323-c34e-4250bf076093"
      },
      "source": [
        "# compilen model\n",
        "rate = 0.5\n",
        "rate_slow = 0.08\n",
        "epochs = 250\n",
        "def schedule(epoch, lr):\n",
        "  if epoch >= 50:\n",
        "    return rate_slow\n",
        "  return rate\n",
        " \n",
        "scheduler = tf.keras.callbacks.LearningRateScheduler(schedule)\n",
        "\n",
        "regressie_model.compile(optimizer=SGD(lr,0.9),\n",
        "                        loss='mse')\n",
        "\n",
        "# callback voor plot\n",
        "\n",
        "class Plot(tf.keras.callbacks.Callback):\n",
        "  def on_epoch_end(self, batch, logs={}):\n",
        "    clear_output(wait=True)\n",
        "    y_DL = regressie_model.predict(x_train)\n",
        "    plt.scatter(x_train,y_train)\n",
        "    plt.plot(x_train,y_DL, label='keras')\n",
        "    plt.plot(x_train,y_SK, label='sklearn')\n",
        "    plt.legend()\n",
        "    plt.show()\n",
        "\n",
        "\n",
        "# trainen model\n",
        "history = regressie_model.fit(x=x_train,\n",
        "                    y=y_train,\n",
        "                    batch_size=x_train.shape[0],\n",
        "                    epochs=epochs,\n",
        "                    callbacks=[scheduler,Plot()]\n",
        "                    )"
      ],
      "execution_count": 165,
      "outputs": [
        {
          "output_type": "display_data",
          "data": {
            "image/png": "[encoded data removed]",
            "text/plain": [
              "<Figure size 432x288 with 1 Axes>"
            ]
          },
          "metadata": {
            "tags": [],
            "needs_background": "light"
          }
        }
      ]
    },
    {
      "cell_type": "markdown",
      "metadata": {
        "id": "EUBvTRt7vUgs"
      },
      "source": [
        "**Opdracht drie** Gebruik nu alle diabetesdata en train een lineair regressiemodel. Train nu een deep learning model met betere validatie score. Vergelijke de MSE op de test set. "
      ]
    },
    {
      "cell_type": "code",
      "metadata": {
        "colab": {
          "base_uri": "https://localhost:8080/"
        },
        "id": "f3U3SxHPvUtt",
        "outputId": "1f3f0f6b-49d1-4155-be1f-bfde937adfa0"
      },
      "source": [
        "# inladen data\n",
        "data = load_diabetes()\n",
        "x_train, x_test, y_train, y_test = train_test_split(data['data'],data['target'],test_size=0.2, random_state=42)\n",
        "\n",
        "# definieren model - gebruiken de alternatieve methode van definieren\n",
        "input = layers.Input(shape=(x_train.shape[1],))\n",
        "dense = layers.Dense(64)(input)\n",
        "dense1 = layers.Dense(32)(dense)\n",
        "output = layers.Dense(1)(dense1)\n",
        "\n",
        "regressie_model2 = models.Model(input,output)\n",
        "\n",
        "regressie_model2.compile(optimizer=SGD(5e-5,0.9),\n",
        "                        loss='mse')\n",
        "\n",
        "history2 = regressie_model2.fit(x=x_train,\n",
        "                    y=y_train,\n",
        "                    batch_size=40,\n",
        "                    epochs=40,\n",
        "                     validation_split=0.2)\n",
        "\n",
        "# definieren sklearn model\n",
        "from sklearn.linear_model import LinearRegression\n",
        "lm2 = LinearRegression().fit(x_train,y_train)"
      ],
      "execution_count": 174,
      "outputs": [
        {
          "output_type": "stream",
          "text": [
            "Epoch 1/40\n",
            "8/8 [==============================] - 0s 25ms/step - loss: 32568.8496 - val_loss: 21803.4688\n",
            "Epoch 2/40\n",
            "8/8 [==============================] - 0s 8ms/step - loss: 30895.3003 - val_loss: 15851.0488\n",
            "Epoch 3/40\n",
            "8/8 [==============================] - 0s 8ms/step - loss: 18395.5994 - val_loss: 15653.3271\n",
            "Epoch 4/40\n",
            "8/8 [==============================] - 0s 8ms/step - loss: 9188.8625 - val_loss: 4457.7905\n",
            "Epoch 5/40\n",
            "8/8 [==============================] - 0s 8ms/step - loss: 6536.0722 - val_loss: 4736.6763\n",
            "Epoch 6/40\n",
            "8/8 [==============================] - 0s 8ms/step - loss: 6047.6363 - val_loss: 5032.1885\n",
            "Epoch 7/40\n",
            "8/8 [==============================] - 0s 8ms/step - loss: 5715.1694 - val_loss: 4017.1101\n",
            "Epoch 8/40\n",
            "8/8 [==============================] - 0s 8ms/step - loss: 5334.6633 - val_loss: 5229.3325\n",
            "Epoch 9/40\n",
            "8/8 [==============================] - 0s 8ms/step - loss: 5123.3100 - val_loss: 4476.3042\n",
            "Epoch 10/40\n",
            "8/8 [==============================] - 0s 8ms/step - loss: 4722.7279 - val_loss: 3629.9893\n",
            "Epoch 11/40\n",
            "8/8 [==============================] - 0s 9ms/step - loss: 4115.0833 - val_loss: 3305.6914\n",
            "Epoch 12/40\n",
            "8/8 [==============================] - 0s 8ms/step - loss: 4195.3390 - val_loss: 5060.0376\n",
            "Epoch 13/40\n",
            "8/8 [==============================] - 0s 9ms/step - loss: 4263.1189 - val_loss: 3252.1628\n",
            "Epoch 14/40\n",
            "8/8 [==============================] - 0s 8ms/step - loss: 3505.5653 - val_loss: 4081.0308\n",
            "Epoch 15/40\n",
            "8/8 [==============================] - 0s 7ms/step - loss: 3567.3173 - val_loss: 3297.0767\n",
            "Epoch 16/40\n",
            "8/8 [==============================] - 0s 8ms/step - loss: 3533.1955 - val_loss: 3455.2747\n",
            "Epoch 17/40\n",
            "8/8 [==============================] - 0s 8ms/step - loss: 3382.9058 - val_loss: 3592.1123\n",
            "Epoch 18/40\n",
            "8/8 [==============================] - 0s 7ms/step - loss: 3351.4607 - val_loss: 5189.7979\n",
            "Epoch 19/40\n",
            "8/8 [==============================] - 0s 8ms/step - loss: 4960.3789 - val_loss: 3250.2520\n",
            "Epoch 20/40\n",
            "8/8 [==============================] - 0s 8ms/step - loss: 3164.1474 - val_loss: 3216.9111\n",
            "Epoch 21/40\n",
            "8/8 [==============================] - 0s 9ms/step - loss: 3005.6916 - val_loss: 3297.0386\n",
            "Epoch 22/40\n",
            "8/8 [==============================] - 0s 8ms/step - loss: 3046.6526 - val_loss: 3544.5325\n",
            "Epoch 23/40\n",
            "8/8 [==============================] - 0s 8ms/step - loss: 3729.9151 - val_loss: 3465.9944\n",
            "Epoch 24/40\n",
            "8/8 [==============================] - 0s 8ms/step - loss: 2734.3155 - val_loss: 4373.7681\n",
            "Epoch 25/40\n",
            "8/8 [==============================] - 0s 8ms/step - loss: 4448.6916 - val_loss: 3279.5947\n",
            "Epoch 26/40\n",
            "8/8 [==============================] - 0s 8ms/step - loss: 3128.7813 - val_loss: 4092.7500\n",
            "Epoch 27/40\n",
            "8/8 [==============================] - 0s 8ms/step - loss: 2963.3548 - val_loss: 3675.6431\n",
            "Epoch 28/40\n",
            "8/8 [==============================] - 0s 8ms/step - loss: 3000.0383 - val_loss: 3303.7393\n",
            "Epoch 29/40\n",
            "8/8 [==============================] - 0s 9ms/step - loss: 3045.1852 - val_loss: 3395.2024\n",
            "Epoch 30/40\n",
            "8/8 [==============================] - 0s 9ms/step - loss: 2898.6787 - val_loss: 3362.1770\n",
            "Epoch 31/40\n",
            "8/8 [==============================] - 0s 10ms/step - loss: 2721.7077 - val_loss: 3399.9292\n",
            "Epoch 32/40\n",
            "8/8 [==============================] - 0s 8ms/step - loss: 3080.9064 - val_loss: 3583.4243\n",
            "Epoch 33/40\n",
            "8/8 [==============================] - 0s 8ms/step - loss: 3502.0629 - val_loss: 3498.3450\n",
            "Epoch 34/40\n",
            "8/8 [==============================] - 0s 8ms/step - loss: 2956.8024 - val_loss: 3720.5542\n",
            "Epoch 35/40\n",
            "8/8 [==============================] - 0s 8ms/step - loss: 3098.9387 - val_loss: 3368.2546\n",
            "Epoch 36/40\n",
            "8/8 [==============================] - 0s 9ms/step - loss: 2992.1312 - val_loss: 6327.0142\n",
            "Epoch 37/40\n",
            "8/8 [==============================] - 0s 8ms/step - loss: 4499.4416 - val_loss: 3292.4683\n",
            "Epoch 38/40\n",
            "8/8 [==============================] - 0s 9ms/step - loss: 2837.5521 - val_loss: 3396.6228\n",
            "Epoch 39/40\n",
            "8/8 [==============================] - 0s 9ms/step - loss: 3284.3521 - val_loss: 3339.3000\n",
            "Epoch 40/40\n",
            "8/8 [==============================] - 0s 9ms/step - loss: 2915.5384 - val_loss: 3513.9111\n"
          ],
          "name": "stdout"
        }
      ]
    },
    {
      "cell_type": "code",
      "metadata": {
        "colab": {
          "base_uri": "https://localhost:8080/"
        },
        "id": "gzGku2miOwpW",
        "outputId": "62303da9-0de0-4dff-80e1-2906c4b4b59c"
      },
      "source": [
        "print('Linear regression test MSE', np.mean((regressie_model2.predict(x_test)-y_test)**2))\n",
        "print('Deep Learning test MSE',np.mean((lm2.predict(x_test)-y_test)**2))"
      ],
      "execution_count": 176,
      "outputs": [
        {
          "output_type": "stream",
          "text": [
            "Linear regression test MSE 8296.7908898852\n",
            "Deep Learning test MSE 2900.1732878832318\n"
          ],
          "name": "stdout"
        }
      ]
    },
    {
      "cell_type": "markdown",
      "metadata": {
        "id": "IcDGkcDYvU0D"
      },
      "source": [
        "**Opdracht vier** Ontwerp en train een meerlaags classificatiemodel op de breast cancer dataset. \n",
        "\n",
        "*   De activatie van je laatste laag moet voor binaire classificatie 'sigmoid' zijn (als er meer dan twee klassen waren geweest hadden we 'softmax' gebruikt)\n",
        "\n",
        "*   Als loss kan je 'binary_crossentropy' gebruiken\n",
        "\n",
        "Er zijn veel metrieken die je kan bekijken, bijvoorbeeld: precision, accuracy, recall, etc. "
      ]
    },
    {
      "cell_type": "code",
      "metadata": {
        "id": "QAt2b6hfvU5p"
      },
      "source": [
        "# inladen data\n",
        "data = load_breast_cancer()\n",
        "x_train, x_test, y_train, y_test = train_test_split(data['data'],data['target'],test_size=0.2, random_state=42)\n",
        "\n",
        "# definieren model - gebruiken de alternatieve methode van definieren\n",
        "input = layers.Input(shape=(x_train.shape[1],))\n",
        "dense = layers.Dense(64)(input)\n",
        "dense1 = layers.Dense(32)(dense)\n",
        "output = layers.Dense(1,activation='sigmoid')(dense1)\n",
        "\n",
        "logregressie_model = models.Model(input,output)"
      ],
      "execution_count": 200,
      "outputs": []
    },
    {
      "cell_type": "code",
      "metadata": {
        "colab": {
          "base_uri": "https://localhost:8080/"
        },
        "id": "u3F_B5SkRa77",
        "outputId": "a8022934-9067-49de-8545-3a7d697f6cb8"
      },
      "source": [
        "logregressie_model.compile(optimizer=SGD(5e-6,0.7),\n",
        "                        loss='binary_crossentropy',\n",
        "                        metrics=['Accuracy','Precision','Recall']\n",
        ")\n",
        "\n",
        "history2 = logregressie_model.fit(x=x_train,\n",
        "                    y=y_train,\n",
        "                    batch_size=40,\n",
        "                    epochs=40,\n",
        "                     validation_split=0.2)"
      ],
      "execution_count": 201,
      "outputs": [
        {
          "output_type": "stream",
          "text": [
            "Epoch 1/40\n",
            "10/10 [==============================] - 1s 46ms/step - loss: 46.1742 - accuracy: 0.5425 - precision: 0.7059 - recall: 0.8391 - val_loss: 7.0678 - val_accuracy: 0.5824 - val_precision: 0.7436 - val_recall: 1.0000\n",
            "Epoch 2/40\n",
            "10/10 [==============================] - 0s 7ms/step - loss: 2.7550 - accuracy: 0.4236 - precision: 0.8414 - recall: 0.9223 - val_loss: 3.8960 - val_accuracy: 0.2967 - val_precision: 0.8382 - val_recall: 0.9828\n",
            "Epoch 3/40\n",
            "10/10 [==============================] - 0s 7ms/step - loss: 1.7821 - accuracy: 0.2960 - precision: 0.8469 - recall: 0.8477 - val_loss: 3.1758 - val_accuracy: 0.1758 - val_precision: 0.8500 - val_recall: 0.8793\n",
            "Epoch 4/40\n",
            "10/10 [==============================] - 0s 7ms/step - loss: 1.3720 - accuracy: 0.2063 - precision: 0.8844 - recall: 0.8255 - val_loss: 3.3980 - val_accuracy: 0.2308 - val_precision: 0.8462 - val_recall: 0.9483\n",
            "Epoch 5/40\n",
            "10/10 [==============================] - 0s 7ms/step - loss: 1.3375 - accuracy: 0.2056 - precision: 0.8912 - recall: 0.8619 - val_loss: 3.0370 - val_accuracy: 0.1758 - val_precision: 0.8475 - val_recall: 0.8621\n",
            "Epoch 6/40\n",
            "10/10 [==============================] - 0s 7ms/step - loss: 1.2362 - accuracy: 0.1853 - precision: 0.9036 - recall: 0.8505 - val_loss: 3.1448 - val_accuracy: 0.1978 - val_precision: 0.8525 - val_recall: 0.8966\n",
            "Epoch 7/40\n",
            "10/10 [==============================] - 0s 7ms/step - loss: 1.5102 - accuracy: 0.1864 - precision: 0.8923 - recall: 0.8699 - val_loss: 2.9479 - val_accuracy: 0.1209 - val_precision: 0.8679 - val_recall: 0.7931\n",
            "Epoch 8/40\n",
            "10/10 [==============================] - 0s 7ms/step - loss: 1.2227 - accuracy: 0.2329 - precision: 0.9145 - recall: 0.8446 - val_loss: 3.1221 - val_accuracy: 0.0879 - val_precision: 0.8723 - val_recall: 0.7069\n",
            "Epoch 9/40\n",
            "10/10 [==============================] - 0s 7ms/step - loss: 1.2654 - accuracy: 0.1881 - precision: 0.9142 - recall: 0.8513 - val_loss: 3.2891 - val_accuracy: 0.2198 - val_precision: 0.8462 - val_recall: 0.9483\n",
            "Epoch 10/40\n",
            "10/10 [==============================] - 0s 7ms/step - loss: 1.5322 - accuracy: 0.2249 - precision: 0.8843 - recall: 0.8991 - val_loss: 4.4148 - val_accuracy: 0.4286 - val_precision: 0.8056 - val_recall: 1.0000\n",
            "Epoch 11/40\n",
            "10/10 [==============================] - 0s 7ms/step - loss: 1.4013 - accuracy: 0.3318 - precision: 0.8936 - recall: 0.9156 - val_loss: 3.7766 - val_accuracy: 0.0769 - val_precision: 0.9143 - val_recall: 0.5517\n",
            "Epoch 12/40\n",
            "10/10 [==============================] - 0s 7ms/step - loss: 2.0780 - accuracy: 0.1910 - precision: 0.9366 - recall: 0.7101 - val_loss: 2.8151 - val_accuracy: 0.1648 - val_precision: 0.8621 - val_recall: 0.8621\n",
            "Epoch 13/40\n",
            "10/10 [==============================] - 0s 7ms/step - loss: 1.2757 - accuracy: 0.2147 - precision: 0.8747 - recall: 0.8387 - val_loss: 5.6541 - val_accuracy: 0.5385 - val_precision: 0.7532 - val_recall: 1.0000\n",
            "Epoch 14/40\n",
            "10/10 [==============================] - 0s 7ms/step - loss: 2.6461 - accuracy: 0.3881 - precision: 0.8329 - recall: 0.9228 - val_loss: 4.6200 - val_accuracy: 0.4505 - val_precision: 0.7838 - val_recall: 1.0000\n",
            "Epoch 15/40\n",
            "10/10 [==============================] - 0s 7ms/step - loss: 1.2581 - accuracy: 0.3656 - precision: 0.8737 - recall: 0.9399 - val_loss: 3.4687 - val_accuracy: 0.2747 - val_precision: 0.8235 - val_recall: 0.9655\n",
            "Epoch 16/40\n",
            "10/10 [==============================] - 0s 6ms/step - loss: 1.5630 - accuracy: 0.3097 - precision: 0.8717 - recall: 0.9202 - val_loss: 4.1806 - val_accuracy: 0.4176 - val_precision: 0.7945 - val_recall: 1.0000\n",
            "Epoch 17/40\n",
            "10/10 [==============================] - 0s 6ms/step - loss: 1.6176 - accuracy: 0.3518 - precision: 0.8667 - recall: 0.8850 - val_loss: 3.2158 - val_accuracy: 0.2418 - val_precision: 0.8333 - val_recall: 0.9483\n",
            "Epoch 18/40\n",
            "10/10 [==============================] - 0s 8ms/step - loss: 0.9573 - accuracy: 0.2483 - precision: 0.9165 - recall: 0.9095 - val_loss: 3.5685 - val_accuracy: 0.3077 - val_precision: 0.8261 - val_recall: 0.9828\n",
            "Epoch 19/40\n",
            "10/10 [==============================] - 0s 8ms/step - loss: 1.3505 - accuracy: 0.2768 - precision: 0.8692 - recall: 0.9079 - val_loss: 2.7953 - val_accuracy: 0.1868 - val_precision: 0.8387 - val_recall: 0.8966\n",
            "Epoch 20/40\n",
            "10/10 [==============================] - 0s 7ms/step - loss: 1.3266 - accuracy: 0.1903 - precision: 0.8808 - recall: 0.8907 - val_loss: 3.0105 - val_accuracy: 0.2198 - val_precision: 0.8462 - val_recall: 0.9483\n",
            "Epoch 21/40\n",
            "10/10 [==============================] - 0s 7ms/step - loss: 1.2541 - accuracy: 0.1924 - precision: 0.8705 - recall: 0.8733 - val_loss: 2.5933 - val_accuracy: 0.1648 - val_precision: 0.8621 - val_recall: 0.8621\n",
            "Epoch 22/40\n",
            "10/10 [==============================] - 0s 7ms/step - loss: 1.2573 - accuracy: 0.1921 - precision: 0.9091 - recall: 0.8580 - val_loss: 2.6826 - val_accuracy: 0.0989 - val_precision: 0.8542 - val_recall: 0.7069\n",
            "Epoch 23/40\n",
            "10/10 [==============================] - 0s 8ms/step - loss: 1.3393 - accuracy: 0.1889 - precision: 0.9321 - recall: 0.8415 - val_loss: 5.2104 - val_accuracy: 0.5165 - val_precision: 0.7532 - val_recall: 1.0000\n",
            "Epoch 24/40\n",
            "10/10 [==============================] - 0s 7ms/step - loss: 2.2118 - accuracy: 0.3353 - precision: 0.8132 - recall: 0.9022 - val_loss: 2.5459 - val_accuracy: 0.1209 - val_precision: 0.8704 - val_recall: 0.8103\n",
            "Epoch 25/40\n",
            "10/10 [==============================] - 0s 7ms/step - loss: 1.2696 - accuracy: 0.1662 - precision: 0.8891 - recall: 0.8300 - val_loss: 5.2951 - val_accuracy: 0.5165 - val_precision: 0.7532 - val_recall: 1.0000\n",
            "Epoch 26/40\n",
            "10/10 [==============================] - 0s 6ms/step - loss: 2.2625 - accuracy: 0.3494 - precision: 0.8073 - recall: 0.9207 - val_loss: 2.6785 - val_accuracy: 0.1758 - val_precision: 0.8413 - val_recall: 0.9138\n",
            "Epoch 27/40\n",
            "10/10 [==============================] - 0s 6ms/step - loss: 1.1504 - accuracy: 0.1797 - precision: 0.8785 - recall: 0.8945 - val_loss: 2.4994 - val_accuracy: 0.1648 - val_precision: 0.8621 - val_recall: 0.8621\n",
            "Epoch 28/40\n",
            "10/10 [==============================] - 0s 7ms/step - loss: 1.7561 - accuracy: 0.2384 - precision: 0.8692 - recall: 0.8332 - val_loss: 5.3544 - val_accuracy: 0.5275 - val_precision: 0.7532 - val_recall: 1.0000\n",
            "Epoch 29/40\n",
            "10/10 [==============================] - 0s 7ms/step - loss: 1.7932 - accuracy: 0.3504 - precision: 0.8772 - recall: 0.9391 - val_loss: 2.5414 - val_accuracy: 0.1648 - val_precision: 0.8644 - val_recall: 0.8793\n",
            "Epoch 30/40\n",
            "10/10 [==============================] - 0s 7ms/step - loss: 1.1588 - accuracy: 0.1839 - precision: 0.9055 - recall: 0.8974 - val_loss: 2.7109 - val_accuracy: 0.1868 - val_precision: 0.8438 - val_recall: 0.9310\n",
            "Epoch 31/40\n",
            "10/10 [==============================] - 0s 7ms/step - loss: 0.9839 - accuracy: 0.2595 - precision: 0.9263 - recall: 0.9126 - val_loss: 2.4302 - val_accuracy: 0.1648 - val_precision: 0.8596 - val_recall: 0.8448\n",
            "Epoch 32/40\n",
            "10/10 [==============================] - 0s 8ms/step - loss: 1.0333 - accuracy: 0.1802 - precision: 0.9055 - recall: 0.8693 - val_loss: 2.4611 - val_accuracy: 0.1648 - val_precision: 0.8621 - val_recall: 0.8621\n",
            "Epoch 33/40\n",
            "10/10 [==============================] - 0s 7ms/step - loss: 1.1155 - accuracy: 0.1992 - precision: 0.9011 - recall: 0.8690 - val_loss: 2.7675 - val_accuracy: 0.1978 - val_precision: 0.8462 - val_recall: 0.9483\n",
            "Epoch 34/40\n",
            "10/10 [==============================] - 0s 7ms/step - loss: 1.2090 - accuracy: 0.1827 - precision: 0.8947 - recall: 0.8916 - val_loss: 2.7488 - val_accuracy: 0.1978 - val_precision: 0.8462 - val_recall: 0.9483\n",
            "Epoch 35/40\n",
            "10/10 [==============================] - 0s 7ms/step - loss: 1.1504 - accuracy: 0.2014 - precision: 0.9097 - recall: 0.8930 - val_loss: 2.4749 - val_accuracy: 0.0879 - val_precision: 0.8511 - val_recall: 0.6897\n",
            "Epoch 36/40\n",
            "10/10 [==============================] - 0s 8ms/step - loss: 1.0928 - accuracy: 0.1758 - precision: 0.9037 - recall: 0.8033 - val_loss: 2.8655 - val_accuracy: 0.2198 - val_precision: 0.8235 - val_recall: 0.9655\n",
            "Epoch 37/40\n",
            "10/10 [==============================] - 0s 8ms/step - loss: 0.9137 - accuracy: 0.2206 - precision: 0.9004 - recall: 0.9304 - val_loss: 2.3562 - val_accuracy: 0.1538 - val_precision: 0.8621 - val_recall: 0.8621\n",
            "Epoch 38/40\n",
            "10/10 [==============================] - 0s 7ms/step - loss: 0.9159 - accuracy: 0.1831 - precision: 0.9221 - recall: 0.8821 - val_loss: 2.6362 - val_accuracy: 0.0769 - val_precision: 0.8837 - val_recall: 0.6552\n",
            "Epoch 39/40\n",
            "10/10 [==============================] - 0s 8ms/step - loss: 1.6823 - accuracy: 0.2078 - precision: 0.8996 - recall: 0.7377 - val_loss: 2.2959 - val_accuracy: 0.1099 - val_precision: 0.8654 - val_recall: 0.7759\n",
            "Epoch 40/40\n",
            "10/10 [==============================] - 0s 6ms/step - loss: 1.4686 - accuracy: 0.1841 - precision: 0.8926 - recall: 0.8082 - val_loss: 4.7613 - val_accuracy: 0.4945 - val_precision: 0.7532 - val_recall: 1.0000\n"
          ],
          "name": "stdout"
        }
      ]
    },
    {
      "cell_type": "code",
      "metadata": {
        "colab": {
          "base_uri": "https://localhost:8080/"
        },
        "id": "ahpahNKrQn-k",
        "outputId": "c17b337f-e002-4b20-d08b-3558f9ed071b"
      },
      "source": [
        "# definieren sklearn model\n",
        "from sklearn.linear_model import LogisticRegression\n",
        "LogReg = LogisticRegression().fit(x_train,y_train)"
      ],
      "execution_count": 202,
      "outputs": [
        {
          "output_type": "stream",
          "text": [
            "/usr/local/lib/python3.7/dist-packages/sklearn/linear_model/_logistic.py:940: ConvergenceWarning: lbfgs failed to converge (status=1):\n",
            "STOP: TOTAL NO. of ITERATIONS REACHED LIMIT.\n",
            "\n",
            "Increase the number of iterations (max_iter) or scale the data as shown in:\n",
            "    https://scikit-learn.org/stable/modules/preprocessing.html\n",
            "Please also refer to the documentation for alternative solver options:\n",
            "    https://scikit-learn.org/stable/modules/linear_model.html#logistic-regression\n",
            "  extra_warning_msg=_LOGISTIC_SOLVER_CONVERGENCE_MSG)\n"
          ],
          "name": "stderr"
        }
      ]
    },
    {
      "cell_type": "code",
      "metadata": {
        "colab": {
          "base_uri": "https://localhost:8080/"
        },
        "id": "kxHUxcP9SCLX",
        "outputId": "72b69919-0b6c-4e0f-ce4d-d68acc42426e"
      },
      "source": [
        "acc_DL = (np.array(tf.greater(regressie_model2.predict(x_test),.5)).flatten().astype('int') == y_test).sum()/y_test.shape[0]*100\n",
        "print('Accuracy of deep learning model is',acc_DL)\n",
        "acc_SK = (LogReg.predict(x_test)==y_test).sum()/y_test.shape[0]*100\n",
        "print('Accuracy of Logistic Regression model is',acc_SK)"
      ],
      "execution_count": 213,
      "outputs": [
        {
          "output_type": "stream",
          "text": [
            "Accuracy of deep learning model is 86.8421052631579\n",
            "Accuracy of Logistic Regression model is 96.49122807017544\n"
          ],
          "name": "stdout"
        }
      ]
    },
    {
      "cell_type": "markdown",
      "metadata": {
        "id": "SBvQQR6nvU_y"
      },
      "source": [
        "**Bonus: ensembling/stacking** Laten we kijken of we met stacking het bovenstaande deep learning model kunnen verslaan. Bij ensemblen trainen we in dit geval een netwerk met maar een laag, die de optimale combinatie van voorspelling zoekt van andere modellen. Doorloop de volgende 3 stappen:\n",
        "1. Train drie verschillende classificatiemodellen met sklearn, bijvoorbeeld randomforest, logistic regression en KNN\n",
        "2. Maak een nieuw numpy array met 3 kolommen, waar elke kolom de voorspellingen bevat van de drie sklearn modellen op de dataset x_train. \n",
        "3. Gebruik dit nieuwe dataframe als input voor een eenlaags neuraal netwerk met 1 neuron (zoals we bij opdracht een hadden ontworpen). De labels blijven natuurlijk y_train. \n",
        "\n",
        "Gefeliciteerd je hebt nu een ensemble model getraind! Om te testen of dit model beter werkt dan je deep learning model moet je nog 2 stappen doorlopen.\n",
        "\n",
        "i. Maak een nieuw dataframe met 3 kolommen, waar elke kolom de voorspellingen bevat van de drie sklearn modellen op de dataset x_test.\n",
        "\n",
        "ii. Doe model.predict op deze nieuwe dataset en bereken handmatig de loss en metrieken. \n",
        "\n",
        "*Nota bene: je kan de resultaten nog verder verbeteren door 4 modellen te ensemblen, waarvan het vierde model je deep learning model uit opdracht 3 is*"
      ]
    },
    {
      "cell_type": "code",
      "metadata": {
        "id": "yIca6LiuvVGS"
      },
      "source": [
        "from sklearn.ensemble import RandomForestClassifier\n",
        "from sklearn.neighbors import KNeighborsClassifier\n",
        "\n",
        "RF = RandomForestClassifier().fit(x_train,y_train)\n",
        "KNN = KNeighborsClassifier(n_neighbors=3).fit(x_train,y_train)\n",
        "\n",
        "ensemble_train = np.transpose(np.array([LogReg.predict(x_train),RF.predict(x_train),KNN.predict(x_train)]))"
      ],
      "execution_count": 224,
      "outputs": []
    },
    {
      "cell_type": "code",
      "metadata": {
        "colab": {
          "base_uri": "https://localhost:8080/"
        },
        "id": "wk3AOEB2UxCA",
        "outputId": "6783ac08-ca52-4b9c-edc2-92cf269b4534"
      },
      "source": [
        "ensembler = models.Sequential()\n",
        "ensembler.add(layers.Input(shape=(3)))\n",
        "ensembler.add(layers.Dense(units=1, activation='sigmoid'))\n",
        "\n",
        "ensembler.compile(optimizer=SGD(1e-2,0.7),\n",
        "                        loss='binary_crossentropy',\n",
        "                        metrics=['Accuracy','Precision','Recall']\n",
        ")\n",
        "                  \n",
        "ensembler_history = ensembler.fit(x=ensemble_train,\n",
        "                    y=y_train,\n",
        "                    batch_size=40,\n",
        "                    epochs=40,\n",
        "                     validation_split=0.2)"
      ],
      "execution_count": 228,
      "outputs": [
        {
          "output_type": "stream",
          "text": [
            "Epoch 1/40\n",
            "10/10 [==============================] - 1s 46ms/step - loss: 0.6837 - accuracy: 0.0000e+00 - precision: 0.5403 - recall: 0.4260 - val_loss: 0.6288 - val_accuracy: 0.0000e+00 - val_precision: 0.6744 - val_recall: 1.0000\n",
            "Epoch 2/40\n",
            "10/10 [==============================] - 0s 7ms/step - loss: 0.6137 - accuracy: 0.0000e+00 - precision: 0.6393 - recall: 1.0000 - val_loss: 0.5678 - val_accuracy: 0.0000e+00 - val_precision: 0.6374 - val_recall: 1.0000\n",
            "Epoch 3/40\n",
            "10/10 [==============================] - 0s 6ms/step - loss: 0.5525 - accuracy: 0.0000e+00 - precision: 0.6475 - recall: 1.0000 - val_loss: 0.5254 - val_accuracy: 0.0000e+00 - val_precision: 0.6374 - val_recall: 1.0000\n",
            "Epoch 4/40\n",
            "10/10 [==============================] - 0s 7ms/step - loss: 0.5258 - accuracy: 0.0000e+00 - precision: 0.5978 - recall: 1.0000 - val_loss: 0.4939 - val_accuracy: 0.0000e+00 - val_precision: 0.6374 - val_recall: 1.0000\n",
            "Epoch 5/40\n",
            "10/10 [==============================] - 0s 7ms/step - loss: 0.4831 - accuracy: 0.0000e+00 - precision: 0.6317 - recall: 1.0000 - val_loss: 0.4700 - val_accuracy: 0.0000e+00 - val_precision: 0.6374 - val_recall: 1.0000\n",
            "Epoch 6/40\n",
            "10/10 [==============================] - 0s 8ms/step - loss: 0.4658 - accuracy: 0.0000e+00 - precision: 0.6168 - recall: 1.0000 - val_loss: 0.4513 - val_accuracy: 0.0000e+00 - val_precision: 0.6374 - val_recall: 1.0000\n",
            "Epoch 7/40\n",
            "10/10 [==============================] - 0s 7ms/step - loss: 0.4293 - accuracy: 0.0000e+00 - precision: 0.6535 - recall: 1.0000 - val_loss: 0.4347 - val_accuracy: 0.0000e+00 - val_precision: 0.6374 - val_recall: 1.0000\n",
            "Epoch 8/40\n",
            "10/10 [==============================] - 0s 8ms/step - loss: 0.4216 - accuracy: 0.0000e+00 - precision: 0.6412 - recall: 1.0000 - val_loss: 0.4209 - val_accuracy: 0.0000e+00 - val_precision: 0.6374 - val_recall: 1.0000\n",
            "Epoch 9/40\n",
            "10/10 [==============================] - 0s 7ms/step - loss: 0.4179 - accuracy: 0.0000e+00 - precision: 0.7561 - recall: 1.0000 - val_loss: 0.4087 - val_accuracy: 0.0000e+00 - val_precision: 0.8788 - val_recall: 1.0000\n",
            "Epoch 10/40\n",
            "10/10 [==============================] - 0s 7ms/step - loss: 0.4080 - accuracy: 0.0000e+00 - precision: 0.9229 - recall: 1.0000 - val_loss: 0.3980 - val_accuracy: 0.0000e+00 - val_precision: 0.8788 - val_recall: 1.0000\n",
            "Epoch 11/40\n",
            "10/10 [==============================] - 0s 6ms/step - loss: 0.3872 - accuracy: 0.0000e+00 - precision: 0.9440 - recall: 1.0000 - val_loss: 0.3877 - val_accuracy: 0.0000e+00 - val_precision: 0.8788 - val_recall: 1.0000\n",
            "Epoch 12/40\n",
            "10/10 [==============================] - 0s 7ms/step - loss: 0.3765 - accuracy: 0.0000e+00 - precision: 0.9557 - recall: 1.0000 - val_loss: 0.3781 - val_accuracy: 0.0000e+00 - val_precision: 0.8788 - val_recall: 1.0000\n",
            "Epoch 13/40\n",
            "10/10 [==============================] - 0s 7ms/step - loss: 0.3740 - accuracy: 0.0000e+00 - precision: 0.9350 - recall: 1.0000 - val_loss: 0.3694 - val_accuracy: 0.0000e+00 - val_precision: 0.8788 - val_recall: 1.0000\n",
            "Epoch 14/40\n",
            "10/10 [==============================] - 0s 7ms/step - loss: 0.3633 - accuracy: 0.0000e+00 - precision: 0.9293 - recall: 1.0000 - val_loss: 0.3613 - val_accuracy: 0.0000e+00 - val_precision: 0.8788 - val_recall: 1.0000\n",
            "Epoch 15/40\n",
            "10/10 [==============================] - 0s 6ms/step - loss: 0.3476 - accuracy: 0.0000e+00 - precision: 0.9311 - recall: 1.0000 - val_loss: 0.3537 - val_accuracy: 0.0000e+00 - val_precision: 0.8788 - val_recall: 1.0000\n",
            "Epoch 16/40\n",
            "10/10 [==============================] - 0s 8ms/step - loss: 0.3259 - accuracy: 0.0000e+00 - precision: 0.9458 - recall: 1.0000 - val_loss: 0.3467 - val_accuracy: 0.0000e+00 - val_precision: 0.8788 - val_recall: 1.0000\n",
            "Epoch 17/40\n",
            "10/10 [==============================] - 0s 7ms/step - loss: 0.3298 - accuracy: 0.0000e+00 - precision: 0.9514 - recall: 1.0000 - val_loss: 0.3400 - val_accuracy: 0.0000e+00 - val_precision: 0.8788 - val_recall: 1.0000\n",
            "Epoch 18/40\n",
            "10/10 [==============================] - 0s 7ms/step - loss: 0.3417 - accuracy: 0.0000e+00 - precision: 0.9290 - recall: 1.0000 - val_loss: 0.3333 - val_accuracy: 0.0000e+00 - val_precision: 0.8788 - val_recall: 1.0000\n",
            "Epoch 19/40\n",
            "10/10 [==============================] - 0s 7ms/step - loss: 0.3168 - accuracy: 0.0000e+00 - precision: 0.9334 - recall: 1.0000 - val_loss: 0.3268 - val_accuracy: 0.0000e+00 - val_precision: 0.8788 - val_recall: 1.0000\n",
            "Epoch 20/40\n",
            "10/10 [==============================] - 0s 7ms/step - loss: 0.3107 - accuracy: 0.0000e+00 - precision: 0.9421 - recall: 1.0000 - val_loss: 0.3208 - val_accuracy: 0.0000e+00 - val_precision: 0.8788 - val_recall: 1.0000\n",
            "Epoch 21/40\n",
            "10/10 [==============================] - 0s 6ms/step - loss: 0.3120 - accuracy: 0.0000e+00 - precision: 0.9216 - recall: 1.0000 - val_loss: 0.3151 - val_accuracy: 0.0000e+00 - val_precision: 0.8788 - val_recall: 1.0000\n",
            "Epoch 22/40\n",
            "10/10 [==============================] - 0s 7ms/step - loss: 0.3046 - accuracy: 0.0000e+00 - precision: 0.9366 - recall: 1.0000 - val_loss: 0.3092 - val_accuracy: 0.0000e+00 - val_precision: 0.8788 - val_recall: 1.0000\n",
            "Epoch 23/40\n",
            "10/10 [==============================] - 0s 7ms/step - loss: 0.3059 - accuracy: 0.0000e+00 - precision: 0.9254 - recall: 1.0000 - val_loss: 0.3037 - val_accuracy: 0.0000e+00 - val_precision: 0.8788 - val_recall: 1.0000\n",
            "Epoch 24/40\n",
            "10/10 [==============================] - 0s 6ms/step - loss: 0.2841 - accuracy: 0.0000e+00 - precision: 0.9380 - recall: 1.0000 - val_loss: 0.2982 - val_accuracy: 0.0000e+00 - val_precision: 0.8788 - val_recall: 1.0000\n",
            "Epoch 25/40\n",
            "10/10 [==============================] - 0s 8ms/step - loss: 0.2765 - accuracy: 0.0000e+00 - precision: 0.9495 - recall: 1.0000 - val_loss: 0.2932 - val_accuracy: 0.0000e+00 - val_precision: 0.8788 - val_recall: 1.0000\n",
            "Epoch 26/40\n",
            "10/10 [==============================] - 0s 6ms/step - loss: 0.2829 - accuracy: 0.0000e+00 - precision: 0.9490 - recall: 1.0000 - val_loss: 0.2882 - val_accuracy: 0.0000e+00 - val_precision: 0.8788 - val_recall: 1.0000\n",
            "Epoch 27/40\n",
            "10/10 [==============================] - 0s 6ms/step - loss: 0.2655 - accuracy: 0.0000e+00 - precision: 0.9554 - recall: 1.0000 - val_loss: 0.2832 - val_accuracy: 0.0000e+00 - val_precision: 0.8788 - val_recall: 1.0000\n",
            "Epoch 28/40\n",
            "10/10 [==============================] - 0s 7ms/step - loss: 0.2548 - accuracy: 0.0000e+00 - precision: 0.9513 - recall: 1.0000 - val_loss: 0.2785 - val_accuracy: 0.0000e+00 - val_precision: 0.8788 - val_recall: 1.0000\n",
            "Epoch 29/40\n",
            "10/10 [==============================] - 0s 7ms/step - loss: 0.2725 - accuracy: 0.0000e+00 - precision: 0.9242 - recall: 1.0000 - val_loss: 0.2740 - val_accuracy: 0.0000e+00 - val_precision: 0.8788 - val_recall: 1.0000\n",
            "Epoch 30/40\n",
            "10/10 [==============================] - 0s 8ms/step - loss: 0.2603 - accuracy: 0.0000e+00 - precision: 0.9385 - recall: 1.0000 - val_loss: 0.2698 - val_accuracy: 0.0000e+00 - val_precision: 0.8788 - val_recall: 1.0000\n",
            "Epoch 31/40\n",
            "10/10 [==============================] - 0s 7ms/step - loss: 0.2552 - accuracy: 0.0000e+00 - precision: 0.9461 - recall: 1.0000 - val_loss: 0.2657 - val_accuracy: 0.0000e+00 - val_precision: 0.8788 - val_recall: 1.0000\n",
            "Epoch 32/40\n",
            "10/10 [==============================] - 0s 7ms/step - loss: 0.2467 - accuracy: 0.0000e+00 - precision: 0.9357 - recall: 1.0000 - val_loss: 0.2615 - val_accuracy: 0.0000e+00 - val_precision: 0.8788 - val_recall: 1.0000\n",
            "Epoch 33/40\n",
            "10/10 [==============================] - 0s 7ms/step - loss: 0.2428 - accuracy: 0.0000e+00 - precision: 0.9342 - recall: 1.0000 - val_loss: 0.2574 - val_accuracy: 0.0000e+00 - val_precision: 0.8788 - val_recall: 1.0000\n",
            "Epoch 34/40\n",
            "10/10 [==============================] - 0s 7ms/step - loss: 0.2346 - accuracy: 0.0000e+00 - precision: 0.9392 - recall: 1.0000 - val_loss: 0.2533 - val_accuracy: 0.0000e+00 - val_precision: 0.8788 - val_recall: 1.0000\n",
            "Epoch 35/40\n",
            "10/10 [==============================] - 0s 7ms/step - loss: 0.2313 - accuracy: 0.0000e+00 - precision: 0.9413 - recall: 1.0000 - val_loss: 0.2493 - val_accuracy: 0.0000e+00 - val_precision: 0.8788 - val_recall: 1.0000\n",
            "Epoch 36/40\n",
            "10/10 [==============================] - 0s 6ms/step - loss: 0.2276 - accuracy: 0.0000e+00 - precision: 0.9428 - recall: 1.0000 - val_loss: 0.2457 - val_accuracy: 0.0000e+00 - val_precision: 0.8788 - val_recall: 1.0000\n",
            "Epoch 37/40\n",
            "10/10 [==============================] - 0s 6ms/step - loss: 0.2446 - accuracy: 0.0000e+00 - precision: 0.9220 - recall: 1.0000 - val_loss: 0.2423 - val_accuracy: 0.0000e+00 - val_precision: 0.8788 - val_recall: 1.0000\n",
            "Epoch 38/40\n",
            "10/10 [==============================] - 0s 7ms/step - loss: 0.2240 - accuracy: 0.0000e+00 - precision: 0.9440 - recall: 1.0000 - val_loss: 0.2390 - val_accuracy: 0.0000e+00 - val_precision: 0.8788 - val_recall: 1.0000\n",
            "Epoch 39/40\n",
            "10/10 [==============================] - 0s 8ms/step - loss: 0.2200 - accuracy: 0.0000e+00 - precision: 0.9352 - recall: 1.0000 - val_loss: 0.2358 - val_accuracy: 0.0000e+00 - val_precision: 0.8788 - val_recall: 1.0000\n",
            "Epoch 40/40\n",
            "10/10 [==============================] - 0s 7ms/step - loss: 0.2198 - accuracy: 0.0000e+00 - precision: 0.9498 - recall: 1.0000 - val_loss: 0.2326 - val_accuracy: 0.0000e+00 - val_precision: 0.9206 - val_recall: 1.0000\n"
          ],
          "name": "stdout"
        }
      ]
    },
    {
      "cell_type": "code",
      "metadata": {
        "colab": {
          "base_uri": "https://localhost:8080/"
        },
        "id": "0tjpfrg8WNTW",
        "outputId": "418104cb-bae6-4363-c118-3bda87b8188d"
      },
      "source": [
        "ensembler_test = np.transpose(np.array([LogReg.predict(x_test),RF.predict(x_test),KNN.predict(x_test)]))\n",
        "acc_DL = (np.array(tf.greater(ensembler.predict(ensembler_test),.5)).flatten().astype('int') == y_test).sum()/y_test.shape[0]*100\n",
        "print('Accuracy of ensembler model is',acc_DL)\n",
        "acc_LR = (LogReg.predict(x_test)==y_test).sum()/y_test.shape[0]*100\n",
        "print('Accuracy of Logistic Regression model is',acc_SK)\n",
        "acc_KNN = (KNN.predict(x_test)==y_test).sum()/y_test.shape[0]*100\n",
        "print('Accuracy of K-nearest neighbors model is',acc_SK)\n",
        "acc_RF = (RF.predict(x_test)==y_test).sum()/y_test.shape[0]*100\n",
        "print('Accuracy of Random Forest model is',acc_SK)"
      ],
      "execution_count": 229,
      "outputs": [
        {
          "output_type": "stream",
          "text": [
            "Accuracy of ensembler model is 96.49122807017544\n",
            "Accuracy of Logistic Regression model is 96.49122807017544\n",
            "Accuracy of K-nearest neighbors model is 96.49122807017544\n",
            "Accuracy of Random Forest model is 96.49122807017544\n"
          ],
          "name": "stdout"
        }
      ]
    }
  ]
}