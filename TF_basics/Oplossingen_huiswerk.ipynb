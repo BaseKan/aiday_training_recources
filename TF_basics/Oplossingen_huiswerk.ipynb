{
  "nbformat": 4,
  "nbformat_minor": 0,
  "metadata": {
    "colab": {
      "name": "Oplossingen_huiswerk.ipynb",
      "provenance": [],
      "authorship_tag": "ABX9TyO78V7Mf/sqTK/augZixbjZ",
      "include_colab_link": true
    },
    "kernelspec": {
      "name": "python3",
      "display_name": "Python 3"
    },
    "language_info": {
      "name": "python"
    }
  },
  "cells": [
    {
      "cell_type": "markdown",
      "metadata": {
        "id": "view-in-github",
        "colab_type": "text"
      },
      "source": [
        "<a href=\"https://colab.research.google.com/github/BaseKan/aiday_training_resources/blob/main/TF_basics/Oplossingen_huiswerk.ipynb\" target=\"_parent\"><img src=\"https://colab.research.google.com/assets/colab-badge.svg\" alt=\"Open In Colab\"/></a>"
      ]
    },
    {
      "cell_type": "code",
      "metadata": {
        "colab": {
          "base_uri": "https://localhost:8080/"
        },
        "id": "ZA-EvZMOuvSp",
        "outputId": "162b7e33-39a0-4369-81b7-c07b9a449ec0"
      },
      "source": [
        "import tensorflow as tf\n",
        "from tensorflow.keras import layers, models\n",
        "from tensorflow.keras.datasets import boston_housing\n",
        "from tensorflow.keras.utils import plot_model\n",
        "from tensorflow.keras.optimizers import SGD\n",
        "import numpy as np\n",
        "import matplotlib.pyplot as plt\n",
        "from sklearn.datasets import load_diabetes, load_breast_cancer\n",
        "from sklearn.model_selection import train_test_split\n",
        "from IPython.display import clear_output\n",
        "print(tf.__version__)"
      ],
      "execution_count": 30,
      "outputs": [
        {
          "output_type": "stream",
          "text": [
            "2.4.1\n"
          ],
          "name": "stdout"
        }
      ]
    },
    {
      "cell_type": "markdown",
      "metadata": {
        "id": "qrlqAU4ru70B"
      },
      "source": [
        "**Opdracht een & twee** Train een deep learning model op de Diabetes dataset (met maar een kolom) met maar een Dense laag met maar 1 neuron (unit). Train een lineair regressiemodel met sklearn. Maak daarna een scatterplot van de traindata met op de x-as de eerste kolom van de traindata en op de y-as de y_train. Voeg nu twee lijnen toe die met voorspelling van het sklearn model en het keras model."
      ]
    },
    {
      "cell_type": "code",
      "metadata": {
        "id": "d7bMjyluu6jP"
      },
      "source": [
        "# inladen data\n",
        "data = load_diabetes()\n",
        "x_train, x_test, y_train, y_test = train_test_split(data['data'],data['target'],test_size=0.2, random_state=42)\n",
        "\n",
        "# we houden voor deze opdracht enkel kolom drie\n",
        "x_train = x_train[:,2]\n",
        "x_test = x_test[:,2]\n",
        "\n",
        "# definieren model - gebruiken de alternatieve methode van definieren\n",
        "input = layers.Input(shape=(1,))\n",
        "dense = layers.Dense(1)\n",
        "output = dense(input)\n",
        "\n",
        "regressie_model = models.Model(input,output)\n",
        "\n",
        "# definieren sklearn model\n",
        "from sklearn.linear_model import LinearRegression\n",
        "lm = LinearRegression().fit(x_train.reshape(-1,1),y_train)\n",
        "y_SK = lm.predict(x_train.reshape(-1,1))"
      ],
      "execution_count": 31,
      "outputs": []
    },
    {
      "cell_type": "code",
      "metadata": {
        "colab": {
          "base_uri": "https://localhost:8080/",
          "height": 265
        },
        "id": "4HxvAwZQw3pD",
        "outputId": "ac9c9ef3-47b6-4379-bc94-964dad623ef0"
      },
      "source": [
        "# compilen model\n",
        "rate = 0.5\n",
        "rate_slow = 0.08\n",
        "epochs = 250\n",
        "def schedule(epoch, lr):\n",
        "  if epoch >= 50:\n",
        "    return rate_slow\n",
        "  return rate\n",
        " \n",
        "scheduler = tf.keras.callbacks.LearningRateScheduler(schedule)\n",
        "\n",
        "regressie_model.compile(optimizer=SGD(rate,0.9),\n",
        "                        loss='mse')\n",
        "\n",
        "# callback voor plot\n",
        "\n",
        "class Plot(tf.keras.callbacks.Callback):\n",
        "  def on_epoch_end(self, batch, logs={}):\n",
        "    clear_output(wait=True)\n",
        "    y_DL = regressie_model.predict(x_train)\n",
        "    plt.scatter(x_train,y_train)\n",
        "    plt.plot(x_train,y_DL, label='keras')\n",
        "    plt.plot(x_train,y_SK, label='sklearn')\n",
        "    plt.legend()\n",
        "    plt.show()\n",
        "\n",
        "\n",
        "# trainen model\n",
        "history = regressie_model.fit(x=x_train,\n",
        "                    y=y_train,\n",
        "                    batch_size=x_train.shape[0],\n",
        "                    epochs=epochs,\n",
        "                    callbacks=[scheduler,Plot()]\n",
        "                    )"
      ],
      "execution_count": 32,
      "outputs": [
        {
          "output_type": "display_data",
          "data": {
            "image/png": "[encoded data removed]",
            "text/plain": [
              "<Figure size 432x288 with 1 Axes>"
            ]
          },
          "metadata": {
            "tags": [],
            "needs_background": "light"
          }
        }
      ]
    },
    {
      "cell_type": "markdown",
      "metadata": {
        "id": "EUBvTRt7vUgs"
      },
      "source": [
        "**Opdracht drie** Gebruik nu alle diabetesdata en train een lineair regressiemodel. Train nu een deep learning model met betere validatie score. Vergelijke de MSE op de test set. "
      ]
    },
    {
      "cell_type": "code",
      "metadata": {
        "colab": {
          "base_uri": "https://localhost:8080/"
        },
        "id": "f3U3SxHPvUtt",
        "outputId": "c59968b6-3e6d-48f9-bff6-051fef1e4f15"
      },
      "source": [
        "# inladen data\n",
        "data = load_diabetes()\n",
        "x_train, x_test, y_train, y_test = train_test_split(data['data'],data['target'],test_size=0.2, random_state=42)\n",
        "\n",
        "# definieren model - gebruiken de alternatieve methode van definieren\n",
        "input = layers.Input(shape=(x_train.shape[1],))\n",
        "dense = layers.Dense(64)(input)\n",
        "dense1 = layers.Dense(32)(dense)\n",
        "output = layers.Dense(1)(dense1)\n",
        "\n",
        "regressie_model2 = models.Model(input,output)\n",
        "\n",
        "regressie_model2.compile(optimizer=SGD(5e-5,0.9),\n",
        "                        loss='mse')\n",
        "\n",
        "history2 = regressie_model2.fit(x=x_train,\n",
        "                    y=y_train,\n",
        "                    batch_size=40,\n",
        "                    epochs=40,\n",
        "                     validation_split=0.2)\n",
        "\n",
        "# definieren sklearn model\n",
        "from sklearn.linear_model import LinearRegression\n",
        "lm2 = LinearRegression().fit(x_train,y_train)"
      ],
      "execution_count": 33,
      "outputs": [
        {
          "output_type": "stream",
          "text": [
            "Epoch 1/40\n",
            "8/8 [==============================] - 0s 22ms/step - loss: 31466.9095 - val_loss: 21786.1094\n",
            "Epoch 2/40\n",
            "8/8 [==============================] - 0s 7ms/step - loss: 30450.6745 - val_loss: 16715.5254\n",
            "Epoch 3/40\n",
            "8/8 [==============================] - 0s 8ms/step - loss: 18753.0291 - val_loss: 19271.3105\n",
            "Epoch 4/40\n",
            "8/8 [==============================] - 0s 7ms/step - loss: 11429.6416 - val_loss: 5540.9536\n",
            "Epoch 5/40\n",
            "8/8 [==============================] - 0s 9ms/step - loss: 8814.9051 - val_loss: 4321.7031\n",
            "Epoch 6/40\n",
            "8/8 [==============================] - 0s 8ms/step - loss: 8764.7412 - val_loss: 5510.4775\n",
            "Epoch 7/40\n",
            "8/8 [==============================] - 0s 8ms/step - loss: 7176.9252 - val_loss: 4280.9629\n",
            "Epoch 8/40\n",
            "8/8 [==============================] - 0s 7ms/step - loss: 6581.7689 - val_loss: 5724.6885\n",
            "Epoch 9/40\n",
            "8/8 [==============================] - 0s 7ms/step - loss: 5071.5053 - val_loss: 3876.5503\n",
            "Epoch 10/40\n",
            "8/8 [==============================] - 0s 8ms/step - loss: 4570.6866 - val_loss: 3671.7170\n",
            "Epoch 11/40\n",
            "8/8 [==============================] - 0s 7ms/step - loss: 4685.9329 - val_loss: 4428.8701\n",
            "Epoch 12/40\n",
            "8/8 [==============================] - 0s 7ms/step - loss: 3764.9780 - val_loss: 3404.1941\n",
            "Epoch 13/40\n",
            "8/8 [==============================] - 0s 7ms/step - loss: 3553.3928 - val_loss: 3599.0881\n",
            "Epoch 14/40\n",
            "8/8 [==============================] - 0s 7ms/step - loss: 3573.0544 - val_loss: 3761.6865\n",
            "Epoch 15/40\n",
            "8/8 [==============================] - 0s 6ms/step - loss: 3596.5692 - val_loss: 3560.1504\n",
            "Epoch 16/40\n",
            "8/8 [==============================] - 0s 42ms/step - loss: 3305.9730 - val_loss: 4320.9741\n",
            "Epoch 17/40\n",
            "8/8 [==============================] - 0s 7ms/step - loss: 4101.7917 - val_loss: 5827.8984\n",
            "Epoch 18/40\n",
            "8/8 [==============================] - 0s 6ms/step - loss: 5212.2337 - val_loss: 4075.6277\n",
            "Epoch 19/40\n",
            "8/8 [==============================] - 0s 7ms/step - loss: 3452.6720 - val_loss: 3470.8672\n",
            "Epoch 20/40\n",
            "8/8 [==============================] - 0s 8ms/step - loss: 3905.8315 - val_loss: 3143.7361\n",
            "Epoch 21/40\n",
            "8/8 [==============================] - 0s 8ms/step - loss: 3405.6420 - val_loss: 3494.5125\n",
            "Epoch 22/40\n",
            "8/8 [==============================] - 0s 7ms/step - loss: 3562.0836 - val_loss: 3191.7456\n",
            "Epoch 23/40\n",
            "8/8 [==============================] - 0s 7ms/step - loss: 3742.8825 - val_loss: 6816.6274\n",
            "Epoch 24/40\n",
            "8/8 [==============================] - 0s 7ms/step - loss: 5118.8416 - val_loss: 3287.6216\n",
            "Epoch 25/40\n",
            "8/8 [==============================] - 0s 7ms/step - loss: 3270.2448 - val_loss: 3239.8767\n",
            "Epoch 26/40\n",
            "8/8 [==============================] - 0s 7ms/step - loss: 3230.1198 - val_loss: 3821.4089\n",
            "Epoch 27/40\n",
            "8/8 [==============================] - 0s 7ms/step - loss: 3387.4546 - val_loss: 3947.5071\n",
            "Epoch 28/40\n",
            "8/8 [==============================] - 0s 8ms/step - loss: 3110.5699 - val_loss: 3441.9514\n",
            "Epoch 29/40\n",
            "8/8 [==============================] - 0s 7ms/step - loss: 2940.1941 - val_loss: 3172.6807\n",
            "Epoch 30/40\n",
            "8/8 [==============================] - 0s 7ms/step - loss: 3006.4791 - val_loss: 3197.2695\n",
            "Epoch 31/40\n",
            "8/8 [==============================] - 0s 7ms/step - loss: 2985.6192 - val_loss: 3677.9568\n",
            "Epoch 32/40\n",
            "8/8 [==============================] - 0s 8ms/step - loss: 2901.0702 - val_loss: 3315.5876\n",
            "Epoch 33/40\n",
            "8/8 [==============================] - 0s 7ms/step - loss: 2896.9745 - val_loss: 3749.3010\n",
            "Epoch 34/40\n",
            "8/8 [==============================] - 0s 7ms/step - loss: 3247.5203 - val_loss: 5529.1733\n",
            "Epoch 35/40\n",
            "8/8 [==============================] - 0s 7ms/step - loss: 4083.4211 - val_loss: 3306.3855\n",
            "Epoch 36/40\n",
            "8/8 [==============================] - 0s 7ms/step - loss: 3276.4571 - val_loss: 3860.1350\n",
            "Epoch 37/40\n",
            "8/8 [==============================] - 0s 7ms/step - loss: 3587.0539 - val_loss: 5154.7837\n",
            "Epoch 38/40\n",
            "8/8 [==============================] - 0s 7ms/step - loss: 3227.3764 - val_loss: 3306.2380\n",
            "Epoch 39/40\n",
            "8/8 [==============================] - 0s 8ms/step - loss: 3040.3156 - val_loss: 3355.6194\n",
            "Epoch 40/40\n",
            "8/8 [==============================] - 0s 8ms/step - loss: 3311.5794 - val_loss: 3290.8877\n"
          ],
          "name": "stdout"
        }
      ]
    },
    {
      "cell_type": "code",
      "metadata": {
        "colab": {
          "base_uri": "https://localhost:8080/"
        },
        "id": "gzGku2miOwpW",
        "outputId": "8572a68a-8e26-44d0-9b19-01a0e4431f47"
      },
      "source": [
        "print('Linear regression test MSE', np.mean((regressie_model2.predict(x_test)-y_test)**2))\n",
        "print('Deep Learning test MSE',np.mean((lm2.predict(x_test)-y_test)**2))"
      ],
      "execution_count": 34,
      "outputs": [
        {
          "output_type": "stream",
          "text": [
            "Linear regression test MSE 8377.014415610753\n",
            "Deep Learning test MSE 2900.1732878832318\n"
          ],
          "name": "stdout"
        }
      ]
    },
    {
      "cell_type": "markdown",
      "metadata": {
        "id": "IcDGkcDYvU0D"
      },
      "source": [
        "**Opdracht vier** Ontwerp en train een meerlaags classificatiemodel op de breast cancer dataset. \n",
        "\n",
        "*   De activatie van je laatste laag moet voor binaire classificatie 'sigmoid' zijn (als er meer dan twee klassen waren geweest hadden we 'softmax' gebruikt)\n",
        "\n",
        "*   Als loss kan je 'binary_crossentropy' gebruiken\n",
        "\n",
        "Er zijn veel metrieken die je kan bekijken, bijvoorbeeld: precision, accuracy, recall, etc. "
      ]
    },
    {
      "cell_type": "code",
      "metadata": {
        "id": "QAt2b6hfvU5p"
      },
      "source": [
        "# inladen data\n",
        "data = load_breast_cancer()\n",
        "x_train, x_test, y_train, y_test = train_test_split(data['data'],data['target'],test_size=0.2, random_state=42)\n",
        "\n",
        "# definieren model - gebruiken de alternatieve methode van definieren\n",
        "input = layers.Input(shape=(x_train.shape[1],))\n",
        "dense = layers.Dense(64)(input)\n",
        "dense1 = layers.Dense(32)(dense)\n",
        "output = layers.Dense(1,activation='sigmoid')(dense1)\n",
        "\n",
        "logregressie_model = models.Model(input,output)"
      ],
      "execution_count": 48,
      "outputs": []
    },
    {
      "cell_type": "code",
      "metadata": {
        "colab": {
          "base_uri": "https://localhost:8080/"
        },
        "id": "u3F_B5SkRa77",
        "outputId": "20c479e6-b686-4572-9ab5-fd14c84518fb"
      },
      "source": [
        "logregressie_model.compile(optimizer=SGD(1e-4,0.7),\n",
        "                        loss='binary_crossentropy',\n",
        "                        metrics=['Precision','Recall']\n",
        ")\n",
        "\n",
        "history2 = logregressie_model.fit(x=x_train,\n",
        "                    y=y_train,\n",
        "                    batch_size=40,\n",
        "                    epochs=100,\n",
        "                     validation_split=0.2)"
      ],
      "execution_count": 49,
      "outputs": [
        {
          "output_type": "stream",
          "text": [
            "Epoch 1/100\n",
            "10/10 [==============================] - 1s 76ms/step - loss: 82.9590 - precision: 0.6441 - recall: 0.5143 - val_loss: 100.5439 - val_precision: 0.6374 - val_recall: 1.0000\n",
            "Epoch 2/100\n",
            "10/10 [==============================] - 0s 6ms/step - loss: 61.7012 - precision: 0.6693 - recall: 0.6476 - val_loss: 51.7719 - val_precision: 0.6374 - val_recall: 1.0000\n",
            "Epoch 3/100\n",
            "10/10 [==============================] - 0s 7ms/step - loss: 23.2457 - precision: 0.6955 - recall: 0.6843 - val_loss: 24.8472 - val_precision: 0.6667 - val_recall: 1.0000\n",
            "Epoch 4/100\n",
            "10/10 [==============================] - 0s 6ms/step - loss: 10.8151 - precision: 0.7279 - recall: 0.6374 - val_loss: 24.3497 - val_precision: 0.6667 - val_recall: 1.0000\n",
            "Epoch 5/100\n",
            "10/10 [==============================] - 0s 6ms/step - loss: 9.8133 - precision: 0.7653 - recall: 0.7248 - val_loss: 8.6325 - val_precision: 0.7342 - val_recall: 1.0000\n",
            "Epoch 6/100\n",
            "10/10 [==============================] - 0s 6ms/step - loss: 4.9332 - precision: 0.8309 - recall: 0.7938 - val_loss: 13.0614 - val_precision: 0.7160 - val_recall: 1.0000\n",
            "Epoch 7/100\n",
            "10/10 [==============================] - 0s 6ms/step - loss: 4.8806 - precision: 0.7866 - recall: 0.7484 - val_loss: 7.1299 - val_precision: 0.7532 - val_recall: 1.0000\n",
            "Epoch 8/100\n",
            "10/10 [==============================] - 0s 6ms/step - loss: 2.0907 - precision: 0.8994 - recall: 0.9087 - val_loss: 5.3904 - val_precision: 0.7838 - val_recall: 1.0000\n",
            "Epoch 9/100\n",
            "10/10 [==============================] - 0s 7ms/step - loss: 2.3979 - precision: 0.8735 - recall: 0.9094 - val_loss: 2.9295 - val_precision: 0.8507 - val_recall: 0.9828\n",
            "Epoch 10/100\n",
            "10/10 [==============================] - 0s 8ms/step - loss: 1.2907 - precision: 0.8980 - recall: 0.9073 - val_loss: 4.5772 - val_precision: 1.0000 - val_recall: 0.3621\n",
            "Epoch 11/100\n",
            "10/10 [==============================] - 0s 7ms/step - loss: 2.5941 - precision: 0.9076 - recall: 0.7303 - val_loss: 1.9957 - val_precision: 0.9268 - val_recall: 0.6552\n",
            "Epoch 12/100\n",
            "10/10 [==============================] - 0s 6ms/step - loss: 1.2278 - precision: 0.9331 - recall: 0.8475 - val_loss: 8.1663 - val_precision: 1.0000 - val_recall: 0.1379\n",
            "Epoch 13/100\n",
            "10/10 [==============================] - 0s 6ms/step - loss: 3.8830 - precision: 0.9154 - recall: 0.6556 - val_loss: 1.3258 - val_precision: 0.8615 - val_recall: 0.9655\n",
            "Epoch 14/100\n",
            "10/10 [==============================] - 0s 6ms/step - loss: 1.1814 - precision: 0.9149 - recall: 0.8952 - val_loss: 3.0928 - val_precision: 1.0000 - val_recall: 0.4310\n",
            "Epoch 15/100\n",
            "10/10 [==============================] - 0s 6ms/step - loss: 1.6920 - precision: 0.9418 - recall: 0.8070 - val_loss: 0.9468 - val_precision: 0.8889 - val_recall: 0.8276\n",
            "Epoch 16/100\n",
            "10/10 [==============================] - 0s 6ms/step - loss: 1.1372 - precision: 0.9097 - recall: 0.8708 - val_loss: 2.7138 - val_precision: 0.8056 - val_recall: 1.0000\n",
            "Epoch 17/100\n",
            "10/10 [==============================] - 0s 6ms/step - loss: 1.9405 - precision: 0.8706 - recall: 0.8915 - val_loss: 7.2541 - val_precision: 0.7160 - val_recall: 1.0000\n",
            "Epoch 18/100\n",
            "10/10 [==============================] - 0s 6ms/step - loss: 2.2120 - precision: 0.8443 - recall: 0.9303 - val_loss: 5.5131 - val_precision: 1.0000 - val_recall: 0.2586\n",
            "Epoch 19/100\n",
            "10/10 [==============================] - 0s 6ms/step - loss: 1.8561 - precision: 0.9374 - recall: 0.7499 - val_loss: 1.1072 - val_precision: 0.9149 - val_recall: 0.7414\n",
            "Epoch 20/100\n",
            "10/10 [==============================] - 0s 6ms/step - loss: 1.3580 - precision: 0.9116 - recall: 0.7936 - val_loss: 0.8474 - val_precision: 0.8750 - val_recall: 0.9655\n",
            "Epoch 21/100\n",
            "10/10 [==============================] - 0s 7ms/step - loss: 0.8427 - precision: 0.8980 - recall: 0.8936 - val_loss: 0.7848 - val_precision: 0.8889 - val_recall: 0.9655\n",
            "Epoch 22/100\n",
            "10/10 [==============================] - 0s 7ms/step - loss: 0.6960 - precision: 0.9168 - recall: 0.9171 - val_loss: 0.7311 - val_precision: 0.9107 - val_recall: 0.8793\n",
            "Epoch 23/100\n",
            "10/10 [==============================] - 0s 8ms/step - loss: 0.8340 - precision: 0.9220 - recall: 0.8935 - val_loss: 0.6815 - val_precision: 0.9138 - val_recall: 0.9138\n",
            "Epoch 24/100\n",
            "10/10 [==============================] - 0s 6ms/step - loss: 0.8500 - precision: 0.9025 - recall: 0.8927 - val_loss: 0.6634 - val_precision: 0.9138 - val_recall: 0.9138\n",
            "Epoch 25/100\n",
            "10/10 [==============================] - 0s 6ms/step - loss: 0.7264 - precision: 0.9179 - recall: 0.9070 - val_loss: 10.2044 - val_precision: 1.0000 - val_recall: 0.0517\n",
            "Epoch 26/100\n",
            "10/10 [==============================] - 0s 7ms/step - loss: 6.4395 - precision: 0.8812 - recall: 0.4957 - val_loss: 0.9056 - val_precision: 0.8615 - val_recall: 0.9655\n",
            "Epoch 27/100\n",
            "10/10 [==============================] - 0s 7ms/step - loss: 0.9693 - precision: 0.9235 - recall: 0.8654 - val_loss: 3.5025 - val_precision: 0.7532 - val_recall: 1.0000\n",
            "Epoch 28/100\n",
            "10/10 [==============================] - 0s 7ms/step - loss: 1.6052 - precision: 0.8803 - recall: 0.9325 - val_loss: 0.7396 - val_precision: 0.8750 - val_recall: 0.9655\n",
            "Epoch 29/100\n",
            "10/10 [==============================] - 0s 6ms/step - loss: 0.5847 - precision: 0.9202 - recall: 0.9172 - val_loss: 3.2394 - val_precision: 0.7532 - val_recall: 1.0000\n",
            "Epoch 30/100\n",
            "10/10 [==============================] - 0s 7ms/step - loss: 1.1761 - precision: 0.8633 - recall: 0.9187 - val_loss: 1.7557 - val_precision: 0.8169 - val_recall: 1.0000\n",
            "Epoch 31/100\n",
            "10/10 [==============================] - 0s 6ms/step - loss: 1.2183 - precision: 0.8709 - recall: 0.9251 - val_loss: 0.6524 - val_precision: 0.9107 - val_recall: 0.8793\n",
            "Epoch 32/100\n",
            "10/10 [==============================] - 0s 6ms/step - loss: 0.8067 - precision: 0.9086 - recall: 0.8830 - val_loss: 0.6044 - val_precision: 0.9138 - val_recall: 0.9138\n",
            "Epoch 33/100\n",
            "10/10 [==============================] - 0s 7ms/step - loss: 0.6333 - precision: 0.8945 - recall: 0.9337 - val_loss: 0.5926 - val_precision: 0.9138 - val_recall: 0.9138\n",
            "Epoch 34/100\n",
            "10/10 [==============================] - 0s 7ms/step - loss: 0.6027 - precision: 0.9192 - recall: 0.9087 - val_loss: 1.4271 - val_precision: 0.8286 - val_recall: 1.0000\n",
            "Epoch 35/100\n",
            "10/10 [==============================] - 0s 6ms/step - loss: 0.6516 - precision: 0.9135 - recall: 0.9521 - val_loss: 0.5920 - val_precision: 0.9123 - val_recall: 0.8966\n",
            "Epoch 36/100\n",
            "10/10 [==============================] - 0s 7ms/step - loss: 0.5219 - precision: 0.9296 - recall: 0.8933 - val_loss: 0.9235 - val_precision: 0.8507 - val_recall: 0.9828\n",
            "Epoch 37/100\n",
            "10/10 [==============================] - 0s 7ms/step - loss: 0.5330 - precision: 0.9148 - recall: 0.9372 - val_loss: 2.5206 - val_precision: 1.0000 - val_recall: 0.3793\n",
            "Epoch 38/100\n",
            "10/10 [==============================] - 0s 7ms/step - loss: 1.5954 - precision: 0.9013 - recall: 0.7192 - val_loss: 3.9135 - val_precision: 1.0000 - val_recall: 0.2759\n",
            "Epoch 39/100\n",
            "10/10 [==============================] - 0s 7ms/step - loss: 2.2367 - precision: 0.8962 - recall: 0.6679 - val_loss: 0.6645 - val_precision: 0.8906 - val_recall: 0.9828\n",
            "Epoch 40/100\n",
            "10/10 [==============================] - 0s 7ms/step - loss: 0.5522 - precision: 0.9011 - recall: 0.9217 - val_loss: 0.5380 - val_precision: 0.8889 - val_recall: 0.9655\n",
            "Epoch 41/100\n",
            "10/10 [==============================] - 0s 6ms/step - loss: 0.4004 - precision: 0.9336 - recall: 0.9275 - val_loss: 1.2455 - val_precision: 0.8261 - val_recall: 0.9828\n",
            "Epoch 42/100\n",
            "10/10 [==============================] - 0s 6ms/step - loss: 0.8126 - precision: 0.8882 - recall: 0.9308 - val_loss: 0.6858 - val_precision: 0.9583 - val_recall: 0.7931\n",
            "Epoch 43/100\n",
            "10/10 [==============================] - 0s 6ms/step - loss: 0.6612 - precision: 0.9030 - recall: 0.8792 - val_loss: 1.8181 - val_precision: 0.9667 - val_recall: 0.5000\n",
            "Epoch 44/100\n",
            "10/10 [==============================] - 0s 6ms/step - loss: 1.3917 - precision: 0.9205 - recall: 0.7990 - val_loss: 1.8685 - val_precision: 0.7733 - val_recall: 1.0000\n",
            "Epoch 45/100\n",
            "10/10 [==============================] - 0s 6ms/step - loss: 0.7798 - precision: 0.8802 - recall: 0.9133 - val_loss: 0.4894 - val_precision: 0.9016 - val_recall: 0.9483\n",
            "Epoch 46/100\n",
            "10/10 [==============================] - 0s 7ms/step - loss: 0.5247 - precision: 0.9138 - recall: 0.9292 - val_loss: 2.7708 - val_precision: 0.7436 - val_recall: 1.0000\n",
            "Epoch 47/100\n",
            "10/10 [==============================] - 0s 6ms/step - loss: 1.2687 - precision: 0.8401 - recall: 0.9127 - val_loss: 0.5359 - val_precision: 0.9107 - val_recall: 0.8793\n",
            "Epoch 48/100\n",
            "10/10 [==============================] - 0s 6ms/step - loss: 0.4791 - precision: 0.9201 - recall: 0.8898 - val_loss: 0.4775 - val_precision: 0.9123 - val_recall: 0.8966\n",
            "Epoch 49/100\n",
            "10/10 [==============================] - 0s 6ms/step - loss: 0.6753 - precision: 0.9317 - recall: 0.8545 - val_loss: 0.7707 - val_precision: 0.8382 - val_recall: 0.9828\n",
            "Epoch 50/100\n",
            "10/10 [==============================] - 0s 6ms/step - loss: 0.4586 - precision: 0.8909 - recall: 0.9348 - val_loss: 1.5267 - val_precision: 0.7838 - val_recall: 1.0000\n",
            "Epoch 51/100\n",
            "10/10 [==============================] - 0s 7ms/step - loss: 0.4989 - precision: 0.8948 - recall: 0.9533 - val_loss: 0.5283 - val_precision: 0.8889 - val_recall: 0.9655\n",
            "Epoch 52/100\n",
            "10/10 [==============================] - 0s 7ms/step - loss: 0.4754 - precision: 0.9151 - recall: 0.9565 - val_loss: 0.4528 - val_precision: 0.9153 - val_recall: 0.9310\n",
            "Epoch 53/100\n",
            "10/10 [==============================] - 0s 6ms/step - loss: 0.4395 - precision: 0.9201 - recall: 0.9305 - val_loss: 0.7100 - val_precision: 0.9565 - val_recall: 0.7586\n",
            "Epoch 54/100\n",
            "10/10 [==============================] - 0s 6ms/step - loss: 0.7037 - precision: 0.9219 - recall: 0.8157 - val_loss: 0.7180 - val_precision: 0.8507 - val_recall: 0.9828\n",
            "Epoch 55/100\n",
            "10/10 [==============================] - 0s 6ms/step - loss: 0.4471 - precision: 0.9144 - recall: 0.9398 - val_loss: 0.4398 - val_precision: 0.8871 - val_recall: 0.9483\n",
            "Epoch 56/100\n",
            "10/10 [==============================] - 0s 6ms/step - loss: 0.3637 - precision: 0.9246 - recall: 0.9279 - val_loss: 0.4301 - val_precision: 0.8871 - val_recall: 0.9483\n",
            "Epoch 57/100\n",
            "10/10 [==============================] - 0s 6ms/step - loss: 0.3955 - precision: 0.9207 - recall: 0.9287 - val_loss: 0.8045 - val_precision: 0.8261 - val_recall: 0.9828\n",
            "Epoch 58/100\n",
            "10/10 [==============================] - 0s 7ms/step - loss: 0.3085 - precision: 0.9132 - recall: 0.9510 - val_loss: 1.0235 - val_precision: 0.9744 - val_recall: 0.6552\n",
            "Epoch 59/100\n",
            "10/10 [==============================] - 0s 6ms/step - loss: 0.7871 - precision: 0.9275 - recall: 0.8296 - val_loss: 0.5576 - val_precision: 0.9796 - val_recall: 0.8276\n",
            "Epoch 60/100\n",
            "10/10 [==============================] - 0s 6ms/step - loss: 0.5198 - precision: 0.9253 - recall: 0.8878 - val_loss: 0.4752 - val_precision: 0.8769 - val_recall: 0.9828\n",
            "Epoch 61/100\n",
            "10/10 [==============================] - 0s 8ms/step - loss: 0.3107 - precision: 0.9231 - recall: 0.9323 - val_loss: 0.4177 - val_precision: 0.9286 - val_recall: 0.8966\n",
            "Epoch 62/100\n",
            "10/10 [==============================] - 0s 7ms/step - loss: 0.4883 - precision: 0.9122 - recall: 0.8978 - val_loss: 0.4691 - val_precision: 0.8769 - val_recall: 0.9828\n",
            "Epoch 63/100\n",
            "10/10 [==============================] - 0s 7ms/step - loss: 0.3534 - precision: 0.9322 - recall: 0.9400 - val_loss: 5.9807 - val_precision: 0.6744 - val_recall: 1.0000\n",
            "Epoch 64/100\n",
            "10/10 [==============================] - 0s 7ms/step - loss: 2.6996 - precision: 0.7810 - recall: 0.8805 - val_loss: 0.4071 - val_precision: 0.9138 - val_recall: 0.9138\n",
            "Epoch 65/100\n",
            "10/10 [==============================] - 0s 7ms/step - loss: 0.5405 - precision: 0.9018 - recall: 0.9096 - val_loss: 0.6562 - val_precision: 0.8382 - val_recall: 0.9828\n",
            "Epoch 66/100\n",
            "10/10 [==============================] - 0s 6ms/step - loss: 0.3636 - precision: 0.9294 - recall: 0.9633 - val_loss: 2.0464 - val_precision: 1.0000 - val_recall: 0.3448\n",
            "Epoch 67/100\n",
            "10/10 [==============================] - 0s 7ms/step - loss: 1.2445 - precision: 0.9008 - recall: 0.7497 - val_loss: 2.2594 - val_precision: 0.7436 - val_recall: 1.0000\n",
            "Epoch 68/100\n",
            "10/10 [==============================] - 0s 6ms/step - loss: 1.0446 - precision: 0.8603 - recall: 0.9130 - val_loss: 0.9699 - val_precision: 0.8028 - val_recall: 0.9828\n",
            "Epoch 69/100\n",
            "10/10 [==============================] - 0s 6ms/step - loss: 0.7355 - precision: 0.8674 - recall: 0.9105 - val_loss: 0.8739 - val_precision: 0.8261 - val_recall: 0.9828\n",
            "Epoch 70/100\n",
            "10/10 [==============================] - 0s 6ms/step - loss: 0.8170 - precision: 0.9008 - recall: 0.9535 - val_loss: 0.4080 - val_precision: 0.8889 - val_recall: 0.9655\n",
            "Epoch 71/100\n",
            "10/10 [==============================] - 0s 6ms/step - loss: 0.3736 - precision: 0.9206 - recall: 0.9082 - val_loss: 0.4860 - val_precision: 0.8906 - val_recall: 0.9828\n",
            "Epoch 72/100\n",
            "10/10 [==============================] - 0s 6ms/step - loss: 0.4468 - precision: 0.8859 - recall: 0.9346 - val_loss: 0.7002 - val_precision: 0.8261 - val_recall: 0.9828\n",
            "Epoch 73/100\n",
            "10/10 [==============================] - 0s 6ms/step - loss: 0.3764 - precision: 0.8920 - recall: 0.9608 - val_loss: 1.0092 - val_precision: 0.7838 - val_recall: 1.0000\n",
            "Epoch 74/100\n",
            "10/10 [==============================] - 0s 6ms/step - loss: 0.4013 - precision: 0.9103 - recall: 0.9545 - val_loss: 0.9369 - val_precision: 0.9744 - val_recall: 0.6552\n",
            "Epoch 75/100\n",
            "10/10 [==============================] - 0s 6ms/step - loss: 0.6529 - precision: 0.9418 - recall: 0.8518 - val_loss: 0.4037 - val_precision: 0.8889 - val_recall: 0.9655\n",
            "Epoch 76/100\n",
            "10/10 [==============================] - 0s 6ms/step - loss: 0.3559 - precision: 0.9229 - recall: 0.9475 - val_loss: 1.1068 - val_precision: 0.7838 - val_recall: 1.0000\n",
            "Epoch 77/100\n",
            "10/10 [==============================] - 0s 6ms/step - loss: 0.5985 - precision: 0.8732 - recall: 0.9325 - val_loss: 1.5043 - val_precision: 0.9630 - val_recall: 0.4483\n",
            "Epoch 78/100\n",
            "10/10 [==============================] - 0s 7ms/step - loss: 0.8240 - precision: 0.9213 - recall: 0.7493 - val_loss: 0.3691 - val_precision: 0.8889 - val_recall: 0.9655\n",
            "Epoch 79/100\n",
            "10/10 [==============================] - 0s 7ms/step - loss: 0.3598 - precision: 0.9296 - recall: 0.8934 - val_loss: 0.4250 - val_precision: 0.8906 - val_recall: 0.9828\n",
            "Epoch 80/100\n",
            "10/10 [==============================] - 0s 6ms/step - loss: 0.4095 - precision: 0.9034 - recall: 0.9053 - val_loss: 0.6230 - val_precision: 0.8261 - val_recall: 0.9828\n",
            "Epoch 81/100\n",
            "10/10 [==============================] - 0s 8ms/step - loss: 0.3842 - precision: 0.8809 - recall: 0.9600 - val_loss: 0.4206 - val_precision: 0.8906 - val_recall: 0.9828\n",
            "Epoch 82/100\n",
            "10/10 [==============================] - 0s 6ms/step - loss: 0.3749 - precision: 0.8936 - recall: 0.9527 - val_loss: 1.1930 - val_precision: 0.7733 - val_recall: 1.0000\n",
            "Epoch 83/100\n",
            "10/10 [==============================] - 0s 7ms/step - loss: 0.4242 - precision: 0.8786 - recall: 0.9438 - val_loss: 0.9860 - val_precision: 0.9730 - val_recall: 0.6207\n",
            "Epoch 84/100\n",
            "10/10 [==============================] - 0s 7ms/step - loss: 0.7634 - precision: 0.9354 - recall: 0.8246 - val_loss: 2.2138 - val_precision: 0.7436 - val_recall: 1.0000\n",
            "Epoch 85/100\n",
            "10/10 [==============================] - 0s 6ms/step - loss: 1.0606 - precision: 0.8195 - recall: 0.9063 - val_loss: 0.4337 - val_precision: 0.8906 - val_recall: 0.9828\n",
            "Epoch 86/100\n",
            "10/10 [==============================] - 0s 6ms/step - loss: 0.6076 - precision: 0.8994 - recall: 0.9257 - val_loss: 0.3708 - val_precision: 0.8889 - val_recall: 0.9655\n",
            "Epoch 87/100\n",
            "10/10 [==============================] - 0s 6ms/step - loss: 0.3000 - precision: 0.9330 - recall: 0.9280 - val_loss: 1.1625 - val_precision: 0.7733 - val_recall: 1.0000\n",
            "Epoch 88/100\n",
            "10/10 [==============================] - 0s 7ms/step - loss: 0.4831 - precision: 0.8978 - recall: 0.9495 - val_loss: 0.3434 - val_precision: 0.9153 - val_recall: 0.9310\n",
            "Epoch 89/100\n",
            "10/10 [==============================] - 0s 8ms/step - loss: 0.3331 - precision: 0.9145 - recall: 0.9420 - val_loss: 0.4557 - val_precision: 0.8769 - val_recall: 0.9828\n",
            "Epoch 90/100\n",
            "10/10 [==============================] - 0s 7ms/step - loss: 0.3498 - precision: 0.8991 - recall: 0.9283 - val_loss: 0.3538 - val_precision: 0.9138 - val_recall: 0.9138\n",
            "Epoch 91/100\n",
            "10/10 [==============================] - 0s 6ms/step - loss: 0.3443 - precision: 0.9129 - recall: 0.9316 - val_loss: 0.8522 - val_precision: 0.7838 - val_recall: 1.0000\n",
            "Epoch 92/100\n",
            "10/10 [==============================] - 0s 6ms/step - loss: 0.4313 - precision: 0.8819 - recall: 0.9575 - val_loss: 0.3409 - val_precision: 0.9123 - val_recall: 0.8966\n",
            "Epoch 93/100\n",
            "10/10 [==============================] - 0s 7ms/step - loss: 0.3654 - precision: 0.9168 - recall: 0.8996 - val_loss: 0.4116 - val_precision: 0.8769 - val_recall: 0.9828\n",
            "Epoch 94/100\n",
            "10/10 [==============================] - 0s 7ms/step - loss: 0.3195 - precision: 0.8982 - recall: 0.9585 - val_loss: 0.3255 - val_precision: 0.8889 - val_recall: 0.9655\n",
            "Epoch 95/100\n",
            "10/10 [==============================] - 0s 8ms/step - loss: 0.2326 - precision: 0.9217 - recall: 0.9703 - val_loss: 0.3164 - val_precision: 0.9167 - val_recall: 0.9483\n",
            "Epoch 96/100\n",
            "10/10 [==============================] - 0s 7ms/step - loss: 0.2673 - precision: 0.9229 - recall: 0.9238 - val_loss: 0.3192 - val_precision: 0.8889 - val_recall: 0.9655\n",
            "Epoch 97/100\n",
            "10/10 [==============================] - 0s 6ms/step - loss: 0.3136 - precision: 0.9053 - recall: 0.9397 - val_loss: 0.3425 - val_precision: 0.9123 - val_recall: 0.8966\n",
            "Epoch 98/100\n",
            "10/10 [==============================] - 0s 7ms/step - loss: 0.2770 - precision: 0.9327 - recall: 0.9262 - val_loss: 0.3055 - val_precision: 0.9167 - val_recall: 0.9483\n",
            "Epoch 99/100\n",
            "10/10 [==============================] - 0s 7ms/step - loss: 0.2588 - precision: 0.9225 - recall: 0.9386 - val_loss: 0.3339 - val_precision: 0.9107 - val_recall: 0.8793\n",
            "Epoch 100/100\n",
            "10/10 [==============================] - 0s 6ms/step - loss: 0.3430 - precision: 0.9110 - recall: 0.8837 - val_loss: 0.3067 - val_precision: 0.8889 - val_recall: 0.9655\n"
          ],
          "name": "stdout"
        }
      ]
    },
    {
      "cell_type": "code",
      "metadata": {
        "colab": {
          "base_uri": "https://localhost:8080/"
        },
        "id": "ahpahNKrQn-k",
        "outputId": "caed1bc3-8724-4346-88a0-74de5779dac2"
      },
      "source": [
        "# definieren sklearn model\n",
        "from sklearn.linear_model import LogisticRegression\n",
        "LogReg = LogisticRegression().fit(x_train,y_train)"
      ],
      "execution_count": 50,
      "outputs": [
        {
          "output_type": "stream",
          "text": [
            "/usr/local/lib/python3.7/dist-packages/sklearn/linear_model/_logistic.py:940: ConvergenceWarning: lbfgs failed to converge (status=1):\n",
            "STOP: TOTAL NO. of ITERATIONS REACHED LIMIT.\n",
            "\n",
            "Increase the number of iterations (max_iter) or scale the data as shown in:\n",
            "    https://scikit-learn.org/stable/modules/preprocessing.html\n",
            "Please also refer to the documentation for alternative solver options:\n",
            "    https://scikit-learn.org/stable/modules/linear_model.html#logistic-regression\n",
            "  extra_warning_msg=_LOGISTIC_SOLVER_CONVERGENCE_MSG)\n"
          ],
          "name": "stderr"
        }
      ]
    },
    {
      "cell_type": "code",
      "metadata": {
        "colab": {
          "base_uri": "https://localhost:8080/"
        },
        "id": "kxHUxcP9SCLX",
        "outputId": "c9d727fc-90d3-4fd7-fdfb-170df127c184"
      },
      "source": [
        "acc_DL = (np.array(tf.greater(logregressie_model.predict(x_test),.5)).flatten().astype('int') == y_test).sum()/y_test.shape[0]*100\n",
        "print('Accuracy of deep learning model is',acc_DL)\n",
        "acc_SK = (LogReg.predict(x_test)==y_test).sum()/y_test.shape[0]*100\n",
        "print('Accuracy of Logistic Regression model is',acc_SK)"
      ],
      "execution_count": 51,
      "outputs": [
        {
          "output_type": "stream",
          "text": [
            "Accuracy of deep learning model is 96.49122807017544\n",
            "Accuracy of Logistic Regression model is 95.6140350877193\n"
          ],
          "name": "stdout"
        }
      ]
    },
    {
      "cell_type": "markdown",
      "metadata": {
        "id": "SBvQQR6nvU_y"
      },
      "source": [
        "**Bonus: ensembling/stacking** Laten we kijken of we met stacking het bovenstaande deep learning model kunnen verslaan. Bij ensemblen trainen we in dit geval een netwerk met maar een laag, die de optimale combinatie van voorspelling zoekt van andere modellen. Doorloop de volgende 3 stappen:\n",
        "1. Train drie verschillende classificatiemodellen met sklearn, bijvoorbeeld randomforest, logistic regression en KNN\n",
        "2. Maak een nieuw numpy array met 3 kolommen, waar elke kolom de voorspellingen bevat van de drie sklearn modellen op de dataset x_train. \n",
        "3. Gebruik dit nieuwe dataframe als input voor een eenlaags neuraal netwerk met 1 neuron (zoals we bij opdracht een hadden ontworpen). De labels blijven natuurlijk y_train. \n",
        "\n",
        "Gefeliciteerd je hebt nu een ensemble model getraind! Om te testen of dit model beter werkt dan je deep learning model moet je nog 2 stappen doorlopen.\n",
        "\n",
        "i. Maak een nieuw dataframe met 3 kolommen, waar elke kolom de voorspellingen bevat van de drie sklearn modellen op de dataset x_test.\n",
        "\n",
        "ii. Doe model.predict op deze nieuwe dataset en bereken handmatig de loss en metrieken. \n",
        "\n",
        "*Nota bene: je kan de resultaten nog verder verbeteren door 4 modellen te ensemblen, waarvan het vierde model je deep learning model uit opdracht 3 is*"
      ]
    },
    {
      "cell_type": "code",
      "metadata": {
        "id": "yIca6LiuvVGS"
      },
      "source": [
        "from sklearn.ensemble import RandomForestClassifier\n",
        "from sklearn.neighbors import KNeighborsClassifier\n",
        "\n",
        "RF = RandomForestClassifier().fit(x_train,y_train)\n",
        "KNN = KNeighborsClassifier(n_neighbors=3).fit(x_train,y_train)\n",
        "\n",
        "ensemble_train = np.transpose(np.array([LogReg.predict_proba(x_train)[:,1],RF.predict_proba(x_train)[:,1],KNN.predict_proba(x_train)[:,1]]))"
      ],
      "execution_count": 56,
      "outputs": []
    },
    {
      "cell_type": "code",
      "metadata": {
        "colab": {
          "base_uri": "https://localhost:8080/"
        },
        "id": "wk3AOEB2UxCA",
        "outputId": "0f2efc79-8cef-4c45-f692-4637c05dd58c"
      },
      "source": [
        "ensembler = models.Sequential()\n",
        "ensembler.add(layers.Input(shape=(3)))\n",
        "ensembler.add(layers.Dense(units=1, activation='sigmoid'))\n",
        "\n",
        "ensembler.compile(optimizer=SGD(1e-2,0.7),\n",
        "                        loss='binary_crossentropy',\n",
        "                        metrics=['Accuracy','Precision','Recall']\n",
        ")\n",
        "                  \n",
        "ensembler_history = ensembler.fit(x=ensemble_train,\n",
        "                    y=y_train,\n",
        "                    batch_size=40,\n",
        "                    epochs=100,\n",
        "                     validation_split=0.2)"
      ],
      "execution_count": 59,
      "outputs": [
        {
          "output_type": "stream",
          "text": [
            "Epoch 1/100\n",
            "10/10 [==============================] - 1s 40ms/step - loss: 0.8136 - accuracy: 0.0000e+00 - precision: 0.0000e+00 - recall: 0.0000e+00 - val_loss: 0.7341 - val_accuracy: 0.0000e+00 - val_precision: 0.1379 - val_recall: 0.0690\n",
            "Epoch 2/100\n",
            "10/10 [==============================] - 0s 6ms/step - loss: 0.7134 - accuracy: 0.0000e+00 - precision: 0.3041 - recall: 0.3026 - val_loss: 0.6418 - val_accuracy: 0.0000e+00 - val_precision: 0.6374 - val_recall: 1.0000\n",
            "Epoch 3/100\n",
            "10/10 [==============================] - 0s 6ms/step - loss: 0.6334 - accuracy: 0.0000e+00 - precision: 0.6047 - recall: 1.0000 - val_loss: 0.5834 - val_accuracy: 0.0000e+00 - val_precision: 0.6374 - val_recall: 1.0000\n",
            "Epoch 4/100\n",
            "10/10 [==============================] - 0s 6ms/step - loss: 0.5734 - accuracy: 0.0000e+00 - precision: 0.6349 - recall: 1.0000 - val_loss: 0.5431 - val_accuracy: 0.0000e+00 - val_precision: 0.6374 - val_recall: 1.0000\n",
            "Epoch 5/100\n",
            "10/10 [==============================] - 0s 7ms/step - loss: 0.5394 - accuracy: 0.0000e+00 - precision: 0.6198 - recall: 1.0000 - val_loss: 0.5134 - val_accuracy: 0.0000e+00 - val_precision: 0.6374 - val_recall: 1.0000\n",
            "Epoch 6/100\n",
            "10/10 [==============================] - 0s 6ms/step - loss: 0.5136 - accuracy: 0.0000e+00 - precision: 0.6049 - recall: 1.0000 - val_loss: 0.4901 - val_accuracy: 0.0000e+00 - val_precision: 0.6374 - val_recall: 1.0000\n",
            "Epoch 7/100\n",
            "10/10 [==============================] - 0s 6ms/step - loss: 0.4712 - accuracy: 0.0000e+00 - precision: 0.6523 - recall: 1.0000 - val_loss: 0.4718 - val_accuracy: 0.0000e+00 - val_precision: 0.6374 - val_recall: 1.0000\n",
            "Epoch 8/100\n",
            "10/10 [==============================] - 0s 6ms/step - loss: 0.4717 - accuracy: 0.0000e+00 - precision: 0.6193 - recall: 1.0000 - val_loss: 0.4555 - val_accuracy: 0.0000e+00 - val_precision: 0.6374 - val_recall: 1.0000\n",
            "Epoch 9/100\n",
            "10/10 [==============================] - 0s 6ms/step - loss: 0.4597 - accuracy: 0.0000e+00 - precision: 0.6045 - recall: 1.0000 - val_loss: 0.4413 - val_accuracy: 0.0000e+00 - val_precision: 0.6374 - val_recall: 1.0000\n",
            "Epoch 10/100\n",
            "10/10 [==============================] - 0s 8ms/step - loss: 0.4319 - accuracy: 0.0000e+00 - precision: 0.6293 - recall: 1.0000 - val_loss: 0.4289 - val_accuracy: 0.0000e+00 - val_precision: 0.6374 - val_recall: 1.0000\n",
            "Epoch 11/100\n",
            "10/10 [==============================] - 0s 6ms/step - loss: 0.4202 - accuracy: 0.0000e+00 - precision: 0.6309 - recall: 1.0000 - val_loss: 0.4179 - val_accuracy: 0.0000e+00 - val_precision: 0.6374 - val_recall: 1.0000\n",
            "Epoch 12/100\n",
            "10/10 [==============================] - 0s 7ms/step - loss: 0.4089 - accuracy: 0.0000e+00 - precision: 0.6383 - recall: 1.0000 - val_loss: 0.4079 - val_accuracy: 0.0000e+00 - val_precision: 0.7733 - val_recall: 1.0000\n",
            "Epoch 13/100\n",
            "10/10 [==============================] - 0s 7ms/step - loss: 0.4003 - accuracy: 0.0000e+00 - precision: 0.8227 - recall: 1.0000 - val_loss: 0.3986 - val_accuracy: 0.0000e+00 - val_precision: 0.8056 - val_recall: 1.0000\n",
            "Epoch 14/100\n",
            "10/10 [==============================] - 0s 6ms/step - loss: 0.3935 - accuracy: 0.0000e+00 - precision: 0.8424 - recall: 1.0000 - val_loss: 0.3897 - val_accuracy: 0.0000e+00 - val_precision: 0.8406 - val_recall: 1.0000\n",
            "Epoch 15/100\n",
            "10/10 [==============================] - 0s 6ms/step - loss: 0.3848 - accuracy: 0.0000e+00 - precision: 0.8593 - recall: 1.0000 - val_loss: 0.3811 - val_accuracy: 0.0000e+00 - val_precision: 0.8406 - val_recall: 1.0000\n",
            "Epoch 16/100\n",
            "10/10 [==============================] - 0s 6ms/step - loss: 0.3539 - accuracy: 0.0000e+00 - precision: 0.9003 - recall: 1.0000 - val_loss: 0.3730 - val_accuracy: 0.0000e+00 - val_precision: 0.8406 - val_recall: 1.0000\n",
            "Epoch 17/100\n",
            "10/10 [==============================] - 0s 7ms/step - loss: 0.3485 - accuracy: 0.0000e+00 - precision: 0.8880 - recall: 1.0000 - val_loss: 0.3656 - val_accuracy: 0.0000e+00 - val_precision: 0.8406 - val_recall: 1.0000\n",
            "Epoch 18/100\n",
            "10/10 [==============================] - 0s 6ms/step - loss: 0.3580 - accuracy: 0.0000e+00 - precision: 0.8852 - recall: 1.0000 - val_loss: 0.3587 - val_accuracy: 0.0000e+00 - val_precision: 0.8406 - val_recall: 1.0000\n",
            "Epoch 19/100\n",
            "10/10 [==============================] - 0s 6ms/step - loss: 0.3557 - accuracy: 0.0000e+00 - precision: 0.8666 - recall: 1.0000 - val_loss: 0.3517 - val_accuracy: 0.0000e+00 - val_precision: 0.8406 - val_recall: 1.0000\n",
            "Epoch 20/100\n",
            "10/10 [==============================] - 0s 7ms/step - loss: 0.3341 - accuracy: 0.0000e+00 - precision: 0.9041 - recall: 1.0000 - val_loss: 0.3452 - val_accuracy: 0.0000e+00 - val_precision: 0.8406 - val_recall: 1.0000\n",
            "Epoch 21/100\n",
            "10/10 [==============================] - 0s 6ms/step - loss: 0.3132 - accuracy: 0.0000e+00 - precision: 0.9169 - recall: 1.0000 - val_loss: 0.3390 - val_accuracy: 0.0000e+00 - val_precision: 0.8406 - val_recall: 1.0000\n",
            "Epoch 22/100\n",
            "10/10 [==============================] - 0s 6ms/step - loss: 0.3395 - accuracy: 0.0000e+00 - precision: 0.8862 - recall: 1.0000 - val_loss: 0.3328 - val_accuracy: 0.0000e+00 - val_precision: 0.8406 - val_recall: 1.0000\n",
            "Epoch 23/100\n",
            "10/10 [==============================] - 0s 6ms/step - loss: 0.3260 - accuracy: 0.0000e+00 - precision: 0.9107 - recall: 1.0000 - val_loss: 0.3270 - val_accuracy: 0.0000e+00 - val_precision: 0.8529 - val_recall: 1.0000\n",
            "Epoch 24/100\n",
            "10/10 [==============================] - 0s 6ms/step - loss: 0.3070 - accuracy: 0.0000e+00 - precision: 0.9233 - recall: 1.0000 - val_loss: 0.3213 - val_accuracy: 0.0000e+00 - val_precision: 0.8529 - val_recall: 1.0000\n",
            "Epoch 25/100\n",
            "10/10 [==============================] - 0s 6ms/step - loss: 0.2973 - accuracy: 0.0000e+00 - precision: 0.9475 - recall: 1.0000 - val_loss: 0.3158 - val_accuracy: 0.0000e+00 - val_precision: 0.8529 - val_recall: 1.0000\n",
            "Epoch 26/100\n",
            "10/10 [==============================] - 0s 6ms/step - loss: 0.3067 - accuracy: 0.0000e+00 - precision: 0.9224 - recall: 1.0000 - val_loss: 0.3101 - val_accuracy: 0.0000e+00 - val_precision: 0.8529 - val_recall: 1.0000\n",
            "Epoch 27/100\n",
            "10/10 [==============================] - 0s 6ms/step - loss: 0.2813 - accuracy: 0.0000e+00 - precision: 0.9472 - recall: 1.0000 - val_loss: 0.3047 - val_accuracy: 0.0000e+00 - val_precision: 0.8788 - val_recall: 1.0000\n",
            "Epoch 28/100\n",
            "10/10 [==============================] - 0s 6ms/step - loss: 0.2949 - accuracy: 0.0000e+00 - precision: 0.9316 - recall: 1.0000 - val_loss: 0.2995 - val_accuracy: 0.0000e+00 - val_precision: 0.8788 - val_recall: 1.0000\n",
            "Epoch 29/100\n",
            "10/10 [==============================] - 0s 6ms/step - loss: 0.2727 - accuracy: 0.0000e+00 - precision: 0.9336 - recall: 1.0000 - val_loss: 0.2948 - val_accuracy: 0.0000e+00 - val_precision: 0.8788 - val_recall: 1.0000\n",
            "Epoch 30/100\n",
            "10/10 [==============================] - 0s 7ms/step - loss: 0.2769 - accuracy: 0.0000e+00 - precision: 0.9280 - recall: 1.0000 - val_loss: 0.2901 - val_accuracy: 0.0000e+00 - val_precision: 0.8788 - val_recall: 1.0000\n",
            "Epoch 31/100\n",
            "10/10 [==============================] - 0s 6ms/step - loss: 0.2635 - accuracy: 0.0000e+00 - precision: 0.9589 - recall: 1.0000 - val_loss: 0.2857 - val_accuracy: 0.0000e+00 - val_precision: 0.8788 - val_recall: 1.0000\n",
            "Epoch 32/100\n",
            "10/10 [==============================] - 0s 6ms/step - loss: 0.2642 - accuracy: 0.0000e+00 - precision: 0.9489 - recall: 1.0000 - val_loss: 0.2816 - val_accuracy: 0.0000e+00 - val_precision: 0.8788 - val_recall: 1.0000\n",
            "Epoch 33/100\n",
            "10/10 [==============================] - 0s 7ms/step - loss: 0.2678 - accuracy: 0.0000e+00 - precision: 0.9382 - recall: 1.0000 - val_loss: 0.2774 - val_accuracy: 0.0000e+00 - val_precision: 0.8788 - val_recall: 1.0000\n",
            "Epoch 34/100\n",
            "10/10 [==============================] - 0s 7ms/step - loss: 0.2495 - accuracy: 0.0000e+00 - precision: 0.9399 - recall: 1.0000 - val_loss: 0.2732 - val_accuracy: 0.0000e+00 - val_precision: 0.8788 - val_recall: 1.0000\n",
            "Epoch 35/100\n",
            "10/10 [==============================] - 0s 6ms/step - loss: 0.2540 - accuracy: 0.0000e+00 - precision: 0.9422 - recall: 1.0000 - val_loss: 0.2690 - val_accuracy: 0.0000e+00 - val_precision: 0.8923 - val_recall: 1.0000\n",
            "Epoch 36/100\n",
            "10/10 [==============================] - 0s 7ms/step - loss: 0.2406 - accuracy: 0.0000e+00 - precision: 0.9453 - recall: 1.0000 - val_loss: 0.2652 - val_accuracy: 0.0000e+00 - val_precision: 0.8923 - val_recall: 1.0000\n",
            "Epoch 37/100\n",
            "10/10 [==============================] - 0s 6ms/step - loss: 0.2399 - accuracy: 0.0000e+00 - precision: 0.9622 - recall: 1.0000 - val_loss: 0.2614 - val_accuracy: 0.0000e+00 - val_precision: 0.8923 - val_recall: 1.0000\n",
            "Epoch 38/100\n",
            "10/10 [==============================] - 0s 6ms/step - loss: 0.2438 - accuracy: 0.0000e+00 - precision: 0.9413 - recall: 1.0000 - val_loss: 0.2576 - val_accuracy: 0.0000e+00 - val_precision: 0.8923 - val_recall: 1.0000\n",
            "Epoch 39/100\n",
            "10/10 [==============================] - 0s 6ms/step - loss: 0.2437 - accuracy: 0.0000e+00 - precision: 0.9347 - recall: 1.0000 - val_loss: 0.2543 - val_accuracy: 0.0000e+00 - val_precision: 0.8923 - val_recall: 1.0000\n",
            "Epoch 40/100\n",
            "10/10 [==============================] - 0s 6ms/step - loss: 0.2246 - accuracy: 0.0000e+00 - precision: 0.9455 - recall: 1.0000 - val_loss: 0.2508 - val_accuracy: 0.0000e+00 - val_precision: 0.8923 - val_recall: 1.0000\n",
            "Epoch 41/100\n",
            "10/10 [==============================] - 0s 6ms/step - loss: 0.2251 - accuracy: 0.0000e+00 - precision: 0.9455 - recall: 1.0000 - val_loss: 0.2475 - val_accuracy: 0.0000e+00 - val_precision: 0.8923 - val_recall: 1.0000\n",
            "Epoch 42/100\n",
            "10/10 [==============================] - 0s 7ms/step - loss: 0.2286 - accuracy: 0.0000e+00 - precision: 0.9450 - recall: 1.0000 - val_loss: 0.2443 - val_accuracy: 0.0000e+00 - val_precision: 0.9206 - val_recall: 1.0000\n",
            "Epoch 43/100\n",
            "10/10 [==============================] - 0s 7ms/step - loss: 0.2231 - accuracy: 0.0000e+00 - precision: 0.9341 - recall: 1.0000 - val_loss: 0.2412 - val_accuracy: 0.0000e+00 - val_precision: 0.9206 - val_recall: 1.0000\n",
            "Epoch 44/100\n",
            "10/10 [==============================] - 0s 6ms/step - loss: 0.2232 - accuracy: 0.0000e+00 - precision: 0.9386 - recall: 1.0000 - val_loss: 0.2381 - val_accuracy: 0.0000e+00 - val_precision: 0.9206 - val_recall: 1.0000\n",
            "Epoch 45/100\n",
            "10/10 [==============================] - 0s 6ms/step - loss: 0.2267 - accuracy: 0.0000e+00 - precision: 0.9325 - recall: 1.0000 - val_loss: 0.2353 - val_accuracy: 0.0000e+00 - val_precision: 0.9206 - val_recall: 1.0000\n",
            "Epoch 46/100\n",
            "10/10 [==============================] - 0s 7ms/step - loss: 0.2064 - accuracy: 0.0000e+00 - precision: 0.9535 - recall: 1.0000 - val_loss: 0.2326 - val_accuracy: 0.0000e+00 - val_precision: 0.9355 - val_recall: 1.0000\n",
            "Epoch 47/100\n",
            "10/10 [==============================] - 0s 6ms/step - loss: 0.2023 - accuracy: 0.0000e+00 - precision: 0.9587 - recall: 1.0000 - val_loss: 0.2298 - val_accuracy: 0.0000e+00 - val_precision: 0.9355 - val_recall: 1.0000\n",
            "Epoch 48/100\n",
            "10/10 [==============================] - 0s 6ms/step - loss: 0.2109 - accuracy: 0.0000e+00 - precision: 0.9451 - recall: 1.0000 - val_loss: 0.2270 - val_accuracy: 0.0000e+00 - val_precision: 0.9355 - val_recall: 1.0000\n",
            "Epoch 49/100\n",
            "10/10 [==============================] - 0s 7ms/step - loss: 0.1948 - accuracy: 0.0000e+00 - precision: 0.9489 - recall: 1.0000 - val_loss: 0.2243 - val_accuracy: 0.0000e+00 - val_precision: 0.9355 - val_recall: 1.0000\n",
            "Epoch 50/100\n",
            "10/10 [==============================] - 0s 6ms/step - loss: 0.2081 - accuracy: 0.0000e+00 - precision: 0.9305 - recall: 1.0000 - val_loss: 0.2216 - val_accuracy: 0.0000e+00 - val_precision: 0.9355 - val_recall: 1.0000\n",
            "Epoch 51/100\n",
            "10/10 [==============================] - 0s 6ms/step - loss: 0.2079 - accuracy: 0.0000e+00 - precision: 0.9408 - recall: 1.0000 - val_loss: 0.2191 - val_accuracy: 0.0000e+00 - val_precision: 0.9355 - val_recall: 1.0000\n",
            "Epoch 52/100\n",
            "10/10 [==============================] - 0s 7ms/step - loss: 0.1923 - accuracy: 0.0000e+00 - precision: 0.9660 - recall: 1.0000 - val_loss: 0.2165 - val_accuracy: 0.0000e+00 - val_precision: 0.9355 - val_recall: 1.0000\n",
            "Epoch 53/100\n",
            "10/10 [==============================] - 0s 6ms/step - loss: 0.2001 - accuracy: 0.0000e+00 - precision: 0.9552 - recall: 1.0000 - val_loss: 0.2141 - val_accuracy: 0.0000e+00 - val_precision: 0.9355 - val_recall: 1.0000\n",
            "Epoch 54/100\n",
            "10/10 [==============================] - 0s 6ms/step - loss: 0.1887 - accuracy: 0.0000e+00 - precision: 0.9610 - recall: 1.0000 - val_loss: 0.2117 - val_accuracy: 0.0000e+00 - val_precision: 0.9355 - val_recall: 1.0000\n",
            "Epoch 55/100\n",
            "10/10 [==============================] - 0s 7ms/step - loss: 0.2004 - accuracy: 0.0000e+00 - precision: 0.9525 - recall: 1.0000 - val_loss: 0.2093 - val_accuracy: 0.0000e+00 - val_precision: 0.9355 - val_recall: 1.0000\n",
            "Epoch 56/100\n",
            "10/10 [==============================] - 0s 7ms/step - loss: 0.1902 - accuracy: 0.0000e+00 - precision: 0.9555 - recall: 1.0000 - val_loss: 0.2072 - val_accuracy: 0.0000e+00 - val_precision: 0.9355 - val_recall: 1.0000\n",
            "Epoch 57/100\n",
            "10/10 [==============================] - 0s 7ms/step - loss: 0.1831 - accuracy: 0.0000e+00 - precision: 0.9555 - recall: 1.0000 - val_loss: 0.2050 - val_accuracy: 0.0000e+00 - val_precision: 0.9355 - val_recall: 1.0000\n",
            "Epoch 58/100\n",
            "10/10 [==============================] - 0s 6ms/step - loss: 0.1894 - accuracy: 0.0000e+00 - precision: 0.9642 - recall: 1.0000 - val_loss: 0.2028 - val_accuracy: 0.0000e+00 - val_precision: 0.9355 - val_recall: 1.0000\n",
            "Epoch 59/100\n",
            "10/10 [==============================] - 0s 6ms/step - loss: 0.1806 - accuracy: 0.0000e+00 - precision: 0.9499 - recall: 1.0000 - val_loss: 0.2008 - val_accuracy: 0.0000e+00 - val_precision: 0.9355 - val_recall: 1.0000\n",
            "Epoch 60/100\n",
            "10/10 [==============================] - 0s 6ms/step - loss: 0.1852 - accuracy: 0.0000e+00 - precision: 0.9521 - recall: 1.0000 - val_loss: 0.1987 - val_accuracy: 0.0000e+00 - val_precision: 0.9355 - val_recall: 1.0000\n",
            "Epoch 61/100\n",
            "10/10 [==============================] - 0s 6ms/step - loss: 0.1706 - accuracy: 0.0000e+00 - precision: 0.9669 - recall: 1.0000 - val_loss: 0.1969 - val_accuracy: 0.0000e+00 - val_precision: 0.9355 - val_recall: 1.0000\n",
            "Epoch 62/100\n",
            "10/10 [==============================] - 0s 7ms/step - loss: 0.1799 - accuracy: 0.0000e+00 - precision: 0.9506 - recall: 1.0000 - val_loss: 0.1950 - val_accuracy: 0.0000e+00 - val_precision: 0.9355 - val_recall: 1.0000\n",
            "Epoch 63/100\n",
            "10/10 [==============================] - 0s 7ms/step - loss: 0.1678 - accuracy: 0.0000e+00 - precision: 0.9616 - recall: 1.0000 - val_loss: 0.1931 - val_accuracy: 0.0000e+00 - val_precision: 0.9355 - val_recall: 1.0000\n",
            "Epoch 64/100\n",
            "10/10 [==============================] - 0s 6ms/step - loss: 0.1671 - accuracy: 0.0000e+00 - precision: 0.9653 - recall: 1.0000 - val_loss: 0.1913 - val_accuracy: 0.0000e+00 - val_precision: 0.9355 - val_recall: 1.0000\n",
            "Epoch 65/100\n",
            "10/10 [==============================] - 0s 7ms/step - loss: 0.1667 - accuracy: 0.0000e+00 - precision: 0.9671 - recall: 1.0000 - val_loss: 0.1895 - val_accuracy: 0.0000e+00 - val_precision: 0.9355 - val_recall: 1.0000\n",
            "Epoch 66/100\n",
            "10/10 [==============================] - 0s 6ms/step - loss: 0.1740 - accuracy: 0.0000e+00 - precision: 0.9541 - recall: 1.0000 - val_loss: 0.1879 - val_accuracy: 0.0000e+00 - val_precision: 0.9355 - val_recall: 1.0000\n",
            "Epoch 67/100\n",
            "10/10 [==============================] - 0s 7ms/step - loss: 0.1580 - accuracy: 0.0000e+00 - precision: 0.9588 - recall: 1.0000 - val_loss: 0.1862 - val_accuracy: 0.0000e+00 - val_precision: 0.9355 - val_recall: 1.0000\n",
            "Epoch 68/100\n",
            "10/10 [==============================] - 0s 6ms/step - loss: 0.1835 - accuracy: 0.0000e+00 - precision: 0.9347 - recall: 1.0000 - val_loss: 0.1844 - val_accuracy: 0.0000e+00 - val_precision: 0.9355 - val_recall: 1.0000\n",
            "Epoch 69/100\n",
            "10/10 [==============================] - 0s 6ms/step - loss: 0.1636 - accuracy: 0.0000e+00 - precision: 0.9576 - recall: 1.0000 - val_loss: 0.1829 - val_accuracy: 0.0000e+00 - val_precision: 0.9355 - val_recall: 1.0000\n",
            "Epoch 70/100\n",
            "10/10 [==============================] - 0s 7ms/step - loss: 0.1524 - accuracy: 0.0000e+00 - precision: 0.9703 - recall: 1.0000 - val_loss: 0.1812 - val_accuracy: 0.0000e+00 - val_precision: 0.9355 - val_recall: 1.0000\n",
            "Epoch 71/100\n",
            "10/10 [==============================] - 0s 6ms/step - loss: 0.1658 - accuracy: 0.0000e+00 - precision: 0.9601 - recall: 1.0000 - val_loss: 0.1796 - val_accuracy: 0.0000e+00 - val_precision: 0.9355 - val_recall: 1.0000\n",
            "Epoch 72/100\n",
            "10/10 [==============================] - 0s 6ms/step - loss: 0.1448 - accuracy: 0.0000e+00 - precision: 0.9782 - recall: 1.0000 - val_loss: 0.1781 - val_accuracy: 0.0000e+00 - val_precision: 0.9355 - val_recall: 1.0000\n",
            "Epoch 73/100\n",
            "10/10 [==============================] - 0s 6ms/step - loss: 0.1508 - accuracy: 0.0000e+00 - precision: 0.9733 - recall: 1.0000 - val_loss: 0.1766 - val_accuracy: 0.0000e+00 - val_precision: 0.9355 - val_recall: 1.0000\n",
            "Epoch 74/100\n",
            "10/10 [==============================] - 0s 6ms/step - loss: 0.1542 - accuracy: 0.0000e+00 - precision: 0.9608 - recall: 1.0000 - val_loss: 0.1751 - val_accuracy: 0.0000e+00 - val_precision: 0.9355 - val_recall: 1.0000\n",
            "Epoch 75/100\n",
            "10/10 [==============================] - 0s 6ms/step - loss: 0.1462 - accuracy: 0.0000e+00 - precision: 0.9753 - recall: 1.0000 - val_loss: 0.1736 - val_accuracy: 0.0000e+00 - val_precision: 0.9355 - val_recall: 1.0000\n",
            "Epoch 76/100\n",
            "10/10 [==============================] - 0s 6ms/step - loss: 0.1500 - accuracy: 0.0000e+00 - precision: 0.9489 - recall: 1.0000 - val_loss: 0.1722 - val_accuracy: 0.0000e+00 - val_precision: 0.9355 - val_recall: 1.0000\n",
            "Epoch 77/100\n",
            "10/10 [==============================] - 0s 7ms/step - loss: 0.1545 - accuracy: 0.0000e+00 - precision: 0.9636 - recall: 1.0000 - val_loss: 0.1708 - val_accuracy: 0.0000e+00 - val_precision: 0.9355 - val_recall: 1.0000\n",
            "Epoch 78/100\n",
            "10/10 [==============================] - 0s 7ms/step - loss: 0.1436 - accuracy: 0.0000e+00 - precision: 0.9748 - recall: 1.0000 - val_loss: 0.1695 - val_accuracy: 0.0000e+00 - val_precision: 0.9355 - val_recall: 1.0000\n",
            "Epoch 79/100\n",
            "10/10 [==============================] - 0s 7ms/step - loss: 0.1614 - accuracy: 0.0000e+00 - precision: 0.9483 - recall: 1.0000 - val_loss: 0.1683 - val_accuracy: 0.0000e+00 - val_precision: 0.9355 - val_recall: 1.0000\n",
            "Epoch 80/100\n",
            "10/10 [==============================] - 0s 6ms/step - loss: 0.1478 - accuracy: 0.0000e+00 - precision: 0.9575 - recall: 1.0000 - val_loss: 0.1670 - val_accuracy: 0.0000e+00 - val_precision: 0.9355 - val_recall: 1.0000\n",
            "Epoch 81/100\n",
            "10/10 [==============================] - 0s 6ms/step - loss: 0.1472 - accuracy: 0.0000e+00 - precision: 0.9558 - recall: 1.0000 - val_loss: 0.1657 - val_accuracy: 0.0000e+00 - val_precision: 0.9355 - val_recall: 1.0000\n",
            "Epoch 82/100\n",
            "10/10 [==============================] - 0s 6ms/step - loss: 0.1311 - accuracy: 0.0000e+00 - precision: 0.9783 - recall: 1.0000 - val_loss: 0.1645 - val_accuracy: 0.0000e+00 - val_precision: 0.9355 - val_recall: 1.0000\n",
            "Epoch 83/100\n",
            "10/10 [==============================] - 0s 7ms/step - loss: 0.1441 - accuracy: 0.0000e+00 - precision: 0.9550 - recall: 1.0000 - val_loss: 0.1633 - val_accuracy: 0.0000e+00 - val_precision: 0.9355 - val_recall: 1.0000\n",
            "Epoch 84/100\n",
            "10/10 [==============================] - 0s 6ms/step - loss: 0.1446 - accuracy: 0.0000e+00 - precision: 0.9605 - recall: 1.0000 - val_loss: 0.1621 - val_accuracy: 0.0000e+00 - val_precision: 0.9355 - val_recall: 1.0000\n",
            "Epoch 85/100\n",
            "10/10 [==============================] - 0s 8ms/step - loss: 0.1419 - accuracy: 0.0000e+00 - precision: 0.9650 - recall: 1.0000 - val_loss: 0.1610 - val_accuracy: 0.0000e+00 - val_precision: 0.9355 - val_recall: 1.0000\n",
            "Epoch 86/100\n",
            "10/10 [==============================] - 0s 6ms/step - loss: 0.1296 - accuracy: 0.0000e+00 - precision: 0.9735 - recall: 1.0000 - val_loss: 0.1597 - val_accuracy: 0.0000e+00 - val_precision: 0.9355 - val_recall: 1.0000\n",
            "Epoch 87/100\n",
            "10/10 [==============================] - 0s 6ms/step - loss: 0.1273 - accuracy: 0.0000e+00 - precision: 0.9815 - recall: 1.0000 - val_loss: 0.1585 - val_accuracy: 0.0000e+00 - val_precision: 0.9355 - val_recall: 1.0000\n",
            "Epoch 88/100\n",
            "10/10 [==============================] - 0s 7ms/step - loss: 0.1403 - accuracy: 0.0000e+00 - precision: 0.9550 - recall: 1.0000 - val_loss: 0.1573 - val_accuracy: 0.0000e+00 - val_precision: 0.9508 - val_recall: 1.0000\n",
            "Epoch 89/100\n",
            "10/10 [==============================] - 0s 6ms/step - loss: 0.1270 - accuracy: 0.0000e+00 - precision: 0.9747 - recall: 1.0000 - val_loss: 0.1562 - val_accuracy: 0.0000e+00 - val_precision: 0.9508 - val_recall: 1.0000\n",
            "Epoch 90/100\n",
            "10/10 [==============================] - 0s 6ms/step - loss: 0.1376 - accuracy: 0.0000e+00 - precision: 0.9664 - recall: 1.0000 - val_loss: 0.1551 - val_accuracy: 0.0000e+00 - val_precision: 0.9508 - val_recall: 1.0000\n",
            "Epoch 91/100\n",
            "10/10 [==============================] - 0s 7ms/step - loss: 0.1400 - accuracy: 0.0000e+00 - precision: 0.9570 - recall: 1.0000 - val_loss: 0.1541 - val_accuracy: 0.0000e+00 - val_precision: 0.9508 - val_recall: 1.0000\n",
            "Epoch 92/100\n",
            "10/10 [==============================] - 0s 7ms/step - loss: 0.1290 - accuracy: 0.0000e+00 - precision: 0.9639 - recall: 1.0000 - val_loss: 0.1531 - val_accuracy: 0.0000e+00 - val_precision: 0.9508 - val_recall: 1.0000\n",
            "Epoch 93/100\n",
            "10/10 [==============================] - 0s 7ms/step - loss: 0.1325 - accuracy: 0.0000e+00 - precision: 0.9671 - recall: 1.0000 - val_loss: 0.1521 - val_accuracy: 0.0000e+00 - val_precision: 0.9508 - val_recall: 1.0000\n",
            "Epoch 94/100\n",
            "10/10 [==============================] - 0s 6ms/step - loss: 0.1283 - accuracy: 0.0000e+00 - precision: 0.9716 - recall: 1.0000 - val_loss: 0.1511 - val_accuracy: 0.0000e+00 - val_precision: 0.9508 - val_recall: 1.0000\n",
            "Epoch 95/100\n",
            "10/10 [==============================] - 0s 8ms/step - loss: 0.1326 - accuracy: 0.0000e+00 - precision: 0.9616 - recall: 1.0000 - val_loss: 0.1502 - val_accuracy: 0.0000e+00 - val_precision: 0.9508 - val_recall: 1.0000\n",
            "Epoch 96/100\n",
            "10/10 [==============================] - 0s 6ms/step - loss: 0.1313 - accuracy: 0.0000e+00 - precision: 0.9624 - recall: 1.0000 - val_loss: 0.1492 - val_accuracy: 0.0000e+00 - val_precision: 0.9508 - val_recall: 1.0000\n",
            "Epoch 97/100\n",
            "10/10 [==============================] - 0s 6ms/step - loss: 0.1178 - accuracy: 0.0000e+00 - precision: 0.9790 - recall: 1.0000 - val_loss: 0.1482 - val_accuracy: 0.0000e+00 - val_precision: 0.9508 - val_recall: 1.0000\n",
            "Epoch 98/100\n",
            "10/10 [==============================] - 0s 8ms/step - loss: 0.1329 - accuracy: 0.0000e+00 - precision: 0.9651 - recall: 1.0000 - val_loss: 0.1472 - val_accuracy: 0.0000e+00 - val_precision: 0.9508 - val_recall: 1.0000\n",
            "Epoch 99/100\n",
            "10/10 [==============================] - 0s 6ms/step - loss: 0.1176 - accuracy: 0.0000e+00 - precision: 0.9737 - recall: 1.0000 - val_loss: 0.1462 - val_accuracy: 0.0000e+00 - val_precision: 0.9508 - val_recall: 1.0000\n",
            "Epoch 100/100\n",
            "10/10 [==============================] - 0s 7ms/step - loss: 0.1180 - accuracy: 0.0000e+00 - precision: 0.9665 - recall: 1.0000 - val_loss: 0.1452 - val_accuracy: 0.0000e+00 - val_precision: 0.9508 - val_recall: 1.0000\n"
          ],
          "name": "stdout"
        }
      ]
    },
    {
      "cell_type": "code",
      "metadata": {
        "colab": {
          "base_uri": "https://localhost:8080/"
        },
        "id": "0tjpfrg8WNTW",
        "outputId": "931e64fb-284a-4f42-810d-2b8e5765866f"
      },
      "source": [
        "ensembler_test = np.transpose(np.array([LogReg.predict_proba(x_test)[:,1],RF.predict_proba(x_test)[:,1],KNN.predict_proba(x_test)[:,1]]))\n",
        "acc_DL = (np.array(tf.greater(ensembler.predict(ensembler_test),.5)).flatten().astype('int') == y_test).sum()/y_test.shape[0]*100\n",
        "print('Accuracy of ensembler model is',acc_DL)\n",
        "acc_LR = (LogReg.predict(x_test)==y_test).sum()/y_test.shape[0]*100\n",
        "print('Accuracy of Logistic Regression model is',acc_SK)\n",
        "acc_KNN = (KNN.predict(x_test)==y_test).sum()/y_test.shape[0]*100\n",
        "print('Accuracy of K-nearest neighbors model is',acc_SK)\n",
        "acc_RF = (RF.predict(x_test)==y_test).sum()/y_test.shape[0]*100\n",
        "print('Accuracy of Random Forest model is',acc_SK)"
      ],
      "execution_count": 60,
      "outputs": [
        {
          "output_type": "stream",
          "text": [
            "Accuracy of ensembler model is 96.49122807017544\n",
            "Accuracy of Logistic Regression model is 95.6140350877193\n",
            "Accuracy of K-nearest neighbors model is 95.6140350877193\n",
            "Accuracy of Random Forest model is 95.6140350877193\n"
          ],
          "name": "stdout"
        }
      ]
    },
    {
      "cell_type": "code",
      "metadata": {
        "id": "nPwavnEAzlhP"
      },
      "source": [
        ""
      ],
      "execution_count": 41,
      "outputs": []
    }
  ]
}