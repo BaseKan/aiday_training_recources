{
  "nbformat": 4,
  "nbformat_minor": 0,
  "metadata": {
    "colab": {
      "name": "Oplossingen_huiswerk.ipynb",
      "provenance": [],
      "authorship_tag": "ABX9TyPkR+sfrWraQGG83xxac6lF",
      "include_colab_link": true
    },
    "kernelspec": {
      "name": "python3",
      "display_name": "Python 3"
    },
    "language_info": {
      "name": "python"
    }
  },
  "cells": [
    {
      "cell_type": "markdown",
      "metadata": {
        "id": "view-in-github",
        "colab_type": "text"
      },
      "source": [
        "<a href=\"https://colab.research.google.com/github/BaseKan/aiday_training_resources/blob/main/TF_basics/Oplossingen_huiswerk.ipynb\" target=\"_parent\"><img src=\"https://colab.research.google.com/assets/colab-badge.svg\" alt=\"Open In Colab\"/></a>"
      ]
    },
    {
      "cell_type": "code",
      "metadata": {
        "colab": {
          "base_uri": "https://localhost:8080/"
        },
        "id": "ZA-EvZMOuvSp",
        "outputId": "fddb0351-213d-4dc1-8c52-a9f77f49e2a6"
      },
      "source": [
        "import tensorflow as tf\n",
        "from tensorflow.keras import layers, models\n",
        "from tensorflow.keras.datasets import boston_housing\n",
        "from tensorflow.keras.utils import plot_model\n",
        "from tensorflow.keras.optimizers import SGD\n",
        "import numpy as np\n",
        "import matplotlib.pyplot as plt\n",
        "from sklearn.datasets import load_diabetes, load_breast_cancer, load_wine\n",
        "from sklearn.model_selection import train_test_split\n",
        "from IPython.display import clear_output\n",
        "print(tf.__version__)"
      ],
      "execution_count": 19,
      "outputs": [
        {
          "output_type": "stream",
          "text": [
            "2.4.1\n"
          ],
          "name": "stdout"
        }
      ]
    },
    {
      "cell_type": "markdown",
      "metadata": {
        "id": "qrlqAU4ru70B"
      },
      "source": [
        "**Opdracht een & twee** Train een deep learning model op de Diabetes dataset (met maar een kolom) met maar een Dense laag met maar 1 neuron (unit). Train een lineair regressiemodel met sklearn. Maak daarna een scatterplot van de traindata met op de x-as de eerste kolom van de traindata en op de y-as de y_train. Voeg nu twee lijnen toe die met voorspelling van het sklearn model en het keras model."
      ]
    },
    {
      "cell_type": "code",
      "metadata": {
        "id": "d7bMjyluu6jP"
      },
      "source": [
        "# inladen data\n",
        "data = load_diabetes()\n",
        "x_train, x_test, y_train, y_test = train_test_split(data['data'],data['target'],test_size=0.2, random_state=42)\n",
        "\n",
        "# we houden voor deze opdracht enkel kolom drie\n",
        "x_train = x_train[:,2]\n",
        "x_test = x_test[:,2]\n",
        "\n",
        "# definieren model - gebruiken de alternatieve methode van definieren\n",
        "input = layers.Input(shape=(1,))\n",
        "dense = layers.Dense(1)\n",
        "output = dense(input)\n",
        "\n",
        "regressie_model = models.Model(input,output)\n",
        "\n",
        "# definieren sklearn model\n",
        "from sklearn.linear_model import LinearRegression\n",
        "lm = LinearRegression().fit(x_train.reshape(-1,1),y_train)\n",
        "y_SK = lm.predict(x_train.reshape(-1,1))"
      ],
      "execution_count": 2,
      "outputs": []
    },
    {
      "cell_type": "code",
      "metadata": {
        "colab": {
          "base_uri": "https://localhost:8080/",
          "height": 265
        },
        "id": "4HxvAwZQw3pD",
        "outputId": "ad643688-7f4c-4379-8639-4263fab32b0b"
      },
      "source": [
        "# compilen model\n",
        "rate = 0.5\n",
        "rate_slow = 0.08\n",
        "epochs = 250\n",
        "def schedule(epoch, lr):\n",
        "  if epoch >= 50:\n",
        "    return rate_slow\n",
        "  return rate\n",
        " \n",
        "scheduler = tf.keras.callbacks.LearningRateScheduler(schedule)\n",
        "\n",
        "regressie_model.compile(optimizer=SGD(rate,0.9),\n",
        "                        loss='mse')\n",
        "\n",
        "# callback voor plot\n",
        "\n",
        "class Plot(tf.keras.callbacks.Callback):\n",
        "  def on_epoch_end(self, batch, logs={}):\n",
        "    clear_output(wait=True)\n",
        "    y_DL = regressie_model.predict(x_train)\n",
        "    plt.scatter(x_train,y_train)\n",
        "    plt.plot(x_train,y_DL, label='keras')\n",
        "    plt.plot(x_train,y_SK, label='sklearn')\n",
        "    plt.legend()\n",
        "    plt.show()\n",
        "\n",
        "\n",
        "# trainen model\n",
        "history = regressie_model.fit(x=x_train,\n",
        "                    y=y_train,\n",
        "                    batch_size=x_train.shape[0],\n",
        "                    epochs=epochs,\n",
        "                    callbacks=[scheduler,Plot()]\n",
        "                    )"
      ],
      "execution_count": 5,
      "outputs": [
        {
          "output_type": "display_data",
          "data": {
            "image/png": "[encoded data removed]",
            "text/plain": [
              "<Figure size 432x288 with 1 Axes>"
            ]
          },
          "metadata": {
            "tags": [],
            "needs_background": "light"
          }
        }
      ]
    },
    {
      "cell_type": "markdown",
      "metadata": {
        "id": "EUBvTRt7vUgs"
      },
      "source": [
        "**Opdracht drie** Gebruik nu alle diabetesdata en train een lineair regressiemodel. Train nu een deep learning model met betere validatie score. Vergelijke de MSE op de test set. "
      ]
    },
    {
      "cell_type": "code",
      "metadata": {
        "colab": {
          "base_uri": "https://localhost:8080/"
        },
        "id": "f3U3SxHPvUtt",
        "outputId": "97219627-315b-4df0-9820-be17753d5e3c"
      },
      "source": [
        "# inladen data\n",
        "data = load_diabetes()\n",
        "x_train, x_test, y_train, y_test = train_test_split(data['data'],data['target'],test_size=0.2, random_state=42)\n",
        "\n",
        "# definieren model - gebruiken de alternatieve methode van definieren\n",
        "input = layers.Input(shape=(x_train.shape[1],))\n",
        "dense = layers.Dense(64)(input)\n",
        "dense1 = layers.Dense(32)(dense)\n",
        "output = layers.Dense(1)(dense1)\n",
        "\n",
        "regressie_model2 = models.Model(input,output)\n",
        "\n",
        "regressie_model2.compile(optimizer=SGD(5e-5,0.9),\n",
        "                        loss='mse')\n",
        "\n",
        "history2 = regressie_model2.fit(x=x_train,\n",
        "                    y=y_train,\n",
        "                    batch_size=40,\n",
        "                    epochs=40,\n",
        "                     validation_split=0.2)\n",
        "\n",
        "# definieren sklearn model\n",
        "from sklearn.linear_model import LinearRegression\n",
        "lm2 = LinearRegression().fit(x_train,y_train)"
      ],
      "execution_count": 6,
      "outputs": [
        {
          "output_type": "stream",
          "text": [
            "Epoch 1/40\n",
            "8/8 [==============================] - 1s 35ms/step - loss: 31909.4095 - val_loss: 21607.6094\n",
            "Epoch 2/40\n",
            "8/8 [==============================] - 0s 9ms/step - loss: 28816.4484 - val_loss: 13634.8486\n",
            "Epoch 3/40\n",
            "8/8 [==============================] - 0s 10ms/step - loss: 16974.4474 - val_loss: 5957.7358\n",
            "Epoch 4/40\n",
            "8/8 [==============================] - 0s 8ms/step - loss: 8268.3120 - val_loss: 4516.5210\n",
            "Epoch 5/40\n",
            "8/8 [==============================] - 0s 9ms/step - loss: 6981.8676 - val_loss: 4329.1118\n",
            "Epoch 6/40\n",
            "8/8 [==============================] - 0s 9ms/step - loss: 6564.9880 - val_loss: 9642.0547\n",
            "Epoch 7/40\n",
            "8/8 [==============================] - 0s 8ms/step - loss: 7722.8877 - val_loss: 4496.3320\n",
            "Epoch 8/40\n",
            "8/8 [==============================] - 0s 9ms/step - loss: 5922.0016 - val_loss: 4348.9844\n",
            "Epoch 9/40\n",
            "8/8 [==============================] - 0s 9ms/step - loss: 5466.1571 - val_loss: 5699.9429\n",
            "Epoch 10/40\n",
            "8/8 [==============================] - 0s 9ms/step - loss: 5581.6830 - val_loss: 3643.4785\n",
            "Epoch 11/40\n",
            "8/8 [==============================] - 0s 9ms/step - loss: 4887.2243 - val_loss: 3598.7590\n",
            "Epoch 12/40\n",
            "8/8 [==============================] - 0s 9ms/step - loss: 4366.2906 - val_loss: 3814.3486\n",
            "Epoch 13/40\n",
            "8/8 [==============================] - 0s 8ms/step - loss: 3625.2437 - val_loss: 3406.5525\n",
            "Epoch 14/40\n",
            "8/8 [==============================] - 0s 9ms/step - loss: 3879.8238 - val_loss: 3266.1753\n",
            "Epoch 15/40\n",
            "8/8 [==============================] - 0s 9ms/step - loss: 3550.3943 - val_loss: 3279.2571\n",
            "Epoch 16/40\n",
            "8/8 [==============================] - 0s 8ms/step - loss: 3443.6044 - val_loss: 3648.7795\n",
            "Epoch 17/40\n",
            "8/8 [==============================] - 0s 8ms/step - loss: 3821.1285 - val_loss: 3852.8354\n",
            "Epoch 18/40\n",
            "8/8 [==============================] - 0s 8ms/step - loss: 3425.9451 - val_loss: 3281.2703\n",
            "Epoch 19/40\n",
            "8/8 [==============================] - 0s 8ms/step - loss: 3635.8960 - val_loss: 3520.1016\n",
            "Epoch 20/40\n",
            "8/8 [==============================] - 0s 10ms/step - loss: 3844.9336 - val_loss: 4352.4780\n",
            "Epoch 21/40\n",
            "8/8 [==============================] - 0s 8ms/step - loss: 3318.5920 - val_loss: 3759.9534\n",
            "Epoch 22/40\n",
            "8/8 [==============================] - 0s 10ms/step - loss: 3240.7402 - val_loss: 5073.4668\n",
            "Epoch 23/40\n",
            "8/8 [==============================] - 0s 10ms/step - loss: 4301.4643 - val_loss: 5112.4595\n",
            "Epoch 24/40\n",
            "8/8 [==============================] - 0s 11ms/step - loss: 4580.9862 - val_loss: 3498.4919\n",
            "Epoch 25/40\n",
            "8/8 [==============================] - 0s 9ms/step - loss: 3859.4266 - val_loss: 3391.4888\n",
            "Epoch 26/40\n",
            "8/8 [==============================] - 0s 8ms/step - loss: 4397.5155 - val_loss: 4462.9014\n",
            "Epoch 27/40\n",
            "8/8 [==============================] - 0s 9ms/step - loss: 3280.1688 - val_loss: 4313.7070\n",
            "Epoch 28/40\n",
            "8/8 [==============================] - 0s 9ms/step - loss: 4153.2046 - val_loss: 3482.0146\n",
            "Epoch 29/40\n",
            "8/8 [==============================] - 0s 9ms/step - loss: 3527.2791 - val_loss: 3537.8281\n",
            "Epoch 30/40\n",
            "8/8 [==============================] - 0s 9ms/step - loss: 4299.7663 - val_loss: 6788.4927\n",
            "Epoch 31/40\n",
            "8/8 [==============================] - 0s 9ms/step - loss: 4309.2496 - val_loss: 3190.3047\n",
            "Epoch 32/40\n",
            "8/8 [==============================] - 0s 9ms/step - loss: 3243.6446 - val_loss: 3335.5903\n",
            "Epoch 33/40\n",
            "8/8 [==============================] - 0s 9ms/step - loss: 3488.2632 - val_loss: 3852.9692\n",
            "Epoch 34/40\n",
            "8/8 [==============================] - 0s 10ms/step - loss: 2948.6512 - val_loss: 4151.0664\n",
            "Epoch 35/40\n",
            "8/8 [==============================] - 0s 9ms/step - loss: 3811.3772 - val_loss: 3364.5195\n",
            "Epoch 36/40\n",
            "8/8 [==============================] - 0s 9ms/step - loss: 3531.2945 - val_loss: 4033.9819\n",
            "Epoch 37/40\n",
            "8/8 [==============================] - 0s 9ms/step - loss: 3068.2747 - val_loss: 3438.4885\n",
            "Epoch 38/40\n",
            "8/8 [==============================] - 0s 9ms/step - loss: 3145.7921 - val_loss: 3339.1316\n",
            "Epoch 39/40\n",
            "8/8 [==============================] - 0s 10ms/step - loss: 2981.0897 - val_loss: 3406.0508\n",
            "Epoch 40/40\n",
            "8/8 [==============================] - 0s 9ms/step - loss: 2911.1594 - val_loss: 3577.5471\n"
          ],
          "name": "stdout"
        }
      ]
    },
    {
      "cell_type": "markdown",
      "metadata": {
        "id": "TN9My7Zr_eO_"
      },
      "source": [
        ""
      ]
    },
    {
      "cell_type": "code",
      "metadata": {
        "colab": {
          "base_uri": "https://localhost:8080/"
        },
        "id": "gzGku2miOwpW",
        "outputId": "919029c0-3eb0-46a5-c16a-84ad9449671f"
      },
      "source": [
        "print('Linear regression test MSE', np.mean((regressie_model2.predict(x_test)-y_test)**2))\n",
        "print('Deep Learning test MSE',np.mean((lm2.predict(x_test)-y_test)**2))"
      ],
      "execution_count": 7,
      "outputs": [
        {
          "output_type": "stream",
          "text": [
            "Linear regression test MSE 8058.243063193635\n",
            "Deep Learning test MSE 2900.1732878832318\n"
          ],
          "name": "stdout"
        }
      ]
    },
    {
      "cell_type": "markdown",
      "metadata": {
        "id": "IcDGkcDYvU0D"
      },
      "source": [
        "**Opdracht vier** Ontwerp en train een meerlaags classificatiemodel op de breast cancer dataset. \n",
        "\n",
        "*   De activatie van je laatste laag moet voor binaire classificatie 'sigmoid' zijn (als er meer dan twee klassen waren geweest hadden we 'softmax' gebruikt)\n",
        "\n",
        "*   Als loss kan je 'binary_crossentropy' gebruiken\n",
        "\n",
        "Er zijn veel metrieken die je kan bekijken, bijvoorbeeld: precision, accuracy, recall, etc. "
      ]
    },
    {
      "cell_type": "code",
      "metadata": {
        "id": "QAt2b6hfvU5p"
      },
      "source": [
        "# inladen data\n",
        "import pandas as pd\n",
        "data = pd.read_csv('telecom_churn.csv')\n",
        "x_train, x_test, y_train, y_test = train_test_split(data.drop('Churn',axis=1),data['Churn'],test_size=0.2, random_state=42)\n",
        "\n",
        "# definieren model - gebruiken de alternatieve methode van definieren\n",
        "input = layers.Input(shape=(x_train.shape[1],))\n",
        "dense = layers.Dense(64)(input)\n",
        "dense1 = layers.Dense(32)(dense)\n",
        "output = layers.Dense(1,activation='sigmoid')(dense1)\n",
        "\n",
        "logregressie_model = models.Model(input,output)"
      ],
      "execution_count": 70,
      "outputs": []
    },
    {
      "cell_type": "code",
      "metadata": {
        "colab": {
          "base_uri": "https://localhost:8080/"
        },
        "id": "u3F_B5SkRa77",
        "outputId": "eed7dfa3-f07d-4e11-f2d7-0db64c4b4efc"
      },
      "source": [
        "logregressie_model.compile(optimizer=SGD(5e-6,0.7),\n",
        "                        loss='binary_crossentropy',\n",
        "                        metrics=['Accuracy','Precision','Recall']\n",
        ")\n",
        "\n",
        "history2 = logregressie_model.fit(x=x_train,\n",
        "                    y=y_train,\n",
        "                    batch_size=40,\n",
        "                    epochs=40,\n",
        "                     validation_split=0.2)"
      ],
      "execution_count": 71,
      "outputs": [
        {
          "output_type": "stream",
          "text": [
            "Epoch 1/40\n",
            "54/54 [==============================] - 1s 9ms/step - loss: 74.3891 - accuracy: 0.0986 - precision: 0.1286 - recall: 0.8319 - val_loss: 6.5043 - val_accuracy: 0.0112 - val_precision: 0.0795 - val_recall: 0.0814\n",
            "Epoch 2/40\n",
            "54/54 [==============================] - 0s 3ms/step - loss: 5.3349 - accuracy: 0.0087 - precision: 0.1510 - recall: 0.1709 - val_loss: 5.9010 - val_accuracy: 0.0037 - val_precision: 0.0723 - val_recall: 0.0698\n",
            "Epoch 3/40\n",
            "54/54 [==============================] - 0s 3ms/step - loss: 4.8770 - accuracy: 0.0057 - precision: 0.1496 - recall: 0.1655 - val_loss: 5.2692 - val_accuracy: 0.0019 - val_precision: 0.0714 - val_recall: 0.0698\n",
            "Epoch 4/40\n",
            "54/54 [==============================] - 0s 2ms/step - loss: 4.2543 - accuracy: 0.0063 - precision: 0.1534 - recall: 0.1663 - val_loss: 4.7497 - val_accuracy: 0.0000e+00 - val_precision: 0.0563 - val_recall: 0.0465\n",
            "Epoch 5/40\n",
            "54/54 [==============================] - 0s 2ms/step - loss: 3.3350 - accuracy: 0.0030 - precision: 0.1535 - recall: 0.1619 - val_loss: 4.0859 - val_accuracy: 0.0000e+00 - val_precision: 0.0714 - val_recall: 0.0698\n",
            "Epoch 6/40\n",
            "54/54 [==============================] - 0s 2ms/step - loss: 2.9816 - accuracy: 7.8277e-04 - precision: 0.1038 - recall: 0.1214 - val_loss: 3.5858 - val_accuracy: 0.0000e+00 - val_precision: 0.0563 - val_recall: 0.0465\n",
            "Epoch 7/40\n",
            "54/54 [==============================] - 0s 3ms/step - loss: 2.8201 - accuracy: 3.1954e-04 - precision: 0.1318 - recall: 0.1359 - val_loss: 3.0470 - val_accuracy: 0.0000e+00 - val_precision: 0.0580 - val_recall: 0.0465\n",
            "Epoch 8/40\n",
            "54/54 [==============================] - 0s 2ms/step - loss: 2.3398 - accuracy: 1.4359e-04 - precision: 0.1324 - recall: 0.1388 - val_loss: 2.4978 - val_accuracy: 0.0000e+00 - val_precision: 0.0875 - val_recall: 0.0814\n",
            "Epoch 9/40\n",
            "54/54 [==============================] - 0s 2ms/step - loss: 1.9591 - accuracy: 3.0330e-04 - precision: 0.0754 - recall: 0.0883 - val_loss: 2.0812 - val_accuracy: 0.0000e+00 - val_precision: 0.1047 - val_recall: 0.1047\n",
            "Epoch 10/40\n",
            "54/54 [==============================] - 0s 2ms/step - loss: 1.5479 - accuracy: 0.0000e+00 - precision: 0.1151 - recall: 0.1326 - val_loss: 1.7572 - val_accuracy: 0.0000e+00 - val_precision: 0.1026 - val_recall: 0.0930\n",
            "Epoch 11/40\n",
            "54/54 [==============================] - 0s 2ms/step - loss: 1.3857 - accuracy: 0.0000e+00 - precision: 0.0853 - recall: 0.0927 - val_loss: 1.4906 - val_accuracy: 0.0000e+00 - val_precision: 0.0933 - val_recall: 0.0814\n",
            "Epoch 12/40\n",
            "54/54 [==============================] - 0s 2ms/step - loss: 1.1452 - accuracy: 0.0000e+00 - precision: 0.0905 - recall: 0.0965 - val_loss: 1.2786 - val_accuracy: 0.0000e+00 - val_precision: 0.0816 - val_recall: 0.0930\n",
            "Epoch 13/40\n",
            "54/54 [==============================] - 0s 3ms/step - loss: 1.0872 - accuracy: 0.0000e+00 - precision: 0.1186 - recall: 0.1359 - val_loss: 1.1188 - val_accuracy: 0.0000e+00 - val_precision: 0.0897 - val_recall: 0.0814\n",
            "Epoch 14/40\n",
            "54/54 [==============================] - 0s 2ms/step - loss: 0.8732 - accuracy: 0.0000e+00 - precision: 0.0766 - recall: 0.0707 - val_loss: 0.9809 - val_accuracy: 0.0000e+00 - val_precision: 0.0909 - val_recall: 0.0814\n",
            "Epoch 15/40\n",
            "54/54 [==============================] - 0s 2ms/step - loss: 0.8076 - accuracy: 0.0000e+00 - precision: 0.0793 - recall: 0.0676 - val_loss: 0.9358 - val_accuracy: 0.0000e+00 - val_precision: 0.0789 - val_recall: 0.0349\n",
            "Epoch 16/40\n",
            "54/54 [==============================] - 0s 3ms/step - loss: 0.7229 - accuracy: 0.0000e+00 - precision: 0.0770 - recall: 0.0619 - val_loss: 0.8241 - val_accuracy: 0.0000e+00 - val_precision: 0.0732 - val_recall: 0.0349\n",
            "Epoch 17/40\n",
            "54/54 [==============================] - 0s 2ms/step - loss: 0.6501 - accuracy: 0.0000e+00 - precision: 0.0973 - recall: 0.0672 - val_loss: 0.7373 - val_accuracy: 0.0000e+00 - val_precision: 0.0964 - val_recall: 0.0930\n",
            "Epoch 18/40\n",
            "54/54 [==============================] - 0s 3ms/step - loss: 0.6677 - accuracy: 0.0000e+00 - precision: 0.1374 - recall: 0.1085 - val_loss: 0.7249 - val_accuracy: 0.0000e+00 - val_precision: 0.1053 - val_recall: 0.0233\n",
            "Epoch 19/40\n",
            "54/54 [==============================] - 0s 3ms/step - loss: 0.5833 - accuracy: 0.0000e+00 - precision: 0.0609 - recall: 0.0289 - val_loss: 0.6344 - val_accuracy: 0.0000e+00 - val_precision: 0.0870 - val_recall: 0.0465\n",
            "Epoch 20/40\n",
            "54/54 [==============================] - 0s 3ms/step - loss: 0.5687 - accuracy: 0.0000e+00 - precision: 0.0665 - recall: 0.0292 - val_loss: 0.6146 - val_accuracy: 0.0000e+00 - val_precision: 0.1094 - val_recall: 0.0814\n",
            "Epoch 21/40\n",
            "54/54 [==============================] - 0s 2ms/step - loss: 0.5449 - accuracy: 0.0000e+00 - precision: 0.1184 - recall: 0.0518 - val_loss: 0.5808 - val_accuracy: 0.0000e+00 - val_precision: 0.0385 - val_recall: 0.0116\n",
            "Epoch 22/40\n",
            "54/54 [==============================] - 0s 3ms/step - loss: 0.5353 - accuracy: 0.0000e+00 - precision: 0.1170 - recall: 0.0432 - val_loss: 0.5930 - val_accuracy: 0.0000e+00 - val_precision: 0.0000e+00 - val_recall: 0.0000e+00\n",
            "Epoch 23/40\n",
            "54/54 [==============================] - 0s 2ms/step - loss: 0.4767 - accuracy: 0.0000e+00 - precision: 0.1410 - recall: 0.0247 - val_loss: 0.5452 - val_accuracy: 0.0000e+00 - val_precision: 0.0909 - val_recall: 0.0116\n",
            "Epoch 24/40\n",
            "54/54 [==============================] - 0s 2ms/step - loss: 0.5012 - accuracy: 0.0000e+00 - precision: 0.1866 - recall: 0.0331 - val_loss: 0.5351 - val_accuracy: 0.0000e+00 - val_precision: 0.1000 - val_recall: 0.0116\n",
            "Epoch 25/40\n",
            "54/54 [==============================] - 0s 3ms/step - loss: 0.4496 - accuracy: 0.0000e+00 - precision: 0.1180 - recall: 0.0256 - val_loss: 0.5243 - val_accuracy: 0.0000e+00 - val_precision: 0.1250 - val_recall: 0.0116\n",
            "Epoch 26/40\n",
            "54/54 [==============================] - 0s 3ms/step - loss: 0.4874 - accuracy: 0.0000e+00 - precision: 0.1996 - recall: 0.0246 - val_loss: 0.5196 - val_accuracy: 0.0000e+00 - val_precision: 0.2222 - val_recall: 0.0233\n",
            "Epoch 27/40\n",
            "54/54 [==============================] - 0s 3ms/step - loss: 0.4636 - accuracy: 0.0000e+00 - precision: 0.4076 - recall: 0.0523 - val_loss: 0.5891 - val_accuracy: 0.0000e+00 - val_precision: 0.0000e+00 - val_recall: 0.0000e+00\n",
            "Epoch 28/40\n",
            "54/54 [==============================] - 0s 3ms/step - loss: 0.5135 - accuracy: 0.0000e+00 - precision: 0.2118 - recall: 0.0238 - val_loss: 0.5140 - val_accuracy: 0.0000e+00 - val_precision: 0.2500 - val_recall: 0.0116\n",
            "Epoch 29/40\n",
            "54/54 [==============================] - 0s 3ms/step - loss: 0.4943 - accuracy: 0.0000e+00 - precision: 0.1655 - recall: 0.0275 - val_loss: 0.5085 - val_accuracy: 0.0000e+00 - val_precision: 0.2000 - val_recall: 0.0116\n",
            "Epoch 30/40\n",
            "54/54 [==============================] - 0s 3ms/step - loss: 0.4406 - accuracy: 0.0000e+00 - precision: 0.1640 - recall: 0.0263 - val_loss: 0.5425 - val_accuracy: 0.0000e+00 - val_precision: 0.0000e+00 - val_recall: 0.0000e+00\n",
            "Epoch 31/40\n",
            "54/54 [==============================] - 0s 3ms/step - loss: 0.4915 - accuracy: 0.0000e+00 - precision: 0.1633 - recall: 0.0170 - val_loss: 0.5442 - val_accuracy: 0.0000e+00 - val_precision: 0.2742 - val_recall: 0.1977\n",
            "Epoch 32/40\n",
            "54/54 [==============================] - 0s 2ms/step - loss: 0.4614 - accuracy: 0.0000e+00 - precision: 0.2159 - recall: 0.0683 - val_loss: 0.5080 - val_accuracy: 0.0000e+00 - val_precision: 0.3333 - val_recall: 0.0116\n",
            "Epoch 33/40\n",
            "54/54 [==============================] - 0s 3ms/step - loss: 0.4595 - accuracy: 0.0000e+00 - precision: 0.1712 - recall: 0.0111 - val_loss: 0.5276 - val_accuracy: 0.0000e+00 - val_precision: 0.0000e+00 - val_recall: 0.0000e+00\n",
            "Epoch 34/40\n",
            "54/54 [==============================] - 0s 3ms/step - loss: 0.4469 - accuracy: 0.0000e+00 - precision: 0.0592 - recall: 0.0046 - val_loss: 0.5430 - val_accuracy: 0.0000e+00 - val_precision: 0.0000e+00 - val_recall: 0.0000e+00\n",
            "Epoch 35/40\n",
            "54/54 [==============================] - 0s 3ms/step - loss: 0.4660 - accuracy: 0.0000e+00 - precision: 0.3318 - recall: 0.0489 - val_loss: 0.5063 - val_accuracy: 0.0000e+00 - val_precision: 0.3333 - val_recall: 0.0116\n",
            "Epoch 36/40\n",
            "54/54 [==============================] - 0s 3ms/step - loss: 0.4719 - accuracy: 0.0000e+00 - precision: 0.2360 - recall: 0.0254 - val_loss: 0.4965 - val_accuracy: 0.0000e+00 - val_precision: 0.5000 - val_recall: 0.0233\n",
            "Epoch 37/40\n",
            "54/54 [==============================] - 0s 3ms/step - loss: 0.4385 - accuracy: 0.0000e+00 - precision: 0.1192 - recall: 0.0071 - val_loss: 0.4971 - val_accuracy: 0.0000e+00 - val_precision: 0.5000 - val_recall: 0.0233\n",
            "Epoch 38/40\n",
            "54/54 [==============================] - 0s 3ms/step - loss: 0.4435 - accuracy: 0.0000e+00 - precision: 0.5628 - recall: 0.0386 - val_loss: 0.5147 - val_accuracy: 0.0000e+00 - val_precision: 0.0000e+00 - val_recall: 0.0000e+00\n",
            "Epoch 39/40\n",
            "54/54 [==============================] - 0s 3ms/step - loss: 0.4553 - accuracy: 0.0000e+00 - precision: 0.1633 - recall: 0.0189 - val_loss: 0.4955 - val_accuracy: 0.0000e+00 - val_precision: 0.5000 - val_recall: 0.0233\n",
            "Epoch 40/40\n",
            "54/54 [==============================] - 0s 3ms/step - loss: 0.4700 - accuracy: 0.0000e+00 - precision: 0.1048 - recall: 0.0079 - val_loss: 0.5155 - val_accuracy: 0.0000e+00 - val_precision: 0.0000e+00 - val_recall: 0.0000e+00\n"
          ],
          "name": "stdout"
        }
      ]
    },
    {
      "cell_type": "code",
      "metadata": {
        "colab": {
          "base_uri": "https://localhost:8080/"
        },
        "id": "ahpahNKrQn-k",
        "outputId": "e004d73d-82e4-4aed-bea0-daff4dba5f99"
      },
      "source": [
        "# definieren sklearn model\n",
        "from sklearn.linear_model import LogisticRegression\n",
        "LogReg = LogisticRegression().fit(x_train,y_train)"
      ],
      "execution_count": 74,
      "outputs": [
        {
          "output_type": "stream",
          "text": [
            "/usr/local/lib/python3.7/dist-packages/sklearn/linear_model/_logistic.py:940: ConvergenceWarning: lbfgs failed to converge (status=1):\n",
            "STOP: TOTAL NO. of ITERATIONS REACHED LIMIT.\n",
            "\n",
            "Increase the number of iterations (max_iter) or scale the data as shown in:\n",
            "    https://scikit-learn.org/stable/modules/preprocessing.html\n",
            "Please also refer to the documentation for alternative solver options:\n",
            "    https://scikit-learn.org/stable/modules/linear_model.html#logistic-regression\n",
            "  extra_warning_msg=_LOGISTIC_SOLVER_CONVERGENCE_MSG)\n"
          ],
          "name": "stderr"
        }
      ]
    },
    {
      "cell_type": "code",
      "metadata": {
        "colab": {
          "base_uri": "https://localhost:8080/"
        },
        "id": "kxHUxcP9SCLX",
        "outputId": "b777052f-bc21-4482-a9a0-0071d304f97d"
      },
      "source": [
        "acc_DL = (np.array(tf.greater(logregressie_model.predict(x_test),.5)).flatten().astype('int') == y_test).sum()/y_test.shape[0]*100\n",
        "print('Accuracy of deep learning model is',acc_DL)\n",
        "acc_SK = (LogReg.predict(x_test)==y_test).sum()/y_test.shape[0]*100\n",
        "print('Accuracy of Logistic Regression model is',acc_SK)"
      ],
      "execution_count": 75,
      "outputs": [
        {
          "output_type": "stream",
          "text": [
            "Accuracy of deep learning model is 84.8575712143928\n",
            "Accuracy of Logistic Regression model is 84.70764617691154\n"
          ],
          "name": "stdout"
        }
      ]
    },
    {
      "cell_type": "markdown",
      "metadata": {
        "id": "SBvQQR6nvU_y"
      },
      "source": [
        "**Bonus: ensembling/stacking** Laten we kijken of we met stacking het bovenstaande deep learning model kunnen verslaan. Bij ensemblen trainen we in dit geval een netwerk met maar een laag, die de optimale combinatie van voorspelling zoekt van andere modellen. Doorloop de volgende 3 stappen:\n",
        "1. Train drie verschillende classificatiemodellen met sklearn, bijvoorbeeld randomforest, logistic regression en KNN\n",
        "2. Maak een nieuw numpy array met 3 kolommen, waar elke kolom de voorspellingen bevat van de drie sklearn modellen op de dataset x_train. \n",
        "3. Gebruik dit nieuwe dataframe als input voor een eenlaags neuraal netwerk met 1 neuron (zoals we bij opdracht een hadden ontworpen). De labels blijven natuurlijk y_train. \n",
        "\n",
        "Gefeliciteerd je hebt nu een ensemble model getraind! Om te testen of dit model beter werkt dan je deep learning model moet je nog 2 stappen doorlopen.\n",
        "\n",
        "i. Maak een nieuw dataframe met 3 kolommen, waar elke kolom de voorspellingen bevat van de drie sklearn modellen op de dataset x_test.\n",
        "\n",
        "ii. Doe model.predict op deze nieuwe dataset en bereken handmatig de loss en metrieken. \n",
        "\n",
        "*Nota bene: je kan de resultaten nog verder verbeteren door 4 modellen te ensemblen, waarvan het vierde model je deep learning model uit opdracht 3 is*"
      ]
    },
    {
      "cell_type": "code",
      "metadata": {
        "id": "yIca6LiuvVGS"
      },
      "source": [
        "from sklearn.ensemble import RandomForestClassifier\n",
        "from sklearn.neighbors import KNeighborsClassifier\n",
        "\n",
        "RF = RandomForestClassifier().fit(x_train,y_train)\n",
        "KNN = KNeighborsClassifier(n_neighbors=3).fit(x_train,y_train)\n",
        "\n",
        "ensemble_train = np.transpose(np.array([LogReg.predict(x_train),RF.predict(x_train),KNN.predict(x_train)]))"
      ],
      "execution_count": 76,
      "outputs": []
    },
    {
      "cell_type": "code",
      "metadata": {
        "colab": {
          "base_uri": "https://localhost:8080/"
        },
        "id": "wk3AOEB2UxCA",
        "outputId": "8653293b-5d96-412c-afe4-4a9057ec7d41"
      },
      "source": [
        "ensembler = models.Sequential()\n",
        "ensembler.add(layers.Input(shape=(3)))\n",
        "ensembler.add(layers.Dense(units=1, activation='sigmoid'))\n",
        "\n",
        "ensembler.compile(optimizer=SGD(1e-2,0.7),\n",
        "                        loss='binary_crossentropy',\n",
        "                        metrics=['Accuracy','Precision','Recall']\n",
        ")\n",
        "                  \n",
        "ensembler_history = ensembler.fit(x=ensemble_train,\n",
        "                    y=y_train,\n",
        "                    batch_size=40,\n",
        "                    epochs=100,\n",
        "                     validation_split=0.2)"
      ],
      "execution_count": 84,
      "outputs": [
        {
          "output_type": "stream",
          "text": [
            "Epoch 1/100\n",
            "54/54 [==============================] - 1s 9ms/step - loss: 0.6432 - accuracy: 0.0000e+00 - precision: 0.9818 - recall: 0.5045 - val_loss: 0.5314 - val_accuracy: 0.0000e+00 - val_precision: 0.0000e+00 - val_recall: 0.0000e+00\n",
            "Epoch 2/100\n",
            "54/54 [==============================] - 0s 3ms/step - loss: 0.4965 - accuracy: 0.0000e+00 - precision: 0.0000e+00 - recall: 0.0000e+00 - val_loss: 0.4487 - val_accuracy: 0.0000e+00 - val_precision: 0.0000e+00 - val_recall: 0.0000e+00\n",
            "Epoch 3/100\n",
            "54/54 [==============================] - 0s 2ms/step - loss: 0.4242 - accuracy: 0.0000e+00 - precision: 0.0000e+00 - recall: 0.0000e+00 - val_loss: 0.3983 - val_accuracy: 0.0000e+00 - val_precision: 0.0000e+00 - val_recall: 0.0000e+00\n",
            "Epoch 4/100\n",
            "54/54 [==============================] - 0s 2ms/step - loss: 0.3707 - accuracy: 0.0000e+00 - precision: 0.0000e+00 - recall: 0.0000e+00 - val_loss: 0.3624 - val_accuracy: 0.0000e+00 - val_precision: 0.0000e+00 - val_recall: 0.0000e+00\n",
            "Epoch 5/100\n",
            "54/54 [==============================] - 0s 2ms/step - loss: 0.3412 - accuracy: 0.0000e+00 - precision: 0.0000e+00 - recall: 0.0000e+00 - val_loss: 0.3338 - val_accuracy: 0.0000e+00 - val_precision: 0.0000e+00 - val_recall: 0.0000e+00\n",
            "Epoch 6/100\n",
            "54/54 [==============================] - 0s 2ms/step - loss: 0.3112 - accuracy: 0.0000e+00 - precision: 0.0000e+00 - recall: 0.0000e+00 - val_loss: 0.3095 - val_accuracy: 0.0000e+00 - val_precision: 0.0000e+00 - val_recall: 0.0000e+00\n",
            "Epoch 7/100\n",
            "54/54 [==============================] - 0s 2ms/step - loss: 0.2758 - accuracy: 0.0000e+00 - precision: 0.0000e+00 - recall: 0.0000e+00 - val_loss: 0.2885 - val_accuracy: 0.0000e+00 - val_precision: 0.0000e+00 - val_recall: 0.0000e+00\n",
            "Epoch 8/100\n",
            "54/54 [==============================] - 0s 2ms/step - loss: 0.2707 - accuracy: 0.0000e+00 - precision: 0.0000e+00 - recall: 0.0000e+00 - val_loss: 0.2691 - val_accuracy: 0.0000e+00 - val_precision: 0.0000e+00 - val_recall: 0.0000e+00\n",
            "Epoch 9/100\n",
            "54/54 [==============================] - 0s 2ms/step - loss: 0.2504 - accuracy: 0.0000e+00 - precision: 0.0000e+00 - recall: 0.0000e+00 - val_loss: 0.2522 - val_accuracy: 0.0000e+00 - val_precision: 0.0000e+00 - val_recall: 0.0000e+00\n",
            "Epoch 10/100\n",
            "54/54 [==============================] - 0s 2ms/step - loss: 0.2342 - accuracy: 0.0000e+00 - precision: 0.0000e+00 - recall: 0.0000e+00 - val_loss: 0.2370 - val_accuracy: 0.0000e+00 - val_precision: 0.0000e+00 - val_recall: 0.0000e+00\n",
            "Epoch 11/100\n",
            "54/54 [==============================] - 0s 2ms/step - loss: 0.2251 - accuracy: 0.0000e+00 - precision: 0.8909 - recall: 0.0612 - val_loss: 0.2230 - val_accuracy: 0.0000e+00 - val_precision: 1.0000 - val_recall: 0.5116\n",
            "Epoch 12/100\n",
            "54/54 [==============================] - 0s 3ms/step - loss: 0.2086 - accuracy: 0.0000e+00 - precision: 1.0000 - recall: 0.4563 - val_loss: 0.2106 - val_accuracy: 0.0000e+00 - val_precision: 1.0000 - val_recall: 0.5116\n",
            "Epoch 13/100\n",
            "54/54 [==============================] - 0s 2ms/step - loss: 0.1892 - accuracy: 0.0000e+00 - precision: 1.0000 - recall: 0.5412 - val_loss: 0.1991 - val_accuracy: 0.0000e+00 - val_precision: 1.0000 - val_recall: 1.0000\n",
            "Epoch 14/100\n",
            "54/54 [==============================] - 0s 2ms/step - loss: 0.1850 - accuracy: 0.0000e+00 - precision: 1.0000 - recall: 1.0000 - val_loss: 0.1887 - val_accuracy: 0.0000e+00 - val_precision: 1.0000 - val_recall: 1.0000\n",
            "Epoch 15/100\n",
            "54/54 [==============================] - 0s 2ms/step - loss: 0.1746 - accuracy: 0.0000e+00 - precision: 1.0000 - recall: 1.0000 - val_loss: 0.1792 - val_accuracy: 0.0000e+00 - val_precision: 1.0000 - val_recall: 1.0000\n",
            "Epoch 16/100\n",
            "54/54 [==============================] - 0s 2ms/step - loss: 0.1613 - accuracy: 0.0000e+00 - precision: 1.0000 - recall: 1.0000 - val_loss: 0.1704 - val_accuracy: 0.0000e+00 - val_precision: 1.0000 - val_recall: 1.0000\n",
            "Epoch 17/100\n",
            "54/54 [==============================] - 0s 2ms/step - loss: 0.1564 - accuracy: 0.0000e+00 - precision: 1.0000 - recall: 1.0000 - val_loss: 0.1626 - val_accuracy: 0.0000e+00 - val_precision: 1.0000 - val_recall: 1.0000\n",
            "Epoch 18/100\n",
            "54/54 [==============================] - 0s 2ms/step - loss: 0.1539 - accuracy: 0.0000e+00 - precision: 1.0000 - recall: 1.0000 - val_loss: 0.1553 - val_accuracy: 0.0000e+00 - val_precision: 1.0000 - val_recall: 1.0000\n",
            "Epoch 19/100\n",
            "54/54 [==============================] - 0s 2ms/step - loss: 0.1378 - accuracy: 0.0000e+00 - precision: 1.0000 - recall: 1.0000 - val_loss: 0.1485 - val_accuracy: 0.0000e+00 - val_precision: 1.0000 - val_recall: 1.0000\n",
            "Epoch 20/100\n",
            "54/54 [==============================] - 0s 2ms/step - loss: 0.1365 - accuracy: 0.0000e+00 - precision: 1.0000 - recall: 1.0000 - val_loss: 0.1424 - val_accuracy: 0.0000e+00 - val_precision: 1.0000 - val_recall: 1.0000\n",
            "Epoch 21/100\n",
            "54/54 [==============================] - 0s 3ms/step - loss: 0.1344 - accuracy: 0.0000e+00 - precision: 1.0000 - recall: 1.0000 - val_loss: 0.1367 - val_accuracy: 0.0000e+00 - val_precision: 1.0000 - val_recall: 1.0000\n",
            "Epoch 22/100\n",
            "54/54 [==============================] - 0s 2ms/step - loss: 0.1304 - accuracy: 0.0000e+00 - precision: 1.0000 - recall: 1.0000 - val_loss: 0.1313 - val_accuracy: 0.0000e+00 - val_precision: 1.0000 - val_recall: 1.0000\n",
            "Epoch 23/100\n",
            "54/54 [==============================] - 0s 2ms/step - loss: 0.1250 - accuracy: 0.0000e+00 - precision: 1.0000 - recall: 1.0000 - val_loss: 0.1263 - val_accuracy: 0.0000e+00 - val_precision: 1.0000 - val_recall: 1.0000\n",
            "Epoch 24/100\n",
            "54/54 [==============================] - 0s 3ms/step - loss: 0.1175 - accuracy: 0.0000e+00 - precision: 1.0000 - recall: 1.0000 - val_loss: 0.1217 - val_accuracy: 0.0000e+00 - val_precision: 1.0000 - val_recall: 1.0000\n",
            "Epoch 25/100\n",
            "54/54 [==============================] - 0s 2ms/step - loss: 0.1117 - accuracy: 0.0000e+00 - precision: 1.0000 - recall: 1.0000 - val_loss: 0.1175 - val_accuracy: 0.0000e+00 - val_precision: 1.0000 - val_recall: 1.0000\n",
            "Epoch 26/100\n",
            "54/54 [==============================] - 0s 2ms/step - loss: 0.1110 - accuracy: 0.0000e+00 - precision: 1.0000 - recall: 1.0000 - val_loss: 0.1134 - val_accuracy: 0.0000e+00 - val_precision: 1.0000 - val_recall: 1.0000\n",
            "Epoch 27/100\n",
            "54/54 [==============================] - 0s 2ms/step - loss: 0.1094 - accuracy: 0.0000e+00 - precision: 1.0000 - recall: 1.0000 - val_loss: 0.1097 - val_accuracy: 0.0000e+00 - val_precision: 1.0000 - val_recall: 1.0000\n",
            "Epoch 28/100\n",
            "54/54 [==============================] - 0s 2ms/step - loss: 0.1029 - accuracy: 0.0000e+00 - precision: 1.0000 - recall: 1.0000 - val_loss: 0.1062 - val_accuracy: 0.0000e+00 - val_precision: 1.0000 - val_recall: 1.0000\n",
            "Epoch 29/100\n",
            "54/54 [==============================] - 0s 2ms/step - loss: 0.0993 - accuracy: 0.0000e+00 - precision: 1.0000 - recall: 1.0000 - val_loss: 0.1029 - val_accuracy: 0.0000e+00 - val_precision: 1.0000 - val_recall: 1.0000\n",
            "Epoch 30/100\n",
            "54/54 [==============================] - 0s 2ms/step - loss: 0.0949 - accuracy: 0.0000e+00 - precision: 1.0000 - recall: 1.0000 - val_loss: 0.0997 - val_accuracy: 0.0000e+00 - val_precision: 1.0000 - val_recall: 1.0000\n",
            "Epoch 31/100\n",
            "54/54 [==============================] - 0s 2ms/step - loss: 0.0953 - accuracy: 0.0000e+00 - precision: 1.0000 - recall: 1.0000 - val_loss: 0.0968 - val_accuracy: 0.0000e+00 - val_precision: 1.0000 - val_recall: 1.0000\n",
            "Epoch 32/100\n",
            "54/54 [==============================] - 0s 2ms/step - loss: 0.0902 - accuracy: 0.0000e+00 - precision: 1.0000 - recall: 1.0000 - val_loss: 0.0940 - val_accuracy: 0.0000e+00 - val_precision: 1.0000 - val_recall: 1.0000\n",
            "Epoch 33/100\n",
            "54/54 [==============================] - 0s 3ms/step - loss: 0.0888 - accuracy: 0.0000e+00 - precision: 1.0000 - recall: 1.0000 - val_loss: 0.0914 - val_accuracy: 0.0000e+00 - val_precision: 1.0000 - val_recall: 1.0000\n",
            "Epoch 34/100\n",
            "54/54 [==============================] - 0s 2ms/step - loss: 0.0861 - accuracy: 0.0000e+00 - precision: 1.0000 - recall: 1.0000 - val_loss: 0.0889 - val_accuracy: 0.0000e+00 - val_precision: 1.0000 - val_recall: 1.0000\n",
            "Epoch 35/100\n",
            "54/54 [==============================] - 0s 3ms/step - loss: 0.0829 - accuracy: 0.0000e+00 - precision: 1.0000 - recall: 1.0000 - val_loss: 0.0865 - val_accuracy: 0.0000e+00 - val_precision: 1.0000 - val_recall: 1.0000\n",
            "Epoch 36/100\n",
            "54/54 [==============================] - 0s 2ms/step - loss: 0.0803 - accuracy: 0.0000e+00 - precision: 1.0000 - recall: 1.0000 - val_loss: 0.0843 - val_accuracy: 0.0000e+00 - val_precision: 1.0000 - val_recall: 1.0000\n",
            "Epoch 37/100\n",
            "54/54 [==============================] - 0s 2ms/step - loss: 0.0792 - accuracy: 0.0000e+00 - precision: 1.0000 - recall: 1.0000 - val_loss: 0.0821 - val_accuracy: 0.0000e+00 - val_precision: 1.0000 - val_recall: 1.0000\n",
            "Epoch 38/100\n",
            "54/54 [==============================] - 0s 2ms/step - loss: 0.0763 - accuracy: 0.0000e+00 - precision: 1.0000 - recall: 1.0000 - val_loss: 0.0801 - val_accuracy: 0.0000e+00 - val_precision: 1.0000 - val_recall: 1.0000\n",
            "Epoch 39/100\n",
            "54/54 [==============================] - 0s 3ms/step - loss: 0.0751 - accuracy: 0.0000e+00 - precision: 1.0000 - recall: 1.0000 - val_loss: 0.0781 - val_accuracy: 0.0000e+00 - val_precision: 1.0000 - val_recall: 1.0000\n",
            "Epoch 40/100\n",
            "54/54 [==============================] - 0s 2ms/step - loss: 0.0757 - accuracy: 0.0000e+00 - precision: 1.0000 - recall: 1.0000 - val_loss: 0.0763 - val_accuracy: 0.0000e+00 - val_precision: 1.0000 - val_recall: 1.0000\n",
            "Epoch 41/100\n",
            "54/54 [==============================] - 0s 2ms/step - loss: 0.0694 - accuracy: 0.0000e+00 - precision: 1.0000 - recall: 1.0000 - val_loss: 0.0745 - val_accuracy: 0.0000e+00 - val_precision: 1.0000 - val_recall: 1.0000\n",
            "Epoch 42/100\n",
            "54/54 [==============================] - 0s 3ms/step - loss: 0.0682 - accuracy: 0.0000e+00 - precision: 1.0000 - recall: 1.0000 - val_loss: 0.0728 - val_accuracy: 0.0000e+00 - val_precision: 1.0000 - val_recall: 1.0000\n",
            "Epoch 43/100\n",
            "54/54 [==============================] - 0s 2ms/step - loss: 0.0680 - accuracy: 0.0000e+00 - precision: 1.0000 - recall: 1.0000 - val_loss: 0.0712 - val_accuracy: 0.0000e+00 - val_precision: 1.0000 - val_recall: 1.0000\n",
            "Epoch 44/100\n",
            "54/54 [==============================] - 0s 2ms/step - loss: 0.0653 - accuracy: 0.0000e+00 - precision: 1.0000 - recall: 1.0000 - val_loss: 0.0696 - val_accuracy: 0.0000e+00 - val_precision: 1.0000 - val_recall: 1.0000\n",
            "Epoch 45/100\n",
            "54/54 [==============================] - 0s 2ms/step - loss: 0.0641 - accuracy: 0.0000e+00 - precision: 1.0000 - recall: 1.0000 - val_loss: 0.0682 - val_accuracy: 0.0000e+00 - val_precision: 1.0000 - val_recall: 1.0000\n",
            "Epoch 46/100\n",
            "54/54 [==============================] - 0s 2ms/step - loss: 0.0635 - accuracy: 0.0000e+00 - precision: 1.0000 - recall: 1.0000 - val_loss: 0.0668 - val_accuracy: 0.0000e+00 - val_precision: 1.0000 - val_recall: 1.0000\n",
            "Epoch 47/100\n",
            "54/54 [==============================] - 0s 2ms/step - loss: 0.0630 - accuracy: 0.0000e+00 - precision: 1.0000 - recall: 1.0000 - val_loss: 0.0654 - val_accuracy: 0.0000e+00 - val_precision: 1.0000 - val_recall: 1.0000\n",
            "Epoch 48/100\n",
            "54/54 [==============================] - 0s 2ms/step - loss: 0.0594 - accuracy: 0.0000e+00 - precision: 1.0000 - recall: 1.0000 - val_loss: 0.0641 - val_accuracy: 0.0000e+00 - val_precision: 1.0000 - val_recall: 1.0000\n",
            "Epoch 49/100\n",
            "54/54 [==============================] - 0s 3ms/step - loss: 0.0591 - accuracy: 0.0000e+00 - precision: 1.0000 - recall: 1.0000 - val_loss: 0.0628 - val_accuracy: 0.0000e+00 - val_precision: 1.0000 - val_recall: 1.0000\n",
            "Epoch 50/100\n",
            "54/54 [==============================] - 0s 2ms/step - loss: 0.0571 - accuracy: 0.0000e+00 - precision: 1.0000 - recall: 1.0000 - val_loss: 0.0616 - val_accuracy: 0.0000e+00 - val_precision: 1.0000 - val_recall: 1.0000\n",
            "Epoch 51/100\n",
            "54/54 [==============================] - 0s 2ms/step - loss: 0.0580 - accuracy: 0.0000e+00 - precision: 1.0000 - recall: 1.0000 - val_loss: 0.0604 - val_accuracy: 0.0000e+00 - val_precision: 1.0000 - val_recall: 1.0000\n",
            "Epoch 52/100\n",
            "54/54 [==============================] - 0s 2ms/step - loss: 0.0554 - accuracy: 0.0000e+00 - precision: 1.0000 - recall: 1.0000 - val_loss: 0.0593 - val_accuracy: 0.0000e+00 - val_precision: 1.0000 - val_recall: 1.0000\n",
            "Epoch 53/100\n",
            "54/54 [==============================] - 0s 2ms/step - loss: 0.0567 - accuracy: 0.0000e+00 - precision: 1.0000 - recall: 1.0000 - val_loss: 0.0582 - val_accuracy: 0.0000e+00 - val_precision: 1.0000 - val_recall: 1.0000\n",
            "Epoch 54/100\n",
            "54/54 [==============================] - 0s 2ms/step - loss: 0.0560 - accuracy: 0.0000e+00 - precision: 1.0000 - recall: 1.0000 - val_loss: 0.0572 - val_accuracy: 0.0000e+00 - val_precision: 1.0000 - val_recall: 1.0000\n",
            "Epoch 55/100\n",
            "54/54 [==============================] - 0s 2ms/step - loss: 0.0533 - accuracy: 0.0000e+00 - precision: 1.0000 - recall: 1.0000 - val_loss: 0.0561 - val_accuracy: 0.0000e+00 - val_precision: 1.0000 - val_recall: 1.0000\n",
            "Epoch 56/100\n",
            "54/54 [==============================] - 0s 2ms/step - loss: 0.0530 - accuracy: 0.0000e+00 - precision: 1.0000 - recall: 1.0000 - val_loss: 0.0552 - val_accuracy: 0.0000e+00 - val_precision: 1.0000 - val_recall: 1.0000\n",
            "Epoch 57/100\n",
            "54/54 [==============================] - 0s 2ms/step - loss: 0.0529 - accuracy: 0.0000e+00 - precision: 1.0000 - recall: 1.0000 - val_loss: 0.0542 - val_accuracy: 0.0000e+00 - val_precision: 1.0000 - val_recall: 1.0000\n",
            "Epoch 58/100\n",
            "54/54 [==============================] - 0s 2ms/step - loss: 0.0525 - accuracy: 0.0000e+00 - precision: 1.0000 - recall: 1.0000 - val_loss: 0.0533 - val_accuracy: 0.0000e+00 - val_precision: 1.0000 - val_recall: 1.0000\n",
            "Epoch 59/100\n",
            "54/54 [==============================] - 0s 2ms/step - loss: 0.0499 - accuracy: 0.0000e+00 - precision: 1.0000 - recall: 1.0000 - val_loss: 0.0524 - val_accuracy: 0.0000e+00 - val_precision: 1.0000 - val_recall: 1.0000\n",
            "Epoch 60/100\n",
            "54/54 [==============================] - 0s 2ms/step - loss: 0.0488 - accuracy: 0.0000e+00 - precision: 1.0000 - recall: 1.0000 - val_loss: 0.0515 - val_accuracy: 0.0000e+00 - val_precision: 1.0000 - val_recall: 1.0000\n",
            "Epoch 61/100\n",
            "54/54 [==============================] - 0s 2ms/step - loss: 0.0481 - accuracy: 0.0000e+00 - precision: 1.0000 - recall: 1.0000 - val_loss: 0.0507 - val_accuracy: 0.0000e+00 - val_precision: 1.0000 - val_recall: 1.0000\n",
            "Epoch 62/100\n",
            "54/54 [==============================] - 0s 2ms/step - loss: 0.0464 - accuracy: 0.0000e+00 - precision: 1.0000 - recall: 1.0000 - val_loss: 0.0499 - val_accuracy: 0.0000e+00 - val_precision: 1.0000 - val_recall: 1.0000\n",
            "Epoch 63/100\n",
            "54/54 [==============================] - 0s 2ms/step - loss: 0.0472 - accuracy: 0.0000e+00 - precision: 1.0000 - recall: 1.0000 - val_loss: 0.0491 - val_accuracy: 0.0000e+00 - val_precision: 1.0000 - val_recall: 1.0000\n",
            "Epoch 64/100\n",
            "54/54 [==============================] - 0s 2ms/step - loss: 0.0464 - accuracy: 0.0000e+00 - precision: 1.0000 - recall: 1.0000 - val_loss: 0.0484 - val_accuracy: 0.0000e+00 - val_precision: 1.0000 - val_recall: 1.0000\n",
            "Epoch 65/100\n",
            "54/54 [==============================] - 0s 2ms/step - loss: 0.0439 - accuracy: 0.0000e+00 - precision: 1.0000 - recall: 1.0000 - val_loss: 0.0476 - val_accuracy: 0.0000e+00 - val_precision: 1.0000 - val_recall: 1.0000\n",
            "Epoch 66/100\n",
            "54/54 [==============================] - 0s 2ms/step - loss: 0.0455 - accuracy: 0.0000e+00 - precision: 1.0000 - recall: 1.0000 - val_loss: 0.0469 - val_accuracy: 0.0000e+00 - val_precision: 1.0000 - val_recall: 1.0000\n",
            "Epoch 67/100\n",
            "54/54 [==============================] - 0s 2ms/step - loss: 0.0430 - accuracy: 0.0000e+00 - precision: 1.0000 - recall: 1.0000 - val_loss: 0.0462 - val_accuracy: 0.0000e+00 - val_precision: 1.0000 - val_recall: 1.0000\n",
            "Epoch 68/100\n",
            "54/54 [==============================] - 0s 2ms/step - loss: 0.0430 - accuracy: 0.0000e+00 - precision: 1.0000 - recall: 1.0000 - val_loss: 0.0456 - val_accuracy: 0.0000e+00 - val_precision: 1.0000 - val_recall: 1.0000\n",
            "Epoch 69/100\n",
            "54/54 [==============================] - 0s 2ms/step - loss: 0.0417 - accuracy: 0.0000e+00 - precision: 1.0000 - recall: 1.0000 - val_loss: 0.0449 - val_accuracy: 0.0000e+00 - val_precision: 1.0000 - val_recall: 1.0000\n",
            "Epoch 70/100\n",
            "54/54 [==============================] - 0s 2ms/step - loss: 0.0420 - accuracy: 0.0000e+00 - precision: 1.0000 - recall: 1.0000 - val_loss: 0.0443 - val_accuracy: 0.0000e+00 - val_precision: 1.0000 - val_recall: 1.0000\n",
            "Epoch 71/100\n",
            "54/54 [==============================] - 0s 3ms/step - loss: 0.0426 - accuracy: 0.0000e+00 - precision: 1.0000 - recall: 1.0000 - val_loss: 0.0437 - val_accuracy: 0.0000e+00 - val_precision: 1.0000 - val_recall: 1.0000\n",
            "Epoch 72/100\n",
            "54/54 [==============================] - 0s 2ms/step - loss: 0.0397 - accuracy: 0.0000e+00 - precision: 1.0000 - recall: 1.0000 - val_loss: 0.0431 - val_accuracy: 0.0000e+00 - val_precision: 1.0000 - val_recall: 1.0000\n",
            "Epoch 73/100\n",
            "54/54 [==============================] - 0s 3ms/step - loss: 0.0409 - accuracy: 0.0000e+00 - precision: 1.0000 - recall: 1.0000 - val_loss: 0.0425 - val_accuracy: 0.0000e+00 - val_precision: 1.0000 - val_recall: 1.0000\n",
            "Epoch 74/100\n",
            "54/54 [==============================] - 0s 2ms/step - loss: 0.0403 - accuracy: 0.0000e+00 - precision: 1.0000 - recall: 1.0000 - val_loss: 0.0419 - val_accuracy: 0.0000e+00 - val_precision: 1.0000 - val_recall: 1.0000\n",
            "Epoch 75/100\n",
            "54/54 [==============================] - 0s 2ms/step - loss: 0.0373 - accuracy: 0.0000e+00 - precision: 1.0000 - recall: 1.0000 - val_loss: 0.0414 - val_accuracy: 0.0000e+00 - val_precision: 1.0000 - val_recall: 1.0000\n",
            "Epoch 76/100\n",
            "54/54 [==============================] - 0s 3ms/step - loss: 0.0393 - accuracy: 0.0000e+00 - precision: 1.0000 - recall: 1.0000 - val_loss: 0.0408 - val_accuracy: 0.0000e+00 - val_precision: 1.0000 - val_recall: 1.0000\n",
            "Epoch 77/100\n",
            "54/54 [==============================] - 0s 3ms/step - loss: 0.0383 - accuracy: 0.0000e+00 - precision: 1.0000 - recall: 1.0000 - val_loss: 0.0403 - val_accuracy: 0.0000e+00 - val_precision: 1.0000 - val_recall: 1.0000\n",
            "Epoch 78/100\n",
            "54/54 [==============================] - 0s 2ms/step - loss: 0.0376 - accuracy: 0.0000e+00 - precision: 1.0000 - recall: 1.0000 - val_loss: 0.0398 - val_accuracy: 0.0000e+00 - val_precision: 1.0000 - val_recall: 1.0000\n",
            "Epoch 79/100\n",
            "54/54 [==============================] - 0s 2ms/step - loss: 0.0368 - accuracy: 0.0000e+00 - precision: 1.0000 - recall: 1.0000 - val_loss: 0.0393 - val_accuracy: 0.0000e+00 - val_precision: 1.0000 - val_recall: 1.0000\n",
            "Epoch 80/100\n",
            "54/54 [==============================] - 0s 3ms/step - loss: 0.0377 - accuracy: 0.0000e+00 - precision: 1.0000 - recall: 1.0000 - val_loss: 0.0388 - val_accuracy: 0.0000e+00 - val_precision: 1.0000 - val_recall: 1.0000\n",
            "Epoch 81/100\n",
            "54/54 [==============================] - 0s 2ms/step - loss: 0.0358 - accuracy: 0.0000e+00 - precision: 1.0000 - recall: 1.0000 - val_loss: 0.0383 - val_accuracy: 0.0000e+00 - val_precision: 1.0000 - val_recall: 1.0000\n",
            "Epoch 82/100\n",
            "54/54 [==============================] - 0s 2ms/step - loss: 0.0359 - accuracy: 0.0000e+00 - precision: 1.0000 - recall: 1.0000 - val_loss: 0.0378 - val_accuracy: 0.0000e+00 - val_precision: 1.0000 - val_recall: 1.0000\n",
            "Epoch 83/100\n",
            "54/54 [==============================] - 0s 2ms/step - loss: 0.0350 - accuracy: 0.0000e+00 - precision: 1.0000 - recall: 1.0000 - val_loss: 0.0374 - val_accuracy: 0.0000e+00 - val_precision: 1.0000 - val_recall: 1.0000\n",
            "Epoch 84/100\n",
            "54/54 [==============================] - 0s 2ms/step - loss: 0.0356 - accuracy: 0.0000e+00 - precision: 1.0000 - recall: 1.0000 - val_loss: 0.0369 - val_accuracy: 0.0000e+00 - val_precision: 1.0000 - val_recall: 1.0000\n",
            "Epoch 85/100\n",
            "54/54 [==============================] - 0s 2ms/step - loss: 0.0356 - accuracy: 0.0000e+00 - precision: 1.0000 - recall: 1.0000 - val_loss: 0.0365 - val_accuracy: 0.0000e+00 - val_precision: 1.0000 - val_recall: 1.0000\n",
            "Epoch 86/100\n",
            "54/54 [==============================] - 0s 2ms/step - loss: 0.0347 - accuracy: 0.0000e+00 - precision: 1.0000 - recall: 1.0000 - val_loss: 0.0361 - val_accuracy: 0.0000e+00 - val_precision: 1.0000 - val_recall: 1.0000\n",
            "Epoch 87/100\n",
            "54/54 [==============================] - 0s 2ms/step - loss: 0.0327 - accuracy: 0.0000e+00 - precision: 1.0000 - recall: 1.0000 - val_loss: 0.0357 - val_accuracy: 0.0000e+00 - val_precision: 1.0000 - val_recall: 1.0000\n",
            "Epoch 88/100\n",
            "54/54 [==============================] - 0s 2ms/step - loss: 0.0332 - accuracy: 0.0000e+00 - precision: 1.0000 - recall: 1.0000 - val_loss: 0.0352 - val_accuracy: 0.0000e+00 - val_precision: 1.0000 - val_recall: 1.0000\n",
            "Epoch 89/100\n",
            "54/54 [==============================] - 0s 2ms/step - loss: 0.0339 - accuracy: 0.0000e+00 - precision: 1.0000 - recall: 1.0000 - val_loss: 0.0348 - val_accuracy: 0.0000e+00 - val_precision: 1.0000 - val_recall: 1.0000\n",
            "Epoch 90/100\n",
            "54/54 [==============================] - 0s 2ms/step - loss: 0.0325 - accuracy: 0.0000e+00 - precision: 1.0000 - recall: 1.0000 - val_loss: 0.0345 - val_accuracy: 0.0000e+00 - val_precision: 1.0000 - val_recall: 1.0000\n",
            "Epoch 91/100\n",
            "54/54 [==============================] - 0s 2ms/step - loss: 0.0316 - accuracy: 0.0000e+00 - precision: 1.0000 - recall: 1.0000 - val_loss: 0.0341 - val_accuracy: 0.0000e+00 - val_precision: 1.0000 - val_recall: 1.0000\n",
            "Epoch 92/100\n",
            "54/54 [==============================] - 0s 2ms/step - loss: 0.0325 - accuracy: 0.0000e+00 - precision: 1.0000 - recall: 1.0000 - val_loss: 0.0337 - val_accuracy: 0.0000e+00 - val_precision: 1.0000 - val_recall: 1.0000\n",
            "Epoch 93/100\n",
            "54/54 [==============================] - 0s 3ms/step - loss: 0.0322 - accuracy: 0.0000e+00 - precision: 1.0000 - recall: 1.0000 - val_loss: 0.0333 - val_accuracy: 0.0000e+00 - val_precision: 1.0000 - val_recall: 1.0000\n",
            "Epoch 94/100\n",
            "54/54 [==============================] - 0s 3ms/step - loss: 0.0308 - accuracy: 0.0000e+00 - precision: 1.0000 - recall: 1.0000 - val_loss: 0.0330 - val_accuracy: 0.0000e+00 - val_precision: 1.0000 - val_recall: 1.0000\n",
            "Epoch 95/100\n",
            "54/54 [==============================] - 0s 2ms/step - loss: 0.0306 - accuracy: 0.0000e+00 - precision: 1.0000 - recall: 1.0000 - val_loss: 0.0326 - val_accuracy: 0.0000e+00 - val_precision: 1.0000 - val_recall: 1.0000\n",
            "Epoch 96/100\n",
            "54/54 [==============================] - 0s 3ms/step - loss: 0.0301 - accuracy: 0.0000e+00 - precision: 1.0000 - recall: 1.0000 - val_loss: 0.0323 - val_accuracy: 0.0000e+00 - val_precision: 1.0000 - val_recall: 1.0000\n",
            "Epoch 97/100\n",
            "54/54 [==============================] - 0s 2ms/step - loss: 0.0304 - accuracy: 0.0000e+00 - precision: 1.0000 - recall: 1.0000 - val_loss: 0.0320 - val_accuracy: 0.0000e+00 - val_precision: 1.0000 - val_recall: 1.0000\n",
            "Epoch 98/100\n",
            "54/54 [==============================] - 0s 2ms/step - loss: 0.0298 - accuracy: 0.0000e+00 - precision: 1.0000 - recall: 1.0000 - val_loss: 0.0316 - val_accuracy: 0.0000e+00 - val_precision: 1.0000 - val_recall: 1.0000\n",
            "Epoch 99/100\n",
            "54/54 [==============================] - 0s 2ms/step - loss: 0.0303 - accuracy: 0.0000e+00 - precision: 1.0000 - recall: 1.0000 - val_loss: 0.0313 - val_accuracy: 0.0000e+00 - val_precision: 1.0000 - val_recall: 1.0000\n",
            "Epoch 100/100\n",
            "54/54 [==============================] - 0s 3ms/step - loss: 0.0284 - accuracy: 0.0000e+00 - precision: 1.0000 - recall: 1.0000 - val_loss: 0.0310 - val_accuracy: 0.0000e+00 - val_precision: 1.0000 - val_recall: 1.0000\n"
          ],
          "name": "stdout"
        }
      ]
    },
    {
      "cell_type": "code",
      "metadata": {
        "colab": {
          "base_uri": "https://localhost:8080/"
        },
        "id": "0tjpfrg8WNTW",
        "outputId": "18289ceb-0a3e-4c5b-b021-29cd4e4137e4"
      },
      "source": [
        "ensembler_test = np.transpose(np.array([LogReg.predict(x_test),RF.predict(x_test),KNN.predict(x_test)]))\n",
        "acc_DL = (np.array(tf.greater(ensembler.predict(ensembler_test),.5)).flatten().astype('int') == y_test).sum()/y_test.shape[0]*100\n",
        "print('Accuracy of ensembler model is',acc_DL)\n",
        "acc_LR = (LogReg.predict(x_test)==y_test).sum()/y_test.shape[0]*100\n",
        "print('Accuracy of Logistic Regression model is',acc_LR)\n",
        "acc_KNN = (KNN.predict(x_test)==y_test).sum()/y_test.shape[0]*100\n",
        "print('Accuracy of K-nearest neighbors model is',acc_KNN)\n",
        "acc_RF = (RF.predict(x_test)==y_test).sum()/y_test.shape[0]*100\n",
        "print('Accuracy of Random Forest model is',acc_RF)"
      ],
      "execution_count": 85,
      "outputs": [
        {
          "output_type": "stream",
          "text": [
            "Accuracy of ensembler model is 92.65367316341829\n",
            "Accuracy of Logistic Regression model is 84.70764617691154\n",
            "Accuracy of K-nearest neighbors model is 85.00749625187406\n",
            "Accuracy of Random Forest model is 92.65367316341829\n"
          ],
          "name": "stdout"
        }
      ]
    },
    {
      "cell_type": "code",
      "metadata": {
        "id": "C4qKzEotDf_9"
      },
      "source": [
        ""
      ],
      "execution_count": null,
      "outputs": []
    }
  ]
}