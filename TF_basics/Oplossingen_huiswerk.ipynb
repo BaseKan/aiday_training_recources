{
  "nbformat": 4,
  "nbformat_minor": 0,
  "metadata": {
    "colab": {
      "name": "Oplossingen_huiswerk.ipynb",
      "provenance": [],
      "authorship_tag": "ABX9TyPw3ZAnujDeh5X82BgRNgTS",
      "include_colab_link": true
    },
    "kernelspec": {
      "name": "python3",
      "display_name": "Python 3"
    },
    "language_info": {
      "name": "python"
    }
  },
  "cells": [
    {
      "cell_type": "markdown",
      "metadata": {
        "id": "view-in-github",
        "colab_type": "text"
      },
      "source": [
        "<a href=\"https://colab.research.google.com/github/BaseKan/aiday_training_resources/blob/main/TF_basics/Oplossingen_huiswerk.ipynb\" target=\"_parent\"><img src=\"https://colab.research.google.com/assets/colab-badge.svg\" alt=\"Open In Colab\"/></a>"
      ]
    },
    {
      "cell_type": "code",
      "metadata": {
        "colab": {
          "base_uri": "https://localhost:8080/"
        },
        "id": "ZA-EvZMOuvSp",
        "outputId": "2bc617a5-f1f0-49dc-dfe5-72f110d63536"
      },
      "source": [
        "import tensorflow as tf\n",
        "from tensorflow.keras import layers, models\n",
        "from tensorflow.keras.datasets import boston_housing\n",
        "from tensorflow.keras.utils import plot_model\n",
        "from tensorflow.keras.optimizers import SGD\n",
        "import numpy as np\n",
        "import matplotlib.pyplot as plt\n",
        "from sklearn.datasets import load_diabetes, load_breast_cancer\n",
        "from sklearn.model_selection import train_test_split\n",
        "from IPython.display import clear_output\n",
        "print(tf.__version__)"
      ],
      "execution_count": 1,
      "outputs": [
        {
          "output_type": "stream",
          "text": [
            "2.4.1\n"
          ],
          "name": "stdout"
        }
      ]
    },
    {
      "cell_type": "markdown",
      "metadata": {
        "id": "qrlqAU4ru70B"
      },
      "source": [
        "**Opdracht een & twee** Train een deep learning model op de Diabetes dataset (met maar een kolom) met maar een Dense laag met maar 1 neuron (unit). Train een lineair regressiemodel met sklearn. Maak daarna een scatterplot van de traindata met op de x-as de eerste kolom van de traindata en op de y-as de y_train. Voeg nu twee lijnen toe die met voorspelling van het sklearn model en het keras model."
      ]
    },
    {
      "cell_type": "code",
      "metadata": {
        "id": "d7bMjyluu6jP"
      },
      "source": [
        "# inladen data\n",
        "data = load_diabetes()\n",
        "x_train, x_test, y_train, y_test = train_test_split(data['data'],data['target'],test_size=0.2, random_state=42)\n",
        "\n",
        "# we houden voor deze opdracht enkel kolom drie\n",
        "x_train = x_train[:,2]\n",
        "x_test = x_test[:,2]\n",
        "\n",
        "# definieren model - gebruiken de alternatieve methode van definieren\n",
        "input = layers.Input(shape=(1,))\n",
        "dense = layers.Dense(1)\n",
        "output = dense(input)\n",
        "\n",
        "regressie_model = models.Model(input,output)\n",
        "\n",
        "# definieren sklearn model\n",
        "from sklearn.linear_model import LinearRegression\n",
        "lm = LinearRegression().fit(x_train.reshape(-1,1),y_train)\n",
        "y_SK = lm.predict(x_train.reshape(-1,1))"
      ],
      "execution_count": 2,
      "outputs": []
    },
    {
      "cell_type": "code",
      "metadata": {
        "colab": {
          "base_uri": "https://localhost:8080/",
          "height": 265
        },
        "id": "4HxvAwZQw3pD",
        "outputId": "c8e946bd-d1cc-47b5-8ead-ffe0db2f1e82"
      },
      "source": [
        "# compilen model\n",
        "rate = 0.5\n",
        "rate_slow = 0.08\n",
        "epochs = 250\n",
        "def schedule(epoch, lr):\n",
        "  if epoch >= 50:\n",
        "    return rate_slow\n",
        "  return rate\n",
        " \n",
        "scheduler = tf.keras.callbacks.LearningRateScheduler(schedule)\n",
        "\n",
        "regressie_model.compile(optimizer=SGD(rate,0.9),\n",
        "                        loss='mse')\n",
        "\n",
        "# callback voor plot\n",
        "\n",
        "class Plot(tf.keras.callbacks.Callback):\n",
        "  def on_epoch_end(self, batch, logs={}):\n",
        "    clear_output(wait=True)\n",
        "    y_DL = regressie_model.predict(x_train)\n",
        "    plt.scatter(x_train,y_train)\n",
        "    plt.plot(x_train,y_DL, label='keras')\n",
        "    plt.plot(x_train,y_SK, label='sklearn')\n",
        "    plt.legend()\n",
        "    plt.show()\n",
        "\n",
        "\n",
        "# trainen model\n",
        "history = regressie_model.fit(x=x_train,\n",
        "                    y=y_train,\n",
        "                    batch_size=x_train.shape[0],\n",
        "                    epochs=epochs,\n",
        "                    callbacks=[scheduler,Plot()]\n",
        "                    )"
      ],
      "execution_count": 4,
      "outputs": [
        {
          "output_type": "display_data",
          "data": {
            "image/png": "[encoded data removed]",
            "text/plain": [
              "<Figure size 432x288 with 1 Axes>"
            ]
          },
          "metadata": {
            "tags": [],
            "needs_background": "light"
          }
        }
      ]
    },
    {
      "cell_type": "markdown",
      "metadata": {
        "id": "EUBvTRt7vUgs"
      },
      "source": [
        "**Opdracht drie** Gebruik nu alle diabetesdata en train een lineair regressiemodel. Train nu een deep learning model met betere validatie score. Vergelijke de MSE op de test set. "
      ]
    },
    {
      "cell_type": "code",
      "metadata": {
        "colab": {
          "base_uri": "https://localhost:8080/"
        },
        "id": "f3U3SxHPvUtt",
        "outputId": "69f1ace4-ac61-45c2-b2f9-9cd33db09545"
      },
      "source": [
        "# inladen data\n",
        "data = load_diabetes()\n",
        "x_train, x_test, y_train, y_test = train_test_split(data['data'],data['target'],test_size=0.2, random_state=42)\n",
        "\n",
        "# definieren model - gebruiken de alternatieve methode van definieren\n",
        "input = layers.Input(shape=(x_train.shape[1],))\n",
        "dense = layers.Dense(64)(input)\n",
        "dense1 = layers.Dense(32)(dense)\n",
        "output = layers.Dense(1)(dense1)\n",
        "\n",
        "regressie_model2 = models.Model(input,output)\n",
        "\n",
        "regressie_model2.compile(optimizer=SGD(5e-5,0.9),\n",
        "                        loss='mse')\n",
        "\n",
        "history2 = regressie_model2.fit(x=x_train,\n",
        "                    y=y_train,\n",
        "                    batch_size=40,\n",
        "                    epochs=40,\n",
        "                     validation_split=0.2)\n",
        "\n",
        "# definieren sklearn model\n",
        "from sklearn.linear_model import LinearRegression\n",
        "lm2 = LinearRegression().fit(x_train,y_train)"
      ],
      "execution_count": 5,
      "outputs": [
        {
          "output_type": "stream",
          "text": [
            "Epoch 1/40\n",
            "8/8 [==============================] - 0s 28ms/step - loss: 30769.7552 - val_loss: 21857.0957\n",
            "Epoch 2/40\n",
            "8/8 [==============================] - 0s 7ms/step - loss: 28446.3030 - val_loss: 16861.6699\n",
            "Epoch 3/40\n",
            "8/8 [==============================] - 0s 7ms/step - loss: 18353.6505 - val_loss: 10416.1729\n",
            "Epoch 4/40\n",
            "8/8 [==============================] - 0s 7ms/step - loss: 7888.0159 - val_loss: 4471.9531\n",
            "Epoch 5/40\n",
            "8/8 [==============================] - 0s 7ms/step - loss: 7634.9425 - val_loss: 4303.0088\n",
            "Epoch 6/40\n",
            "8/8 [==============================] - 0s 7ms/step - loss: 6015.7782 - val_loss: 5269.1890\n",
            "Epoch 7/40\n",
            "8/8 [==============================] - 0s 7ms/step - loss: 5759.1080 - val_loss: 4830.3330\n",
            "Epoch 8/40\n",
            "8/8 [==============================] - 0s 7ms/step - loss: 5023.7219 - val_loss: 3874.8469\n",
            "Epoch 9/40\n",
            "8/8 [==============================] - 0s 7ms/step - loss: 4929.4722 - val_loss: 4672.5117\n",
            "Epoch 10/40\n",
            "8/8 [==============================] - 0s 7ms/step - loss: 4533.3364 - val_loss: 3786.2803\n",
            "Epoch 11/40\n",
            "8/8 [==============================] - 0s 6ms/step - loss: 4044.2270 - val_loss: 3858.0933\n",
            "Epoch 12/40\n",
            "8/8 [==============================] - 0s 7ms/step - loss: 4475.8490 - val_loss: 4052.8936\n",
            "Epoch 13/40\n",
            "8/8 [==============================] - 0s 7ms/step - loss: 3769.4050 - val_loss: 3383.5474\n",
            "Epoch 14/40\n",
            "8/8 [==============================] - 0s 7ms/step - loss: 3733.3097 - val_loss: 3387.1636\n",
            "Epoch 15/40\n",
            "8/8 [==============================] - 0s 7ms/step - loss: 4374.1902 - val_loss: 3712.1211\n",
            "Epoch 16/40\n",
            "8/8 [==============================] - 0s 7ms/step - loss: 3429.8265 - val_loss: 3329.3276\n",
            "Epoch 17/40\n",
            "8/8 [==============================] - 0s 6ms/step - loss: 3355.1486 - val_loss: 3436.9514\n",
            "Epoch 18/40\n",
            "8/8 [==============================] - 0s 7ms/step - loss: 2961.8090 - val_loss: 3430.8931\n",
            "Epoch 19/40\n",
            "8/8 [==============================] - 0s 8ms/step - loss: 3130.8954 - val_loss: 3600.0256\n",
            "Epoch 20/40\n",
            "8/8 [==============================] - 0s 7ms/step - loss: 3128.6613 - val_loss: 3379.7947\n",
            "Epoch 21/40\n",
            "8/8 [==============================] - 0s 6ms/step - loss: 2865.6929 - val_loss: 3373.4697\n",
            "Epoch 22/40\n",
            "8/8 [==============================] - 0s 7ms/step - loss: 2836.6364 - val_loss: 4929.2183\n",
            "Epoch 23/40\n",
            "8/8 [==============================] - 0s 8ms/step - loss: 3659.0253 - val_loss: 3414.6216\n",
            "Epoch 24/40\n",
            "8/8 [==============================] - 0s 7ms/step - loss: 2930.9413 - val_loss: 3334.8064\n",
            "Epoch 25/40\n",
            "8/8 [==============================] - 0s 7ms/step - loss: 2912.1669 - val_loss: 3914.1145\n",
            "Epoch 26/40\n",
            "8/8 [==============================] - 0s 7ms/step - loss: 2767.0303 - val_loss: 3305.1501\n",
            "Epoch 27/40\n",
            "8/8 [==============================] - 0s 7ms/step - loss: 3179.0619 - val_loss: 3584.1870\n",
            "Epoch 28/40\n",
            "8/8 [==============================] - 0s 7ms/step - loss: 3639.8512 - val_loss: 3361.1843\n",
            "Epoch 29/40\n",
            "8/8 [==============================] - 0s 7ms/step - loss: 3131.5886 - val_loss: 3296.7715\n",
            "Epoch 30/40\n",
            "8/8 [==============================] - 0s 6ms/step - loss: 3710.2807 - val_loss: 5738.0649\n",
            "Epoch 31/40\n",
            "8/8 [==============================] - 0s 7ms/step - loss: 3662.0595 - val_loss: 3800.6321\n",
            "Epoch 32/40\n",
            "8/8 [==============================] - 0s 7ms/step - loss: 3186.2026 - val_loss: 4351.9502\n",
            "Epoch 33/40\n",
            "8/8 [==============================] - 0s 8ms/step - loss: 4587.0498 - val_loss: 3194.4644\n",
            "Epoch 34/40\n",
            "8/8 [==============================] - 0s 7ms/step - loss: 3414.1032 - val_loss: 4228.9546\n",
            "Epoch 35/40\n",
            "8/8 [==============================] - 0s 7ms/step - loss: 3114.9896 - val_loss: 3236.3779\n",
            "Epoch 36/40\n",
            "8/8 [==============================] - 0s 7ms/step - loss: 3286.2644 - val_loss: 4194.7451\n",
            "Epoch 37/40\n",
            "8/8 [==============================] - 0s 6ms/step - loss: 3073.5039 - val_loss: 4282.7261\n",
            "Epoch 38/40\n",
            "8/8 [==============================] - 0s 6ms/step - loss: 3834.7555 - val_loss: 5017.1504\n",
            "Epoch 39/40\n",
            "8/8 [==============================] - 0s 7ms/step - loss: 4267.2798 - val_loss: 3224.0708\n",
            "Epoch 40/40\n",
            "8/8 [==============================] - 0s 6ms/step - loss: 4140.0070 - val_loss: 5038.3442\n"
          ],
          "name": "stdout"
        }
      ]
    },
    {
      "cell_type": "code",
      "metadata": {
        "colab": {
          "base_uri": "https://localhost:8080/"
        },
        "id": "gzGku2miOwpW",
        "outputId": "338ee981-fc85-4f69-9534-61ac715dbff8"
      },
      "source": [
        "print('Linear regression test MSE', np.mean((regressie_model2.predict(x_test)-y_test)**2))\n",
        "print('Deep Learning test MSE',np.mean((lm2.predict(x_test)-y_test)**2))"
      ],
      "execution_count": 6,
      "outputs": [
        {
          "output_type": "stream",
          "text": [
            "Linear regression test MSE 8302.945610677025\n",
            "Deep Learning test MSE 2900.1732878832318\n"
          ],
          "name": "stdout"
        }
      ]
    },
    {
      "cell_type": "markdown",
      "metadata": {
        "id": "IcDGkcDYvU0D"
      },
      "source": [
        "**Opdracht vier** Ontwerp en train een meerlaags classificatiemodel op de breast cancer dataset. \n",
        "\n",
        "*   De activatie van je laatste laag moet voor binaire classificatie 'sigmoid' zijn (als er meer dan twee klassen waren geweest hadden we 'softmax' gebruikt)\n",
        "\n",
        "*   Als loss kan je 'binary_crossentropy' gebruiken\n",
        "\n",
        "Er zijn veel metrieken die je kan bekijken, bijvoorbeeld: precision, accuracy, recall, etc. "
      ]
    },
    {
      "cell_type": "code",
      "metadata": {
        "id": "QAt2b6hfvU5p"
      },
      "source": [
        "# inladen data\n",
        "data = load_breast_cancer()\n",
        "x_train, x_test, y_train, y_test = train_test_split(data['data'],data['target'],test_size=0.2, random_state=42)\n",
        "\n",
        "# definieren model - gebruiken de alternatieve methode van definieren\n",
        "input = layers.Input(shape=(x_train.shape[1],))\n",
        "dense = layers.Dense(64)(input)\n",
        "dense1 = layers.Dense(32)(dense)\n",
        "output = layers.Dense(1,activation='sigmoid')(dense1)\n",
        "\n",
        "logregressie_model = models.Model(input,output)"
      ],
      "execution_count": 7,
      "outputs": []
    },
    {
      "cell_type": "code",
      "metadata": {
        "colab": {
          "base_uri": "https://localhost:8080/"
        },
        "id": "u3F_B5SkRa77",
        "outputId": "3af08248-cde9-4c91-8ff3-4fea23a980ac"
      },
      "source": [
        "logregressie_model.compile(optimizer=SGD(5e-6,0.7),\n",
        "                        loss='binary_crossentropy',\n",
        "                        metrics=['Accuracy','Precision','Recall']\n",
        ")\n",
        "\n",
        "history2 = logregressie_model.fit(x=x_train,\n",
        "                    y=y_train,\n",
        "                    batch_size=40,\n",
        "                    epochs=40,\n",
        "                     validation_split=0.2)"
      ],
      "execution_count": 8,
      "outputs": [
        {
          "output_type": "stream",
          "text": [
            "Epoch 1/40\n",
            "10/10 [==============================] - 1s 42ms/step - loss: 22.5026 - accuracy: 0.1596 - precision: 0.4790 - recall: 0.4571 - val_loss: 11.6062 - val_accuracy: 0.0110 - val_precision: 0.6071 - val_recall: 0.8793\n",
            "Epoch 2/40\n",
            "10/10 [==============================] - 0s 6ms/step - loss: 7.6275 - accuracy: 0.0087 - precision: 0.5116 - recall: 0.3814 - val_loss: 8.0659 - val_accuracy: 0.0000e+00 - val_precision: 0.6104 - val_recall: 0.8103\n",
            "Epoch 3/40\n",
            "10/10 [==============================] - 0s 7ms/step - loss: 7.3643 - accuracy: 0.0104 - precision: 0.5361 - recall: 0.3365 - val_loss: 6.5391 - val_accuracy: 0.0000e+00 - val_precision: 0.2500 - val_recall: 0.0172\n",
            "Epoch 4/40\n",
            "10/10 [==============================] - 0s 6ms/step - loss: 3.2497 - accuracy: 0.0000e+00 - precision: 0.6459 - recall: 0.3099 - val_loss: 15.2784 - val_accuracy: 0.2747 - val_precision: 0.6374 - val_recall: 1.0000\n",
            "Epoch 5/40\n",
            "10/10 [==============================] - 0s 7ms/step - loss: 6.2976 - accuracy: 0.1143 - precision: 0.6788 - recall: 0.6013 - val_loss: 11.4055 - val_accuracy: 0.1209 - val_precision: 0.6374 - val_recall: 1.0000\n",
            "Epoch 6/40\n",
            "10/10 [==============================] - 0s 6ms/step - loss: 5.1462 - accuracy: 0.0109 - precision: 0.6673 - recall: 0.6655 - val_loss: 4.8272 - val_accuracy: 0.0000e+00 - val_precision: 0.6000 - val_recall: 0.0517\n",
            "Epoch 7/40\n",
            "10/10 [==============================] - 0s 7ms/step - loss: 3.0842 - accuracy: 0.0035 - precision: 0.7698 - recall: 0.5148 - val_loss: 3.4647 - val_accuracy: 0.0000e+00 - val_precision: 0.7458 - val_recall: 0.7586\n",
            "Epoch 8/40\n",
            "10/10 [==============================] - 0s 6ms/step - loss: 1.3551 - accuracy: 0.0000e+00 - precision: 0.8197 - recall: 0.7285 - val_loss: 3.9621 - val_accuracy: 0.0000e+00 - val_precision: 0.7273 - val_recall: 0.1379\n",
            "Epoch 9/40\n",
            "10/10 [==============================] - 0s 6ms/step - loss: 2.1038 - accuracy: 0.0010 - precision: 0.7110 - recall: 0.5195 - val_loss: 3.4086 - val_accuracy: 0.0000e+00 - val_precision: 0.7647 - val_recall: 0.8966\n",
            "Epoch 10/40\n",
            "10/10 [==============================] - 0s 6ms/step - loss: 1.1063 - accuracy: 0.0000e+00 - precision: 0.8573 - recall: 0.8193 - val_loss: 2.9189 - val_accuracy: 0.0000e+00 - val_precision: 0.8182 - val_recall: 0.7759\n",
            "Epoch 11/40\n",
            "10/10 [==============================] - 0s 6ms/step - loss: 1.7494 - accuracy: 0.0080 - precision: 0.8252 - recall: 0.7396 - val_loss: 2.9098 - val_accuracy: 0.0000e+00 - val_precision: 0.7667 - val_recall: 0.7931\n",
            "Epoch 12/40\n",
            "10/10 [==============================] - 0s 6ms/step - loss: 1.2148 - accuracy: 0.0014 - precision: 0.8436 - recall: 0.7324 - val_loss: 2.6152 - val_accuracy: 0.0000e+00 - val_precision: 0.8400 - val_recall: 0.7241\n",
            "Epoch 13/40\n",
            "10/10 [==============================] - 0s 6ms/step - loss: 1.3451 - accuracy: 0.0021 - precision: 0.8530 - recall: 0.8136 - val_loss: 3.1680 - val_accuracy: 0.0000e+00 - val_precision: 0.7746 - val_recall: 0.9483\n",
            "Epoch 14/40\n",
            "10/10 [==============================] - 0s 6ms/step - loss: 1.1541 - accuracy: 0.0028 - precision: 0.8358 - recall: 0.8075 - val_loss: 4.3890 - val_accuracy: 0.0110 - val_precision: 0.7342 - val_recall: 1.0000\n",
            "Epoch 15/40\n",
            "10/10 [==============================] - 0s 7ms/step - loss: 1.4728 - accuracy: 0.0022 - precision: 0.8319 - recall: 0.8266 - val_loss: 6.3899 - val_accuracy: 0.0879 - val_precision: 0.6988 - val_recall: 1.0000\n",
            "Epoch 16/40\n",
            "10/10 [==============================] - 0s 6ms/step - loss: 1.8126 - accuracy: 0.0324 - precision: 0.8080 - recall: 0.8237 - val_loss: 6.9146 - val_accuracy: 0.1319 - val_precision: 0.6824 - val_recall: 1.0000\n",
            "Epoch 17/40\n",
            "10/10 [==============================] - 0s 6ms/step - loss: 2.0662 - accuracy: 0.0263 - precision: 0.8166 - recall: 0.8335 - val_loss: 2.3802 - val_accuracy: 0.0000e+00 - val_precision: 0.8462 - val_recall: 0.7586\n",
            "Epoch 18/40\n",
            "10/10 [==============================] - 0s 7ms/step - loss: 1.2149 - accuracy: 0.0028 - precision: 0.8371 - recall: 0.7769 - val_loss: 2.8582 - val_accuracy: 0.0000e+00 - val_precision: 0.8710 - val_recall: 0.4655\n",
            "Epoch 19/40\n",
            "10/10 [==============================] - 0s 6ms/step - loss: 1.0091 - accuracy: 0.0104 - precision: 0.8907 - recall: 0.7764 - val_loss: 2.3569 - val_accuracy: 0.0000e+00 - val_precision: 0.8636 - val_recall: 0.6552\n",
            "Epoch 20/40\n",
            "10/10 [==============================] - 0s 6ms/step - loss: 1.1887 - accuracy: 0.0035 - precision: 0.8661 - recall: 0.7843 - val_loss: 3.0649 - val_accuracy: 0.0110 - val_precision: 0.7733 - val_recall: 1.0000\n",
            "Epoch 21/40\n",
            "10/10 [==============================] - 0s 8ms/step - loss: 0.7687 - accuracy: 0.0022 - precision: 0.9006 - recall: 0.9045 - val_loss: 3.3326 - val_accuracy: 0.0110 - val_precision: 0.8889 - val_recall: 0.2759\n",
            "Epoch 22/40\n",
            "10/10 [==============================] - 0s 6ms/step - loss: 1.4684 - accuracy: 0.0140 - precision: 0.8657 - recall: 0.7091 - val_loss: 2.2093 - val_accuracy: 0.0000e+00 - val_precision: 0.8545 - val_recall: 0.8103\n",
            "Epoch 23/40\n",
            "10/10 [==============================] - 0s 6ms/step - loss: 0.9231 - accuracy: 0.0040 - precision: 0.8919 - recall: 0.8462 - val_loss: 4.0788 - val_accuracy: 0.0110 - val_precision: 0.7250 - val_recall: 1.0000\n",
            "Epoch 24/40\n",
            "10/10 [==============================] - 0s 6ms/step - loss: 1.5980 - accuracy: 0.0116 - precision: 0.8474 - recall: 0.8303 - val_loss: 2.1787 - val_accuracy: 0.0000e+00 - val_precision: 0.8696 - val_recall: 0.6897\n",
            "Epoch 25/40\n",
            "10/10 [==============================] - 0s 6ms/step - loss: 1.1399 - accuracy: 0.0053 - precision: 0.8853 - recall: 0.7995 - val_loss: 2.0918 - val_accuracy: 0.0000e+00 - val_precision: 0.8545 - val_recall: 0.8103\n",
            "Epoch 26/40\n",
            "10/10 [==============================] - 0s 6ms/step - loss: 1.1468 - accuracy: 0.0000e+00 - precision: 0.8627 - recall: 0.8185 - val_loss: 4.5057 - val_accuracy: 0.0220 - val_precision: 0.7250 - val_recall: 1.0000\n",
            "Epoch 27/40\n",
            "10/10 [==============================] - 0s 6ms/step - loss: 1.6704 - accuracy: 0.0104 - precision: 0.8237 - recall: 0.8384 - val_loss: 4.8221 - val_accuracy: 0.0549 - val_precision: 0.7160 - val_recall: 1.0000\n",
            "Epoch 28/40\n",
            "10/10 [==============================] - 0s 6ms/step - loss: 1.6263 - accuracy: 0.0189 - precision: 0.8039 - recall: 0.8512 - val_loss: 8.8661 - val_accuracy: 0.4615 - val_precision: 0.6517 - val_recall: 1.0000\n",
            "Epoch 29/40\n",
            "10/10 [==============================] - 0s 6ms/step - loss: 2.8991 - accuracy: 0.1400 - precision: 0.7860 - recall: 0.8816 - val_loss: 2.5325 - val_accuracy: 0.0110 - val_precision: 0.8750 - val_recall: 0.4828\n",
            "Epoch 30/40\n",
            "10/10 [==============================] - 0s 7ms/step - loss: 1.2394 - accuracy: 0.0074 - precision: 0.8812 - recall: 0.7497 - val_loss: 2.1025 - val_accuracy: 0.0000e+00 - val_precision: 0.8333 - val_recall: 0.9483\n",
            "Epoch 31/40\n",
            "10/10 [==============================] - 0s 6ms/step - loss: 0.6721 - accuracy: 0.0000e+00 - precision: 0.8918 - recall: 0.8582 - val_loss: 2.3235 - val_accuracy: 0.0110 - val_precision: 0.8261 - val_recall: 0.9828\n",
            "Epoch 32/40\n",
            "10/10 [==============================] - 0s 7ms/step - loss: 1.1040 - accuracy: 0.0132 - precision: 0.8810 - recall: 0.8819 - val_loss: 2.2977 - val_accuracy: 0.0110 - val_precision: 0.8571 - val_recall: 0.5172\n",
            "Epoch 33/40\n",
            "10/10 [==============================] - 0s 7ms/step - loss: 0.9074 - accuracy: 0.0121 - precision: 0.9111 - recall: 0.7684 - val_loss: 1.9054 - val_accuracy: 0.0000e+00 - val_precision: 0.8644 - val_recall: 0.8793\n",
            "Epoch 34/40\n",
            "10/10 [==============================] - 0s 7ms/step - loss: 0.7736 - accuracy: 0.0017 - precision: 0.9043 - recall: 0.8525 - val_loss: 1.9841 - val_accuracy: 0.0000e+00 - val_precision: 0.8333 - val_recall: 0.9483\n",
            "Epoch 35/40\n",
            "10/10 [==============================] - 0s 7ms/step - loss: 0.8209 - accuracy: 0.0000e+00 - precision: 0.8758 - recall: 0.8637 - val_loss: 2.3296 - val_accuracy: 0.0110 - val_precision: 0.8286 - val_recall: 1.0000\n",
            "Epoch 36/40\n",
            "10/10 [==============================] - 0s 7ms/step - loss: 1.0482 - accuracy: 0.0138 - precision: 0.8675 - recall: 0.8408 - val_loss: 3.7879 - val_accuracy: 0.0330 - val_precision: 0.7342 - val_recall: 1.0000\n",
            "Epoch 37/40\n",
            "10/10 [==============================] - 0s 6ms/step - loss: 1.5138 - accuracy: 0.0322 - precision: 0.8039 - recall: 0.8608 - val_loss: 4.6093 - val_accuracy: 0.0989 - val_precision: 0.7073 - val_recall: 1.0000\n",
            "Epoch 38/40\n",
            "10/10 [==============================] - 0s 6ms/step - loss: 1.2677 - accuracy: 0.0218 - precision: 0.8142 - recall: 0.8710 - val_loss: 2.7622 - val_accuracy: 0.0110 - val_precision: 0.7733 - val_recall: 1.0000\n",
            "Epoch 39/40\n",
            "10/10 [==============================] - 0s 6ms/step - loss: 0.8724 - accuracy: 0.0039 - precision: 0.8688 - recall: 0.9114 - val_loss: 10.0200 - val_accuracy: 0.6154 - val_precision: 0.6444 - val_recall: 1.0000\n",
            "Epoch 40/40\n",
            "10/10 [==============================] - 0s 7ms/step - loss: 4.6283 - accuracy: 0.2308 - precision: 0.6973 - recall: 0.7848 - val_loss: 2.4338 - val_accuracy: 0.0330 - val_precision: 0.9310 - val_recall: 0.4655\n"
          ],
          "name": "stdout"
        }
      ]
    },
    {
      "cell_type": "code",
      "metadata": {
        "colab": {
          "base_uri": "https://localhost:8080/"
        },
        "id": "ahpahNKrQn-k",
        "outputId": "43f42d8d-0e49-484d-87ad-eb437b201365"
      },
      "source": [
        "# definieren sklearn model\n",
        "from sklearn.linear_model import LogisticRegression\n",
        "LogReg = LogisticRegression().fit(x_train,y_train)"
      ],
      "execution_count": 9,
      "outputs": [
        {
          "output_type": "stream",
          "text": [
            "/usr/local/lib/python3.7/dist-packages/sklearn/linear_model/_logistic.py:940: ConvergenceWarning: lbfgs failed to converge (status=1):\n",
            "STOP: TOTAL NO. of ITERATIONS REACHED LIMIT.\n",
            "\n",
            "Increase the number of iterations (max_iter) or scale the data as shown in:\n",
            "    https://scikit-learn.org/stable/modules/preprocessing.html\n",
            "Please also refer to the documentation for alternative solver options:\n",
            "    https://scikit-learn.org/stable/modules/linear_model.html#logistic-regression\n",
            "  extra_warning_msg=_LOGISTIC_SOLVER_CONVERGENCE_MSG)\n"
          ],
          "name": "stderr"
        }
      ]
    },
    {
      "cell_type": "code",
      "metadata": {
        "colab": {
          "base_uri": "https://localhost:8080/"
        },
        "id": "kxHUxcP9SCLX",
        "outputId": "ee804b32-abe5-44b7-cfa9-4238f3466eb0"
      },
      "source": [
        "acc_DL = (np.array(tf.greater(logregressie_model.predict(x_test),.5)).flatten().astype('int') == y_test).sum()/y_test.shape[0]*100\n",
        "print('Accuracy of deep learning model is',acc_DL)\n",
        "acc_SK = (LogReg.predict(x_test)==y_test).sum()/y_test.shape[0]*100\n",
        "print('Accuracy of Logistic Regression model is',acc_SK)"
      ],
      "execution_count": 14,
      "outputs": [
        {
          "output_type": "stream",
          "text": [
            "Accuracy of deep learning model is 70.17543859649122\n",
            "Accuracy of Logistic Regression model is 95.6140350877193\n"
          ],
          "name": "stdout"
        }
      ]
    },
    {
      "cell_type": "markdown",
      "metadata": {
        "id": "SBvQQR6nvU_y"
      },
      "source": [
        "**Bonus: ensembling/stacking** Laten we kijken of we met stacking het bovenstaande deep learning model kunnen verslaan. Bij ensemblen trainen we in dit geval een netwerk met maar een laag, die de optimale combinatie van voorspelling zoekt van andere modellen. Doorloop de volgende 3 stappen:\n",
        "1. Train drie verschillende classificatiemodellen met sklearn, bijvoorbeeld randomforest, logistic regression en KNN\n",
        "2. Maak een nieuw numpy array met 3 kolommen, waar elke kolom de voorspellingen bevat van de drie sklearn modellen op de dataset x_train. \n",
        "3. Gebruik dit nieuwe dataframe als input voor een eenlaags neuraal netwerk met 1 neuron (zoals we bij opdracht een hadden ontworpen). De labels blijven natuurlijk y_train. \n",
        "\n",
        "Gefeliciteerd je hebt nu een ensemble model getraind! Om te testen of dit model beter werkt dan je deep learning model moet je nog 2 stappen doorlopen.\n",
        "\n",
        "i. Maak een nieuw dataframe met 3 kolommen, waar elke kolom de voorspellingen bevat van de drie sklearn modellen op de dataset x_test.\n",
        "\n",
        "ii. Doe model.predict op deze nieuwe dataset en bereken handmatig de loss en metrieken. \n",
        "\n",
        "*Nota bene: je kan de resultaten nog verder verbeteren door 4 modellen te ensemblen, waarvan het vierde model je deep learning model uit opdracht 3 is*"
      ]
    },
    {
      "cell_type": "code",
      "metadata": {
        "id": "yIca6LiuvVGS"
      },
      "source": [
        "from sklearn.ensemble import RandomForestClassifier\n",
        "from sklearn.neighbors import KNeighborsClassifier\n",
        "\n",
        "RF = RandomForestClassifier().fit(x_train,y_train)\n",
        "KNN = KNeighborsClassifier(n_neighbors=3).fit(x_train,y_train)\n",
        "\n",
        "ensemble_train = np.transpose(np.array([LogReg.predict_proba(x_train)[:,1],RF.predict_proba(x_train)[:,1],KNN.predict_proba(x_train)[:,1]]))"
      ],
      "execution_count": 27,
      "outputs": []
    },
    {
      "cell_type": "code",
      "metadata": {
        "colab": {
          "base_uri": "https://localhost:8080/"
        },
        "id": "wk3AOEB2UxCA",
        "outputId": "e32d3234-b6dd-4447-abce-7ebf3d7cdab0"
      },
      "source": [
        "ensembler = models.Sequential()\n",
        "ensembler.add(layers.Input(shape=(3)))\n",
        "ensembler.add(layers.Dense(units=1, activation='sigmoid'))\n",
        "\n",
        "ensembler.compile(optimizer=SGD(1e-2,0.7),\n",
        "                        loss='binary_crossentropy',\n",
        "                        metrics=['Accuracy','Precision','Recall']\n",
        ")\n",
        "                  \n",
        "ensembler_history = ensembler.fit(x=ensemble_train,\n",
        "                    y=y_train,\n",
        "                    batch_size=40,\n",
        "                    epochs=40,\n",
        "                     validation_split=0.2)"
      ],
      "execution_count": 28,
      "outputs": [
        {
          "output_type": "stream",
          "text": [
            "Epoch 1/40\n",
            "10/10 [==============================] - 1s 38ms/step - loss: 0.6771 - accuracy: 0.0000e+00 - precision: 0.6702 - recall: 0.8531 - val_loss: 0.6443 - val_accuracy: 0.0000e+00 - val_precision: 0.6463 - val_recall: 0.9138\n",
            "Epoch 2/40\n",
            "10/10 [==============================] - 0s 6ms/step - loss: 0.6174 - accuracy: 0.0000e+00 - precision: 0.6262 - recall: 0.9626 - val_loss: 0.5878 - val_accuracy: 0.0000e+00 - val_precision: 0.6395 - val_recall: 0.9483\n",
            "Epoch 3/40\n",
            "10/10 [==============================] - 0s 6ms/step - loss: 0.5611 - accuracy: 0.0000e+00 - precision: 0.6440 - recall: 0.9872 - val_loss: 0.5501 - val_accuracy: 0.0000e+00 - val_precision: 0.6477 - val_recall: 0.9828\n",
            "Epoch 4/40\n",
            "10/10 [==============================] - 0s 6ms/step - loss: 0.5215 - accuracy: 0.0000e+00 - precision: 0.6504 - recall: 0.9820 - val_loss: 0.5203 - val_accuracy: 0.0000e+00 - val_precision: 0.6477 - val_recall: 0.9828\n",
            "Epoch 5/40\n",
            "10/10 [==============================] - 0s 6ms/step - loss: 0.4859 - accuracy: 0.0000e+00 - precision: 0.6571 - recall: 0.9966 - val_loss: 0.4985 - val_accuracy: 0.0000e+00 - val_precision: 0.6477 - val_recall: 0.9828\n",
            "Epoch 6/40\n",
            "10/10 [==============================] - 0s 6ms/step - loss: 0.4776 - accuracy: 0.0000e+00 - precision: 0.6340 - recall: 1.0000 - val_loss: 0.4801 - val_accuracy: 0.0000e+00 - val_precision: 0.6444 - val_recall: 1.0000\n",
            "Epoch 7/40\n",
            "10/10 [==============================] - 0s 6ms/step - loss: 0.4417 - accuracy: 0.0000e+00 - precision: 0.6797 - recall: 1.0000 - val_loss: 0.4646 - val_accuracy: 0.0000e+00 - val_precision: 0.6444 - val_recall: 1.0000\n",
            "Epoch 8/40\n",
            "10/10 [==============================] - 0s 7ms/step - loss: 0.4618 - accuracy: 0.0000e+00 - precision: 0.6285 - recall: 1.0000 - val_loss: 0.4510 - val_accuracy: 0.0000e+00 - val_precision: 0.7945 - val_recall: 1.0000\n",
            "Epoch 9/40\n",
            "10/10 [==============================] - 0s 7ms/step - loss: 0.4201 - accuracy: 0.0000e+00 - precision: 0.8525 - recall: 1.0000 - val_loss: 0.4386 - val_accuracy: 0.0000e+00 - val_precision: 0.8286 - val_recall: 1.0000\n",
            "Epoch 10/40\n",
            "10/10 [==============================] - 0s 6ms/step - loss: 0.4140 - accuracy: 0.0000e+00 - precision: 0.9013 - recall: 1.0000 - val_loss: 0.4274 - val_accuracy: 0.0000e+00 - val_precision: 0.8286 - val_recall: 1.0000\n",
            "Epoch 11/40\n",
            "10/10 [==============================] - 0s 6ms/step - loss: 0.4107 - accuracy: 0.0000e+00 - precision: 0.8764 - recall: 1.0000 - val_loss: 0.4174 - val_accuracy: 0.0000e+00 - val_precision: 0.8406 - val_recall: 1.0000\n",
            "Epoch 12/40\n",
            "10/10 [==============================] - 0s 8ms/step - loss: 0.3714 - accuracy: 0.0000e+00 - precision: 0.9251 - recall: 1.0000 - val_loss: 0.4080 - val_accuracy: 0.0000e+00 - val_precision: 0.8406 - val_recall: 1.0000\n",
            "Epoch 13/40\n",
            "10/10 [==============================] - 0s 6ms/step - loss: 0.3801 - accuracy: 0.0000e+00 - precision: 0.8886 - recall: 1.0000 - val_loss: 0.3993 - val_accuracy: 0.0000e+00 - val_precision: 0.8406 - val_recall: 1.0000\n",
            "Epoch 14/40\n",
            "10/10 [==============================] - 0s 6ms/step - loss: 0.3641 - accuracy: 0.0000e+00 - precision: 0.9076 - recall: 1.0000 - val_loss: 0.3912 - val_accuracy: 0.0000e+00 - val_precision: 0.8406 - val_recall: 1.0000\n",
            "Epoch 15/40\n",
            "10/10 [==============================] - 0s 6ms/step - loss: 0.3709 - accuracy: 0.0000e+00 - precision: 0.8911 - recall: 1.0000 - val_loss: 0.3835 - val_accuracy: 0.0000e+00 - val_precision: 0.8529 - val_recall: 1.0000\n",
            "Epoch 16/40\n",
            "10/10 [==============================] - 0s 6ms/step - loss: 0.3616 - accuracy: 0.0000e+00 - precision: 0.9044 - recall: 1.0000 - val_loss: 0.3762 - val_accuracy: 0.0000e+00 - val_precision: 0.8529 - val_recall: 1.0000\n",
            "Epoch 17/40\n",
            "10/10 [==============================] - 0s 6ms/step - loss: 0.3355 - accuracy: 0.0000e+00 - precision: 0.9230 - recall: 1.0000 - val_loss: 0.3696 - val_accuracy: 0.0000e+00 - val_precision: 0.8657 - val_recall: 1.0000\n",
            "Epoch 18/40\n",
            "10/10 [==============================] - 0s 6ms/step - loss: 0.3393 - accuracy: 0.0000e+00 - precision: 0.9242 - recall: 1.0000 - val_loss: 0.3630 - val_accuracy: 0.0000e+00 - val_precision: 0.8788 - val_recall: 1.0000\n",
            "Epoch 19/40\n",
            "10/10 [==============================] - 0s 6ms/step - loss: 0.3316 - accuracy: 0.0000e+00 - precision: 0.9182 - recall: 1.0000 - val_loss: 0.3565 - val_accuracy: 0.0000e+00 - val_precision: 0.8788 - val_recall: 1.0000\n",
            "Epoch 20/40\n",
            "10/10 [==============================] - 0s 6ms/step - loss: 0.3362 - accuracy: 0.0000e+00 - precision: 0.9278 - recall: 1.0000 - val_loss: 0.3504 - val_accuracy: 0.0000e+00 - val_precision: 0.8788 - val_recall: 1.0000\n",
            "Epoch 21/40\n",
            "10/10 [==============================] - 0s 6ms/step - loss: 0.3068 - accuracy: 0.0000e+00 - precision: 0.9169 - recall: 1.0000 - val_loss: 0.3448 - val_accuracy: 0.0000e+00 - val_precision: 0.8923 - val_recall: 1.0000\n",
            "Epoch 22/40\n",
            "10/10 [==============================] - 0s 5ms/step - loss: 0.2934 - accuracy: 0.0000e+00 - precision: 0.9261 - recall: 1.0000 - val_loss: 0.3390 - val_accuracy: 0.0000e+00 - val_precision: 0.8923 - val_recall: 1.0000\n",
            "Epoch 23/40\n",
            "10/10 [==============================] - 0s 6ms/step - loss: 0.3019 - accuracy: 0.0000e+00 - precision: 0.9330 - recall: 1.0000 - val_loss: 0.3334 - val_accuracy: 0.0000e+00 - val_precision: 0.8923 - val_recall: 1.0000\n",
            "Epoch 24/40\n",
            "10/10 [==============================] - 0s 7ms/step - loss: 0.3034 - accuracy: 0.0000e+00 - precision: 0.9268 - recall: 1.0000 - val_loss: 0.3278 - val_accuracy: 0.0000e+00 - val_precision: 0.8923 - val_recall: 1.0000\n",
            "Epoch 25/40\n",
            "10/10 [==============================] - 0s 7ms/step - loss: 0.3047 - accuracy: 0.0000e+00 - precision: 0.9339 - recall: 1.0000 - val_loss: 0.3226 - val_accuracy: 0.0000e+00 - val_precision: 0.8923 - val_recall: 1.0000\n",
            "Epoch 26/40\n",
            "10/10 [==============================] - 0s 6ms/step - loss: 0.2898 - accuracy: 0.0000e+00 - precision: 0.9340 - recall: 1.0000 - val_loss: 0.3178 - val_accuracy: 0.0000e+00 - val_precision: 0.8923 - val_recall: 1.0000\n",
            "Epoch 27/40\n",
            "10/10 [==============================] - 0s 7ms/step - loss: 0.2897 - accuracy: 0.0000e+00 - precision: 0.9340 - recall: 1.0000 - val_loss: 0.3130 - val_accuracy: 0.0000e+00 - val_precision: 0.8923 - val_recall: 1.0000\n",
            "Epoch 28/40\n",
            "10/10 [==============================] - 0s 6ms/step - loss: 0.2718 - accuracy: 0.0000e+00 - precision: 0.9506 - recall: 1.0000 - val_loss: 0.3086 - val_accuracy: 0.0000e+00 - val_precision: 0.8923 - val_recall: 1.0000\n",
            "Epoch 29/40\n",
            "10/10 [==============================] - 0s 6ms/step - loss: 0.2699 - accuracy: 0.0000e+00 - precision: 0.9396 - recall: 1.0000 - val_loss: 0.3043 - val_accuracy: 0.0000e+00 - val_precision: 0.8923 - val_recall: 1.0000\n",
            "Epoch 30/40\n",
            "10/10 [==============================] - 0s 6ms/step - loss: 0.2841 - accuracy: 0.0000e+00 - precision: 0.9305 - recall: 1.0000 - val_loss: 0.3000 - val_accuracy: 0.0000e+00 - val_precision: 0.8923 - val_recall: 1.0000\n",
            "Epoch 31/40\n",
            "10/10 [==============================] - 0s 6ms/step - loss: 0.2716 - accuracy: 0.0000e+00 - precision: 0.9398 - recall: 1.0000 - val_loss: 0.2957 - val_accuracy: 0.0000e+00 - val_precision: 0.8923 - val_recall: 1.0000\n",
            "Epoch 32/40\n",
            "10/10 [==============================] - 0s 6ms/step - loss: 0.2614 - accuracy: 0.0000e+00 - precision: 0.9451 - recall: 1.0000 - val_loss: 0.2915 - val_accuracy: 0.0000e+00 - val_precision: 0.8923 - val_recall: 1.0000\n",
            "Epoch 33/40\n",
            "10/10 [==============================] - 0s 6ms/step - loss: 0.2606 - accuracy: 0.0000e+00 - precision: 0.9380 - recall: 1.0000 - val_loss: 0.2876 - val_accuracy: 0.0000e+00 - val_precision: 0.8923 - val_recall: 1.0000\n",
            "Epoch 34/40\n",
            "10/10 [==============================] - 0s 7ms/step - loss: 0.2589 - accuracy: 0.0000e+00 - precision: 0.9350 - recall: 1.0000 - val_loss: 0.2838 - val_accuracy: 0.0000e+00 - val_precision: 0.8923 - val_recall: 1.0000\n",
            "Epoch 35/40\n",
            "10/10 [==============================] - 0s 7ms/step - loss: 0.2502 - accuracy: 0.0000e+00 - precision: 0.9392 - recall: 1.0000 - val_loss: 0.2800 - val_accuracy: 0.0000e+00 - val_precision: 0.8923 - val_recall: 1.0000\n",
            "Epoch 36/40\n",
            "10/10 [==============================] - 0s 7ms/step - loss: 0.2471 - accuracy: 0.0000e+00 - precision: 0.9505 - recall: 1.0000 - val_loss: 0.2763 - val_accuracy: 0.0000e+00 - val_precision: 0.8923 - val_recall: 1.0000\n",
            "Epoch 37/40\n",
            "10/10 [==============================] - 0s 7ms/step - loss: 0.2429 - accuracy: 0.0000e+00 - precision: 0.9445 - recall: 1.0000 - val_loss: 0.2728 - val_accuracy: 0.0000e+00 - val_precision: 0.8923 - val_recall: 1.0000\n",
            "Epoch 38/40\n",
            "10/10 [==============================] - 0s 6ms/step - loss: 0.2398 - accuracy: 0.0000e+00 - precision: 0.9471 - recall: 1.0000 - val_loss: 0.2695 - val_accuracy: 0.0000e+00 - val_precision: 0.8923 - val_recall: 1.0000\n",
            "Epoch 39/40\n",
            "10/10 [==============================] - 0s 7ms/step - loss: 0.2478 - accuracy: 0.0000e+00 - precision: 0.9342 - recall: 1.0000 - val_loss: 0.2664 - val_accuracy: 0.0000e+00 - val_precision: 0.8923 - val_recall: 1.0000\n",
            "Epoch 40/40\n",
            "10/10 [==============================] - 0s 6ms/step - loss: 0.2227 - accuracy: 0.0000e+00 - precision: 0.9634 - recall: 1.0000 - val_loss: 0.2633 - val_accuracy: 0.0000e+00 - val_precision: 0.9062 - val_recall: 1.0000\n"
          ],
          "name": "stdout"
        }
      ]
    },
    {
      "cell_type": "code",
      "metadata": {
        "colab": {
          "base_uri": "https://localhost:8080/"
        },
        "id": "0tjpfrg8WNTW",
        "outputId": "9cbc0bae-a4fb-4680-8119-fecf0bf84dc8"
      },
      "source": [
        "ensembler_test = np.transpose(np.array([LogReg.predict_proba(x_test)[:,1],RF.predict_proba(x_test)[:,1],KNN.predict_proba(x_test)[:,1]]))\n",
        "acc_DL = (np.array(tf.greater(ensembler.predict(ensembler_test),.5)).flatten().astype('int') == y_test).sum()/y_test.shape[0]*100\n",
        "print('Accuracy of ensembler model is',acc_DL)\n",
        "acc_LR = (LogReg.predict(x_test)==y_test).sum()/y_test.shape[0]*100\n",
        "print('Accuracy of Logistic Regression model is',acc_SK)\n",
        "acc_KNN = (KNN.predict(x_test)==y_test).sum()/y_test.shape[0]*100\n",
        "print('Accuracy of K-nearest neighbors model is',acc_SK)\n",
        "acc_RF = (RF.predict(x_test)==y_test).sum()/y_test.shape[0]*100\n",
        "print('Accuracy of Random Forest model is',acc_SK)"
      ],
      "execution_count": 29,
      "outputs": [
        {
          "output_type": "stream",
          "text": [
            "Accuracy of ensembler model is 96.49122807017544\n",
            "Accuracy of Logistic Regression model is 95.6140350877193\n",
            "Accuracy of K-nearest neighbors model is 95.6140350877193\n",
            "Accuracy of Random Forest model is 95.6140350877193\n"
          ],
          "name": "stdout"
        }
      ]
    }
  ]
}