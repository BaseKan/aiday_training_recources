{
  "nbformat": 4,
  "nbformat_minor": 0,
  "metadata": {
    "colab": {
      "name": "ConvNets.ipynb",
      "provenance": [],
      "authorship_tag": "ABX9TyPpghaD2Mqtvr+qnBVoGAg0",
      "include_colab_link": true
    },
    "kernelspec": {
      "name": "python3",
      "display_name": "Python 3"
    },
    "language_info": {
      "name": "python"
    }
  },
  "cells": [
    {
      "cell_type": "markdown",
      "metadata": {
        "id": "view-in-github",
        "colab_type": "text"
      },
      "source": [
        "<a href=\"https://colab.research.google.com/github/BaseKan/aiday_training_resources/blob/main/TF_ConvNets/ConvNets.ipynb\" target=\"_parent\"><img src=\"https://colab.research.google.com/assets/colab-badge.svg\" alt=\"Open In Colab\"/></a>"
      ]
    },
    {
      "cell_type": "markdown",
      "metadata": {
        "id": "FwDb2eSWUgvA"
      },
      "source": [
        "# Introductie (todo Niels)"
      ]
    },
    {
      "cell_type": "code",
      "metadata": {
        "id": "Sfnzd8UChn0r"
      },
      "source": [
        "import os\n",
        "import numpy as np\n",
        "import glob\n",
        "import shutil\n",
        "import matplotlib.pyplot as plt\n",
        "\n",
        "import tensorflow as tf\n",
        "from tensorflow.keras.preprocessing.image import ImageDataGenerator\n",
        "from tensorflow.keras.layers import Conv2D, MaxPooling2D, Flatten, Dense, Dropout"
      ],
      "execution_count": null,
      "outputs": []
    },
    {
      "cell_type": "markdown",
      "metadata": {
        "id": "sTsplAyLUfmE"
      },
      "source": [
        "# Dataset"
      ]
    },
    {
      "cell_type": "code",
      "metadata": {
        "id": "2e1An7QPUqF-"
      },
      "source": [
        "_URL = 'https://storage.googleapis.com/mledu-datasets/cats_and_dogs_filtered.zip'\n",
        "\n",
        "zip_dir = tf.keras.utils.get_file('cats_and_dogs_filterted.zip', origin=_URL, extract=True)"
      ],
      "execution_count": null,
      "outputs": []
    },
    {
      "cell_type": "code",
      "metadata": {
        "id": "Y8xcysIrEeh2"
      },
      "source": [
        "base_dir = os.path.join(os.path.dirname(zip_dir), 'cats_and_dogs_filtered')\n",
        "train_dir = os.path.join(base_dir, 'train')\n",
        "val_dir = os.path.join(base_dir, 'validation')\n",
        "test_dir = os.path.join(base_dir, 'test')\n",
        "\n",
        "classes = [d for d in os.listdir(val_dir) if os.path.isdir(os.path.join(train_dir, d))]"
      ],
      "execution_count": null,
      "outputs": []
    },
    {
      "cell_type": "markdown",
      "metadata": {
        "id": "C0eYnmq-VShf"
      },
      "source": [
        "We splitsen de validatieset in een validatieset en een testset.\n"
      ]
    },
    {
      "cell_type": "code",
      "metadata": {
        "id": "kp-z9r5bFPdw"
      },
      "source": [
        "for cl in classes:\n",
        "  img_path = os.path.join(val_dir, cl)\n",
        "  images = glob.glob(img_path + '/*.jpg')\n",
        "  print(\"{}: {} Images\".format(cl, len(images)))\n",
        "  val, test = images[:round(len(images)*0.5)], images[round(len(images)*0.5):]\n",
        "\n",
        "  for t in test:\n",
        "    if not os.path.exists(os.path.join(base_dir, 'test', cl)):\n",
        "      os.makedirs(os.path.join(base_dir, 'test', cl))\n",
        "    shutil.move(t, os.path.join(base_dir, 'test', cl))"
      ],
      "execution_count": null,
      "outputs": []
    },
    {
      "cell_type": "code",
      "metadata": {
        "id": "5poPYgY3Y4pF"
      },
      "source": [
        "print(\"{}: {} train images\".format(classes[0], len(os.listdir(os.path.join(train_dir, classes[0])))))\n",
        "print(\"{}: {} train images\".format(classes[1], len(os.listdir(os.path.join(train_dir, classes[1])))))\n",
        "print(\"{}: {} validation images\".format(classes[0], len(os.listdir(os.path.join(val_dir, classes[0])))))\n",
        "print(\"{}: {} validation images\".format(classes[1], len(os.listdir(os.path.join(val_dir, classes[1])))))\n",
        "print(\"{}: {} test images\".format(classes[0], len(os.listdir(os.path.join(test_dir, classes[0])))))\n",
        "print(\"{}: {} test images\".format(classes[1], len(os.listdir(os.path.join(test_dir, classes[1])))))"
      ],
      "execution_count": null,
      "outputs": []
    },
    {
      "cell_type": "markdown",
      "metadata": {
        "id": "p8aepRiCG7NN"
      },
      "source": [
        "We maken een image data generator om de afbeeldingen goed in te kunnen laden. Voor nu normaliseren we enkel de kleuren."
      ]
    },
    {
      "cell_type": "code",
      "metadata": {
        "id": "6OwQLfGhGndU"
      },
      "source": [
        "batch_size = 32\n",
        "IMG_SHAPE = 150"
      ],
      "execution_count": null,
      "outputs": []
    },
    {
      "cell_type": "code",
      "metadata": {
        "id": "rMTTNJwPHahd"
      },
      "source": [
        "def plotImages(images_arr):\n",
        "    fig, axes = plt.subplots(1, 5, figsize=(20,20))\n",
        "    axes = axes.flatten()\n",
        "    for img, ax in zip( images_arr, axes):\n",
        "        ax.imshow(img)\n",
        "    plt.tight_layout()\n",
        "    plt.show()"
      ],
      "execution_count": null,
      "outputs": []
    },
    {
      "cell_type": "code",
      "metadata": {
        "id": "Wpg3TIWXG-li"
      },
      "source": [
        "image_gen = ImageDataGenerator(rescale=1/255)\n",
        "\n",
        "train_data_gen = image_gen.flow_from_directory(directory = train_dir, \n",
        "                                               target_size = (IMG_SHAPE, IMG_SHAPE),\n",
        "                                               batch_size = batch_size,\n",
        "                                               shuffle = True)"
      ],
      "execution_count": null,
      "outputs": []
    },
    {
      "cell_type": "code",
      "metadata": {
        "id": "WdUNC_XVHYV7"
      },
      "source": [
        "images = [train_data_gen[0][0][i] for i in range(5)]\n",
        "plotImages(images)"
      ],
      "execution_count": null,
      "outputs": []
    },
    {
      "cell_type": "markdown",
      "metadata": {
        "id": "sVQl2IuzZimB"
      },
      "source": [
        "# Image Augmentation"
      ]
    },
    {
      "cell_type": "markdown",
      "metadata": {
        "id": "DxxuzppQbIih"
      },
      "source": [
        "Horizontal Flip."
      ]
    },
    {
      "cell_type": "code",
      "metadata": {
        "id": "2y87HtgOZh_j"
      },
      "source": [
        "image_gen = ImageDataGenerator(rescale=1/255, horizontal_flip=True)\n",
        "\n",
        "train_data_gen = image_gen.flow_from_directory(directory = train_dir, \n",
        "                                               target_size = (IMG_SHAPE, IMG_SHAPE),\n",
        "                                               batch_size = batch_size,\n",
        "                                               shuffle = True)"
      ],
      "execution_count": null,
      "outputs": []
    },
    {
      "cell_type": "code",
      "metadata": {
        "id": "cfg_YMXjbIGD"
      },
      "source": [
        "augmented_images = [train_data_gen[0][0][0] for i in range(5)]\n",
        "plotImages(augmented_images)"
      ],
      "execution_count": null,
      "outputs": []
    },
    {
      "cell_type": "markdown",
      "metadata": {
        "id": "7bU93vrwbPvn"
      },
      "source": [
        "Random Rotation."
      ]
    },
    {
      "cell_type": "code",
      "metadata": {
        "id": "c2pV4F2QbTtW"
      },
      "source": [
        "image_gen = ImageDataGenerator(rescale=1/255, rotation_range=45)\n",
        "\n",
        "train_data_gen = image_gen.flow_from_directory(directory=train_dir,\n",
        "                                               target_size = (IMG_SHAPE, IMG_SHAPE),\n",
        "                                               batch_size = batch_size,\n",
        "                                               shuffle = True)"
      ],
      "execution_count": null,
      "outputs": []
    },
    {
      "cell_type": "code",
      "metadata": {
        "id": "bYFarGx9bWf6"
      },
      "source": [
        "augmented_images = [train_data_gen[0][0][0] for i in range(5)]\n",
        "plotImages(augmented_images)"
      ],
      "execution_count": null,
      "outputs": []
    },
    {
      "cell_type": "markdown",
      "metadata": {
        "id": "aBbrxhPubgym"
      },
      "source": [
        "Random zoom."
      ]
    },
    {
      "cell_type": "code",
      "metadata": {
        "id": "Gbged3Wrbh70"
      },
      "source": [
        "image_gen = ImageDataGenerator(rescale = 1/255, zoom_range = 0.5)\n",
        "\n",
        "train_data_gen = image_gen.flow_from_directory(directory = train_dir, \n",
        "                                               target_size = (IMG_SHAPE, IMG_SHAPE),\n",
        "                                               shuffle = True,\n",
        "                                               batch_size = batch_size)"
      ],
      "execution_count": null,
      "outputs": []
    },
    {
      "cell_type": "code",
      "metadata": {
        "id": "L8GiCzUXbiUy"
      },
      "source": [
        "augmented_images = [train_data_gen[0][0][0] for i in range(5)]\n",
        "plotImages(augmented_images)"
      ],
      "execution_count": null,
      "outputs": []
    },
    {
      "cell_type": "markdown",
      "metadata": {
        "id": "Br5CbYanbnlr"
      },
      "source": [
        "# Exercise"
      ]
    },
    {
      "cell_type": "markdown",
      "metadata": {
        "id": "zK7zsvhYbqMg"
      },
      "source": [
        "Gebruik de documentatie van [ImageDataGenerator](https://www.tensorflow.org/api_docs/python/tf/keras/preprocessing/image/ImageDataGenerator) om meerdere augmentaties te combineren. Train vervolgens een CNN en probeer een zo goed mogelijke score te halen op de test set."
      ]
    },
    {
      "cell_type": "code",
      "metadata": {
        "id": "k9IWASINbpJc"
      },
      "source": [
        "image_gen_val = ImageDataGenerator(rescale=1/255)\n",
        "\n",
        "val_data_gen = image_gen_val.flow_from_directory(directory = val_dir,\n",
        "                                                 target_size = (IMG_SHAPE, IMG_SHAPE),\n",
        "                                                 batch_size = batch_size)\n",
        "\n",
        "image_gen_test = ImageDataGenerator(rescale=1/255)\n",
        "\n",
        "test_data_gen = image_gen_test.flow_from_directory(directory = val_dir,\n",
        "                                                   target_size = (IMG_SHAPE, IMG_SHAPE),\n",
        "                                                   batch_size = batch_size)"
      ],
      "execution_count": null,
      "outputs": []
    },
    {
      "cell_type": "code",
      "metadata": {
        "id": "xTQKTLMbdA3l"
      },
      "source": [
        "# Jouw code hier"
      ],
      "execution_count": null,
      "outputs": []
    },
    {
      "cell_type": "code",
      "metadata": {
        "id": "riwycaHzdDeT"
      },
      "source": [
        ""
      ],
      "execution_count": null,
      "outputs": []
    }
  ]
}