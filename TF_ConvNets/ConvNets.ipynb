{
  "nbformat": 4,
  "nbformat_minor": 0,
  "metadata": {
    "colab": {
      "name": "ConvNets.ipynb",
      "provenance": [],
      "include_colab_link": true
    },
    "kernelspec": {
      "name": "python3",
      "display_name": "Python 3"
    },
    "language_info": {
      "name": "python"
    },
    "widgets": {
      "application/vnd.jupyter.widget-state+json": {
        "848e89ad92764c29b1423b42ed772e6e": {
          "model_module": "@jupyter-widgets/controls",
          "model_name": "HBoxModel",
          "state": {
            "_view_name": "HBoxView",
            "_dom_classes": [],
            "_model_name": "HBoxModel",
            "_view_module": "@jupyter-widgets/controls",
            "_model_module_version": "1.5.0",
            "_view_count": null,
            "_view_module_version": "1.5.0",
            "box_style": "",
            "layout": "IPY_MODEL_72678545998e419fa710951f0517a5b6",
            "_model_module": "@jupyter-widgets/controls",
            "children": [
              "IPY_MODEL_ec203d32750f46709fd579e329e63e1c",
              "IPY_MODEL_3ec828187e6c49af9c76ca839b5b7acd"
            ]
          }
        },
        "72678545998e419fa710951f0517a5b6": {
          "model_module": "@jupyter-widgets/base",
          "model_name": "LayoutModel",
          "state": {
            "_view_name": "LayoutView",
            "grid_template_rows": null,
            "right": null,
            "justify_content": null,
            "_view_module": "@jupyter-widgets/base",
            "overflow": null,
            "_model_module_version": "1.2.0",
            "_view_count": null,
            "flex_flow": null,
            "width": null,
            "min_width": null,
            "border": null,
            "align_items": null,
            "bottom": null,
            "_model_module": "@jupyter-widgets/base",
            "top": null,
            "grid_column": null,
            "overflow_y": null,
            "overflow_x": null,
            "grid_auto_flow": null,
            "grid_area": null,
            "grid_template_columns": null,
            "flex": null,
            "_model_name": "LayoutModel",
            "justify_items": null,
            "grid_row": null,
            "max_height": null,
            "align_content": null,
            "visibility": null,
            "align_self": null,
            "height": null,
            "min_height": null,
            "padding": null,
            "grid_auto_rows": null,
            "grid_gap": null,
            "max_width": null,
            "order": null,
            "_view_module_version": "1.2.0",
            "grid_template_areas": null,
            "object_position": null,
            "object_fit": null,
            "grid_auto_columns": null,
            "margin": null,
            "display": null,
            "left": null
          }
        },
        "ec203d32750f46709fd579e329e63e1c": {
          "model_module": "@jupyter-widgets/controls",
          "model_name": "FloatProgressModel",
          "state": {
            "_view_name": "ProgressView",
            "style": "IPY_MODEL_78b2641bd1bd4b7daf9625eb95ea3427",
            "_dom_classes": [],
            "description": "Dl Completed...: 100%",
            "_model_name": "FloatProgressModel",
            "bar_style": "success",
            "max": 5,
            "_view_module": "@jupyter-widgets/controls",
            "_model_module_version": "1.5.0",
            "value": 5,
            "_view_count": null,
            "_view_module_version": "1.5.0",
            "orientation": "horizontal",
            "min": 0,
            "description_tooltip": null,
            "_model_module": "@jupyter-widgets/controls",
            "layout": "IPY_MODEL_d889348fd6914afb936299934583524e"
          }
        },
        "3ec828187e6c49af9c76ca839b5b7acd": {
          "model_module": "@jupyter-widgets/controls",
          "model_name": "HTMLModel",
          "state": {
            "_view_name": "HTMLView",
            "style": "IPY_MODEL_f0c2f021d16944a59f4e09ab52821e35",
            "_dom_classes": [],
            "description": "",
            "_model_name": "HTMLModel",
            "placeholder": "​",
            "_view_module": "@jupyter-widgets/controls",
            "_model_module_version": "1.5.0",
            "value": " 5/5 [00:39&lt;00:00,  7.88s/ file]",
            "_view_count": null,
            "_view_module_version": "1.5.0",
            "description_tooltip": null,
            "_model_module": "@jupyter-widgets/controls",
            "layout": "IPY_MODEL_37ba08b038514b93aaec726a448513eb"
          }
        },
        "78b2641bd1bd4b7daf9625eb95ea3427": {
          "model_module": "@jupyter-widgets/controls",
          "model_name": "ProgressStyleModel",
          "state": {
            "_view_name": "StyleView",
            "_model_name": "ProgressStyleModel",
            "description_width": "initial",
            "_view_module": "@jupyter-widgets/base",
            "_model_module_version": "1.5.0",
            "_view_count": null,
            "_view_module_version": "1.2.0",
            "bar_color": null,
            "_model_module": "@jupyter-widgets/controls"
          }
        },
        "d889348fd6914afb936299934583524e": {
          "model_module": "@jupyter-widgets/base",
          "model_name": "LayoutModel",
          "state": {
            "_view_name": "LayoutView",
            "grid_template_rows": null,
            "right": null,
            "justify_content": null,
            "_view_module": "@jupyter-widgets/base",
            "overflow": null,
            "_model_module_version": "1.2.0",
            "_view_count": null,
            "flex_flow": null,
            "width": null,
            "min_width": null,
            "border": null,
            "align_items": null,
            "bottom": null,
            "_model_module": "@jupyter-widgets/base",
            "top": null,
            "grid_column": null,
            "overflow_y": null,
            "overflow_x": null,
            "grid_auto_flow": null,
            "grid_area": null,
            "grid_template_columns": null,
            "flex": null,
            "_model_name": "LayoutModel",
            "justify_items": null,
            "grid_row": null,
            "max_height": null,
            "align_content": null,
            "visibility": null,
            "align_self": null,
            "height": null,
            "min_height": null,
            "padding": null,
            "grid_auto_rows": null,
            "grid_gap": null,
            "max_width": null,
            "order": null,
            "_view_module_version": "1.2.0",
            "grid_template_areas": null,
            "object_position": null,
            "object_fit": null,
            "grid_auto_columns": null,
            "margin": null,
            "display": null,
            "left": null
          }
        },
        "f0c2f021d16944a59f4e09ab52821e35": {
          "model_module": "@jupyter-widgets/controls",
          "model_name": "DescriptionStyleModel",
          "state": {
            "_view_name": "StyleView",
            "_model_name": "DescriptionStyleModel",
            "description_width": "",
            "_view_module": "@jupyter-widgets/base",
            "_model_module_version": "1.5.0",
            "_view_count": null,
            "_view_module_version": "1.2.0",
            "_model_module": "@jupyter-widgets/controls"
          }
        },
        "37ba08b038514b93aaec726a448513eb": {
          "model_module": "@jupyter-widgets/base",
          "model_name": "LayoutModel",
          "state": {
            "_view_name": "LayoutView",
            "grid_template_rows": null,
            "right": null,
            "justify_content": null,
            "_view_module": "@jupyter-widgets/base",
            "overflow": null,
            "_model_module_version": "1.2.0",
            "_view_count": null,
            "flex_flow": null,
            "width": null,
            "min_width": null,
            "border": null,
            "align_items": null,
            "bottom": null,
            "_model_module": "@jupyter-widgets/base",
            "top": null,
            "grid_column": null,
            "overflow_y": null,
            "overflow_x": null,
            "grid_auto_flow": null,
            "grid_area": null,
            "grid_template_columns": null,
            "flex": null,
            "_model_name": "LayoutModel",
            "justify_items": null,
            "grid_row": null,
            "max_height": null,
            "align_content": null,
            "visibility": null,
            "align_self": null,
            "height": null,
            "min_height": null,
            "padding": null,
            "grid_auto_rows": null,
            "grid_gap": null,
            "max_width": null,
            "order": null,
            "_view_module_version": "1.2.0",
            "grid_template_areas": null,
            "object_position": null,
            "object_fit": null,
            "grid_auto_columns": null,
            "margin": null,
            "display": null,
            "left": null
          }
        }
      }
    }
  },
  "cells": [
    {
      "cell_type": "markdown",
      "metadata": {
        "id": "view-in-github",
        "colab_type": "text"
      },
      "source": [
        "<a href=\"https://colab.research.google.com/github/BaseKan/aiday_training_resources/blob/main/TF_ConvNets/ConvNets.ipynb\" target=\"_parent\"><img src=\"https://colab.research.google.com/assets/colab-badge.svg\" alt=\"Open In Colab\"/></a>"
      ]
    },
    {
      "cell_type": "markdown",
      "metadata": {
        "id": "FwDb2eSWUgvA"
      },
      "source": [
        "# Introductie\n",
        "\n"
      ]
    },
    {
      "cell_type": "code",
      "metadata": {
        "id": "Sfnzd8UChn0r"
      },
      "source": [
        "import os\n",
        "import numpy as np\n",
        "import pandas as pd\n",
        "import glob\n",
        "import shutil\n",
        "import matplotlib.pyplot as plt\n",
        "\n",
        "import tensorflow as tf\n",
        "from tensorflow.keras.preprocessing.image import ImageDataGenerator\n",
        "from tensorflow.keras.layers import Conv2D, MaxPooling2D, Flatten, Dense, Dropout"
      ],
      "execution_count": 3,
      "outputs": []
    },
    {
      "cell_type": "code",
      "metadata": {
        "id": "-vsq76b-B1es"
      },
      "source": [
        "from tensorflow.keras.datasets import fashion_mnist\n",
        "(x_train, y_train), (x_test, y_test) = fashion_mnist.load_data()"
      ],
      "execution_count": 4,
      "outputs": []
    },
    {
      "cell_type": "code",
      "metadata": {
        "id": "IFV5-XVhCCQC"
      },
      "source": [
        "x_train = x_train/255\n",
        "x_test = x_test/255\n",
        "x_train = x_train.reshape(60000, 28, 28, 1)\n",
        "x_test = x_test.reshape(10000, 28, 28, 1)"
      ],
      "execution_count": 5,
      "outputs": []
    },
    {
      "cell_type": "code",
      "metadata": {
        "id": "GO9Z7I7UCaeB"
      },
      "source": [
        "from tensorflow.keras.utils import to_categorical"
      ],
      "execution_count": 6,
      "outputs": []
    },
    {
      "cell_type": "code",
      "metadata": {
        "id": "LEfyE0mZCaVr"
      },
      "source": [
        "y_cat_train = to_categorical(y_train, 10)"
      ],
      "execution_count": 7,
      "outputs": []
    },
    {
      "cell_type": "code",
      "metadata": {
        "id": "abs-1nrQDF2G"
      },
      "source": [
        "y_cat_test = to_categorical(y_test, 10)"
      ],
      "execution_count": 8,
      "outputs": []
    },
    {
      "cell_type": "code",
      "metadata": {
        "id": "PR48dahnDFy5"
      },
      "source": [
        "from tensorflow.keras import Sequential\n",
        "from tensorflow.keras.layers import Dense, Conv2D, MaxPool2D, Flatten\n",
        "from tensorflow.keras.callbacks import EarlyStopping"
      ],
      "execution_count": 9,
      "outputs": []
    },
    {
      "cell_type": "code",
      "metadata": {
        "id": "ipSN_bIfDTwj"
      },
      "source": [
        "def create_model():\n",
        "  model = Sequential()\n",
        "\n",
        "  model.add(Conv2D(filters=32, kernel_size=(4,4), input_shape=(28,28,1), activation='relu', padding='same'))\n",
        "  model.add(MaxPool2D(pool_size=(2, 2)))\n",
        "  model.add(Conv2D(filters=64, kernel_size=(4,4), input_shape=(28,28,1), activation='relu', padding='same'))\n",
        "  model.add(MaxPool2D(pool_size=(2, 2)))\n",
        "\n",
        "  model.add(Flatten())\n",
        "  model.add(Dense(128, activation='relu'))\n",
        "  model.add(Dense(10, activation='softmax'))\n",
        "\n",
        "  return model"
      ],
      "execution_count": 68,
      "outputs": []
    },
    {
      "cell_type": "code",
      "metadata": {
        "id": "uKlH4oCpDTt7"
      },
      "source": [
        "cnn_model = create_model()"
      ],
      "execution_count": 69,
      "outputs": []
    },
    {
      "cell_type": "code",
      "metadata": {
        "id": "-cIQ5JD0Fjl8"
      },
      "source": [
        "cnn_model.compile(loss='categorical_crossentropy', optimizer='adam', metrics=['accuracy'])"
      ],
      "execution_count": 70,
      "outputs": []
    },
    {
      "cell_type": "code",
      "metadata": {
        "id": "Gcnfk0EnFjjM"
      },
      "source": [
        "early_stop = EarlyStopping(monitor='val_loss', patience=2)"
      ],
      "execution_count": 71,
      "outputs": []
    },
    {
      "cell_type": "code",
      "metadata": {
        "id": "t0ltDnPAFjch",
        "outputId": "eebd0981-fa80-4106-fecc-2b55d2bb79c5",
        "colab": {
          "base_uri": "https://localhost:8080/"
        }
      },
      "source": [
        "cnn_model.fit(x=x_train, y=y_cat_train, epochs=5, validation_data=(x_test, y_cat_test), callbacks=[early_stop], batch_size=128)"
      ],
      "execution_count": 73,
      "outputs": [
        {
          "output_type": "stream",
          "text": [
            "Epoch 1/5\n",
            "469/469 [==============================] - 106s 226ms/step - loss: 0.2481 - accuracy: 0.9107 - val_loss: 0.2616 - val_accuracy: 0.9061\n",
            "Epoch 2/5\n",
            "469/469 [==============================] - 106s 225ms/step - loss: 0.2216 - accuracy: 0.9187 - val_loss: 0.2589 - val_accuracy: 0.9070\n",
            "Epoch 3/5\n",
            "469/469 [==============================] - 107s 228ms/step - loss: 0.1995 - accuracy: 0.9274 - val_loss: 0.2421 - val_accuracy: 0.9110\n",
            "Epoch 4/5\n",
            "469/469 [==============================] - 105s 225ms/step - loss: 0.1793 - accuracy: 0.9346 - val_loss: 0.2297 - val_accuracy: 0.9182\n",
            "Epoch 5/5\n",
            "469/469 [==============================] - 106s 225ms/step - loss: 0.1612 - accuracy: 0.9410 - val_loss: 0.2253 - val_accuracy: 0.9210\n"
          ],
          "name": "stdout"
        },
        {
          "output_type": "execute_result",
          "data": {
            "text/plain": [
              "<tensorflow.python.keras.callbacks.History at 0x7febe22923d0>"
            ]
          },
          "metadata": {
            "tags": []
          },
          "execution_count": 73
        }
      ]
    },
    {
      "cell_type": "code",
      "metadata": {
        "id": "6ugzAuQKOEwk",
        "outputId": "a24640d8-d29d-4d94-ebf8-76a3bb99ef8d",
        "colab": {
          "base_uri": "https://localhost:8080/",
          "height": 282
        }
      },
      "source": [
        "loss_df = pd.DataFrame(cnn_model.history.history)\n",
        "\n",
        "loss_df[['accuracy', 'val_accuracy']].plot()"
      ],
      "execution_count": 78,
      "outputs": [
        {
          "output_type": "execute_result",
          "data": {
            "text/plain": [
              "<matplotlib.axes._subplots.AxesSubplot at 0x7febdb4fe750>"
            ]
          },
          "metadata": {
            "tags": []
          },
          "execution_count": 78
        },
        {
          "output_type": "display_data",
          "data": {
            "image/png": "[encoded data removed]",
            "text/plain": [
              "<Figure size 432x288 with 1 Axes>"
            ]
          },
          "metadata": {
            "tags": [],
            "needs_background": "light"
          }
        }
      ]
    },
    {
      "cell_type": "markdown",
      "metadata": {
        "id": "sTsplAyLUfmE"
      },
      "source": [
        "# Dataset"
      ]
    },
    {
      "cell_type": "code",
      "metadata": {
        "id": "2e1An7QPUqF-"
      },
      "source": [
        "_URL = 'https://storage.googleapis.com/mledu-datasets/cats_and_dogs_filtered.zip'\n",
        "\n",
        "zip_dir = tf.keras.utils.get_file('cats_and_dogs_filterted.zip', origin=_URL, extract=True)"
      ],
      "execution_count": null,
      "outputs": []
    },
    {
      "cell_type": "code",
      "metadata": {
        "id": "Y8xcysIrEeh2"
      },
      "source": [
        "base_dir = os.path.join(os.path.dirname(zip_dir), 'cats_and_dogs_filtered')\n",
        "train_dir = os.path.join(base_dir, 'train')\n",
        "val_dir = os.path.join(base_dir, 'validation')\n",
        "test_dir = os.path.join(base_dir, 'test')\n",
        "\n",
        "classes = [d for d in os.listdir(val_dir) if os.path.isdir(os.path.join(train_dir, d))]"
      ],
      "execution_count": null,
      "outputs": []
    },
    {
      "cell_type": "markdown",
      "metadata": {
        "id": "C0eYnmq-VShf"
      },
      "source": [
        "We splitsen de validatieset in een validatieset en een testset.\n"
      ]
    },
    {
      "cell_type": "code",
      "metadata": {
        "id": "kp-z9r5bFPdw"
      },
      "source": [
        "for cl in classes:\n",
        "  img_path = os.path.join(val_dir, cl)\n",
        "  images = glob.glob(img_path + '/*.jpg')\n",
        "  print(\"{}: {} Images\".format(cl, len(images)))\n",
        "  val, test = images[:round(len(images)*0.5)], images[round(len(images)*0.5):]\n",
        "\n",
        "  for t in test:\n",
        "    if not os.path.exists(os.path.join(base_dir, 'test', cl)):\n",
        "      os.makedirs(os.path.join(base_dir, 'test', cl))\n",
        "    shutil.move(t, os.path.join(base_dir, 'test', cl))"
      ],
      "execution_count": null,
      "outputs": []
    },
    {
      "cell_type": "code",
      "metadata": {
        "id": "5poPYgY3Y4pF"
      },
      "source": [
        "print(\"{}: {} train images\".format(classes[0], len(os.listdir(os.path.join(train_dir, classes[0])))))\n",
        "print(\"{}: {} train images\".format(classes[1], len(os.listdir(os.path.join(train_dir, classes[1])))))\n",
        "print(\"{}: {} validation images\".format(classes[0], len(os.listdir(os.path.join(val_dir, classes[0])))))\n",
        "print(\"{}: {} validation images\".format(classes[1], len(os.listdir(os.path.join(val_dir, classes[1])))))\n",
        "print(\"{}: {} test images\".format(classes[0], len(os.listdir(os.path.join(test_dir, classes[0])))))\n",
        "print(\"{}: {} test images\".format(classes[1], len(os.listdir(os.path.join(test_dir, classes[1])))))"
      ],
      "execution_count": null,
      "outputs": []
    },
    {
      "cell_type": "markdown",
      "metadata": {
        "id": "p8aepRiCG7NN"
      },
      "source": [
        "We maken een image data generator om de afbeeldingen goed in te kunnen laden. Voor nu normaliseren we enkel de kleuren."
      ]
    },
    {
      "cell_type": "code",
      "metadata": {
        "id": "6OwQLfGhGndU"
      },
      "source": [
        "batch_size = 32\n",
        "IMG_SHAPE = 150"
      ],
      "execution_count": null,
      "outputs": []
    },
    {
      "cell_type": "code",
      "metadata": {
        "id": "rMTTNJwPHahd"
      },
      "source": [
        "def plotImages(images_arr):\n",
        "    fig, axes = plt.subplots(1, 5, figsize=(20,20))\n",
        "    axes = axes.flatten()\n",
        "    for img, ax in zip( images_arr, axes):\n",
        "        ax.imshow(img)\n",
        "    plt.tight_layout()\n",
        "    plt.show()"
      ],
      "execution_count": null,
      "outputs": []
    },
    {
      "cell_type": "code",
      "metadata": {
        "id": "Wpg3TIWXG-li"
      },
      "source": [
        "image_gen = ImageDataGenerator(rescale=1/255)\n",
        "\n",
        "train_data_gen = image_gen.flow_from_directory(directory = train_dir, \n",
        "                                               target_size = (IMG_SHAPE, IMG_SHAPE),\n",
        "                                               batch_size = batch_size,\n",
        "                                               shuffle = True)"
      ],
      "execution_count": null,
      "outputs": []
    },
    {
      "cell_type": "code",
      "metadata": {
        "id": "WdUNC_XVHYV7"
      },
      "source": [
        "images = [train_data_gen[0][0][i] for i in range(5)]\n",
        "plotImages(images)"
      ],
      "execution_count": null,
      "outputs": []
    },
    {
      "cell_type": "markdown",
      "metadata": {
        "id": "sVQl2IuzZimB"
      },
      "source": [
        "# Image Augmentation"
      ]
    },
    {
      "cell_type": "markdown",
      "metadata": {
        "id": "DxxuzppQbIih"
      },
      "source": [
        "Horizontal Flip."
      ]
    },
    {
      "cell_type": "code",
      "metadata": {
        "id": "2y87HtgOZh_j"
      },
      "source": [
        "image_gen = ImageDataGenerator(rescale=1/255, horizontal_flip=True)\n",
        "\n",
        "train_data_gen = image_gen.flow_from_directory(directory = train_dir, \n",
        "                                               target_size = (IMG_SHAPE, IMG_SHAPE),\n",
        "                                               batch_size = batch_size,\n",
        "                                               shuffle = True)"
      ],
      "execution_count": null,
      "outputs": []
    },
    {
      "cell_type": "code",
      "metadata": {
        "id": "cfg_YMXjbIGD"
      },
      "source": [
        "augmented_images = [train_data_gen[0][0][0] for i in range(5)]\n",
        "plotImages(augmented_images)"
      ],
      "execution_count": null,
      "outputs": []
    },
    {
      "cell_type": "markdown",
      "metadata": {
        "id": "7bU93vrwbPvn"
      },
      "source": [
        "Random Rotation."
      ]
    },
    {
      "cell_type": "code",
      "metadata": {
        "id": "c2pV4F2QbTtW"
      },
      "source": [
        "image_gen = ImageDataGenerator(rescale=1/255, rotation_range=45)\n",
        "\n",
        "train_data_gen = image_gen.flow_from_directory(directory=train_dir,\n",
        "                                               target_size = (IMG_SHAPE, IMG_SHAPE),\n",
        "                                               batch_size = batch_size,\n",
        "                                               shuffle = True)"
      ],
      "execution_count": null,
      "outputs": []
    },
    {
      "cell_type": "code",
      "metadata": {
        "id": "bYFarGx9bWf6"
      },
      "source": [
        "augmented_images = [train_data_gen[0][0][0] for i in range(5)]\n",
        "plotImages(augmented_images)"
      ],
      "execution_count": null,
      "outputs": []
    },
    {
      "cell_type": "markdown",
      "metadata": {
        "id": "aBbrxhPubgym"
      },
      "source": [
        "Random zoom."
      ]
    },
    {
      "cell_type": "code",
      "metadata": {
        "id": "Gbged3Wrbh70"
      },
      "source": [
        "image_gen = ImageDataGenerator(rescale = 1/255, zoom_range = 0.5)\n",
        "\n",
        "train_data_gen = image_gen.flow_from_directory(directory = train_dir, \n",
        "                                               target_size = (IMG_SHAPE, IMG_SHAPE),\n",
        "                                               shuffle = True,\n",
        "                                               batch_size = batch_size)"
      ],
      "execution_count": null,
      "outputs": []
    },
    {
      "cell_type": "code",
      "metadata": {
        "id": "L8GiCzUXbiUy"
      },
      "source": [
        "augmented_images = [train_data_gen[0][0][0] for i in range(5)]\n",
        "plotImages(augmented_images)"
      ],
      "execution_count": null,
      "outputs": []
    },
    {
      "cell_type": "markdown",
      "metadata": {
        "id": "VzM-esreVBV3"
      },
      "source": [
        "# Transfer learning\n",
        "\n"
      ]
    },
    {
      "cell_type": "code",
      "metadata": {
        "id": "QyqqGVMaXj0U"
      },
      "source": [
        "import tensorflow_datasets as tfds"
      ],
      "execution_count": 12,
      "outputs": []
    },
    {
      "cell_type": "code",
      "metadata": {
        "id": "HodU0C-fXp_F",
        "outputId": "5bc2a998-ce7f-43e8-fa1d-f332fae3ce90",
        "colab": {
          "base_uri": "https://localhost:8080/",
          "height": 202,
          "referenced_widgets": [
            "848e89ad92764c29b1423b42ed772e6e",
            "72678545998e419fa710951f0517a5b6",
            "ec203d32750f46709fd579e329e63e1c",
            "3ec828187e6c49af9c76ca839b5b7acd",
            "78b2641bd1bd4b7daf9625eb95ea3427",
            "d889348fd6914afb936299934583524e",
            "f0c2f021d16944a59f4e09ab52821e35",
            "37ba08b038514b93aaec726a448513eb"
          ]
        }
      },
      "source": [
        "dataset, info = tfds.load('tf_flowers', as_supervised=True, with_info=True)"
      ],
      "execution_count": 13,
      "outputs": [
        {
          "output_type": "stream",
          "text": [
            "\u001b[1mDownloading and preparing dataset tf_flowers/3.0.1 (download: 218.21 MiB, generated: 221.83 MiB, total: 440.05 MiB) to /root/tensorflow_datasets/tf_flowers/3.0.1...\u001b[0m\n"
          ],
          "name": "stdout"
        },
        {
          "output_type": "stream",
          "text": [
            "WARNING:absl:Dataset tf_flowers is hosted on GCS. It will automatically be downloaded to your\n",
            "local data directory. If you'd instead prefer to read directly from our public\n",
            "GCS bucket (recommended if you're running on GCP), you can instead pass\n",
            "`try_gcs=True` to `tfds.load` or set `data_dir=gs://tfds-data/datasets`.\n",
            "\n"
          ],
          "name": "stderr"
        },
        {
          "output_type": "display_data",
          "data": {
            "application/vnd.jupyter.widget-view+json": {
              "model_id": "848e89ad92764c29b1423b42ed772e6e",
              "version_minor": 0,
              "version_major": 2
            },
            "text/plain": [
              "HBox(children=(FloatProgress(value=0.0, description='Dl Completed...', max=5.0, style=ProgressStyle(descriptio…"
            ]
          },
          "metadata": {
            "tags": []
          }
        },
        {
          "output_type": "stream",
          "text": [
            "\n",
            "\n",
            "\u001b[1mDataset tf_flowers downloaded and prepared to /root/tensorflow_datasets/tf_flowers/3.0.1. Subsequent calls will reuse this data.\u001b[0m\n"
          ],
          "name": "stdout"
        }
      ]
    },
    {
      "cell_type": "code",
      "metadata": {
        "id": "r9sgODfLXxiz"
      },
      "source": [
        "dataset_size = info.splits['train'].num_examples\n",
        "class_names = info.features['label'].names\n",
        "n_classes = info.features['label'].num_classes"
      ],
      "execution_count": 18,
      "outputs": []
    },
    {
      "cell_type": "code",
      "metadata": {
        "id": "058_yi3aYJV9"
      },
      "source": [
        "test_set_raw, valid_set_raw, train_set_raw = tfds.load('tf_flowers', split=['train[:10%]', 'train[10%:25%]', 'train[25%:]'], as_supervised=True)"
      ],
      "execution_count": 20,
      "outputs": []
    },
    {
      "cell_type": "code",
      "metadata": {
        "id": "azrELeaGYjHV"
      },
      "source": [
        "def preprocess(image, label):\n",
        "  resized_image = tf.image.resize(image, [224,224])\n",
        "  final_image = tf.keras.applications.xception.preprocess_input(resized_image)\n",
        "  return final_image, label"
      ],
      "execution_count": 22,
      "outputs": []
    },
    {
      "cell_type": "code",
      "metadata": {
        "id": "t07GPeinZAdg"
      },
      "source": [
        "batch_size = 32\n",
        "train_set = train_set_raw.shuffle(1000)\n",
        "train_set = train_set.map(preprocess).batch(batch_size).prefetch(1)\n",
        "valid_set = valid_set_raw.map(preprocess).batch(batch_size).prefetch(1)\n",
        "test_set = test_set_raw.map(preprocess).batch(batch_size).prefetch(1)"
      ],
      "execution_count": 24,
      "outputs": []
    },
    {
      "cell_type": "code",
      "metadata": {
        "id": "7RgfcjEpaDFT",
        "outputId": "dfd21754-afbd-448b-f31a-3cf388616703",
        "colab": {
          "base_uri": "https://localhost:8080/"
        }
      },
      "source": [
        "base_model = tf.keras.applications.xception.Xception(weights='imagenet', include_top=False)\n",
        "\n",
        "avg = tf.keras.layers.GlobalAveragePooling2D()(base_model.output)\n",
        "output = tf.keras.layers.Dense(n_classes, activation='softmax')(avg)\n",
        "model = tf.keras.Model(inputs=base_model.input, outputs=output)"
      ],
      "execution_count": null,
      "outputs": [
        {
          "output_type": "stream",
          "text": [
            "Downloading data from https://storage.googleapis.com/tensorflow/keras-applications/xception/xception_weights_tf_dim_ordering_tf_kernels_notop.h5\n",
            "83689472/83683744 [==============================] - 1s 0us/step\n"
          ],
          "name": "stdout"
        }
      ]
    },
    {
      "cell_type": "code",
      "metadata": {
        "id": "M2VYCcesa_pT",
        "outputId": "0ca6637f-dc0d-430b-a0da-8d98e57e9894",
        "colab": {
          "base_uri": "https://localhost:8080/",
          "height": 164
        }
      },
      "source": [
        "avg"
      ],
      "execution_count": 1,
      "outputs": [
        {
          "output_type": "error",
          "ename": "NameError",
          "evalue": "ignored",
          "traceback": [
            "\u001b[0;31m---------------------------------------------------------------------------\u001b[0m",
            "\u001b[0;31mNameError\u001b[0m                                 Traceback (most recent call last)",
            "\u001b[0;32m<ipython-input-1-1f2bd005aee1>\u001b[0m in \u001b[0;36m<module>\u001b[0;34m()\u001b[0m\n\u001b[0;32m----> 1\u001b[0;31m \u001b[0mavg\u001b[0m\u001b[0;34m\u001b[0m\u001b[0;34m\u001b[0m\u001b[0m\n\u001b[0m",
            "\u001b[0;31mNameError\u001b[0m: name 'avg' is not defined"
          ]
        }
      ]
    },
    {
      "cell_type": "code",
      "metadata": {
        "id": "yFzaYo2Fa_f3"
      },
      "source": [
        ""
      ],
      "execution_count": null,
      "outputs": []
    },
    {
      "cell_type": "markdown",
      "metadata": {
        "id": "Br5CbYanbnlr"
      },
      "source": [
        "# Exercise"
      ]
    },
    {
      "cell_type": "markdown",
      "metadata": {
        "id": "zK7zsvhYbqMg"
      },
      "source": [
        "Gebruik de documentatie van [ImageDataGenerator](https://www.tensorflow.org/api_docs/python/tf/keras/preprocessing/image/ImageDataGenerator) om meerdere augmentaties te combineren. Train vervolgens een CNN en probeer een zo goed mogelijke score te halen op de test set."
      ]
    },
    {
      "cell_type": "code",
      "metadata": {
        "id": "k9IWASINbpJc"
      },
      "source": [
        "image_gen_val = ImageDataGenerator(rescale=1/255)\n",
        "\n",
        "val_data_gen = image_gen_val.flow_from_directory(directory = val_dir,\n",
        "                                                 target_size = (IMG_SHAPE, IMG_SHAPE),\n",
        "                                                 batch_size = batch_size)\n",
        "\n",
        "image_gen_test = ImageDataGenerator(rescale=1/255)\n",
        "\n",
        "test_data_gen = image_gen_test.flow_from_directory(directory = val_dir,\n",
        "                                                   target_size = (IMG_SHAPE, IMG_SHAPE),\n",
        "                                                   batch_size = batch_size)"
      ],
      "execution_count": null,
      "outputs": []
    },
    {
      "cell_type": "code",
      "metadata": {
        "id": "xTQKTLMbdA3l"
      },
      "source": [
        "# Jouw code hier"
      ],
      "execution_count": null,
      "outputs": []
    },
    {
      "cell_type": "code",
      "metadata": {
        "id": "riwycaHzdDeT"
      },
      "source": [
        ""
      ],
      "execution_count": null,
      "outputs": []
    }
  ]
}