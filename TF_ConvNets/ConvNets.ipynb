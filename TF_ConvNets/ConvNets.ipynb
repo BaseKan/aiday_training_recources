{
  "nbformat": 4,
  "nbformat_minor": 0,
  "metadata": {
    "colab": {
      "name": "ConvNets.ipynb",
      "provenance": [],
      "authorship_tag": "ABX9TyOfpLc9R3p2RV7jeExdO8SI",
      "include_colab_link": true
    },
    "kernelspec": {
      "name": "python3",
      "display_name": "Python 3"
    },
    "language_info": {
      "name": "python"
    }
  },
  "cells": [
    {
      "cell_type": "markdown",
      "metadata": {
        "id": "view-in-github",
        "colab_type": "text"
      },
      "source": [
        "<a href=\"https://colab.research.google.com/github/BaseKan/aiday_training_resources/blob/main/TF_ConvNets/ConvNets.ipynb\" target=\"_parent\"><img src=\"https://colab.research.google.com/assets/colab-badge.svg\" alt=\"Open In Colab\"/></a>"
      ]
    },
    {
      "cell_type": "markdown",
      "metadata": {
        "id": "FwDb2eSWUgvA"
      },
      "source": [
        "# Introductie (todo Niels)"
      ]
    },
    {
      "cell_type": "code",
      "metadata": {
        "id": "Sfnzd8UChn0r"
      },
      "source": [
        ""
      ],
      "execution_count": null,
      "outputs": []
    },
    {
      "cell_type": "markdown",
      "metadata": {
        "id": "sTsplAyLUfmE"
      },
      "source": [
        "# Image Augmentation"
      ]
    },
    {
      "cell_type": "code",
      "metadata": {
        "id": "2e1An7QPUqF-"
      },
      "source": [
        "# Inladen data"
      ],
      "execution_count": 1,
      "outputs": []
    },
    {
      "cell_type": "markdown",
      "metadata": {
        "id": "C0eYnmq-VShf"
      },
      "source": [
        "Data generator"
      ]
    },
    {
      "cell_type": "code",
      "metadata": {
        "id": "bmXHkxWeUwQe"
      },
      "source": [
        ""
      ],
      "execution_count": null,
      "outputs": []
    }
  ]
}