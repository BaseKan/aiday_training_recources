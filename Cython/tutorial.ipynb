{
  "nbformat": 4,
  "nbformat_minor": 0,
  "metadata": {
    "colab": {
      "name": "tutorial.ipynb",
      "provenance": [],
      "authorship_tag": "ABX9TyNqgaaVExpIDoxpsj00TJCl",
      "include_colab_link": true
    },
    "kernelspec": {
      "name": "python3",
      "display_name": "Python 3"
    },
    "language_info": {
      "name": "python"
    }
  },
  "cells": [
    {
      "cell_type": "markdown",
      "metadata": {
        "id": "view-in-github",
        "colab_type": "text"
      },
      "source": [
        "<a href=\"https://colab.research.google.com/github/BaseKan/aiday_training_resources/blob/main/Cython/tutorial.ipynb\" target=\"_parent\"><img src=\"https://colab.research.google.com/assets/colab-badge.svg\" alt=\"Open In Colab\"/></a>"
      ]
    },
    {
      "cell_type": "markdown",
      "metadata": {
        "id": "3p4FHUDmI-nu"
      },
      "source": [
        "# Basic Tutorial"
      ]
    },
    {
      "cell_type": "markdown",
      "metadata": {
        "id": "wa21wC0zLuqf"
      },
      "source": [
        "*Deze tutorial is een aangepaste versie van de officiële [Cython tutorial](https://cython.readthedocs.io/en/latest/src/tutorial/cython_tutorial.html) en de [Cython in Jupyter Notebooks instructies](https://cython.readthedocs.io/en/latest/src/quickstart/build.html#using-the-jupyter-notebook). Het compileren van Cython files voor gebruik in reguliere python projecten is in dit notebook achterwege gelaten. Dit zal tijdens de kennissessie aan bod komen.*"
      ]
    },
    {
      "cell_type": "markdown",
      "metadata": {
        "id": "tn6qk7MTIz0f"
      },
      "source": [
        "## The Basics of Cython"
      ]
    },
    {
      "cell_type": "markdown",
      "metadata": {
        "id": "Only64Q0Ix5R"
      },
      "source": [
        "The fundamental nature of Cython can be summed up as follows: Cython is Python with C data types.\n",
        "\n",
        "Cython is Python: Almost any piece of Python code is also valid Cython code. (There are a few Limitations, but this approximation will serve for now.) The Cython compiler will convert it into C code which makes equivalent calls to the Python/C API.\n",
        "\n",
        "But Cython is much more than that, because parameters and variables can be declared to have C data types. Code which manipulates Python values and C values can be freely intermixed, with conversions occurring automatically wherever possible. Reference count maintenance and error checking of Python operations is also automatic, and the full power of Python’s exception handling facilities, including the try-except and try-finally statements, is available to you – even in the midst of manipulating C data."
      ]
    },
    {
      "cell_type": "markdown",
      "metadata": {
        "id": "irUwauvZPVHp"
      },
      "source": [
        "## Cython and Jupyter Notebooks"
      ]
    },
    {
      "cell_type": "markdown",
      "metadata": {
        "id": "Sbs3HxpIQEbK"
      },
      "source": [
        "We will use the following python code for our first example. "
      ]
    },
    {
      "cell_type": "code",
      "metadata": {
        "id": "AKdr2ZLcQUCo"
      },
      "source": [
        "a = 0\n",
        "for i in range(10):\n",
        "  a += i\n",
        "print(a)"
      ],
      "execution_count": null,
      "outputs": []
    },
    {
      "cell_type": "markdown",
      "metadata": {
        "id": "rmXlRqkdPYJu"
      },
      "source": [
        "Cython can be used conveniently and interactively from a web browser through the Jupyter notebook. To enable support for Cython compilation load the Cython extension from within the Jupyter notebook:"
      ]
    },
    {
      "cell_type": "code",
      "metadata": {
        "id": "RL8VVe9RPlYV"
      },
      "source": [
        "%load_ext Cython"
      ],
      "execution_count": null,
      "outputs": []
    },
    {
      "cell_type": "markdown",
      "metadata": {
        "id": "9WChXXcBQoiX"
      },
      "source": [
        "Then, prefix a cell with the %%cython marker to compile it with Cython. We can then use C data types in our code."
      ]
    },
    {
      "cell_type": "code",
      "metadata": {
        "id": "gBXxIeEiQYZa"
      },
      "source": [
        "%%cython\n",
        "\n",
        "cdef int a = 0\n",
        "for i in range(10):\n",
        "  a += i\n",
        "print(a)"
      ],
      "execution_count": null,
      "outputs": []
    },
    {
      "cell_type": "markdown",
      "metadata": {
        "id": "dBMjO4V6NF5g"
      },
      "source": [
        "This is not very exciting yet, so lets look at another example."
      ]
    },
    {
      "cell_type": "markdown",
      "metadata": {
        "id": "7AECu5YkI6dk"
      },
      "source": [
        "## Fibonacci Fun\n"
      ]
    },
    {
      "cell_type": "markdown",
      "metadata": {
        "id": "yi6hphfIM-Vb"
      },
      "source": [
        "From the official Python tutorial a simple fibonacci function is defined as:"
      ]
    },
    {
      "cell_type": "code",
      "metadata": {
        "id": "hjEBySv0IzMd"
      },
      "source": [
        "def fib(n):\n",
        "  \"\"\"Return the Fibonacci series up to n.\"\"\"\n",
        "  a, b = 0, 1\n",
        "  r = []\n",
        "  while b < n:\n",
        "    r.append(b)\n",
        "    a, b = b, a + b\n",
        "\n",
        "  return r"
      ],
      "execution_count": null,
      "outputs": []
    },
    {
      "cell_type": "code",
      "metadata": {
        "id": "XlJ70irHNxwY"
      },
      "source": [
        "fib(2000)"
      ],
      "execution_count": null,
      "outputs": []
    },
    {
      "cell_type": "markdown",
      "metadata": {
        "id": "9T-NdM3kOLn_"
      },
      "source": [
        "We can compile the function in Cython without any changes."
      ]
    },
    {
      "cell_type": "code",
      "metadata": {
        "id": "NgXn5M0iN6eQ"
      },
      "source": [
        "%%cython\n",
        "\n",
        "def c_fib(n):\n",
        "  \"\"\"Return the Fibonacci series up to n.\"\"\"\n",
        "  a, b = 0, 1\n",
        "  r = []\n",
        "  while b < n:\n",
        "    r.append(b)\n",
        "    a, b = b, a + b\n",
        "\n",
        "  return r"
      ],
      "execution_count": null,
      "outputs": []
    },
    {
      "cell_type": "markdown",
      "metadata": {
        "id": "Y_vQfUIsOdaj"
      },
      "source": [
        "Lets time both functions to see the difference."
      ]
    },
    {
      "cell_type": "code",
      "metadata": {
        "id": "9Xu5ojD1Ogk2"
      },
      "source": [
        "%timeit x = fib(2000)"
      ],
      "execution_count": null,
      "outputs": []
    },
    {
      "cell_type": "code",
      "metadata": {
        "id": "ibosM-d0PG13"
      },
      "source": [
        "%timeit x = c_fib(2000)"
      ],
      "execution_count": null,
      "outputs": []
    },
    {
      "cell_type": "markdown",
      "metadata": {
        "id": "BYQajd8oPVC3"
      },
      "source": [
        "It already is a lot faster. The next section will cover more advanced Cython features, which can be used to make it run even faster."
      ]
    },
    {
      "cell_type": "markdown",
      "metadata": {
        "id": "FlJ1nExQUKMM"
      },
      "source": [
        "## Primes"
      ]
    },
    {
      "cell_type": "markdown",
      "metadata": {
        "id": "lUASSbBKUPwb"
      },
      "source": [
        "Here’s a small example showing some of what can be done. It’s a routine for finding prime numbers. You tell it how many primes you want, and it returns them as a Python list."
      ]
    },
    {
      "cell_type": "code",
      "metadata": {
        "id": "1yZhMQO1USqd"
      },
      "source": [
        "%%cython\n",
        "def primes(int nb_primes):\n",
        "  cdef int n, i, len_p\n",
        "  cdef int p[1000]\n",
        "  if nb_primes > 1000:\n",
        "    nb_primes = 1000\n",
        "\n",
        "  len_p = 0  # The current number of elements in p.\n",
        "  n = 2\n",
        "  while len_p < nb_primes:\n",
        "    # Is n prime?\n",
        "    for i in p[:len_p]:\n",
        "      if n % i == 0:\n",
        "        break\n",
        "\n",
        "    # If no break occurred in the loop, we have a prime.\n",
        "    else:\n",
        "      p[len_p] = n\n",
        "      len_p += 1\n",
        "    n += 1\n",
        "\n",
        "  # Let's return the result in a python list:\n",
        "  result_as_list  = [prime for prime in p[:len_p]]\n",
        "  return result_as_list"
      ],
      "execution_count": null,
      "outputs": []
    },
    {
      "cell_type": "markdown",
      "metadata": {
        "id": "wAMW7-myUYcH"
      },
      "source": [
        "You’ll see that it starts out just like a normal Python function definition, except that the parameter `nb_primes` is declared to be of type `int`. This means that the object passed will be converted to a C integer (or a `TypeError` will be raised if it can’t be).\n",
        "\n",
        "Now, let’s dig into the core of the function:\n",
        "\n",
        "```\n",
        "cdef int n, i, len_p\n",
        "cdef int p[1000]\n",
        "```\n",
        "\n",
        "Lines 2 and 3 use the `cdef` statement to define some local C variables. The result is stored in the C array p during processing, and will be copied into a Python list at the end (line 22).\n",
        "\n",
        "**Note** *You cannot create very large arrays in this manner, because they are allocated on the C function call stack, which is a rather precious and scarce resource. To request larger arrays, or even arrays with a length only known at runtime, you can learn how to make efficient use of C memory allocation, Python arrays or NumPy arrays with Cython.*\n",
        "\n",
        "```\n",
        "if nb_primes > 1000:\n",
        "  nb_primes = 1000\n",
        "```\n",
        "\n",
        "As in C, declaring a static array requires knowing the size at compile time. We make sure the user doesn’t set a value above 1000 (or we would have a segmentation fault, just like in C).\n",
        "\n",
        "```\n",
        "len_p = 0  # The number of elements in p\n",
        "n = 2\n",
        "while len_p < nb_primes:\n",
        "```\n",
        "\n",
        "Lines 7-9 set up for a loop which will test candidate numbers for primeness until the required number of primes has been found.\n",
        "\n",
        "```\n",
        "# Is n prime?\n",
        "for i in p[:len_p]:\n",
        "  if n % i == 0:\n",
        "    break\n",
        "```\n",
        "\n",
        "Lines 11-12, which try dividing a candidate by all the primes found so far, are of particular interest. Because no Python objects are referred to, the loop is translated entirely into C code, and thus runs very fast. You will notice the way we iterate over the `p` C array.\n",
        "\n",
        "```\n",
        "for i in p[:len_p]:\n",
        "```\n",
        "\n",
        "The loop gets translated into a fast C loop and works just like iterating over a Python list or NumPy array. If you don’t slice the C array with `[:len_p]`, then Cython will loop over the 1000 elements of the array.\n",
        "\n",
        "```\n",
        "# If no break occurred in the loop\n",
        "else:\n",
        "  p[len_p] = n\n",
        "  len_p += 1\n",
        "n += 1\n",
        "```\n",
        "\n",
        "If no breaks occurred, it means that we found a prime, and the block of code after the `else` line 16 will be executed. We add the prime found to `p`. If you find having an `else` after a for-loop strange, just know that it’s a lesser known features of the Python language, and that Cython executes it at C speed for you. If the for-else syntax confuses you, see this excellent [blog post](https://s16h.medium.com/the-forgotten-optional-else-in-python-loops-90d9c465c830).\n",
        "\n",
        "```\n",
        "# Let's put the result in a python list:\n",
        "result_as_list  = [prime for prime in p[:len_p]]\n",
        "return result_as_list\n",
        "```\n",
        "\n",
        "In line 22, before returning the result, we need to copy our C array into a Python list, because Python can’t read C arrays. Cython can automatically convert many C types from and to Python types, as described in the [documentation on type conversion](https://cython.readthedocs.io/en/latest/src/userguide/language_basics.html#type-conversion), so we can use a simple list comprehension here to copy the C `int` values into a Python list of Python `int` objects, which Cython creates automatically along the way. You could also have iterated manually over the C array and used `result_as_list.append(prime)`, the result would have been the same.\n",
        "\n",
        "You’ll notice we declare a Python list exactly the same way it would be in Python. Because the variable `result_as_list` hasn’t been explicitly declared with a type, it is assumed to hold a Python object, and from the assignment, Cython also knows that the exact type is a Python list.\n",
        "\n",
        "Finally, at line 23, a normal Python return statement returns the result list.\n",
        "\n",
        "Now try calling the function in a normal cell:\n",
        "\n"
      ]
    },
    {
      "cell_type": "code",
      "metadata": {
        "id": "D_g8mX_FXniD"
      },
      "source": [
        "print(primes(10))"
      ],
      "execution_count": null,
      "outputs": []
    },
    {
      "cell_type": "markdown",
      "metadata": {
        "id": "j5ekMhdeXwSn"
      },
      "source": [
        "See, it works! And if you’re curious about how much work Cython has saved you, take a look at the C code generated for this module.\n",
        "\n",
        "Cython has a way to visualise where interaction with Python objects and Python’s C-API is taking place. For this, we can add `-- annotate` to the `%%cython` line."
      ]
    },
    {
      "cell_type": "code",
      "metadata": {
        "id": "EpQqWpQZYDd-"
      },
      "source": [
        "%%cython --annotate\n",
        "def primes(int nb_primes):\n",
        "  cdef int n, i, len_p\n",
        "  cdef int p[1000]\n",
        "  if nb_primes > 1000:\n",
        "    nb_primes = 1000\n",
        "\n",
        "  len_p = 0  # The current number of elements in p.\n",
        "  n = 2\n",
        "  while len_p < nb_primes:\n",
        "    # Is n prime?\n",
        "    for i in p[:len_p]:\n",
        "      if n % i == 0:\n",
        "          break\n",
        "\n",
        "    # If no break occurred in the loop, we have a prime.\n",
        "    else:\n",
        "      p[len_p] = n\n",
        "      len_p += 1\n",
        "    n += 1\n",
        "\n",
        "  # Let's return the result in a python list:\n",
        "  result_as_list  = [prime for prime in p[:len_p]]\n",
        "  return result_as_list"
      ],
      "execution_count": null,
      "outputs": []
    },
    {
      "cell_type": "markdown",
      "metadata": {
        "id": "TiUqtw93YTre"
      },
      "source": [
        "If a line is white, it means that the code generated doesn’t interact with Python, so will run as fast as normal C code. The darker the yellow, the more Python interaction there is in that line. Those yellow lines will usually operate on Python objects, raise exceptions, or do other kinds of higher-level operations than what can easily be translated into simple and fast C code. The function declaration and return use the Python interpreter so it makes sense for those lines to be yellow. Same for the list comprehension because it involves the creation of a Python object. But the line `if n % i == 0:`, why? We can examine the generated C code to understand. Click on the *+* on line 12 to expand it.\n",
        "\n",
        "We can see that some checks happen. Because Cython defaults to the Python behavior, the language will perform division checks at runtime, just like Python does. You can deactivate those checks by using the [compiler directives](https://cython.readthedocs.io/en/latest/src/userguide/source_files_and_compilation.html#compiler-directives).\n",
        "\n",
        "Now let’s see if, even if we have division checks, we obtained a boost in speed. Let’s write the same program, but Python-style:"
      ]
    },
    {
      "cell_type": "code",
      "metadata": {
        "id": "3V2TA1oyZNK6"
      },
      "source": [
        "def primes_python(nb_primes):\n",
        "  p = []\n",
        "  n = 2\n",
        "  while len(p) < nb_primes:\n",
        "    # Is n prime?\n",
        "    for i in p:\n",
        "      if n % i == 0:\n",
        "          break\n",
        "\n",
        "    # If no break occurred in the loop\n",
        "    else:\n",
        "      p.append(n)\n",
        "    n += 1\n",
        "  return p"
      ],
      "execution_count": null,
      "outputs": []
    },
    {
      "cell_type": "markdown",
      "metadata": {
        "id": "nc5a4KvXZOjt"
      },
      "source": [
        "We can also compile this function as is with cython:"
      ]
    },
    {
      "cell_type": "code",
      "metadata": {
        "id": "MB1GxiVlZYyW"
      },
      "source": [
        "%%cython\n",
        "def primes_python_compiled(nb_primes):\n",
        "  p = []\n",
        "  n = 2\n",
        "  while len(p) < nb_primes:\n",
        "    # Is n prime?\n",
        "    for i in p:\n",
        "      if n % i == 0:\n",
        "        break\n",
        "\n",
        "    # If no break occurred in the loop\n",
        "    else:\n",
        "      p.append(n)\n",
        "    n += 1\n",
        "  return p"
      ],
      "execution_count": null,
      "outputs": []
    },
    {
      "cell_type": "markdown",
      "metadata": {
        "id": "3Z8pH_gmZeQK"
      },
      "source": [
        "We time all functions."
      ]
    },
    {
      "cell_type": "code",
      "metadata": {
        "id": "LgWIe2quZkzF"
      },
      "source": [
        "%timeit primes_python(1000)"
      ],
      "execution_count": null,
      "outputs": []
    },
    {
      "cell_type": "code",
      "metadata": {
        "id": "iHX6fiMIZwyv"
      },
      "source": [
        "%timeit primes_python_compiled(1000)"
      ],
      "execution_count": null,
      "outputs": []
    },
    {
      "cell_type": "code",
      "metadata": {
        "id": "nVXLNqNuZ0V2"
      },
      "source": [
        "%timeit primes(1000)"
      ],
      "execution_count": null,
      "outputs": []
    },
    {
      "cell_type": "markdown",
      "metadata": {
        "id": "m3d6JvfhZ3XT"
      },
      "source": [
        "The cythonize version of `primes_python` is more then 2 times faster than the Python one, without changing a single line of code. The Cython version is almost 20 times faster than the Python version! What could explain this?\n",
        "\n",
        "Multiple things:\n",
        "\n",
        "\n",
        "*   In this program, very little computation happen at each line. So the overhead of the python interpreter is very important. It would be very different if you were to do a lot computation at each line. Using NumPy for example.\n",
        "*   Data locality. It’s likely that a lot more can fit in CPU cache when using C than when using Python. Because everything in python is an object, and every object is implemented as a dictionary, this is not very cache friendly.\n",
        "\n",
        "Usually the speedups are between 2x to 1000x. It depends on how much you call the Python interpreter. As always, remember to profile before adding types everywhere. Adding types makes your code less readable, so use them with moderation."
      ]
    },
    {
      "cell_type": "markdown",
      "metadata": {
        "id": "POseFuI6aYGq"
      },
      "source": [
        "## Try it yourself"
      ]
    },
    {
      "cell_type": "markdown",
      "metadata": {
        "id": "029x2X4BafXY"
      },
      "source": [
        "Try to add typing to the fibbonaci function."
      ]
    },
    {
      "cell_type": "code",
      "metadata": {
        "id": "ZzYN86PWaavn"
      },
      "source": [
        "%%cython\n",
        "def c_fib_typed(n):\n",
        "  \"\"\"Return the Fibonacci series up to n.\"\"\"\n",
        "  a, b = 0, 1\n",
        "  r = []\n",
        "  while b < n:\n",
        "    r.append(b)\n",
        "    a, b = b, a + b\n",
        "\n",
        "  return r"
      ],
      "execution_count": null,
      "outputs": []
    },
    {
      "cell_type": "code",
      "metadata": {
        "id": "OZppBBxYajEv"
      },
      "source": [
        "%timeit x = c_fib_typed(2000)"
      ],
      "execution_count": null,
      "outputs": []
    },
    {
      "cell_type": "markdown",
      "metadata": {
        "id": "Wc9HrVuIQqC8"
      },
      "source": [
        "## Further reading and useful links"
      ]
    },
    {
      "cell_type": "markdown",
      "metadata": {
        "id": "ecHBelNQREP9"
      },
      "source": [
        "Doorlezen: [Cython Function declarations](https://notes-on-cython.readthedocs.io/en/latest/function_declarations.html)\n",
        "\n",
        "Ter referentie: [Full Cython documentation](https://cython.readthedocs.io/en/latest/index.html)"
      ]
    }
  ]
}