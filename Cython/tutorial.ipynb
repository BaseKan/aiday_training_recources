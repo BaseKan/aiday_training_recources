{
  "nbformat": 4,
  "nbformat_minor": 0,
  "metadata": {
    "colab": {
      "name": "tutorial.ipynb",
      "provenance": [],
      "authorship_tag": "ABX9TyNSyLS+cIULztb1uC/Zf8QW",
      "include_colab_link": true
    },
    "kernelspec": {
      "name": "python3",
      "display_name": "Python 3"
    },
    "language_info": {
      "name": "python"
    }
  },
  "cells": [
    {
      "cell_type": "markdown",
      "metadata": {
        "id": "view-in-github",
        "colab_type": "text"
      },
      "source": [
        "<a href=\"https://colab.research.google.com/github/BaseKan/aiday_training_resources/blob/main/Cython/tutorial.ipynb\" target=\"_parent\"><img src=\"https://colab.research.google.com/assets/colab-badge.svg\" alt=\"Open In Colab\"/></a>"
      ]
    },
    {
      "cell_type": "markdown",
      "metadata": {
        "id": "3p4FHUDmI-nu"
      },
      "source": [
        "# Basic Tutorial"
      ]
    },
    {
      "cell_type": "markdown",
      "metadata": {
        "id": "wa21wC0zLuqf"
      },
      "source": [
        "*Deze tutorial is een aangepaste versie van de officiële [Cython tutorial](https://cython.readthedocs.io/en/latest/src/tutorial/cython_tutorial.html) en de [Cython in Jupyter Notebooks instructies](https://cython.readthedocs.io/en/latest/src/quickstart/build.html#using-the-jupyter-notebook). Het compileren van Cython files voor gebruik in reguliere python projecten is in dit notebook achterwege gelaten. Dit zal tijdens de kennissessie aan bod komen.*"
      ]
    },
    {
      "cell_type": "markdown",
      "metadata": {
        "id": "tn6qk7MTIz0f"
      },
      "source": [
        "## The Basics of Cython"
      ]
    },
    {
      "cell_type": "markdown",
      "metadata": {
        "id": "Only64Q0Ix5R"
      },
      "source": [
        "The fundamental nature of Cython can be summed up as follows: Cython is Python with C data types.\n",
        "\n",
        "Cython is Python: Almost any piece of Python code is also valid Cython code. (There are a few Limitations, but this approximation will serve for now.) The Cython compiler will convert it into C code which makes equivalent calls to the Python/C API.\n",
        "\n",
        "But Cython is much more than that, because parameters and variables can be declared to have C data types. Code which manipulates Python values and C values can be freely intermixed, with conversions occurring automatically wherever possible. Reference count maintenance and error checking of Python operations is also automatic, and the full power of Python’s exception handling facilities, including the try-except and try-finally statements, is available to you – even in the midst of manipulating C data."
      ]
    },
    {
      "cell_type": "markdown",
      "metadata": {
        "id": "irUwauvZPVHp"
      },
      "source": [
        "## Cython and Jupyter Notebooks"
      ]
    },
    {
      "cell_type": "markdown",
      "metadata": {
        "id": "Sbs3HxpIQEbK"
      },
      "source": [
        "We will use the following python code for our first example. "
      ]
    },
    {
      "cell_type": "code",
      "metadata": {
        "id": "AKdr2ZLcQUCo",
        "outputId": "ae51408f-1b87-442c-9218-f2763e65cff2",
        "colab": {
          "base_uri": "https://localhost:8080/"
        }
      },
      "source": [
        "a = 0\n",
        "for i in range(10):\n",
        "    a += i\n",
        "print(a)"
      ],
      "execution_count": 7,
      "outputs": [
        {
          "output_type": "stream",
          "text": [
            "45\n"
          ],
          "name": "stdout"
        }
      ]
    },
    {
      "cell_type": "markdown",
      "metadata": {
        "id": "rmXlRqkdPYJu"
      },
      "source": [
        "Cython can be used conveniently and interactively from a web browser through the Jupyter notebook. To enable support for Cython compilation load the Cython extension from within the Jupyter notebook:"
      ]
    },
    {
      "cell_type": "code",
      "metadata": {
        "id": "RL8VVe9RPlYV"
      },
      "source": [
        "%load_ext Cython"
      ],
      "execution_count": null,
      "outputs": []
    },
    {
      "cell_type": "markdown",
      "metadata": {
        "id": "9WChXXcBQoiX"
      },
      "source": [
        "Then, prefix a cell with the %%cython marker to compile it with Cython:"
      ]
    },
    {
      "cell_type": "code",
      "metadata": {
        "id": "gBXxIeEiQYZa",
        "outputId": "ac407850-6eee-44fb-bee9-984f92b7f86a",
        "colab": {
          "base_uri": "https://localhost:8080/"
        }
      },
      "source": [
        "%%cython\n",
        "\n",
        "cdef int a = 0\n",
        "for i in range(10):\n",
        "    a += i\n",
        "print(a)"
      ],
      "execution_count": 8,
      "outputs": [
        {
          "output_type": "stream",
          "text": [
            "45\n"
          ],
          "name": "stdout"
        }
      ]
    },
    {
      "cell_type": "markdown",
      "metadata": {
        "id": "7AECu5YkI6dk"
      },
      "source": [
        "## Fibonacci Fun\n"
      ]
    },
    {
      "cell_type": "markdown",
      "metadata": {
        "id": "yi6hphfIM-Vb"
      },
      "source": [
        "From the official Python tutorial a simple fibonacci function is defined as:"
      ]
    },
    {
      "cell_type": "code",
      "metadata": {
        "id": "hjEBySv0IzMd"
      },
      "source": [
        "def fib(n):\n",
        "    \"\"\"Print the Fibonacci series up to n.\"\"\"\n",
        "    a, b = 0, 1\n",
        "    while b < n:\n",
        "        print(b, end=' ')\n",
        "        a, b = b, a + b\n",
        "\n",
        "    print()"
      ],
      "execution_count": 2,
      "outputs": []
    },
    {
      "cell_type": "code",
      "metadata": {
        "id": "XlJ70irHNxwY",
        "outputId": "3f20440d-3b6a-4ee5-85c4-fb5b532751dd",
        "colab": {
          "base_uri": "https://localhost:8080/"
        }
      },
      "source": [
        "fib(2000)"
      ],
      "execution_count": 3,
      "outputs": [
        {
          "output_type": "stream",
          "text": [
            "1 1 2 3 5 8 13 21 34 55 89 144 233 377 610 987 1597 \n"
          ],
          "name": "stdout"
        }
      ]
    }
  ]
}