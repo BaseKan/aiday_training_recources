{
  "nbformat": 4,
  "nbformat_minor": 5,
  "metadata": {
    "kernelspec": {
      "display_name": "Python 3",
      "language": "python",
      "name": "python3"
    },
    "language_info": {
      "codemirror_mode": {
        "name": "ipython",
        "version": 3
      },
      "file_extension": ".py",
      "mimetype": "text/x-python",
      "name": "python",
      "nbconvert_exporter": "python",
      "pygments_lexer": "ipython3",
      "version": "3.8.7"
    },
    "colab": {
      "name": "Copy of main.ipynb",
      "provenance": [],
      "include_colab_link": true
    }
  },
  "cells": [
    {
      "cell_type": "markdown",
      "metadata": {
        "id": "view-in-github",
        "colab_type": "text"
      },
      "source": [
        "<a href=\"https://colab.research.google.com/github/BaseKan/aiday_training_resources/blob/main/Cython/main_solutions.ipynb\" target=\"_parent\"><img src=\"https://colab.research.google.com/assets/colab-badge.svg\" alt=\"Open In Colab\"/></a>"
      ]
    },
    {
      "cell_type": "markdown",
      "metadata": {
        "id": "G0rbl5GxJOzh"
      },
      "source": [
        "# Setup"
      ],
      "id": "G0rbl5GxJOzh"
    },
    {
      "cell_type": "code",
      "metadata": {
        "id": "duplicate-diving"
      },
      "source": [
        "%load_ext Cython\n",
        "import numpy as np\n",
        "import pandas as pd\n",
        "from math import sin,tan,cos"
      ],
      "id": "duplicate-diving",
      "execution_count": null,
      "outputs": []
    },
    {
      "cell_type": "markdown",
      "metadata": {
        "id": "HHp7-PyT1AJM"
      },
      "source": [
        "# Opdracht: np.vectorize naar Cython"
      ],
      "id": "HHp7-PyT1AJM"
    },
    {
      "cell_type": "code",
      "metadata": {
        "id": "Lj_kuEcWpb9N"
      },
      "source": [
        "def complicated_calculation(x,y):\n",
        "  if x > 0.5*y and y < 0.3:\n",
        "      res = sin(x-y)\n",
        "  elif x < 0.5*y:\n",
        "      res = tan(x+y)\n",
        "  elif x > 0.2*y:\n",
        "      res = sin(x)*np.sin(y)\n",
        "  else:\n",
        "      res = cos(x/(0.1+abs(y)))\n",
        "  return res"
      ],
      "id": "Lj_kuEcWpb9N",
      "execution_count": null,
      "outputs": []
    },
    {
      "cell_type": "code",
      "metadata": {
        "id": "aRzKYHUApfC7"
      },
      "source": [
        "def get_results_fast(x,y):\n",
        "  return np.vectorize(complicated_calculation)(x,y)"
      ],
      "id": "aRzKYHUApfC7",
      "execution_count": null,
      "outputs": []
    },
    {
      "cell_type": "code",
      "metadata": {
        "id": "XKNwRKPcpnAX"
      },
      "source": [
        "x = np.random.randn(int(1e6))\n",
        "y = np.random.randn(int(1e6))"
      ],
      "id": "XKNwRKPcpnAX",
      "execution_count": null,
      "outputs": []
    },
    {
      "cell_type": "code",
      "metadata": {
        "id": "FoD9pkJxppjU"
      },
      "source": [
        "%timeit res_fast = get_results_fast(x, y)"
      ],
      "id": "FoD9pkJxppjU",
      "execution_count": null,
      "outputs": []
    },
    {
      "cell_type": "code",
      "metadata": {
        "id": "ts7PqBrLpxYi"
      },
      "source": [
        "%%cython --annotate\n",
        "cimport cython\n",
        "import numpy as np\n",
        "cimport numpy as np\n",
        "from libc.math cimport sin, cos, tan, fabs\n",
        "\n",
        "@cython.boundscheck(False)\n",
        "@cython.wraparound(False)\n",
        "cdef double complicated_calculation(double x, double y):\n",
        "  cdef double res\n",
        "  if x > 0.5*y and y < 0.3:\n",
        "      res = sin(x-y)\n",
        "  elif x < 0.5*y:\n",
        "      res = tan(x+y)\n",
        "  elif x > 0.2*y:\n",
        "      res = sin(x)*sin(y)\n",
        "  else:\n",
        "      res = cos(x/(0.1+fabs(y)))\n",
        "  return res\n",
        "\n",
        "@cython.boundscheck(False)\n",
        "@cython.wraparound(False)\n",
        "def c_get_results_fast(double[:] x, double[:] y):\n",
        "  cdef int n\n",
        "  n = len(x)\n",
        "  cdef double[:] res = np.zeros(n, dtype=np.dtype('d'))\n",
        "  for i in range(n):\n",
        "    res[i] = complicated_calculation(x[i],y[i])\n",
        "  \n",
        "  return res"
      ],
      "id": "ts7PqBrLpxYi",
      "execution_count": null,
      "outputs": []
    },
    {
      "cell_type": "code",
      "metadata": {
        "id": "blnpNHogqn6U"
      },
      "source": [
        "%timeit res_fast = c_get_results_fast(x, y)"
      ],
      "id": "blnpNHogqn6U",
      "execution_count": null,
      "outputs": []
    },
    {
      "cell_type": "markdown",
      "metadata": {
        "id": "intimate-dylan"
      },
      "source": [
        "# Opdracht:"
      ],
      "id": "intimate-dylan"
    },
    {
      "cell_type": "code",
      "metadata": {
        "id": "southwest-xerox"
      },
      "source": [
        "!curl -L -c cookies.txt 'https://docs.google.com/uc?export=download&id=151gCztjHR_D2uIoebxfi52DZWGLabOQd' | sed -rn 's/.*confirm=([0-9A-Za-z_]+).*/\\1/p' > confirm.txt    \n",
        "!curl -L -b cookies.txt -o 'weatherAUS.zip' 'https://docs.google.com/uc?export=download&id=151gCztjHR_D2uIoebxfi52DZWGLabOQd&confirm='$(<confirm.txt)\n",
        "!unzip weatherAUS.zip\n",
        "!rm -f confirm.txt cookies.txt weatherAUS.zip"
      ],
      "id": "southwest-xerox",
      "execution_count": null,
      "outputs": []
    },
    {
      "cell_type": "code",
      "metadata": {
        "id": "htv9kDE8rTiL"
      },
      "source": [
        "df = pd.read_csv('weatherAUS.csv')"
      ],
      "id": "htv9kDE8rTiL",
      "execution_count": null,
      "outputs": []
    }
  ]
}