{
  "nbformat": 4,
  "nbformat_minor": 5,
  "metadata": {
    "kernelspec": {
      "display_name": "Python 3",
      "language": "python",
      "name": "python3"
    },
    "language_info": {
      "codemirror_mode": {
        "name": "ipython",
        "version": 3
      },
      "file_extension": ".py",
      "mimetype": "text/x-python",
      "name": "python",
      "nbconvert_exporter": "python",
      "pygments_lexer": "ipython3",
      "version": "3.8.7"
    },
    "colab": {
      "name": "main.ipynb",
      "provenance": [],
      "include_colab_link": true
    }
  },
  "cells": [
    {
      "cell_type": "markdown",
      "metadata": {
        "id": "view-in-github",
        "colab_type": "text"
      },
      "source": [
        "<a href=\"https://colab.research.google.com/github/BaseKan/aiday_training_resources/blob/harvest-talent-presents/Cython/main.ipynb\" target=\"_parent\"><img src=\"https://colab.research.google.com/assets/colab-badge.svg\" alt=\"Open In Colab\"/></a>"
      ]
    },
    {
      "cell_type": "markdown",
      "metadata": {
        "id": "J5QqCm7pyY3g"
      },
      "source": [
        "# Setup"
      ],
      "id": "J5QqCm7pyY3g"
    },
    {
      "cell_type": "code",
      "metadata": {
        "id": "duplicate-diving"
      },
      "source": [
        "%load_ext Cython\n",
        "import numpy as np\n",
        "import pandas\n",
        "from math import sin,tan,cos"
      ],
      "id": "duplicate-diving",
      "execution_count": null,
      "outputs": []
    },
    {
      "cell_type": "markdown",
      "metadata": {
        "id": "NF9N1RkbyhNj"
      },
      "source": [
        "# Primes"
      ],
      "id": "NF9N1RkbyhNj"
    },
    {
      "cell_type": "code",
      "metadata": {
        "id": "5oxkNPmcFGTx"
      },
      "source": [
        "def primes(nb_primes):\n",
        "  p = []\n",
        "  n = 2\n",
        "  while len(p) < nb_primes:\n",
        "    # Is n prime?\n",
        "    for i in p:\n",
        "      if n % i == 0:\n",
        "          break\n",
        "\n",
        "    # If no break occurred in the loop\n",
        "    else:\n",
        "      p.append(n)\n",
        "    n += 1\n",
        "  return p"
      ],
      "id": "5oxkNPmcFGTx",
      "execution_count": null,
      "outputs": []
    },
    {
      "cell_type": "code",
      "metadata": {
        "id": "nw6t8QIlN2iO"
      },
      "source": [
        "primes(10)"
      ],
      "id": "nw6t8QIlN2iO",
      "execution_count": null,
      "outputs": []
    },
    {
      "cell_type": "code",
      "metadata": {
        "id": "Ifg-YAozN6VS"
      },
      "source": [
        "%timeit primes(1000)"
      ],
      "id": "Ifg-YAozN6VS",
      "execution_count": null,
      "outputs": []
    },
    {
      "cell_type": "code",
      "metadata": {
        "id": "7bNAefBtN1HP"
      },
      "source": [
        "%%cython\n",
        "def primes_compiled(nb_primes):\n",
        "  p = []\n",
        "  n = 2\n",
        "  while len(p) < nb_primes:\n",
        "    # Is n prime?\n",
        "    for i in p:\n",
        "      if n % i == 0:\n",
        "          break\n",
        "\n",
        "    # If no break occurred in the loop\n",
        "    else:\n",
        "      p.append(n)\n",
        "    n += 1\n",
        "  return p"
      ],
      "id": "7bNAefBtN1HP",
      "execution_count": null,
      "outputs": []
    },
    {
      "cell_type": "code",
      "metadata": {
        "id": "7DDftvNrOBoM"
      },
      "source": [
        "%timeit primes_compiled(1000)"
      ],
      "id": "7DDftvNrOBoM",
      "execution_count": null,
      "outputs": []
    },
    {
      "cell_type": "code",
      "metadata": {
        "id": "_x9wCw9UOS0S"
      },
      "source": [
        "%%cython --annotate\n",
        "def primes_compiled(nb_primes):\n",
        "  p = []\n",
        "  n = 2\n",
        "  while len(p) < nb_primes:\n",
        "    # Is n prime?\n",
        "    for i in p:\n",
        "      if n % i == 0:\n",
        "          break\n",
        "\n",
        "    # If no break occurred in the loop\n",
        "    else:\n",
        "      p.append(n)\n",
        "    n += 1\n",
        "  return p"
      ],
      "id": "_x9wCw9UOS0S",
      "execution_count": null,
      "outputs": []
    },
    {
      "cell_type": "code",
      "metadata": {
        "id": "pnX6kG-pFK-l"
      },
      "source": [
        "%%cython --annotate\n",
        "def primes_cython(int nb_primes):\n",
        "  cdef int n, i, len_p\n",
        "  cdef int p[1000]\n",
        "  if nb_primes > 1000:\n",
        "    nb_primes = 1000\n",
        "\n",
        "  len_p = 0  # The current number of elements in p.\n",
        "  n = 2\n",
        "  while len_p < nb_primes:\n",
        "    # Is n prime?\n",
        "    for i in p[:len_p]:\n",
        "      if n % i == 0:\n",
        "        break\n",
        "\n",
        "    # If no break occurred in the loop, we have a prime.\n",
        "    else:\n",
        "      p[len_p] = n\n",
        "      len_p += 1\n",
        "    n += 1\n",
        "\n",
        "  # Let's return the result in a python list:\n",
        "  result_as_list  = [prime for prime in p[:len_p]]\n",
        "  return result_as_list"
      ],
      "id": "pnX6kG-pFK-l",
      "execution_count": null,
      "outputs": []
    },
    {
      "cell_type": "code",
      "metadata": {
        "id": "BaQJPwkzO8lm"
      },
      "source": [
        "%%cython --annotate\n",
        "cimport cython\n",
        "\n",
        "@cython.cdivision(True)\n",
        "def primes_cython(int nb_primes):\n",
        "  cdef int n, i, len_p\n",
        "  cdef int p[1000]\n",
        "  if nb_primes > 1000:\n",
        "    nb_primes = 1000\n",
        "\n",
        "  len_p = 0  # The current number of elements in p.\n",
        "  n = 2\n",
        "  while len_p < nb_primes:\n",
        "    # Is n prime?\n",
        "    for i in p[:len_p]:\n",
        "      if n % i == 0:\n",
        "        break\n",
        "\n",
        "    # If no break occurred in the loop, we have a prime.\n",
        "    else:\n",
        "      p[len_p] = n\n",
        "      len_p += 1\n",
        "    n += 1\n",
        "\n",
        "  # Let's return the result in a python list:\n",
        "  result_as_list  = [prime for prime in p[:len_p]]\n",
        "  return result_as_list"
      ],
      "id": "BaQJPwkzO8lm",
      "execution_count": null,
      "outputs": []
    },
    {
      "cell_type": "code",
      "metadata": {
        "id": "7Kr3J5-5PJL5"
      },
      "source": [
        "%timeit primes_cython(1000)"
      ],
      "id": "7Kr3J5-5PJL5",
      "execution_count": null,
      "outputs": []
    },
    {
      "cell_type": "code",
      "metadata": {
        "id": "wHf2BMpOTp8E"
      },
      "source": [
        "%timeit primes(1000)"
      ],
      "id": "wHf2BMpOTp8E",
      "execution_count": null,
      "outputs": []
    },
    {
      "cell_type": "markdown",
      "metadata": {
        "id": "XteICmghxtGR"
      },
      "source": [
        "# Opdracht: np.vectorize naar Cython"
      ],
      "id": "XteICmghxtGR"
    },
    {
      "cell_type": "markdown",
      "metadata": {
        "id": "qTkdB_oIyyuR"
      },
      "source": [
        "De onderstaande code doet een berekening over paren van waardes, afhankelijk van een conditie."
      ],
      "id": "qTkdB_oIyyuR"
    },
    {
      "cell_type": "code",
      "metadata": {
        "id": "pQaUpLNdxuOv"
      },
      "source": [
        "def complicated_calculation(x,y):\n",
        "  if x > 0.5*y and y < 0.3:\n",
        "      res = sin(x-y)\n",
        "  elif x < 0.5*y:\n",
        "      res = tan(x+y)\n",
        "  elif x > 0.2*y:\n",
        "      res = sin(x)*np.sin(y)\n",
        "  else:\n",
        "      res = cos(x/(0.1+abs(y)))\n",
        "  return res"
      ],
      "id": "pQaUpLNdxuOv",
      "execution_count": null,
      "outputs": []
    },
    {
      "cell_type": "code",
      "metadata": {
        "id": "2BCmYNFixx3-"
      },
      "source": [
        "def get_results(x,y):\n",
        "  return np.vectorize(complicated_calculation)(x,y)"
      ],
      "id": "2BCmYNFixx3-",
      "execution_count": null,
      "outputs": []
    },
    {
      "cell_type": "code",
      "metadata": {
        "id": "c7vcfVBLx0JX"
      },
      "source": [
        "x = np.random.randn(int(1e6))\n",
        "y = np.random.randn(int(1e6))"
      ],
      "id": "c7vcfVBLx0JX",
      "execution_count": null,
      "outputs": []
    },
    {
      "cell_type": "code",
      "metadata": {
        "id": "QgiO2dvgx2GX"
      },
      "source": [
        "%timeit get_results(x, y)"
      ],
      "id": "QgiO2dvgx2GX",
      "execution_count": null,
      "outputs": []
    },
    {
      "cell_type": "markdown",
      "metadata": {
        "id": "pstYv7a1zIcj"
      },
      "source": [
        "Het kan echter een stuk sneller in Cython. Vul de onderstaande code aan. In plaats van np.vectorize kun je een for loop gebruiken in Cython. Ook kan het een stuk beter door types toe te voegen. \n",
        "\n",
        "Een eerste stap is al gemaakt door de sin, cos, tan en abs operaties te vervangen door equivalente operaties in C."
      ],
      "id": "pstYv7a1zIcj"
    },
    {
      "cell_type": "code",
      "metadata": {
        "id": "KNo6wLAux4qP"
      },
      "source": [
        "%%cython --annotate\n",
        "cimport cython\n",
        "import numpy as np\n",
        "cimport numpy as np\n",
        "from libc.math cimport sin, cos, tan, fabs\n",
        "\n",
        "def complicated_calculation(x,y):\n",
        "  if x > 0.5*y and y < 0.3:\n",
        "      res = sin(x-y)\n",
        "  elif x < 0.5*y:\n",
        "      res = tan(x+y)\n",
        "  elif x > 0.2*y:\n",
        "      res = sin(x)*sin(y)\n",
        "  else:\n",
        "      res = cos(x/(0.1+fabs(y)))\n",
        "  return res\n",
        "\n",
        "def c_get_results_fast(x, y):\n",
        "  # TODO: For loop toevoegen\n",
        "  return res"
      ],
      "id": "KNo6wLAux4qP",
      "execution_count": null,
      "outputs": []
    },
    {
      "cell_type": "code",
      "metadata": {
        "id": "QXLdpPCRyU7p"
      },
      "source": [
        "%timeit c_get_results_fast(x, y)"
      ],
      "id": "QXLdpPCRyU7p",
      "execution_count": null,
      "outputs": []
    },
    {
      "cell_type": "markdown",
      "metadata": {
        "id": "uHktpLxY0oXu"
      },
      "source": [
        "# Opdracht: Pandas"
      ],
      "id": "uHktpLxY0oXu"
    },
    {
      "cell_type": "markdown",
      "metadata": {
        "id": "another-third"
      },
      "source": [
        "We downloaden eerst wat data. Ook vullen we wat missende waardes in en voegen we een kolom toe."
      ],
      "id": "another-third"
    },
    {
      "cell_type": "code",
      "metadata": {
        "id": "southwest-xerox"
      },
      "source": [
        "!curl -L -c cookies.txt 'https://docs.google.com/uc?export=download&id=151gCztjHR_D2uIoebxfi52DZWGLabOQd' | sed -rn 's/.*confirm=([0-9A-Za-z_]+).*/\\1/p' > confirm.txt    \n",
        "!curl -L -b cookies.txt -o 'weatherAUS.zip' 'https://docs.google.com/uc?export=download&id=151gCztjHR_D2uIoebxfi52DZWGLabOQd&confirm='$(<confirm.txt)\n",
        "!unzip weatherAUS.zip\n",
        "!rm -f confirm.txt cookies.txt weatherAUS.zip"
      ],
      "id": "southwest-xerox",
      "execution_count": null,
      "outputs": []
    },
    {
      "cell_type": "code",
      "metadata": {
        "id": "htv9kDE8rTiL"
      },
      "source": [
        "df = pd.read_csv('weatherAUS.csv')"
      ],
      "id": "htv9kDE8rTiL",
      "execution_count": null,
      "outputs": []
    },
    {
      "cell_type": "code",
      "metadata": {
        "id": "r-Z7cZ_YrbUX"
      },
      "source": [
        "df = df.apply(lambda x: x.fillna(x.mean()) if x.dtype == 'float64' else x,\n",
        "              axis=0)\n",
        "df.Date = pd.to_datetime(df.Date)\n",
        "\n",
        "df = df.sort_values('Date').reset_index(drop=True)\n",
        "df.head()"
      ],
      "id": "r-Z7cZ_YrbUX",
      "execution_count": null,
      "outputs": []
    },
    {
      "cell_type": "code",
      "metadata": {
        "id": "jIU5klK3kdgK"
      },
      "source": [
        "df['AvgTemp'] = df[['MinTemp', 'MaxTemp']].mean(axis=1)"
      ],
      "id": "jIU5klK3kdgK",
      "execution_count": null,
      "outputs": []
    },
    {
      "cell_type": "markdown",
      "metadata": {
        "id": "6H5IPRsu2MSe"
      },
      "source": [
        "Zet de volgende Pandas code om naar Cython."
      ],
      "id": "6H5IPRsu2MSe"
    },
    {
      "cell_type": "code",
      "metadata": {
        "id": "PBkWpCHrnBAO"
      },
      "source": [
        "def classify_temperature(df):\n",
        "  bins = [df.AvgTemp.describe()['min'], df.AvgTemp.describe()['25%'], df.AvgTemp.describe()['75%'], df.AvgTemp.describe()['max']]\n",
        "  labels = ['cold','average','hot']\n",
        "  df['TempType'] = pd.cut(df['AvgTemp'], bins=bins, labels=labels)\n",
        "  return df"
      ],
      "id": "PBkWpCHrnBAO",
      "execution_count": null,
      "outputs": []
    },
    {
      "cell_type": "code",
      "metadata": {
        "id": "ZujvFbiD0r1u"
      },
      "source": [
        "%timeit classify_temperature(df)"
      ],
      "id": "ZujvFbiD0r1u",
      "execution_count": null,
      "outputs": []
    },
    {
      "cell_type": "markdown",
      "metadata": {
        "id": "gztoM6zCxAuG"
      },
      "source": [
        "Een deel is al gedaan voor je.\n",
        "\n",
        "Hint: Het type van een python string is `object`."
      ],
      "id": "gztoM6zCxAuG"
    },
    {
      "cell_type": "code",
      "metadata": {
        "id": "V1ygIw5Mm4d_"
      },
      "source": [
        "%%cython\n",
        "def c_classify_temperature_col(double[:] avg_temp):\n",
        "  cold = np.quantile(avg_temp, 0.25)\n",
        "  hot = np.quantile(avg_temp, 0.75)\n",
        "  # YOUR CODE HERE\n",
        "\n",
        "def c_classify_temperature(df):\n",
        "  # YOUR CODE HERE\n"
      ],
      "id": "V1ygIw5Mm4d_",
      "execution_count": null,
      "outputs": []
    },
    {
      "cell_type": "markdown",
      "metadata": {
        "id": "f4vzIUF9j8u3"
      },
      "source": [
        "# Extra materiaal"
      ],
      "id": "f4vzIUF9j8u3"
    },
    {
      "cell_type": "markdown",
      "metadata": {
        "id": "adkafkYckC7f"
      },
      "source": [
        "Cython documentatie: https://cython.readthedocs.io/en/latest/\n",
        "\n",
        "Pandas optimalisatie: https://pandas.pydata.org/pandas-docs/stable/user_guide/enhancingperf.html\n",
        "\n",
        "Just in time compiler: https://numba.pydata.org/\n",
        "\n"
      ],
      "id": "adkafkYckC7f"
    }
  ]
}