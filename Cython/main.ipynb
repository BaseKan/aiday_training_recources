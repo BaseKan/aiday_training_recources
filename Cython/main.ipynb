{
 "cells": [
  {
   "cell_type": "code",
   "execution_count": 22,
   "id": "duplicate-diving",
   "metadata": {},
   "outputs": [
    {
     "ename": "SyntaxError",
     "evalue": "invalid syntax (<ipython-input-22-811b06197572>, line 4)",
     "output_type": "error",
     "traceback": [
      "\u001b[0;36m  File \u001b[0;32m\"<ipython-input-22-811b06197572>\"\u001b[0;36m, line \u001b[0;32m4\u001b[0m\n\u001b[0;31m    cimport numpy as np\u001b[0m\n\u001b[0m            ^\u001b[0m\n\u001b[0;31mSyntaxError\u001b[0m\u001b[0;31m:\u001b[0m invalid syntax\n"
     ]
    }
   ],
   "source": [
    "!pip install Cython\n",
    "%load_ext Cython\n",
    "import numpy as np\n"
   ]
  },
  {
   "cell_type": "markdown",
   "id": "behavioral-thinking",
   "metadata": {},
   "source": [
    "# cdef & cpdef"
   ]
  },
  {
   "cell_type": "code",
   "execution_count": 3,
   "id": "acting-climb",
   "metadata": {},
   "outputs": [],
   "source": [
    "def function(x, y):\n",
    "    return x**y"
   ]
  },
  {
   "cell_type": "code",
   "execution_count": 8,
   "id": "cloudy-bleeding",
   "metadata": {
    "scrolled": true
   },
   "outputs": [
    {
     "name": "stdout",
     "output_type": "stream",
     "text": [
      "452 ns ± 8.41 ns per loop (mean ± std. dev. of 7 runs, 1000000 loops each)\n"
     ]
    }
   ],
   "source": [
    "%timeit function(5, 6)"
   ]
  },
  {
   "cell_type": "code",
   "execution_count": null,
   "id": "professional-istanbul",
   "metadata": {},
   "outputs": [],
   "source": [
    "%%cython\n",
    "\n",
    "cdef cdef_funtion(x, y):\n",
    "    return x**y\n",
    "\n"
   ]
  },
  {
   "cell_type": "code",
   "execution_count": 5,
   "id": "inside-concrete",
   "metadata": {
    "scrolled": true
   },
   "outputs": [
    {
     "ename": "NameError",
     "evalue": "name 'cdef_funtion' is not defined",
     "output_type": "error",
     "traceback": [
      "\u001b[0;31m---------------------------------------------------------------------------\u001b[0m",
      "\u001b[0;31mNameError\u001b[0m                                 Traceback (most recent call last)",
      "\u001b[0;32m<ipython-input-5-5bc82f63ec20>\u001b[0m in \u001b[0;36m<module>\u001b[0;34m\u001b[0m\n\u001b[0;32m----> 1\u001b[0;31m \u001b[0mcdef_funtion\u001b[0m\u001b[0;34m(\u001b[0m\u001b[0;36m5\u001b[0m\u001b[0;34m,\u001b[0m \u001b[0;36m6\u001b[0m\u001b[0;34m)\u001b[0m\u001b[0;34m\u001b[0m\u001b[0;34m\u001b[0m\u001b[0m\n\u001b[0m",
      "\u001b[0;31mNameError\u001b[0m: name 'cdef_funtion' is not defined"
     ]
    }
   ],
   "source": [
    "cdef_funtion(5, 6)"
   ]
  },
  {
   "cell_type": "markdown",
   "id": "operational-noise",
   "metadata": {},
   "source": [
    "Cdef functions are not callable from non cython cells."
   ]
  },
  {
   "cell_type": "code",
   "execution_count": 6,
   "id": "chemical-blond",
   "metadata": {},
   "outputs": [],
   "source": [
    "%%cython\n",
    "\n",
    "cpdef cpdef_function(x,y):\n",
    "    return x**y"
   ]
  },
  {
   "cell_type": "code",
   "execution_count": 7,
   "id": "unknown-error",
   "metadata": {},
   "outputs": [
    {
     "name": "stdout",
     "output_type": "stream",
     "text": [
      "452 ns ± 8.06 ns per loop (mean ± std. dev. of 7 runs, 1000000 loops each)\n"
     ]
    }
   ],
   "source": [
    "%timeit cpdef_function(5,6)"
   ]
  },
  {
   "cell_type": "markdown",
   "id": "continuing-flesh",
   "metadata": {},
   "source": [
    "Not really faster. So introduce datatypes!"
   ]
  },
  {
   "cell_type": "code",
   "execution_count": 9,
   "id": "listed-contemporary",
   "metadata": {},
   "outputs": [],
   "source": [
    "%%cython\n",
    "\n",
    "cpdef int cpdef_dtypes_function(int x, int y):\n",
    "    return x**y"
   ]
  },
  {
   "cell_type": "code",
   "execution_count": 10,
   "id": "initial-course",
   "metadata": {},
   "outputs": [
    {
     "name": "stdout",
     "output_type": "stream",
     "text": [
      "115 ns ± 2.46 ns per loop (mean ± std. dev. of 7 runs, 10000000 loops each)\n"
     ]
    }
   ],
   "source": [
    "%timeit cpdef_dtypes_function(5,6)"
   ]
  },
  {
   "cell_type": "markdown",
   "id": "swedish-conversion",
   "metadata": {},
   "source": [
    "# Cython and Numpy Arrays"
   ]
  },
  {
   "cell_type": "code",
   "execution_count": 90,
   "id": "fixed-defeat",
   "metadata": {},
   "outputs": [
    {
     "name": "stdout",
     "output_type": "stream",
     "text": [
      "[[0 1 2]\n",
      " [3 4 5]\n",
      " [6 7 8]]\n",
      "[[0 1 2]\n",
      " [3 4 5]\n",
      " [6 7 8]]\n"
     ]
    }
   ],
   "source": [
    "%%cython\n",
    "import numpy as np\n",
    "\n",
    "arr = np.arange(9, dtype=np.dtype(\"i\")).reshape((3, 3))\n",
    "print(arr)\n",
    "\n",
    "cdef int [:, :] arr_view = arr\n",
    "print(np.asarray(arr_view))"
   ]
  },
  {
   "cell_type": "code",
   "execution_count": 170,
   "id": "special-subject",
   "metadata": {},
   "outputs": [
    {
     "name": "stdout",
     "output_type": "stream",
     "text": [
      "[[0 1 2]\n",
      " [3 4 5]\n",
      " [6 7 8]]\n",
      "4\n",
      "10\n",
      "[[5 5 5]\n",
      " [5 5 5]\n",
      " [5 5 5]]\n"
     ]
    }
   ],
   "source": [
    "%%cython \n",
    "import numpy as np\n",
    "\n",
    "cdef int [:, :] arr_view = np.arange(9, dtype=np.dtype(\"i\")).reshape((3, 3))\n",
    "print(np.asarray(arr_view))\n",
    "print(np.asarray(arr_view[1,1]))\n",
    "arr_view[1,1] = 10\n",
    "print(np.asarray(arr_view[1,1]))\n",
    "arr_view[:,:] = 5\n",
    "print(np.asarray(arr_view))\n"
   ]
  },
  {
   "cell_type": "markdown",
   "id": "restricted-cheat",
   "metadata": {},
   "source": [
    "## Looping over arrays"
   ]
  },
  {
   "cell_type": "code",
   "execution_count": 150,
   "id": "illegal-complaint",
   "metadata": {},
   "outputs": [],
   "source": [
    "x = np.arange(100, dtype=np.dtype(\"i\")).reshape((10, 10))\n",
    "y = np.full((10,10), 2, dtype=np.dtype(\"i\"))"
   ]
  },
  {
   "cell_type": "code",
   "execution_count": 134,
   "id": "psychological-territory",
   "metadata": {},
   "outputs": [],
   "source": [
    "def array_op(x,y):\n",
    "    result = np.zeros(x.shape)\n",
    "    for i in range(x.shape[0]):\n",
    "        for j in range(x.shape[1]):\n",
    "            result[i,j] = x[i,j] * y[i,j] + i\n",
    "    return result\n",
    "    "
   ]
  },
  {
   "cell_type": "code",
   "execution_count": 138,
   "id": "social-hacker",
   "metadata": {},
   "outputs": [
    {
     "name": "stdout",
     "output_type": "stream",
     "text": [
      "295 µs ± 7.75 µs per loop (mean ± std. dev. of 7 runs, 1000 loops each)\n"
     ]
    }
   ],
   "source": [
    "%timeit result = array_op(x,y)"
   ]
  },
  {
   "cell_type": "code",
   "execution_count": 139,
   "id": "ethical-walter",
   "metadata": {},
   "outputs": [],
   "source": [
    "%%cython \n",
    "import numpy as np\n",
    "\n",
    "cpdef cdef_array_op(x, y):\n",
    "    result = np.zeros(x.shape)\n",
    "    for i in range(x.shape[0]):\n",
    "        for j in range(x.shape[1]):\n",
    "            result[i,j] = x[i,j] * y[i,j] + i\n",
    "    return result"
   ]
  },
  {
   "cell_type": "code",
   "execution_count": 140,
   "id": "proud-wrestling",
   "metadata": {},
   "outputs": [
    {
     "name": "stdout",
     "output_type": "stream",
     "text": [
      "283 µs ± 12.5 µs per loop (mean ± std. dev. of 7 runs, 1000 loops each)\n"
     ]
    }
   ],
   "source": [
    "%timeit cdef_array_op(x,y)"
   ]
  },
  {
   "cell_type": "code",
   "execution_count": 166,
   "id": "hairy-thomson",
   "metadata": {},
   "outputs": [],
   "source": [
    "%%cython \n",
    "import numpy as np\n",
    "\n",
    "cpdef int[:,:] typed_array_op(int[:,:] x, int[:,:] y):\n",
    "    cdef int[:,:] result = np.zeros((x.shape[0], x.shape[1]), dtype = np.dtype(\"i\"))\n",
    "    for i in range(x.shape[0]):\n",
    "        for j in range(x.shape[1]):\n",
    "            result[i,j] = x[i,j] * y[i,j] + i\n",
    "    return result"
   ]
  },
  {
   "cell_type": "code",
   "execution_count": 167,
   "id": "breeding-actress",
   "metadata": {
    "scrolled": true
   },
   "outputs": [
    {
     "name": "stdout",
     "output_type": "stream",
     "text": [
      "7.74 µs ± 104 ns per loop (mean ± std. dev. of 7 runs, 100000 loops each)\n"
     ]
    }
   ],
   "source": [
    "%timeit typed_array_op(x,y)"
   ]
  },
  {
   "cell_type": "code",
   "execution_count": 168,
   "id": "marine-fight",
   "metadata": {},
   "outputs": [],
   "source": [
    "%%cython \n",
    "import numpy as np\n",
    "cimport cython\n",
    "\n",
    "@cython.boundscheck(False)\n",
    "@cython.wraparound(False)\n",
    "cpdef int[:,:] typed_unsafe_array_op(int[:,:] x, int[:,:] y):\n",
    "    cdef int[:,:] result = np.zeros((x.shape[0], x.shape[1]), dtype = np.dtype(\"i\"))\n",
    "    for i in range(x.shape[0]):\n",
    "        for j in range(x.shape[1]):\n",
    "            result[i,j] = x[i,j] * y[i,j] + i\n",
    "    return result\n"
   ]
  },
  {
   "cell_type": "code",
   "execution_count": 169,
   "id": "respected-today",
   "metadata": {},
   "outputs": [
    {
     "name": "stdout",
     "output_type": "stream",
     "text": [
      "7.66 µs ± 69.5 ns per loop (mean ± std. dev. of 7 runs, 100000 loops each)\n"
     ]
    }
   ],
   "source": [
    "%timeit typed_unsafe_array_op(x,y)"
   ]
  },
  {
   "cell_type": "markdown",
   "id": "intimate-dylan",
   "metadata": {},
   "source": [
    "# Cython and Pandas"
   ]
  },
  {
   "cell_type": "markdown",
   "id": "another-third",
   "metadata": {},
   "source": [
    "We downloaden eerst wat data..."
   ]
  },
  {
   "cell_type": "code",
   "execution_count": null,
   "id": "southwest-xerox",
   "metadata": {},
   "outputs": [],
   "source": [
    "!curl -L -c cookies.txt 'https://docs.google.com/uc?export=download&id=151gCztjHR_D2uIoebxfi52DZWGLabOQd' | sed -rn 's/.*confirm=([0-9A-Za-z_]+).*/\\1/p' > confirm.txt    \n",
    "!curl -L -b cookies.txt -o 'weatherAUS.zip' 'https://docs.google.com/uc?export=download&id=151gCztjHR_D2uIoebxfi52DZWGLabOQd&confirm='$(<confirm.txt)\n",
    "!unzip weatherAUS.zip\n",
    "!rm -f confirm.txt cookies.txt weatherAUS.zip"
   ]
  }
 ],
 "metadata": {
  "kernelspec": {
   "display_name": "Python 3",
   "language": "python",
   "name": "python3"
  },
  "language_info": {
   "codemirror_mode": {
    "name": "ipython",
    "version": 3
   },
   "file_extension": ".py",
   "mimetype": "text/x-python",
   "name": "python",
   "nbconvert_exporter": "python",
   "pygments_lexer": "ipython3",
   "version": "3.8.7"
  }
 },
 "nbformat": 4,
 "nbformat_minor": 5
}
