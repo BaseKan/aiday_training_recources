{
  "nbformat": 4,
  "nbformat_minor": 5,
  "metadata": {
    "kernelspec": {
      "display_name": "Python 3",
      "language": "python",
      "name": "python3"
    },
    "language_info": {
      "codemirror_mode": {
        "name": "ipython",
        "version": 3
      },
      "file_extension": ".py",
      "mimetype": "text/x-python",
      "name": "python",
      "nbconvert_exporter": "python",
      "pygments_lexer": "ipython3",
      "version": "3.8.7"
    },
    "colab": {
      "name": "main.ipynb",
      "provenance": [],
      "include_colab_link": true
    }
  },
  "cells": [
    {
      "cell_type": "markdown",
      "metadata": {
        "id": "view-in-github",
        "colab_type": "text"
      },
      "source": [
        "<a href=\"https://colab.research.google.com/github/BaseKan/aiday_training_resources/blob/main/Cython/main.ipynb\" target=\"_parent\"><img src=\"https://colab.research.google.com/assets/colab-badge.svg\" alt=\"Open In Colab\"/></a>"
      ]
    },
    {
      "cell_type": "code",
      "metadata": {
        "id": "duplicate-diving"
      },
      "source": [
        "%load_ext Cython\n",
        "import numpy as np\n"
      ],
      "id": "duplicate-diving",
      "execution_count": 1,
      "outputs": []
    },
    {
      "cell_type": "markdown",
      "metadata": {
        "id": "G4j33HMYMXtX"
      },
      "source": [
        "Make It Work Make It Right Make It Fast"
      ],
      "id": "G4j33HMYMXtX"
    },
    {
      "cell_type": "code",
      "metadata": {
        "id": "5oxkNPmcFGTx"
      },
      "source": [
        "%%cython\n",
        "\n",
        "def c_fib_typed(int n):\n",
        "  \"\"\"Return the Fibonacci series up to n.\"\"\"\n",
        "  cdef int a, b, len_r\n",
        "  cdef int r[1000]\n",
        "  a = 0\n",
        "  b = 1\n",
        "  len_r = 0\n",
        "  while b < n:\n",
        "    r[len_r] = b\n",
        "    len_r += 1\n",
        "    a, b = b, a + b\n",
        "        \n",
        "  r_as_list  = [item for item in r[:len_r]]\n",
        "  return r_as_list"
      ],
      "id": "5oxkNPmcFGTx",
      "execution_count": 39,
      "outputs": []
    },
    {
      "cell_type": "code",
      "metadata": {
        "id": "pnX6kG-pFK-l",
        "outputId": "62ab757f-f811-424e-d00d-eb40f29e0f38",
        "colab": {
          "base_uri": "https://localhost:8080/"
        }
      },
      "source": [
        "%timeit x = c_fib_typed(2000)"
      ],
      "id": "pnX6kG-pFK-l",
      "execution_count": 40,
      "outputs": [
        {
          "output_type": "stream",
          "text": [
            "The slowest run took 10.85 times longer than the fastest. This could mean that an intermediate result is being cached.\n",
            "1000000 loops, best of 5: 285 ns per loop\n"
          ],
          "name": "stdout"
        }
      ]
    },
    {
      "cell_type": "markdown",
      "metadata": {
        "id": "swedish-conversion"
      },
      "source": [
        "# Cython and Numpy Arrays"
      ],
      "id": "swedish-conversion"
    },
    {
      "cell_type": "markdown",
      "metadata": {
        "id": "Qu9dR2HlBTsp"
      },
      "source": [
        "UITLEG MEMORY VIEWS\n"
      ],
      "id": "Qu9dR2HlBTsp"
    },
    {
      "cell_type": "code",
      "metadata": {
        "colab": {
          "base_uri": "https://localhost:8080/"
        },
        "id": "fixed-defeat",
        "outputId": "f19b45fb-3695-4255-9a52-8b3423a1cf1c"
      },
      "source": [
        "%%cython\n",
        "import numpy as np\n",
        "\n",
        "arr = np.arange(9, dtype=np.dtype(\"i\")).reshape((3, 3))\n",
        "print(arr)\n",
        "\n",
        "cdef int [:, :] arr_view = arr\n",
        "print(np.asarray(arr_view))"
      ],
      "id": "fixed-defeat",
      "execution_count": 9,
      "outputs": [
        {
          "output_type": "stream",
          "text": [
            "[[0 1 2]\n",
            " [3 4 5]\n",
            " [6 7 8]]\n",
            "[[0 1 2]\n",
            " [3 4 5]\n",
            " [6 7 8]]\n"
          ],
          "name": "stdout"
        }
      ]
    },
    {
      "cell_type": "code",
      "metadata": {
        "colab": {
          "base_uri": "https://localhost:8080/"
        },
        "id": "special-subject",
        "outputId": "d1fc4017-dc73-401f-b809-dd8038b18fb8"
      },
      "source": [
        "%%cython \n",
        "import numpy as np\n",
        "\n",
        "cdef int [:, :] arr_view = np.arange(9, dtype=np.dtype(\"i\")).reshape((3, 3))\n",
        "print(np.asarray(arr_view))\n",
        "print(np.asarray(arr_view[1,1]))\n",
        "arr_view[1,1] = 10\n",
        "print(np.asarray(arr_view[1,1]))\n",
        "arr_view[:,:] = 5\n",
        "print(np.asarray(arr_view))\n"
      ],
      "id": "special-subject",
      "execution_count": 10,
      "outputs": [
        {
          "output_type": "stream",
          "text": [
            "[[0 1 2]\n",
            " [3 4 5]\n",
            " [6 7 8]]\n",
            "4\n",
            "10\n",
            "[[5 5 5]\n",
            " [5 5 5]\n",
            " [5 5 5]]\n"
          ],
          "name": "stdout"
        }
      ]
    },
    {
      "cell_type": "markdown",
      "metadata": {
        "id": "restricted-cheat"
      },
      "source": [
        "## Looping over arrays"
      ],
      "id": "restricted-cheat"
    },
    {
      "cell_type": "markdown",
      "metadata": {
        "id": "G0rbl5GxJOzh"
      },
      "source": [
        "UITLEG FOR LOOPS IN C"
      ],
      "id": "G0rbl5GxJOzh"
    },
    {
      "cell_type": "code",
      "metadata": {
        "id": "illegal-complaint"
      },
      "source": [
        "x = np.arange(100, dtype=np.dtype(\"i\")).reshape((10, 10))\n",
        "y = np.full((10,10), 2, dtype=np.dtype(\"i\"))"
      ],
      "id": "illegal-complaint",
      "execution_count": 31,
      "outputs": []
    },
    {
      "cell_type": "code",
      "metadata": {
        "id": "psychological-territory"
      },
      "source": [
        "def array_op(x,y):\n",
        "  result = np.zeros(x.shape)\n",
        "  for i in range(x.shape[0]):\n",
        "      for j in range(x.shape[1]):\n",
        "          result[i,j] = x[i,j] * y[i,j] + i\n",
        "  return result\n",
        "    "
      ],
      "id": "psychological-territory",
      "execution_count": 36,
      "outputs": []
    },
    {
      "cell_type": "code",
      "metadata": {
        "colab": {
          "base_uri": "https://localhost:8080/"
        },
        "id": "social-hacker",
        "outputId": "ec9f75b1-a526-41e8-98b6-ed718e1601e0"
      },
      "source": [
        "%timeit result = array_op(x,y)"
      ],
      "id": "social-hacker",
      "execution_count": 37,
      "outputs": [
        {
          "output_type": "stream",
          "text": [
            "1000 loops, best of 5: 257 µs per loop\n"
          ],
          "name": "stdout"
        }
      ]
    },
    {
      "cell_type": "code",
      "metadata": {
        "id": "ethical-walter"
      },
      "source": [
        "%%cython \n",
        "import numpy as np\n",
        "\n",
        "def cdef_array_op(x, y):\n",
        "    result = np.zeros(x.shape)\n",
        "    for i in range(x.shape[0]):\n",
        "        for j in range(x.shape[1]):\n",
        "            result[i,j] = x[i,j] * y[i,j] + i\n",
        "    return result"
      ],
      "id": "ethical-walter",
      "execution_count": 7,
      "outputs": []
    },
    {
      "cell_type": "code",
      "metadata": {
        "colab": {
          "base_uri": "https://localhost:8080/"
        },
        "id": "proud-wrestling",
        "outputId": "3f5a8872-418a-4886-b4a2-f42e2603682e"
      },
      "source": [
        "%timeit cdef_array_op(x,y)"
      ],
      "id": "proud-wrestling",
      "execution_count": 8,
      "outputs": [
        {
          "output_type": "stream",
          "text": [
            "1000 loops, best of 5: 274 µs per loop\n"
          ],
          "name": "stdout"
        }
      ]
    },
    {
      "cell_type": "code",
      "metadata": {
        "id": "hairy-thomson"
      },
      "source": [
        "%%cython \n",
        "import numpy as np\n",
        "\n",
        "def typed_array_op(int[:,:] x, int[:,:] y):\n",
        "    cdef int[:,:] result = np.zeros((x.shape[0], x.shape[1]), dtype = np.dtype(\"i\"))\n",
        "    for i in range(x.shape[0]):\n",
        "        for j in range(x.shape[1]):\n",
        "            result[i,j] = x[i,j] * y[i,j] + i\n",
        "    return result"
      ],
      "id": "hairy-thomson",
      "execution_count": 12,
      "outputs": []
    },
    {
      "cell_type": "code",
      "metadata": {
        "scrolled": true,
        "colab": {
          "base_uri": "https://localhost:8080/"
        },
        "id": "breeding-actress",
        "outputId": "8ec4ff9b-0b30-44d8-aae5-bccbe1bbf645"
      },
      "source": [
        "%timeit typed_array_op(x,y)"
      ],
      "id": "breeding-actress",
      "execution_count": 14,
      "outputs": [
        {
          "output_type": "stream",
          "text": [
            "The slowest run took 8.50 times longer than the fastest. This could mean that an intermediate result is being cached.\n",
            "100000 loops, best of 5: 5.82 µs per loop\n"
          ],
          "name": "stdout"
        }
      ]
    },
    {
      "cell_type": "code",
      "metadata": {
        "colab": {
          "base_uri": "https://localhost:8080/"
        },
        "id": "marine-fight",
        "outputId": "009c95e3-dace-481c-e2f5-785c10493652"
      },
      "source": [
        "%%cython \n",
        "import numpy as np\n",
        "cimport cython\n",
        "\n",
        "@cython.boundscheck(False)\n",
        "@cython.wraparound(False)\n",
        "def typed_unsafe_array_op(int[:,:] x, int[:,:] y):\n",
        "    cdef int[:,:] result = np.zeros((x.shape[0], x.shape[1]), dtype = np.dtype(\"i\"))\n",
        "    for i in range(x.shape[0]):\n",
        "        for j in range(x.shape[1]):\n",
        "            result[i,j] = x[i,j] * y[i,j] + i\n",
        "    return result\n"
      ],
      "id": "marine-fight",
      "execution_count": 29,
      "outputs": [
        {
          "output_type": "stream",
          "text": [
            "warning: /root/.cache/ipython/cython/_cython_magic_29543287cfd6ff9d477f185b0c0e00f0.pyx:10:28: Index should be typed for more efficient access\n"
          ],
          "name": "stderr"
        }
      ]
    },
    {
      "cell_type": "code",
      "metadata": {
        "colab": {
          "base_uri": "https://localhost:8080/"
        },
        "id": "respected-today",
        "outputId": "f5e5d6e7-c975-4699-9d95-3b24d5a56426"
      },
      "source": [
        "%timeit typed_unsafe_array_op(x,y)"
      ],
      "id": "respected-today",
      "execution_count": 32,
      "outputs": [
        {
          "output_type": "stream",
          "text": [
            "The slowest run took 11.65 times longer than the fastest. This could mean that an intermediate result is being cached.\n",
            "100000 loops, best of 5: 4.5 µs per loop\n"
          ],
          "name": "stdout"
        }
      ]
    },
    {
      "cell_type": "markdown",
      "metadata": {
        "id": "intimate-dylan"
      },
      "source": [
        "# Cython and Pandas"
      ],
      "id": "intimate-dylan"
    },
    {
      "cell_type": "markdown",
      "metadata": {
        "id": "another-third"
      },
      "source": [
        "We downloaden eerst wat data..."
      ],
      "id": "another-third"
    },
    {
      "cell_type": "code",
      "metadata": {
        "colab": {
          "base_uri": "https://localhost:8080/"
        },
        "id": "southwest-xerox",
        "outputId": "4c54cd74-5039-4916-9674-41562fb91aee"
      },
      "source": [
        "!curl -L -c cookies.txt 'https://docs.google.com/uc?export=download&id=151gCztjHR_D2uIoebxfi52DZWGLabOQd' | sed -rn 's/.*confirm=([0-9A-Za-z_]+).*/\\1/p' > confirm.txt    \n",
        "!curl -L -b cookies.txt -o 'weatherAUS.zip' 'https://docs.google.com/uc?export=download&id=151gCztjHR_D2uIoebxfi52DZWGLabOQd&confirm='$(<confirm.txt)\n",
        "!unzip weatherAUS.zip\n",
        "!rm -f confirm.txt cookies.txt weatherAUS.zip"
      ],
      "id": "southwest-xerox",
      "execution_count": 2,
      "outputs": [
        {
          "output_type": "stream",
          "text": [
            "  % Total    % Received % Xferd  Average Speed   Time    Time     Time  Current\n",
            "                                 Dload  Upload   Total   Spent    Left  Speed\n",
            "100   388    0   388    0     0    195      0 --:--:--  0:00:01 --:--:--   195\n",
            "100 3781k    0 3781k    0     0  1524k      0 --:--:--  0:00:02 --:--:-- 1524k\n",
            "  % Total    % Received % Xferd  Average Speed   Time    Time     Time  Current\n",
            "                                 Dload  Upload   Total   Spent    Left  Speed\n",
            "100   408    0   408    0     0    218      0 --:--:--  0:00:01 --:--:--   218\n",
            "  0     0    0     0    0     0      0      0 --:--:--  0:00:01 --:--:--     0\n",
            "  0     0    0     0    0     0      0      0 --:--:--  0:00:02 --:--:--     0\n",
            "100 3781k    0 3781k    0     0  1576k      0 --:--:--  0:00:02 --:--:-- 1576k\n",
            "Archive:  weatherAUS.zip\n",
            "  inflating: weatherAUS.csv          \n"
          ],
          "name": "stdout"
        }
      ]
    },
    {
      "cell_type": "code",
      "metadata": {
        "id": "Z7QhZ1XQrNo_"
      },
      "source": [
        "import pandas as pd"
      ],
      "id": "Z7QhZ1XQrNo_",
      "execution_count": 3,
      "outputs": []
    },
    {
      "cell_type": "code",
      "metadata": {
        "id": "htv9kDE8rTiL"
      },
      "source": [
        "df = pd.read_csv('weatherAUS.csv')"
      ],
      "id": "htv9kDE8rTiL",
      "execution_count": 4,
      "outputs": []
    },
    {
      "cell_type": "code",
      "metadata": {
        "colab": {
          "base_uri": "https://localhost:8080/",
          "height": 309
        },
        "id": "r-Z7cZ_YrbUX",
        "outputId": "3f60955b-b5d4-4de7-f070-bab0a39307d5"
      },
      "source": [
        "df = df.apply(lambda x: x.fillna(x.mean()) if x.dtype == 'float64' else x,\n",
        "              axis=0)\n",
        "df.head()"
      ],
      "id": "r-Z7cZ_YrbUX",
      "execution_count": 15,
      "outputs": [
        {
          "output_type": "execute_result",
          "data": {
            "text/html": [
              "<div>\n",
              "<style scoped>\n",
              "    .dataframe tbody tr th:only-of-type {\n",
              "        vertical-align: middle;\n",
              "    }\n",
              "\n",
              "    .dataframe tbody tr th {\n",
              "        vertical-align: top;\n",
              "    }\n",
              "\n",
              "    .dataframe thead th {\n",
              "        text-align: right;\n",
              "    }\n",
              "</style>\n",
              "<table border=\"1\" class=\"dataframe\">\n",
              "  <thead>\n",
              "    <tr style=\"text-align: right;\">\n",
              "      <th></th>\n",
              "      <th>Date</th>\n",
              "      <th>Location</th>\n",
              "      <th>MinTemp</th>\n",
              "      <th>MaxTemp</th>\n",
              "      <th>Rainfall</th>\n",
              "      <th>Evaporation</th>\n",
              "      <th>Sunshine</th>\n",
              "      <th>WindGustDir</th>\n",
              "      <th>WindGustSpeed</th>\n",
              "      <th>WindDir9am</th>\n",
              "      <th>WindDir3pm</th>\n",
              "      <th>WindSpeed9am</th>\n",
              "      <th>WindSpeed3pm</th>\n",
              "      <th>Humidity9am</th>\n",
              "      <th>Humidity3pm</th>\n",
              "      <th>Pressure9am</th>\n",
              "      <th>Pressure3pm</th>\n",
              "      <th>Cloud9am</th>\n",
              "      <th>Cloud3pm</th>\n",
              "      <th>Temp9am</th>\n",
              "      <th>Temp3pm</th>\n",
              "      <th>RainToday</th>\n",
              "      <th>RainTomorrow</th>\n",
              "    </tr>\n",
              "  </thead>\n",
              "  <tbody>\n",
              "    <tr>\n",
              "      <th>0</th>\n",
              "      <td>2008-12-01</td>\n",
              "      <td>Albury</td>\n",
              "      <td>13.4</td>\n",
              "      <td>22.9</td>\n",
              "      <td>0.6</td>\n",
              "      <td>5.468232</td>\n",
              "      <td>7.611178</td>\n",
              "      <td>W</td>\n",
              "      <td>44.0</td>\n",
              "      <td>W</td>\n",
              "      <td>WNW</td>\n",
              "      <td>20.0</td>\n",
              "      <td>24.0</td>\n",
              "      <td>71.0</td>\n",
              "      <td>22.0</td>\n",
              "      <td>1007.7</td>\n",
              "      <td>1007.1</td>\n",
              "      <td>8.000000</td>\n",
              "      <td>4.50993</td>\n",
              "      <td>16.9</td>\n",
              "      <td>21.8</td>\n",
              "      <td>No</td>\n",
              "      <td>No</td>\n",
              "    </tr>\n",
              "    <tr>\n",
              "      <th>1</th>\n",
              "      <td>2008-12-02</td>\n",
              "      <td>Albury</td>\n",
              "      <td>7.4</td>\n",
              "      <td>25.1</td>\n",
              "      <td>0.0</td>\n",
              "      <td>5.468232</td>\n",
              "      <td>7.611178</td>\n",
              "      <td>WNW</td>\n",
              "      <td>44.0</td>\n",
              "      <td>NNW</td>\n",
              "      <td>WSW</td>\n",
              "      <td>4.0</td>\n",
              "      <td>22.0</td>\n",
              "      <td>44.0</td>\n",
              "      <td>25.0</td>\n",
              "      <td>1010.6</td>\n",
              "      <td>1007.8</td>\n",
              "      <td>4.447461</td>\n",
              "      <td>4.50993</td>\n",
              "      <td>17.2</td>\n",
              "      <td>24.3</td>\n",
              "      <td>No</td>\n",
              "      <td>No</td>\n",
              "    </tr>\n",
              "    <tr>\n",
              "      <th>2</th>\n",
              "      <td>2008-12-03</td>\n",
              "      <td>Albury</td>\n",
              "      <td>12.9</td>\n",
              "      <td>25.7</td>\n",
              "      <td>0.0</td>\n",
              "      <td>5.468232</td>\n",
              "      <td>7.611178</td>\n",
              "      <td>WSW</td>\n",
              "      <td>46.0</td>\n",
              "      <td>W</td>\n",
              "      <td>WSW</td>\n",
              "      <td>19.0</td>\n",
              "      <td>26.0</td>\n",
              "      <td>38.0</td>\n",
              "      <td>30.0</td>\n",
              "      <td>1007.6</td>\n",
              "      <td>1008.7</td>\n",
              "      <td>4.447461</td>\n",
              "      <td>2.00000</td>\n",
              "      <td>21.0</td>\n",
              "      <td>23.2</td>\n",
              "      <td>No</td>\n",
              "      <td>No</td>\n",
              "    </tr>\n",
              "    <tr>\n",
              "      <th>3</th>\n",
              "      <td>2008-12-04</td>\n",
              "      <td>Albury</td>\n",
              "      <td>9.2</td>\n",
              "      <td>28.0</td>\n",
              "      <td>0.0</td>\n",
              "      <td>5.468232</td>\n",
              "      <td>7.611178</td>\n",
              "      <td>NE</td>\n",
              "      <td>24.0</td>\n",
              "      <td>SE</td>\n",
              "      <td>E</td>\n",
              "      <td>11.0</td>\n",
              "      <td>9.0</td>\n",
              "      <td>45.0</td>\n",
              "      <td>16.0</td>\n",
              "      <td>1017.6</td>\n",
              "      <td>1012.8</td>\n",
              "      <td>4.447461</td>\n",
              "      <td>4.50993</td>\n",
              "      <td>18.1</td>\n",
              "      <td>26.5</td>\n",
              "      <td>No</td>\n",
              "      <td>No</td>\n",
              "    </tr>\n",
              "    <tr>\n",
              "      <th>4</th>\n",
              "      <td>2008-12-05</td>\n",
              "      <td>Albury</td>\n",
              "      <td>17.5</td>\n",
              "      <td>32.3</td>\n",
              "      <td>1.0</td>\n",
              "      <td>5.468232</td>\n",
              "      <td>7.611178</td>\n",
              "      <td>W</td>\n",
              "      <td>41.0</td>\n",
              "      <td>ENE</td>\n",
              "      <td>NW</td>\n",
              "      <td>7.0</td>\n",
              "      <td>20.0</td>\n",
              "      <td>82.0</td>\n",
              "      <td>33.0</td>\n",
              "      <td>1010.8</td>\n",
              "      <td>1006.0</td>\n",
              "      <td>7.000000</td>\n",
              "      <td>8.00000</td>\n",
              "      <td>17.8</td>\n",
              "      <td>29.7</td>\n",
              "      <td>No</td>\n",
              "      <td>No</td>\n",
              "    </tr>\n",
              "  </tbody>\n",
              "</table>\n",
              "</div>"
            ],
            "text/plain": [
              "         Date Location  MinTemp  ...  Temp3pm  RainToday  RainTomorrow\n",
              "0  2008-12-01   Albury     13.4  ...     21.8         No            No\n",
              "1  2008-12-02   Albury      7.4  ...     24.3         No            No\n",
              "2  2008-12-03   Albury     12.9  ...     23.2         No            No\n",
              "3  2008-12-04   Albury      9.2  ...     26.5         No            No\n",
              "4  2008-12-05   Albury     17.5  ...     29.7         No            No\n",
              "\n",
              "[5 rows x 23 columns]"
            ]
          },
          "metadata": {
            "tags": []
          },
          "execution_count": 15
        }
      ]
    },
    {
      "cell_type": "code",
      "metadata": {
        "id": "b8XPixTqrc-M"
      },
      "source": [
        "def average_value(values):\n",
        "  return np.mean(values)\n"
      ],
      "id": "b8XPixTqrc-M",
      "execution_count": 16,
      "outputs": []
    },
    {
      "cell_type": "code",
      "metadata": {
        "colab": {
          "base_uri": "https://localhost:8080/"
        },
        "id": "8HxnJPW-umGd",
        "outputId": "c4c3a3b5-b56e-44af-ea66-4335fcb67564"
      },
      "source": [
        "%timeit df.head(100).apply(lambda x: average_value(x[11:13]), axis=1)\n"
      ],
      "id": "8HxnJPW-umGd",
      "execution_count": 17,
      "outputs": [
        {
          "output_type": "stream",
          "text": [
            "10 loops, best of 5: 20.6 ms per loop\n"
          ],
          "name": "stdout"
        }
      ]
    },
    {
      "cell_type": "code",
      "metadata": {
        "id": "_iWtCO4cvjvr"
      },
      "source": [
        "%%cython\n",
        "import numpy as np\n",
        "\n",
        "def c_average_value(values):\n",
        "  return np.mean(values)\n"
      ],
      "id": "_iWtCO4cvjvr",
      "execution_count": 19,
      "outputs": []
    },
    {
      "cell_type": "code",
      "metadata": {
        "colab": {
          "base_uri": "https://localhost:8080/"
        },
        "id": "c886pVuzwyoZ",
        "outputId": "c09176e0-ab11-48f5-a32f-c484ecda7457"
      },
      "source": [
        "%timeit df.head(100).apply(lambda x: c_average_value(x[11:13]), axis=1)"
      ],
      "id": "c886pVuzwyoZ",
      "execution_count": 21,
      "outputs": [
        {
          "output_type": "stream",
          "text": [
            "100 loops, best of 5: 17 ms per loop\n"
          ],
          "name": "stdout"
        }
      ]
    },
    {
      "cell_type": "code",
      "metadata": {
        "id": "IVhLyXCfxrKO"
      },
      "source": [
        "%%cython\n",
        "import numpy as np\n",
        "cimport numpy as np\n",
        "\n",
        "def c_average_value_typed(int[:] values):\n",
        "  return np.mean(values)"
      ],
      "id": "IVhLyXCfxrKO",
      "execution_count": 22,
      "outputs": []
    },
    {
      "cell_type": "code",
      "metadata": {
        "colab": {
          "base_uri": "https://localhost:8080/"
        },
        "id": "TN0bVNM5yiU0",
        "outputId": "c98034a4-957e-45d5-f7be-1c4c2f2df3fd"
      },
      "source": [
        "%timeit df.head(100).apply(lambda x: c_average_value_typed(x[11:13].to_numpy(dtype=np.dtype('i'))), axis=1)"
      ],
      "id": "TN0bVNM5yiU0",
      "execution_count": 24,
      "outputs": [
        {
          "output_type": "stream",
          "text": [
            "100 loops, best of 5: 6.23 ms per loop\n"
          ],
          "name": "stdout"
        }
      ]
    },
    {
      "cell_type": "markdown",
      "metadata": {
        "id": "ICCFx5tzJhpp"
      },
      "source": [
        "TEKST OVER PROFILING"
      ],
      "id": "ICCFx5tzJhpp"
    },
    {
      "cell_type": "code",
      "metadata": {
        "id": "WPvCzbgfzbYS"
      },
      "source": [
        "%%cython\n",
        "cimport cython\n",
        "cimport numpy as np\n",
        "import numpy as np\n",
        "\n",
        "cdef int c_average_value_typed(int[:] values):\n",
        "  return np.mean(values)\n",
        "\n",
        "def c_apply_average_value(int[:,:] df_cols):\n",
        "  n = df_cols.shape[0]\n",
        "  cdef double[:] res = np.empty(n)\n",
        "  for i in range(n):\n",
        "    res[i] = c_average_value_typed(df_cols[i])\n",
        "\n",
        "  return res"
      ],
      "id": "WPvCzbgfzbYS",
      "execution_count": 26,
      "outputs": []
    },
    {
      "cell_type": "code",
      "metadata": {
        "colab": {
          "base_uri": "https://localhost:8080/"
        },
        "id": "PzD0TBOc8j1K",
        "outputId": "6224c6cc-8152-4fd0-bbbf-f0b8d8843cdf"
      },
      "source": [
        "%timeit c_apply_average_value(df.head(100)[df.columns[11:13]].to_numpy(dtype=np.dtype('i'))) "
      ],
      "id": "PzD0TBOc8j1K",
      "execution_count": 27,
      "outputs": [
        {
          "output_type": "stream",
          "text": [
            "1000 loops, best of 5: 1.48 ms per loop\n"
          ],
          "name": "stdout"
        }
      ]
    }
  ]
}