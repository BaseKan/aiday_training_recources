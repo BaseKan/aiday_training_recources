{
  "nbformat": 4,
  "nbformat_minor": 5,
  "metadata": {
    "kernelspec": {
      "display_name": "Python 3",
      "language": "python",
      "name": "python3"
    },
    "language_info": {
      "codemirror_mode": {
        "name": "ipython",
        "version": 3
      },
      "file_extension": ".py",
      "mimetype": "text/x-python",
      "name": "python",
      "nbconvert_exporter": "python",
      "pygments_lexer": "ipython3",
      "version": "3.8.7"
    },
    "colab": {
      "name": "main.ipynb",
      "provenance": []
    }
  },
  "cells": [
    {
      "cell_type": "code",
      "metadata": {
        "id": "duplicate-diving",
        "outputId": "002e5623-6e53-4e87-8a64-254e0656d711",
        "colab": {
          "base_uri": "https://localhost:8080/"
        }
      },
      "source": [
        "%load_ext Cython\n",
        "import numpy as np\n"
      ],
      "id": "duplicate-diving",
      "execution_count": 1,
      "outputs": [
        {
          "output_type": "stream",
          "text": [
            "Requirement already satisfied: Cython in /usr/local/lib/python3.7/dist-packages (0.29.22)\n"
          ],
          "name": "stdout"
        }
      ]
    },
    {
      "cell_type": "markdown",
      "metadata": {
        "id": "behavioral-thinking"
      },
      "source": [
        "# cdef & cpdef"
      ],
      "id": "behavioral-thinking"
    },
    {
      "cell_type": "code",
      "metadata": {
        "id": "acting-climb"
      },
      "source": [
        "def function(x, y):\n",
        "    return x**y"
      ],
      "id": "acting-climb",
      "execution_count": 2,
      "outputs": []
    },
    {
      "cell_type": "code",
      "metadata": {
        "scrolled": true,
        "id": "cloudy-bleeding",
        "outputId": "022787b0-0dcc-4b43-f2c1-d28aaa9cfcf4",
        "colab": {
          "base_uri": "https://localhost:8080/"
        }
      },
      "source": [
        "%timeit function(5, 6)"
      ],
      "id": "cloudy-bleeding",
      "execution_count": 3,
      "outputs": [
        {
          "output_type": "stream",
          "text": [
            "The slowest run took 11.16 times longer than the fastest. This could mean that an intermediate result is being cached.\n",
            "1000000 loops, best of 5: 311 ns per loop\n"
          ],
          "name": "stdout"
        }
      ]
    },
    {
      "cell_type": "code",
      "metadata": {
        "id": "professional-istanbul"
      },
      "source": [
        "%%cython\n",
        "\n",
        "cdef cdef_funtion(x, y):\n",
        "    return x**y\n",
        "\n"
      ],
      "id": "professional-istanbul",
      "execution_count": 4,
      "outputs": []
    },
    {
      "cell_type": "code",
      "metadata": {
        "scrolled": true,
        "id": "inside-concrete",
        "outputId": "49be24e9-9a23-4d40-d51c-63e223c66ddf",
        "colab": {
          "base_uri": "https://localhost:8080/",
          "height": 164
        }
      },
      "source": [
        "cdef_funtion(5, 6)"
      ],
      "id": "inside-concrete",
      "execution_count": 5,
      "outputs": [
        {
          "output_type": "error",
          "ename": "NameError",
          "evalue": "ignored",
          "traceback": [
            "\u001b[0;31m---------------------------------------------------------------------------\u001b[0m",
            "\u001b[0;31mNameError\u001b[0m                                 Traceback (most recent call last)",
            "\u001b[0;32m<ipython-input-5-5bc82f63ec20>\u001b[0m in \u001b[0;36m<module>\u001b[0;34m()\u001b[0m\n\u001b[0;32m----> 1\u001b[0;31m \u001b[0mcdef_funtion\u001b[0m\u001b[0;34m(\u001b[0m\u001b[0;36m5\u001b[0m\u001b[0;34m,\u001b[0m \u001b[0;36m6\u001b[0m\u001b[0;34m)\u001b[0m\u001b[0;34m\u001b[0m\u001b[0;34m\u001b[0m\u001b[0m\n\u001b[0m",
            "\u001b[0;31mNameError\u001b[0m: name 'cdef_funtion' is not defined"
          ]
        }
      ]
    },
    {
      "cell_type": "markdown",
      "metadata": {
        "id": "operational-noise"
      },
      "source": [
        "Cdef functions are not callable from non cython cells."
      ],
      "id": "operational-noise"
    },
    {
      "cell_type": "code",
      "metadata": {
        "id": "chemical-blond"
      },
      "source": [
        "%%cython\n",
        "\n",
        "cpdef cpdef_function(x,y):\n",
        "    return x**y"
      ],
      "id": "chemical-blond",
      "execution_count": 6,
      "outputs": []
    },
    {
      "cell_type": "code",
      "metadata": {
        "id": "unknown-error",
        "outputId": "a14e2d69-4139-4906-a70b-5271d00c13a8",
        "colab": {
          "base_uri": "https://localhost:8080/"
        }
      },
      "source": [
        "%timeit cpdef_function(5,6)"
      ],
      "id": "unknown-error",
      "execution_count": 7,
      "outputs": [
        {
          "output_type": "stream",
          "text": [
            "The slowest run took 17.24 times longer than the fastest. This could mean that an intermediate result is being cached.\n",
            "1000000 loops, best of 5: 293 ns per loop\n"
          ],
          "name": "stdout"
        }
      ]
    },
    {
      "cell_type": "markdown",
      "metadata": {
        "id": "continuing-flesh"
      },
      "source": [
        "Not really faster. So introduce datatypes!"
      ],
      "id": "continuing-flesh"
    },
    {
      "cell_type": "code",
      "metadata": {
        "id": "listed-contemporary"
      },
      "source": [
        "%%cython\n",
        "\n",
        "cpdef int cpdef_dtypes_function(int x, int y):\n",
        "    return x**y"
      ],
      "id": "listed-contemporary",
      "execution_count": 8,
      "outputs": []
    },
    {
      "cell_type": "code",
      "metadata": {
        "id": "initial-course",
        "outputId": "e7f5b1fe-0943-4e3a-96c4-50b79af80f76",
        "colab": {
          "base_uri": "https://localhost:8080/"
        }
      },
      "source": [
        "%timeit cpdef_dtypes_function(5,6)"
      ],
      "id": "initial-course",
      "execution_count": 9,
      "outputs": [
        {
          "output_type": "stream",
          "text": [
            "The slowest run took 26.16 times longer than the fastest. This could mean that an intermediate result is being cached.\n",
            "10000000 loops, best of 5: 106 ns per loop\n"
          ],
          "name": "stdout"
        }
      ]
    },
    {
      "cell_type": "markdown",
      "metadata": {
        "id": "swedish-conversion"
      },
      "source": [
        "# Cython and Numpy Arrays"
      ],
      "id": "swedish-conversion"
    },
    {
      "cell_type": "code",
      "metadata": {
        "id": "fixed-defeat",
        "outputId": "028f6cc4-3e85-4d6f-e4ee-94643f7e7f28",
        "colab": {
          "base_uri": "https://localhost:8080/"
        }
      },
      "source": [
        "%%cython\n",
        "import numpy as np\n",
        "\n",
        "arr = np.arange(9, dtype=np.dtype(\"i\")).reshape((3, 3))\n",
        "print(arr)\n",
        "\n",
        "cdef int [:, :] arr_view = arr\n",
        "print(np.asarray(arr_view))"
      ],
      "id": "fixed-defeat",
      "execution_count": 10,
      "outputs": [
        {
          "output_type": "stream",
          "text": [
            "[[0 1 2]\n",
            " [3 4 5]\n",
            " [6 7 8]]\n",
            "[[0 1 2]\n",
            " [3 4 5]\n",
            " [6 7 8]]\n"
          ],
          "name": "stdout"
        }
      ]
    },
    {
      "cell_type": "code",
      "metadata": {
        "id": "special-subject",
        "outputId": "a7f7e7f8-7177-4748-edc0-e5fae4b69f94",
        "colab": {
          "base_uri": "https://localhost:8080/"
        }
      },
      "source": [
        "%%cython \n",
        "import numpy as np\n",
        "\n",
        "cdef int [:, :] arr_view = np.arange(9, dtype=np.dtype(\"i\")).reshape((3, 3))\n",
        "print(np.asarray(arr_view))\n",
        "print(np.asarray(arr_view[1,1]))\n",
        "arr_view[1,1] = 10\n",
        "print(np.asarray(arr_view[1,1]))\n",
        "arr_view[:,:] = 5\n",
        "print(np.asarray(arr_view))\n"
      ],
      "id": "special-subject",
      "execution_count": 11,
      "outputs": [
        {
          "output_type": "stream",
          "text": [
            "[[0 1 2]\n",
            " [3 4 5]\n",
            " [6 7 8]]\n",
            "4\n",
            "10\n",
            "[[5 5 5]\n",
            " [5 5 5]\n",
            " [5 5 5]]\n"
          ],
          "name": "stdout"
        }
      ]
    },
    {
      "cell_type": "markdown",
      "metadata": {
        "id": "restricted-cheat"
      },
      "source": [
        "## Looping over arrays"
      ],
      "id": "restricted-cheat"
    },
    {
      "cell_type": "code",
      "metadata": {
        "id": "illegal-complaint"
      },
      "source": [
        "x = np.arange(100, dtype=np.dtype(\"i\")).reshape((10, 10))\n",
        "y = np.full((10,10), 2, dtype=np.dtype(\"i\"))"
      ],
      "id": "illegal-complaint",
      "execution_count": 12,
      "outputs": []
    },
    {
      "cell_type": "code",
      "metadata": {
        "id": "psychological-territory"
      },
      "source": [
        "def array_op(x,y):\n",
        "    result = np.zeros(x.shape)\n",
        "    for i in range(x.shape[0]):\n",
        "        for j in range(x.shape[1]):\n",
        "            result[i,j] = x[i,j] * y[i,j] + i\n",
        "    return result\n",
        "    "
      ],
      "id": "psychological-territory",
      "execution_count": 13,
      "outputs": []
    },
    {
      "cell_type": "code",
      "metadata": {
        "id": "social-hacker",
        "outputId": "5f71bd71-15fc-4c61-e4cc-5d5673ada5d8",
        "colab": {
          "base_uri": "https://localhost:8080/"
        }
      },
      "source": [
        "%timeit result = array_op(x,y)"
      ],
      "id": "social-hacker",
      "execution_count": 14,
      "outputs": [
        {
          "output_type": "stream",
          "text": [
            "1000 loops, best of 5: 303 µs per loop\n"
          ],
          "name": "stdout"
        }
      ]
    },
    {
      "cell_type": "code",
      "metadata": {
        "id": "ethical-walter"
      },
      "source": [
        "%%cython \n",
        "import numpy as np\n",
        "\n",
        "cpdef cdef_array_op(x, y):\n",
        "    result = np.zeros(x.shape)\n",
        "    for i in range(x.shape[0]):\n",
        "        for j in range(x.shape[1]):\n",
        "            result[i,j] = x[i,j] * y[i,j] + i\n",
        "    return result"
      ],
      "id": "ethical-walter",
      "execution_count": 15,
      "outputs": []
    },
    {
      "cell_type": "code",
      "metadata": {
        "id": "proud-wrestling",
        "outputId": "8c3d5a6a-e3d3-4082-8f99-1bf108aa78b0",
        "colab": {
          "base_uri": "https://localhost:8080/"
        }
      },
      "source": [
        "%timeit cdef_array_op(x,y)"
      ],
      "id": "proud-wrestling",
      "execution_count": 16,
      "outputs": [
        {
          "output_type": "stream",
          "text": [
            "The slowest run took 4.85 times longer than the fastest. This could mean that an intermediate result is being cached.\n",
            "1000 loops, best of 5: 281 µs per loop\n"
          ],
          "name": "stdout"
        }
      ]
    },
    {
      "cell_type": "code",
      "metadata": {
        "id": "hairy-thomson",
        "outputId": "44bd09e0-03f6-4494-a4f9-05fbedf392f1",
        "colab": {
          "base_uri": "https://localhost:8080/"
        }
      },
      "source": [
        "%%cython \n",
        "import numpy as np\n",
        "\n",
        "cpdef int[:,:] typed_array_op(int[:,:] x, int[:,:] y):\n",
        "    cdef int[:,:] result = np.zeros((x.shape[0], x.shape[1]), dtype = np.dtype(\"i\"))\n",
        "    for i in range(x.shape[0]):\n",
        "        for j in range(x.shape[1]):\n",
        "            result[i,j] = x[i,j] * y[i,j] + i\n",
        "    return result"
      ],
      "id": "hairy-thomson",
      "execution_count": 17,
      "outputs": [
        {
          "output_type": "stream",
          "text": [
            "warning: /root/.cache/ipython/cython/_cython_magic_aaf426f79acb50740c144089064053a1.pyx:7:28: Index should be typed for more efficient access\n"
          ],
          "name": "stderr"
        }
      ]
    },
    {
      "cell_type": "code",
      "metadata": {
        "scrolled": true,
        "id": "breeding-actress",
        "outputId": "6a998e99-4da7-4e7d-b158-d6fcd048951f",
        "colab": {
          "base_uri": "https://localhost:8080/"
        }
      },
      "source": [
        "%timeit typed_array_op(x,y)"
      ],
      "id": "breeding-actress",
      "execution_count": 18,
      "outputs": [
        {
          "output_type": "stream",
          "text": [
            "The slowest run took 11.11 times longer than the fastest. This could mean that an intermediate result is being cached.\n",
            "100000 loops, best of 5: 5.72 µs per loop\n"
          ],
          "name": "stdout"
        }
      ]
    },
    {
      "cell_type": "code",
      "metadata": {
        "id": "marine-fight"
      },
      "source": [
        "%%cython \n",
        "import numpy as np\n",
        "cimport cython\n",
        "\n",
        "@cython.boundscheck(False)\n",
        "@cython.wraparound(False)\n",
        "cpdef int[:,:] typed_unsafe_array_op(int[:,:] x, int[:,:] y):\n",
        "    cdef int[:,:] result = np.zeros((x.shape[0], x.shape[1]), dtype = np.dtype(\"i\"))\n",
        "    for i in range(x.shape[0]):\n",
        "        for j in range(x.shape[1]):\n",
        "            result[i,j] = x[i,j] * y[i,j] + i\n",
        "    return result\n"
      ],
      "id": "marine-fight",
      "execution_count": 19,
      "outputs": []
    },
    {
      "cell_type": "code",
      "metadata": {
        "id": "respected-today",
        "outputId": "f9710bb0-ae06-4ff5-c2b6-c7a5455828e2",
        "colab": {
          "base_uri": "https://localhost:8080/"
        }
      },
      "source": [
        "%timeit typed_unsafe_array_op(x,y)"
      ],
      "id": "respected-today",
      "execution_count": 20,
      "outputs": [
        {
          "output_type": "stream",
          "text": [
            "The slowest run took 11.65 times longer than the fastest. This could mean that an intermediate result is being cached.\n",
            "100000 loops, best of 5: 5.51 µs per loop\n"
          ],
          "name": "stdout"
        }
      ]
    },
    {
      "cell_type": "markdown",
      "metadata": {
        "id": "intimate-dylan"
      },
      "source": [
        "# Cython and Pandas"
      ],
      "id": "intimate-dylan"
    },
    {
      "cell_type": "markdown",
      "metadata": {
        "id": "another-third"
      },
      "source": [
        "We downloaden eerst wat data..."
      ],
      "id": "another-third"
    },
    {
      "cell_type": "code",
      "metadata": {
        "id": "southwest-xerox",
        "outputId": "3c3c6732-4f60-4ac5-da04-6f6416e8c942",
        "colab": {
          "base_uri": "https://localhost:8080/"
        }
      },
      "source": [
        "!curl -L -c cookies.txt 'https://docs.google.com/uc?export=download&id=151gCztjHR_D2uIoebxfi52DZWGLabOQd' | sed -rn 's/.*confirm=([0-9A-Za-z_]+).*/\\1/p' > confirm.txt    \n",
        "!curl -L -b cookies.txt -o 'weatherAUS.zip' 'https://docs.google.com/uc?export=download&id=151gCztjHR_D2uIoebxfi52DZWGLabOQd&confirm='$(<confirm.txt)\n",
        "!unzip weatherAUS.zip\n",
        "!rm -f confirm.txt cookies.txt weatherAUS.zip"
      ],
      "id": "southwest-xerox",
      "execution_count": 21,
      "outputs": [
        {
          "output_type": "stream",
          "text": [
            "  % Total    % Received % Xferd  Average Speed   Time    Time     Time  Current\n",
            "                                 Dload  Upload   Total   Spent    Left  Speed\n",
            "100   388    0   388    0     0    177      0 --:--:--  0:00:02 --:--:--   177\n",
            "100 3781k    0 3781k    0     0  1504k      0 --:--:--  0:00:02 --:--:-- 1504k\n",
            "  % Total    % Received % Xferd  Average Speed   Time    Time     Time  Current\n",
            "                                 Dload  Upload   Total   Spent    Left  Speed\n",
            "100   408    0   408    0     0    173      0 --:--:--  0:00:02 --:--:--   173\n",
            "  0     0    0     0    0     0      0      0 --:--:--  0:00:02 --:--:--     0\n",
            "  0     0    0     0    0     0      0      0 --:--:--  0:00:02 --:--:--     0\n",
            "100 3781k    0 3781k    0     0  1493k      0 --:--:--  0:00:02 --:--:-- 1493k\n",
            "Archive:  weatherAUS.zip\n",
            "  inflating: weatherAUS.csv          \n"
          ],
          "name": "stdout"
        }
      ]
    },
    {
      "cell_type": "code",
      "metadata": {
        "id": "Z7QhZ1XQrNo_"
      },
      "source": [
        "import pandas as pd"
      ],
      "id": "Z7QhZ1XQrNo_",
      "execution_count": 22,
      "outputs": []
    },
    {
      "cell_type": "code",
      "metadata": {
        "id": "htv9kDE8rTiL"
      },
      "source": [
        "df = pd.read_csv('weatherAUS.csv')"
      ],
      "id": "htv9kDE8rTiL",
      "execution_count": 23,
      "outputs": []
    },
    {
      "cell_type": "code",
      "metadata": {
        "id": "r-Z7cZ_YrbUX",
        "outputId": "461d1c79-c77e-4ea8-b94f-065184e39770",
        "colab": {
          "base_uri": "https://localhost:8080/",
          "height": 309
        }
      },
      "source": [
        "df.head()\n",
        "# TODO: NaN's aanvullen"
      ],
      "id": "r-Z7cZ_YrbUX",
      "execution_count": 25,
      "outputs": [
        {
          "output_type": "execute_result",
          "data": {
            "text/html": [
              "<div>\n",
              "<style scoped>\n",
              "    .dataframe tbody tr th:only-of-type {\n",
              "        vertical-align: middle;\n",
              "    }\n",
              "\n",
              "    .dataframe tbody tr th {\n",
              "        vertical-align: top;\n",
              "    }\n",
              "\n",
              "    .dataframe thead th {\n",
              "        text-align: right;\n",
              "    }\n",
              "</style>\n",
              "<table border=\"1\" class=\"dataframe\">\n",
              "  <thead>\n",
              "    <tr style=\"text-align: right;\">\n",
              "      <th></th>\n",
              "      <th>Date</th>\n",
              "      <th>Location</th>\n",
              "      <th>MinTemp</th>\n",
              "      <th>MaxTemp</th>\n",
              "      <th>Rainfall</th>\n",
              "      <th>Evaporation</th>\n",
              "      <th>Sunshine</th>\n",
              "      <th>WindGustDir</th>\n",
              "      <th>WindGustSpeed</th>\n",
              "      <th>WindDir9am</th>\n",
              "      <th>WindDir3pm</th>\n",
              "      <th>WindSpeed9am</th>\n",
              "      <th>WindSpeed3pm</th>\n",
              "      <th>Humidity9am</th>\n",
              "      <th>Humidity3pm</th>\n",
              "      <th>Pressure9am</th>\n",
              "      <th>Pressure3pm</th>\n",
              "      <th>Cloud9am</th>\n",
              "      <th>Cloud3pm</th>\n",
              "      <th>Temp9am</th>\n",
              "      <th>Temp3pm</th>\n",
              "      <th>RainToday</th>\n",
              "      <th>RainTomorrow</th>\n",
              "    </tr>\n",
              "  </thead>\n",
              "  <tbody>\n",
              "    <tr>\n",
              "      <th>0</th>\n",
              "      <td>2008-12-01</td>\n",
              "      <td>Albury</td>\n",
              "      <td>13.4</td>\n",
              "      <td>22.9</td>\n",
              "      <td>0.6</td>\n",
              "      <td>NaN</td>\n",
              "      <td>NaN</td>\n",
              "      <td>W</td>\n",
              "      <td>44.0</td>\n",
              "      <td>W</td>\n",
              "      <td>WNW</td>\n",
              "      <td>20.0</td>\n",
              "      <td>24.0</td>\n",
              "      <td>71.0</td>\n",
              "      <td>22.0</td>\n",
              "      <td>1007.7</td>\n",
              "      <td>1007.1</td>\n",
              "      <td>8.0</td>\n",
              "      <td>NaN</td>\n",
              "      <td>16.9</td>\n",
              "      <td>21.8</td>\n",
              "      <td>No</td>\n",
              "      <td>No</td>\n",
              "    </tr>\n",
              "    <tr>\n",
              "      <th>1</th>\n",
              "      <td>2008-12-02</td>\n",
              "      <td>Albury</td>\n",
              "      <td>7.4</td>\n",
              "      <td>25.1</td>\n",
              "      <td>0.0</td>\n",
              "      <td>NaN</td>\n",
              "      <td>NaN</td>\n",
              "      <td>WNW</td>\n",
              "      <td>44.0</td>\n",
              "      <td>NNW</td>\n",
              "      <td>WSW</td>\n",
              "      <td>4.0</td>\n",
              "      <td>22.0</td>\n",
              "      <td>44.0</td>\n",
              "      <td>25.0</td>\n",
              "      <td>1010.6</td>\n",
              "      <td>1007.8</td>\n",
              "      <td>NaN</td>\n",
              "      <td>NaN</td>\n",
              "      <td>17.2</td>\n",
              "      <td>24.3</td>\n",
              "      <td>No</td>\n",
              "      <td>No</td>\n",
              "    </tr>\n",
              "    <tr>\n",
              "      <th>2</th>\n",
              "      <td>2008-12-03</td>\n",
              "      <td>Albury</td>\n",
              "      <td>12.9</td>\n",
              "      <td>25.7</td>\n",
              "      <td>0.0</td>\n",
              "      <td>NaN</td>\n",
              "      <td>NaN</td>\n",
              "      <td>WSW</td>\n",
              "      <td>46.0</td>\n",
              "      <td>W</td>\n",
              "      <td>WSW</td>\n",
              "      <td>19.0</td>\n",
              "      <td>26.0</td>\n",
              "      <td>38.0</td>\n",
              "      <td>30.0</td>\n",
              "      <td>1007.6</td>\n",
              "      <td>1008.7</td>\n",
              "      <td>NaN</td>\n",
              "      <td>2.0</td>\n",
              "      <td>21.0</td>\n",
              "      <td>23.2</td>\n",
              "      <td>No</td>\n",
              "      <td>No</td>\n",
              "    </tr>\n",
              "    <tr>\n",
              "      <th>3</th>\n",
              "      <td>2008-12-04</td>\n",
              "      <td>Albury</td>\n",
              "      <td>9.2</td>\n",
              "      <td>28.0</td>\n",
              "      <td>0.0</td>\n",
              "      <td>NaN</td>\n",
              "      <td>NaN</td>\n",
              "      <td>NE</td>\n",
              "      <td>24.0</td>\n",
              "      <td>SE</td>\n",
              "      <td>E</td>\n",
              "      <td>11.0</td>\n",
              "      <td>9.0</td>\n",
              "      <td>45.0</td>\n",
              "      <td>16.0</td>\n",
              "      <td>1017.6</td>\n",
              "      <td>1012.8</td>\n",
              "      <td>NaN</td>\n",
              "      <td>NaN</td>\n",
              "      <td>18.1</td>\n",
              "      <td>26.5</td>\n",
              "      <td>No</td>\n",
              "      <td>No</td>\n",
              "    </tr>\n",
              "    <tr>\n",
              "      <th>4</th>\n",
              "      <td>2008-12-05</td>\n",
              "      <td>Albury</td>\n",
              "      <td>17.5</td>\n",
              "      <td>32.3</td>\n",
              "      <td>1.0</td>\n",
              "      <td>NaN</td>\n",
              "      <td>NaN</td>\n",
              "      <td>W</td>\n",
              "      <td>41.0</td>\n",
              "      <td>ENE</td>\n",
              "      <td>NW</td>\n",
              "      <td>7.0</td>\n",
              "      <td>20.0</td>\n",
              "      <td>82.0</td>\n",
              "      <td>33.0</td>\n",
              "      <td>1010.8</td>\n",
              "      <td>1006.0</td>\n",
              "      <td>7.0</td>\n",
              "      <td>8.0</td>\n",
              "      <td>17.8</td>\n",
              "      <td>29.7</td>\n",
              "      <td>No</td>\n",
              "      <td>No</td>\n",
              "    </tr>\n",
              "  </tbody>\n",
              "</table>\n",
              "</div>"
            ],
            "text/plain": [
              "         Date Location  MinTemp  ...  Temp3pm  RainToday  RainTomorrow\n",
              "0  2008-12-01   Albury     13.4  ...     21.8         No            No\n",
              "1  2008-12-02   Albury      7.4  ...     24.3         No            No\n",
              "2  2008-12-03   Albury     12.9  ...     23.2         No            No\n",
              "3  2008-12-04   Albury      9.2  ...     26.5         No            No\n",
              "4  2008-12-05   Albury     17.5  ...     29.7         No            No\n",
              "\n",
              "[5 rows x 23 columns]"
            ]
          },
          "metadata": {
            "tags": []
          },
          "execution_count": 25
        }
      ]
    },
    {
      "cell_type": "code",
      "metadata": {
        "id": "b8XPixTqrc-M"
      },
      "source": [
        "def average_value(values):\n",
        "  return np.mean(values)\n"
      ],
      "id": "b8XPixTqrc-M",
      "execution_count": 43,
      "outputs": []
    },
    {
      "cell_type": "code",
      "metadata": {
        "id": "8HxnJPW-umGd",
        "outputId": "5b370db6-d2fd-4f5a-f67f-a2538f283d3b",
        "colab": {
          "base_uri": "https://localhost:8080/"
        }
      },
      "source": [
        "%timeit df.head(10).apply(lambda x: average_value(x[11:13]), axis=1)\n"
      ],
      "id": "8HxnJPW-umGd",
      "execution_count": 65,
      "outputs": [
        {
          "output_type": "stream",
          "text": [
            "100 loops, best of 5: 3.02 ms per loop\n"
          ],
          "name": "stdout"
        }
      ]
    },
    {
      "cell_type": "code",
      "metadata": {
        "id": "_iWtCO4cvjvr"
      },
      "source": [
        "%%cython\n",
        "import numpy as np\n",
        "\n",
        "cpdef c_average_value(values):\n",
        "  return np.mean(values)\n"
      ],
      "id": "_iWtCO4cvjvr",
      "execution_count": 66,
      "outputs": []
    },
    {
      "cell_type": "code",
      "metadata": {
        "id": "c886pVuzwyoZ",
        "outputId": "a7d7d87b-4e40-4178-a6b2-113354ae7a64",
        "colab": {
          "base_uri": "https://localhost:8080/"
        }
      },
      "source": [
        "%timeit df.head(10).apply(lambda x: c_average_value(x[11:13]), axis=1)"
      ],
      "id": "c886pVuzwyoZ",
      "execution_count": 67,
      "outputs": [
        {
          "output_type": "stream",
          "text": [
            "100 loops, best of 5: 3.48 ms per loop\n"
          ],
          "name": "stdout"
        }
      ]
    },
    {
      "cell_type": "code",
      "metadata": {
        "id": "IVhLyXCfxrKO"
      },
      "source": [
        "%%cython\n",
        "import numpy as np\n",
        "\n",
        "cpdef c_average_value_typed(int[:] values):\n",
        "  return np.mean(values)"
      ],
      "id": "IVhLyXCfxrKO",
      "execution_count": 68,
      "outputs": []
    },
    {
      "cell_type": "code",
      "metadata": {
        "id": "TN0bVNM5yiU0",
        "outputId": "b6c1658c-14ac-407a-b54d-2d9244d85df1",
        "colab": {
          "base_uri": "https://localhost:8080/"
        }
      },
      "source": [
        "%timeit df.head(10).apply(lambda x: c_average_value_typed(x[11:13].to_numpy(dtype=np.dtype('i'))), axis=1)"
      ],
      "id": "TN0bVNM5yiU0",
      "execution_count": 69,
      "outputs": [
        {
          "output_type": "stream",
          "text": [
            "100 loops, best of 5: 1.52 ms per loop\n"
          ],
          "name": "stdout"
        }
      ]
    },
    {
      "cell_type": "code",
      "metadata": {
        "id": "WPvCzbgfzbYS"
      },
      "source": [
        "# TODO: Met for loop ipv .apply\n"
      ],
      "id": "WPvCzbgfzbYS",
      "execution_count": null,
      "outputs": []
    }
  ]
}