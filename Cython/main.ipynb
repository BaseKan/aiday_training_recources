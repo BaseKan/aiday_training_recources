{
  "nbformat": 4,
  "nbformat_minor": 5,
  "metadata": {
    "kernelspec": {
      "display_name": "Python 3",
      "language": "python",
      "name": "python3"
    },
    "language_info": {
      "codemirror_mode": {
        "name": "ipython",
        "version": 3
      },
      "file_extension": ".py",
      "mimetype": "text/x-python",
      "name": "python",
      "nbconvert_exporter": "python",
      "pygments_lexer": "ipython3",
      "version": "3.8.7"
    },
    "colab": {
      "name": "main.ipynb",
      "provenance": [],
      "include_colab_link": true
    }
  },
  "cells": [
    {
      "cell_type": "markdown",
      "metadata": {
        "id": "view-in-github",
        "colab_type": "text"
      },
      "source": [
        "<a href=\"https://colab.research.google.com/github/BaseKan/aiday_training_resources/blob/main/Cython/main.ipynb\" target=\"_parent\"><img src=\"https://colab.research.google.com/assets/colab-badge.svg\" alt=\"Open In Colab\"/></a>"
      ]
    },
    {
      "cell_type": "markdown",
      "metadata": {
        "id": "J5QqCm7pyY3g"
      },
      "source": [
        "# Setup"
      ],
      "id": "J5QqCm7pyY3g"
    },
    {
      "cell_type": "code",
      "metadata": {
        "id": "duplicate-diving"
      },
      "source": [
        "%load_ext Cython\n",
        "import numpy as np\n",
        "from math import sin,tan,cos"
      ],
      "id": "duplicate-diving",
      "execution_count": null,
      "outputs": []
    },
    {
      "cell_type": "markdown",
      "metadata": {
        "id": "NF9N1RkbyhNj"
      },
      "source": [
        "# Fibonnaci"
      ],
      "id": "NF9N1RkbyhNj"
    },
    {
      "cell_type": "code",
      "metadata": {
        "id": "5oxkNPmcFGTx"
      },
      "source": [
        "%%cython\n",
        "\n",
        "def c_fib_typed(int n):\n",
        "  \"\"\"Return the Fibonacci series up to n.\"\"\"\n",
        "  cdef int a, b, len_r\n",
        "  cdef int r[1000]\n",
        "  a = 0\n",
        "  b = 1\n",
        "  len_r = 0\n",
        "  while b < n:\n",
        "    r[len_r] = b\n",
        "    len_r += 1\n",
        "    a, b = b, a + b\n",
        "        \n",
        "  r_as_list  = [item for item in r[:len_r]]\n",
        "  return r_as_list"
      ],
      "id": "5oxkNPmcFGTx",
      "execution_count": null,
      "outputs": []
    },
    {
      "cell_type": "code",
      "metadata": {
        "id": "pnX6kG-pFK-l"
      },
      "source": [
        "%%timeit\n",
        "x = c_fib_typed(2000)"
      ],
      "id": "pnX6kG-pFK-l",
      "execution_count": null,
      "outputs": []
    },
    {
      "cell_type": "markdown",
      "metadata": {
        "id": "pMHr0A5fP9DX"
      },
      "source": [
        "# Types en Arrays"
      ],
      "id": "pMHr0A5fP9DX"
    },
    {
      "cell_type": "markdown",
      "metadata": {
        "id": "VtcuoBfMPRtM"
      },
      "source": [
        "In Cython is er een verschil tussen 32 en 64 bit ints en floats. Dit is in Python niet het geval. Je ints kunnen altijd zo groot zijn als je systeem aan kan."
      ],
      "id": "VtcuoBfMPRtM"
    },
    {
      "cell_type": "code",
      "metadata": {
        "id": "89U9IghqOU_u"
      },
      "source": [
        "%%cython\n",
        "cdef int i = 2147483647\n",
        "print(i)\n",
        "print(i+1)"
      ],
      "id": "89U9IghqOU_u",
      "execution_count": null,
      "outputs": []
    },
    {
      "cell_type": "code",
      "metadata": {
        "id": "50etqRn9PHvL"
      },
      "source": [
        "%%cython\n",
        "cdef long l = 2147483647\n",
        "print(l)\n",
        "print(l+1)"
      ],
      "id": "50etqRn9PHvL",
      "execution_count": null,
      "outputs": []
    },
    {
      "cell_type": "markdown",
      "metadata": {
        "id": "CNVf0OH0RIR5"
      },
      "source": [
        "Cython checkt niet of je over de grote van een array heen gaat als je hem op de C manier aanmaakt. Pas dus op hiermee!"
      ],
      "id": "CNVf0OH0RIR5"
    },
    {
      "cell_type": "code",
      "metadata": {
        "id": "3IBiwcLZQEfJ"
      },
      "source": [
        "%%cython\n",
        "cdef int a[3]\n",
        "for i in range(3):\n",
        "  a[i] = 1\n",
        "print(a)\n",
        "print(a[4])\n",
        "print(a[5])\n",
        "print(a[200])"
      ],
      "id": "3IBiwcLZQEfJ",
      "execution_count": null,
      "outputs": []
    },
    {
      "cell_type": "markdown",
      "metadata": {
        "id": "swedish-conversion"
      },
      "source": [
        "# Cython and Numpy Arrays"
      ],
      "id": "swedish-conversion"
    },
    {
      "cell_type": "markdown",
      "metadata": {
        "id": "Qu9dR2HlBTsp"
      },
      "source": [
        "Memory Views geven je efficient toegang tot het onderliggende geheugen van bijvoorbeeld Numpy arrays."
      ],
      "id": "Qu9dR2HlBTsp"
    },
    {
      "cell_type": "code",
      "metadata": {
        "id": "fixed-defeat"
      },
      "source": [
        "%%cython\n",
        "import numpy as np\n",
        "\n",
        "arr = np.arange(9, dtype=np.dtype(\"i\")).reshape((3, 3))\n",
        "print(arr)\n",
        "\n",
        "cdef int [:, :] arr_view = arr\n",
        "print(np.asarray(arr_view))"
      ],
      "id": "fixed-defeat",
      "execution_count": null,
      "outputs": []
    },
    {
      "cell_type": "code",
      "metadata": {
        "id": "special-subject"
      },
      "source": [
        "%%cython \n",
        "import numpy as np\n",
        "\n",
        "cdef int [:, :] arr_view = np.arange(9, dtype=np.dtype(\"i\")).reshape((3, 3))\n",
        "print(np.asarray(arr_view))\n",
        "print(np.asarray(arr_view[1,1]))\n",
        "arr_view[1,1] = 10\n",
        "print(np.asarray(arr_view[1,1]))\n",
        "arr_view[:,:] = 5\n",
        "print(np.asarray(arr_view))\n"
      ],
      "id": "special-subject",
      "execution_count": null,
      "outputs": []
    },
    {
      "cell_type": "markdown",
      "metadata": {
        "id": "IE_v3ZxPWk_X"
      },
      "source": [
        "Let wel op! De numpy array moet expliciet hetzelfde type hebben als de Memory View om ze samen te gebruiken. Vergeet dus niet de types te definiëren als je je numpy array aanmaakt."
      ],
      "id": "IE_v3ZxPWk_X"
    },
    {
      "cell_type": "markdown",
      "metadata": {
        "id": "restricted-cheat"
      },
      "source": [
        "## Arrays en for loops"
      ],
      "id": "restricted-cheat"
    },
    {
      "cell_type": "code",
      "metadata": {
        "id": "illegal-complaint"
      },
      "source": [
        "x = np.arange(100, dtype=np.dtype(\"i\")).reshape((10, 10))\n",
        "y = np.full((10,10), 2, dtype=np.dtype(\"i\"))"
      ],
      "id": "illegal-complaint",
      "execution_count": null,
      "outputs": []
    },
    {
      "cell_type": "code",
      "metadata": {
        "id": "psychological-territory"
      },
      "source": [
        "def array_op(x,y):\n",
        "  result = np.zeros(x.shape)\n",
        "  for i in range(x.shape[0]):\n",
        "      for j in range(x.shape[1]):\n",
        "          result[i,j] = x[i,j] * y[i,j] + i\n",
        "  return result\n",
        "    "
      ],
      "id": "psychological-territory",
      "execution_count": null,
      "outputs": []
    },
    {
      "cell_type": "code",
      "metadata": {
        "id": "social-hacker"
      },
      "source": [
        "%timeit result = array_op(x,y)"
      ],
      "id": "social-hacker",
      "execution_count": null,
      "outputs": []
    },
    {
      "cell_type": "code",
      "metadata": {
        "id": "ethical-walter"
      },
      "source": [
        "%%cython \n",
        "import numpy as np\n",
        "\n",
        "def c_array_op(x, y):\n",
        "    result = np.zeros(x.shape)\n",
        "    for i in range(x.shape[0]):\n",
        "        for j in range(x.shape[1]):\n",
        "            result[i,j] = x[i,j] * y[i,j] + i\n",
        "    return result"
      ],
      "id": "ethical-walter",
      "execution_count": null,
      "outputs": []
    },
    {
      "cell_type": "code",
      "metadata": {
        "id": "proud-wrestling"
      },
      "source": [
        "%timeit c_array_op(x,y)"
      ],
      "id": "proud-wrestling",
      "execution_count": null,
      "outputs": []
    },
    {
      "cell_type": "code",
      "metadata": {
        "id": "hairy-thomson"
      },
      "source": [
        "%%cython \n",
        "import numpy as np\n",
        "\n",
        "def typed_array_op(int[:,:] x, int[:,:] y):\n",
        "    cdef int[:,:] result = np.zeros((x.shape[0], x.shape[1]), dtype = np.dtype(\"i\"))\n",
        "    for i in range(x.shape[0]):\n",
        "        for j in range(x.shape[1]):\n",
        "            result[i,j] = x[i,j] * y[i,j] + i\n",
        "    return result"
      ],
      "id": "hairy-thomson",
      "execution_count": null,
      "outputs": []
    },
    {
      "cell_type": "code",
      "metadata": {
        "scrolled": true,
        "id": "breeding-actress"
      },
      "source": [
        "%timeit typed_array_op(x,y)"
      ],
      "id": "breeding-actress",
      "execution_count": null,
      "outputs": []
    },
    {
      "cell_type": "code",
      "metadata": {
        "id": "marine-fight"
      },
      "source": [
        "%%cython \n",
        "import numpy as np\n",
        "cimport cython\n",
        "\n",
        "@cython.boundscheck(False)\n",
        "@cython.wraparound(False)\n",
        "def typed_unsafe_array_op(int[:,:] x, int[:,:] y):\n",
        "    cdef int[:,:] result = np.zeros((x.shape[0], x.shape[1]), dtype = np.dtype(\"i\"))\n",
        "    for i in range(x.shape[0]):\n",
        "        for j in range(x.shape[1]):\n",
        "            result[i,j] = x[i,j] * y[i,j] + i\n",
        "    return result\n"
      ],
      "id": "marine-fight",
      "execution_count": null,
      "outputs": []
    },
    {
      "cell_type": "code",
      "metadata": {
        "id": "respected-today"
      },
      "source": [
        "%timeit typed_unsafe_array_op(x,y)"
      ],
      "id": "respected-today",
      "execution_count": null,
      "outputs": []
    },
    {
      "cell_type": "markdown",
      "metadata": {
        "id": "XteICmghxtGR"
      },
      "source": [
        "# Opdracht: np.vectorize naar Cython"
      ],
      "id": "XteICmghxtGR"
    },
    {
      "cell_type": "markdown",
      "metadata": {
        "id": "qTkdB_oIyyuR"
      },
      "source": [
        "De onderstaande code is de oplossing van één van de opdrachten van de Optimalisatie kennissessie. Met np.vectorize is die al een stuk sneller gemaakt. "
      ],
      "id": "qTkdB_oIyyuR"
    },
    {
      "cell_type": "code",
      "metadata": {
        "id": "pQaUpLNdxuOv"
      },
      "source": [
        "def complicated_calculation(x,y):\n",
        "  if x > 0.5*y and y < 0.3:\n",
        "      res = sin(x-y)\n",
        "  elif x < 0.5*y:\n",
        "      res = tan(x+y)\n",
        "  elif x > 0.2*y:\n",
        "      res = sin(x)*np.sin(y)\n",
        "  else:\n",
        "      res = cos(x/(0.1+abs(y)))\n",
        "  return res"
      ],
      "id": "pQaUpLNdxuOv",
      "execution_count": null,
      "outputs": []
    },
    {
      "cell_type": "code",
      "metadata": {
        "id": "2BCmYNFixx3-"
      },
      "source": [
        "def get_results_fast(x,y):\n",
        "  return np.vectorize(complicated_calculation)(x,y)"
      ],
      "id": "2BCmYNFixx3-",
      "execution_count": null,
      "outputs": []
    },
    {
      "cell_type": "code",
      "metadata": {
        "id": "c7vcfVBLx0JX"
      },
      "source": [
        "x = np.random.randn(int(1e6))\n",
        "y = np.random.randn(int(1e6))"
      ],
      "id": "c7vcfVBLx0JX",
      "execution_count": null,
      "outputs": []
    },
    {
      "cell_type": "code",
      "metadata": {
        "id": "QgiO2dvgx2GX"
      },
      "source": [
        "%timeit res_fast = get_results_fast(x, y)"
      ],
      "id": "QgiO2dvgx2GX",
      "execution_count": null,
      "outputs": []
    },
    {
      "cell_type": "markdown",
      "metadata": {
        "id": "pstYv7a1zIcj"
      },
      "source": [
        "Het kan echter nog een stuk sneller in Cython. Vul de onderstaande code aan. In plaats van np.vectorize kun je een for loop gebruiken in Cython. Ook kan het een stuk beter door types toe te voegen. \n",
        "\n",
        "Een eerste stap is al gemaakt door de sin, cos, tan en abs operaties te vervangen door equivalente operaties in C."
      ],
      "id": "pstYv7a1zIcj"
    },
    {
      "cell_type": "code",
      "metadata": {
        "id": "KNo6wLAux4qP"
      },
      "source": [
        "%%cython --annotate\n",
        "cimport cython\n",
        "import numpy as np\n",
        "cimport numpy as np\n",
        "from libc.math cimport sin, cos, tan, fabs\n",
        "\n",
        "def complicated_calculation(x,y):\n",
        "  if x > 0.5*y and y < 0.3:\n",
        "      res = sin(x-y)\n",
        "  elif x < 0.5*y:\n",
        "      res = tan(x+y)\n",
        "  elif x > 0.2*y:\n",
        "      res = sin(x)*sin(y)\n",
        "  else:\n",
        "      res = cos(x/(0.1+fabs(y)))\n",
        "  return res\n",
        "\n",
        "def c_get_results_fast(x, y):\n",
        "  # TODO: For loop toevoegen\n",
        "  return res"
      ],
      "id": "KNo6wLAux4qP",
      "execution_count": null,
      "outputs": []
    },
    {
      "cell_type": "code",
      "metadata": {
        "id": "QXLdpPCRyU7p"
      },
      "source": [
        "%timeit res_fast = c_get_results_fast(x, y)"
      ],
      "id": "QXLdpPCRyU7p",
      "execution_count": null,
      "outputs": []
    },
    {
      "cell_type": "markdown",
      "metadata": {
        "id": "intimate-dylan"
      },
      "source": [
        "# Cython and Pandas"
      ],
      "id": "intimate-dylan"
    },
    {
      "cell_type": "markdown",
      "metadata": {
        "id": "another-third"
      },
      "source": [
        "We downloaden eerst wat data..."
      ],
      "id": "another-third"
    },
    {
      "cell_type": "code",
      "metadata": {
        "id": "southwest-xerox"
      },
      "source": [
        "!curl -L -c cookies.txt 'https://docs.google.com/uc?export=download&id=151gCztjHR_D2uIoebxfi52DZWGLabOQd' | sed -rn 's/.*confirm=([0-9A-Za-z_]+).*/\\1/p' > confirm.txt    \n",
        "!curl -L -b cookies.txt -o 'weatherAUS.zip' 'https://docs.google.com/uc?export=download&id=151gCztjHR_D2uIoebxfi52DZWGLabOQd&confirm='$(<confirm.txt)\n",
        "!unzip weatherAUS.zip\n",
        "!rm -f confirm.txt cookies.txt weatherAUS.zip"
      ],
      "id": "southwest-xerox",
      "execution_count": null,
      "outputs": []
    },
    {
      "cell_type": "code",
      "metadata": {
        "id": "Z7QhZ1XQrNo_"
      },
      "source": [
        "import pandas as pd"
      ],
      "id": "Z7QhZ1XQrNo_",
      "execution_count": null,
      "outputs": []
    },
    {
      "cell_type": "code",
      "metadata": {
        "id": "htv9kDE8rTiL"
      },
      "source": [
        "df = pd.read_csv('weatherAUS.csv')"
      ],
      "id": "htv9kDE8rTiL",
      "execution_count": null,
      "outputs": []
    },
    {
      "cell_type": "code",
      "metadata": {
        "id": "r-Z7cZ_YrbUX"
      },
      "source": [
        "df = df.apply(lambda x: x.fillna(x.mean()) if x.dtype == 'float64' else x,\n",
        "              axis=0)\n",
        "df.Date = pd.to_datetime(df.Date)\n",
        "\n",
        "df = df.sort_values('Date').reset_index(drop=True)\n",
        "df.head()"
      ],
      "id": "r-Z7cZ_YrbUX",
      "execution_count": null,
      "outputs": []
    },
    {
      "cell_type": "code",
      "metadata": {
        "id": "b8XPixTqrc-M"
      },
      "source": [
        "def average_value(values):\n",
        "  return np.mean(values)\n"
      ],
      "id": "b8XPixTqrc-M",
      "execution_count": null,
      "outputs": []
    },
    {
      "cell_type": "code",
      "metadata": {
        "id": "8HxnJPW-umGd"
      },
      "source": [
        "%timeit df.head(100).apply(lambda x: average_value(x[11:13]), axis=1)\n"
      ],
      "id": "8HxnJPW-umGd",
      "execution_count": null,
      "outputs": []
    },
    {
      "cell_type": "code",
      "metadata": {
        "id": "_iWtCO4cvjvr"
      },
      "source": [
        "%%cython\n",
        "import numpy as np\n",
        "\n",
        "def c_average_value(values):\n",
        "  return np.mean(values)\n"
      ],
      "id": "_iWtCO4cvjvr",
      "execution_count": null,
      "outputs": []
    },
    {
      "cell_type": "code",
      "metadata": {
        "id": "c886pVuzwyoZ"
      },
      "source": [
        "%timeit df.head(100).apply(lambda x: c_average_value(x[11:13]), axis=1)"
      ],
      "id": "c886pVuzwyoZ",
      "execution_count": null,
      "outputs": []
    },
    {
      "cell_type": "markdown",
      "metadata": {
        "id": "hDawJpyJV_-q"
      },
      "source": [
        "We gaan weer werken met Memory Views. Let wel op: Memory Views zijn vrij specifiek voor numpy arrays geïmplementeerd. Een deel van een rij ophalen uit een pandas dataframe geeft een `Series` object terug. Deze moet je dus eerst omzetten naar numpy."
      ],
      "id": "hDawJpyJV_-q"
    },
    {
      "cell_type": "code",
      "metadata": {
        "id": "IVhLyXCfxrKO"
      },
      "source": [
        "%%cython\n",
        "import numpy as np\n",
        "cimport numpy as np\n",
        "\n",
        "def c_average_value_typed(double[:] values):\n",
        "  return np.mean(values)"
      ],
      "id": "IVhLyXCfxrKO",
      "execution_count": null,
      "outputs": []
    },
    {
      "cell_type": "code",
      "metadata": {
        "id": "TN0bVNM5yiU0"
      },
      "source": [
        "%timeit df.head(100).apply(lambda x: c_average_value_typed(x[11:13].to_numpy(dtype=np.dtype('d'))), axis=1)"
      ],
      "id": "TN0bVNM5yiU0",
      "execution_count": null,
      "outputs": []
    },
    {
      "cell_type": "markdown",
      "metadata": {
        "id": "ICCFx5tzJhpp"
      },
      "source": [
        "`apply` is nu de bottleneck, dus die gaan we wegwerken.\n"
      ],
      "id": "ICCFx5tzJhpp"
    },
    {
      "cell_type": "code",
      "metadata": {
        "id": "WPvCzbgfzbYS"
      },
      "source": [
        "%%cython --annotate\n",
        "cimport cython\n",
        "cimport numpy as np\n",
        "import numpy as np\n",
        "\n",
        "cdef double c_average_value_typed(double[:] values):\n",
        "  return np.mean(values)\n",
        "\n",
        "def c_apply_average_value(double[:,:] df_cols):\n",
        "  n = df_cols.shape[0]\n",
        "  cdef double[:] res = np.empty(n, dtype=np.dtype('d'))\n",
        "  for i in range(n):\n",
        "    res[i] = c_average_value_typed(df_cols[i])\n",
        "\n",
        "  return res"
      ],
      "id": "WPvCzbgfzbYS",
      "execution_count": null,
      "outputs": []
    },
    {
      "cell_type": "code",
      "metadata": {
        "id": "PzD0TBOc8j1K"
      },
      "source": [
        "%timeit c_apply_average_value(df.head(100)[df.columns[11:13]].to_numpy(dtype=np.dtype('d'))) "
      ],
      "id": "PzD0TBOc8j1K",
      "execution_count": null,
      "outputs": []
    },
    {
      "cell_type": "markdown",
      "metadata": {
        "id": "uHktpLxY0oXu"
      },
      "source": [
        "# Opdracht: "
      ],
      "id": "uHktpLxY0oXu"
    },
    {
      "cell_type": "markdown",
      "metadata": {
        "id": "6H5IPRsu2MSe"
      },
      "source": [
        "Zet de snelle code van Lisa in Cython."
      ],
      "id": "6H5IPRsu2MSe"
    },
    {
      "cell_type": "code",
      "metadata": {
        "id": "jIU5klK3kdgK"
      },
      "source": [
        "df['AvgTemp'] = df[['MinTemp', 'MaxTemp']].mean(axis=1)"
      ],
      "id": "jIU5klK3kdgK",
      "execution_count": null,
      "outputs": []
    },
    {
      "cell_type": "code",
      "metadata": {
        "id": "PBkWpCHrnBAO"
      },
      "source": [
        "def classify_temperature(df):\n",
        "  bins = [df.AvgTemp.describe()['min'], df.AvgTemp.describe()['25%'], df.AvgTemp.describe()['75%'], df.AvgTemp.describe()['max']]\n",
        "  labels = ['cold','average','hot']\n",
        "  df['TempType'] = pd.cut(df['AvgTemp'], bins=bins, labels=labels)\n",
        "  return df"
      ],
      "id": "PBkWpCHrnBAO",
      "execution_count": null,
      "outputs": []
    },
    {
      "cell_type": "code",
      "metadata": {
        "id": "ZujvFbiD0r1u"
      },
      "source": [
        "%%timeit\n",
        "classify_temperature(df)"
      ],
      "id": "ZujvFbiD0r1u",
      "execution_count": null,
      "outputs": []
    },
    {
      "cell_type": "markdown",
      "metadata": {
        "id": "gztoM6zCxAuG"
      },
      "source": [
        "Een deel is al gedaan voor je.\n",
        "\n",
        "Hint: Het type van een python string is `object`."
      ],
      "id": "gztoM6zCxAuG"
    },
    {
      "cell_type": "code",
      "metadata": {
        "id": "V1ygIw5Mm4d_"
      },
      "source": [
        "%%cython\n",
        "def c_classify_temperature(double[:] avg_temp):\n",
        "  cold = np.quantile(avg_temp, 0.25)\n",
        "  hot = np.quantile(avg_temp, 0.75)\n",
        "  # YOUR CODE HERE\n",
        "  "
      ],
      "id": "V1ygIw5Mm4d_",
      "execution_count": null,
      "outputs": []
    },
    {
      "cell_type": "markdown",
      "metadata": {
        "id": "f4vzIUF9j8u3"
      },
      "source": [
        "# Extra materiaal"
      ],
      "id": "f4vzIUF9j8u3"
    },
    {
      "cell_type": "markdown",
      "metadata": {
        "id": "adkafkYckC7f"
      },
      "source": [
        "Cython documentatie: https://cython.readthedocs.io/en/latest/\n",
        "\n",
        "Pandas optimalisatie: https://pandas.pydata.org/pandas-docs/stable/user_guide/enhancingperf.html\n",
        "\n",
        "Just in time compiler: https://numba.pydata.org/\n",
        "\n",
        "Julia: https://julialang.org/\n",
        "\n"
      ],
      "id": "adkafkYckC7f"
    },
    {
      "cell_type": "code",
      "metadata": {
        "id": "AMb-JpVkky0w"
      },
      "source": [
        ""
      ],
      "id": "AMb-JpVkky0w",
      "execution_count": null,
      "outputs": []
    }
  ]
}